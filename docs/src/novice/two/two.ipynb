{
 "cells": [
  {
   "cell_type": "code",
   "execution_count": 38,
   "metadata": {},
   "outputs": [
    {
     "data": {
      "text/html": [
       "<div>\n",
       "<style scoped>\n",
       "    .dataframe tbody tr th:only-of-type {\n",
       "        vertical-align: middle;\n",
       "    }\n",
       "\n",
       "    .dataframe tbody tr th {\n",
       "        vertical-align: top;\n",
       "    }\n",
       "\n",
       "    .dataframe thead th {\n",
       "        text-align: right;\n",
       "    }\n",
       "</style>\n",
       "<table border=\"1\" class=\"dataframe\">\n",
       "  <thead>\n",
       "    <tr style=\"text-align: right;\">\n",
       "      <th></th>\n",
       "      <th>Year</th>\n",
       "      <th>National</th>\n",
       "      <th>Middle States</th>\n",
       "      <th>Midwest</th>\n",
       "      <th>New England</th>\n",
       "      <th>South</th>\n",
       "      <th>Southwest</th>\n",
       "      <th>West</th>\n",
       "      <th>UnivType</th>\n",
       "    </tr>\n",
       "  </thead>\n",
       "  <tbody>\n",
       "    <tr>\n",
       "      <th>0</th>\n",
       "      <td>90-91</td>\n",
       "      <td>910.0</td>\n",
       "      <td>1400.0</td>\n",
       "      <td>1200.0</td>\n",
       "      <td>1360.0</td>\n",
       "      <td>710.0</td>\n",
       "      <td>600.0</td>\n",
       "      <td>410.0</td>\n",
       "      <td>Public Two Year</td>\n",
       "    </tr>\n",
       "    <tr>\n",
       "      <th>1</th>\n",
       "      <td>91-92</td>\n",
       "      <td>1170.0</td>\n",
       "      <td>1680.0</td>\n",
       "      <td>1290.0</td>\n",
       "      <td>1750.0</td>\n",
       "      <td>810.0</td>\n",
       "      <td>660.0</td>\n",
       "      <td>510.0</td>\n",
       "      <td>Public Two Year</td>\n",
       "    </tr>\n",
       "    <tr>\n",
       "      <th>2</th>\n",
       "      <td>92-93</td>\n",
       "      <td>1120.0</td>\n",
       "      <td>1820.0</td>\n",
       "      <td>1430.0</td>\n",
       "      <td>1870.0</td>\n",
       "      <td>920.0</td>\n",
       "      <td>690.0</td>\n",
       "      <td>620.0</td>\n",
       "      <td>Public Two Year</td>\n",
       "    </tr>\n",
       "    <tr>\n",
       "      <th>3</th>\n",
       "      <td>93-94</td>\n",
       "      <td>1250.0</td>\n",
       "      <td>1890.0</td>\n",
       "      <td>1500.0</td>\n",
       "      <td>2110.0</td>\n",
       "      <td>980.0</td>\n",
       "      <td>710.0</td>\n",
       "      <td>770.0</td>\n",
       "      <td>Public Two Year</td>\n",
       "    </tr>\n",
       "    <tr>\n",
       "      <th>4</th>\n",
       "      <td>94-95</td>\n",
       "      <td>1310.0</td>\n",
       "      <td>2000.0</td>\n",
       "      <td>1550.0</td>\n",
       "      <td>2200.0</td>\n",
       "      <td>990.0</td>\n",
       "      <td>750.0</td>\n",
       "      <td>780.0</td>\n",
       "      <td>Public Two Year</td>\n",
       "    </tr>\n",
       "    <tr>\n",
       "      <th>...</th>\n",
       "      <td>...</td>\n",
       "      <td>...</td>\n",
       "      <td>...</td>\n",
       "      <td>...</td>\n",
       "      <td>...</td>\n",
       "      <td>...</td>\n",
       "      <td>...</td>\n",
       "      <td>...</td>\n",
       "      <td>...</td>\n",
       "    </tr>\n",
       "    <tr>\n",
       "      <th>63</th>\n",
       "      <td>19-20</td>\n",
       "      <td>10440.0</td>\n",
       "      <td>11280.0</td>\n",
       "      <td>10970.0</td>\n",
       "      <td>13960.0</td>\n",
       "      <td>9590.0</td>\n",
       "      <td>9980.0</td>\n",
       "      <td>9880.0</td>\n",
       "      <td>Public four Year</td>\n",
       "    </tr>\n",
       "    <tr>\n",
       "      <th>64</th>\n",
       "      <td>20-21</td>\n",
       "      <td>10570.0</td>\n",
       "      <td>11330.0</td>\n",
       "      <td>11170.0</td>\n",
       "      <td>14310.0</td>\n",
       "      <td>9650.0</td>\n",
       "      <td>10300.0</td>\n",
       "      <td>10030.0</td>\n",
       "      <td>Public four Year</td>\n",
       "    </tr>\n",
       "    <tr>\n",
       "      <th>65</th>\n",
       "      <td>21-22</td>\n",
       "      <td>10750.0</td>\n",
       "      <td>11570.0</td>\n",
       "      <td>11430.0</td>\n",
       "      <td>14520.0</td>\n",
       "      <td>9760.0</td>\n",
       "      <td>10530.0</td>\n",
       "      <td>10120.0</td>\n",
       "      <td>Public four Year</td>\n",
       "    </tr>\n",
       "    <tr>\n",
       "      <th>66</th>\n",
       "      <td>22-23</td>\n",
       "      <td>10990.0</td>\n",
       "      <td>11840.0</td>\n",
       "      <td>11790.0</td>\n",
       "      <td>15000.0</td>\n",
       "      <td>9820.0</td>\n",
       "      <td>10660.0</td>\n",
       "      <td>10510.0</td>\n",
       "      <td>Public four Year</td>\n",
       "    </tr>\n",
       "    <tr>\n",
       "      <th>67</th>\n",
       "      <td>23-24</td>\n",
       "      <td>11260.0</td>\n",
       "      <td>12110.0</td>\n",
       "      <td>12230.0</td>\n",
       "      <td>15330.0</td>\n",
       "      <td>9970.0</td>\n",
       "      <td>10760.0</td>\n",
       "      <td>10820.0</td>\n",
       "      <td>Public four Year</td>\n",
       "    </tr>\n",
       "  </tbody>\n",
       "</table>\n",
       "<p>68 rows × 9 columns</p>\n",
       "</div>"
      ],
      "text/plain": [
       "     Year  National  Middle States  Midwest  New England   South  Southwest  \\\n",
       "0   90-91     910.0         1400.0   1200.0       1360.0   710.0      600.0   \n",
       "1   91-92    1170.0         1680.0   1290.0       1750.0   810.0      660.0   \n",
       "2   92-93    1120.0         1820.0   1430.0       1870.0   920.0      690.0   \n",
       "3   93-94    1250.0         1890.0   1500.0       2110.0   980.0      710.0   \n",
       "4   94-95    1310.0         2000.0   1550.0       2200.0   990.0      750.0   \n",
       "..    ...       ...            ...      ...          ...     ...        ...   \n",
       "63  19-20   10440.0        11280.0  10970.0      13960.0  9590.0     9980.0   \n",
       "64  20-21   10570.0        11330.0  11170.0      14310.0  9650.0    10300.0   \n",
       "65  21-22   10750.0        11570.0  11430.0      14520.0  9760.0    10530.0   \n",
       "66  22-23   10990.0        11840.0  11790.0      15000.0  9820.0    10660.0   \n",
       "67  23-24   11260.0        12110.0  12230.0      15330.0  9970.0    10760.0   \n",
       "\n",
       "       West          UnivType  \n",
       "0     410.0   Public Two Year  \n",
       "1     510.0   Public Two Year  \n",
       "2     620.0   Public Two Year  \n",
       "3     770.0   Public Two Year  \n",
       "4     780.0   Public Two Year  \n",
       "..      ...               ...  \n",
       "63   9880.0  Public four Year  \n",
       "64  10030.0  Public four Year  \n",
       "65  10120.0  Public four Year  \n",
       "66  10510.0  Public four Year  \n",
       "67  10820.0  Public four Year  \n",
       "\n",
       "[68 rows x 9 columns]"
      ]
     },
     "execution_count": 38,
     "metadata": {},
     "output_type": "execute_result"
    }
   ],
   "source": [
    "import pandas as pd\n",
    "import seaborn as sns\n",
    "import matplotlib.pyplot as plt\n",
    "\n",
    "df = pd.read_csv(\"../../../data/National_education_cost/CP2-remastered.csv\")\n",
    "import warnings\n",
    "warnings.filterwarnings(\"ignore\")\n",
    "\n",
    "df.drop(\"Unnamed: 9\", axis=1, inplace=True)\n",
    "df"
   ]
  },
  {
   "cell_type": "code",
   "execution_count": 39,
   "metadata": {},
   "outputs": [
    {
     "data": {
      "text/plain": [
       "Year              object\n",
       "National         float64\n",
       "Middle States    float64\n",
       "Midwest          float64\n",
       "New England      float64\n",
       "South            float64\n",
       "Southwest        float64\n",
       "West             float64\n",
       "UnivType          object\n",
       "dtype: object"
      ]
     },
     "execution_count": 39,
     "metadata": {},
     "output_type": "execute_result"
    }
   ],
   "source": [
    "df.dtypes"
   ]
  },
  {
   "cell_type": "code",
   "execution_count": 40,
   "metadata": {},
   "outputs": [],
   "source": [
    "def replace_year(x):\n",
    "    current = x[:2]\n",
    "    if current[0] in [\"8\",\"9\"]: return \"19\"+current\n",
    "    else: return \"20\"+current\n",
    "df['Year'] = df['Year'].apply(replace_year)"
   ]
  },
  {
   "cell_type": "code",
   "execution_count": 41,
   "metadata": {},
   "outputs": [
    {
     "data": {
      "text/html": [
       "<div>\n",
       "<style scoped>\n",
       "    .dataframe tbody tr th:only-of-type {\n",
       "        vertical-align: middle;\n",
       "    }\n",
       "\n",
       "    .dataframe tbody tr th {\n",
       "        vertical-align: top;\n",
       "    }\n",
       "\n",
       "    .dataframe thead th {\n",
       "        text-align: right;\n",
       "    }\n",
       "</style>\n",
       "<table border=\"1\" class=\"dataframe\">\n",
       "  <thead>\n",
       "    <tr style=\"text-align: right;\">\n",
       "      <th></th>\n",
       "      <th>Year</th>\n",
       "      <th>National</th>\n",
       "      <th>Middle States</th>\n",
       "      <th>Midwest</th>\n",
       "      <th>New England</th>\n",
       "      <th>South</th>\n",
       "      <th>Southwest</th>\n",
       "      <th>West</th>\n",
       "      <th>UnivType</th>\n",
       "    </tr>\n",
       "  </thead>\n",
       "  <tbody>\n",
       "    <tr>\n",
       "      <th>0</th>\n",
       "      <td>1990</td>\n",
       "      <td>910.0</td>\n",
       "      <td>1400.0</td>\n",
       "      <td>1200.0</td>\n",
       "      <td>1360.0</td>\n",
       "      <td>710.0</td>\n",
       "      <td>600.0</td>\n",
       "      <td>410.0</td>\n",
       "      <td>Public Two Year</td>\n",
       "    </tr>\n",
       "    <tr>\n",
       "      <th>1</th>\n",
       "      <td>1991</td>\n",
       "      <td>1170.0</td>\n",
       "      <td>1680.0</td>\n",
       "      <td>1290.0</td>\n",
       "      <td>1750.0</td>\n",
       "      <td>810.0</td>\n",
       "      <td>660.0</td>\n",
       "      <td>510.0</td>\n",
       "      <td>Public Two Year</td>\n",
       "    </tr>\n",
       "    <tr>\n",
       "      <th>2</th>\n",
       "      <td>1992</td>\n",
       "      <td>1120.0</td>\n",
       "      <td>1820.0</td>\n",
       "      <td>1430.0</td>\n",
       "      <td>1870.0</td>\n",
       "      <td>920.0</td>\n",
       "      <td>690.0</td>\n",
       "      <td>620.0</td>\n",
       "      <td>Public Two Year</td>\n",
       "    </tr>\n",
       "    <tr>\n",
       "      <th>3</th>\n",
       "      <td>1993</td>\n",
       "      <td>1250.0</td>\n",
       "      <td>1890.0</td>\n",
       "      <td>1500.0</td>\n",
       "      <td>2110.0</td>\n",
       "      <td>980.0</td>\n",
       "      <td>710.0</td>\n",
       "      <td>770.0</td>\n",
       "      <td>Public Two Year</td>\n",
       "    </tr>\n",
       "    <tr>\n",
       "      <th>4</th>\n",
       "      <td>1994</td>\n",
       "      <td>1310.0</td>\n",
       "      <td>2000.0</td>\n",
       "      <td>1550.0</td>\n",
       "      <td>2200.0</td>\n",
       "      <td>990.0</td>\n",
       "      <td>750.0</td>\n",
       "      <td>780.0</td>\n",
       "      <td>Public Two Year</td>\n",
       "    </tr>\n",
       "    <tr>\n",
       "      <th>...</th>\n",
       "      <td>...</td>\n",
       "      <td>...</td>\n",
       "      <td>...</td>\n",
       "      <td>...</td>\n",
       "      <td>...</td>\n",
       "      <td>...</td>\n",
       "      <td>...</td>\n",
       "      <td>...</td>\n",
       "      <td>...</td>\n",
       "    </tr>\n",
       "    <tr>\n",
       "      <th>63</th>\n",
       "      <td>2019</td>\n",
       "      <td>10440.0</td>\n",
       "      <td>11280.0</td>\n",
       "      <td>10970.0</td>\n",
       "      <td>13960.0</td>\n",
       "      <td>9590.0</td>\n",
       "      <td>9980.0</td>\n",
       "      <td>9880.0</td>\n",
       "      <td>Public four Year</td>\n",
       "    </tr>\n",
       "    <tr>\n",
       "      <th>64</th>\n",
       "      <td>2020</td>\n",
       "      <td>10570.0</td>\n",
       "      <td>11330.0</td>\n",
       "      <td>11170.0</td>\n",
       "      <td>14310.0</td>\n",
       "      <td>9650.0</td>\n",
       "      <td>10300.0</td>\n",
       "      <td>10030.0</td>\n",
       "      <td>Public four Year</td>\n",
       "    </tr>\n",
       "    <tr>\n",
       "      <th>65</th>\n",
       "      <td>2021</td>\n",
       "      <td>10750.0</td>\n",
       "      <td>11570.0</td>\n",
       "      <td>11430.0</td>\n",
       "      <td>14520.0</td>\n",
       "      <td>9760.0</td>\n",
       "      <td>10530.0</td>\n",
       "      <td>10120.0</td>\n",
       "      <td>Public four Year</td>\n",
       "    </tr>\n",
       "    <tr>\n",
       "      <th>66</th>\n",
       "      <td>2022</td>\n",
       "      <td>10990.0</td>\n",
       "      <td>11840.0</td>\n",
       "      <td>11790.0</td>\n",
       "      <td>15000.0</td>\n",
       "      <td>9820.0</td>\n",
       "      <td>10660.0</td>\n",
       "      <td>10510.0</td>\n",
       "      <td>Public four Year</td>\n",
       "    </tr>\n",
       "    <tr>\n",
       "      <th>67</th>\n",
       "      <td>2023</td>\n",
       "      <td>11260.0</td>\n",
       "      <td>12110.0</td>\n",
       "      <td>12230.0</td>\n",
       "      <td>15330.0</td>\n",
       "      <td>9970.0</td>\n",
       "      <td>10760.0</td>\n",
       "      <td>10820.0</td>\n",
       "      <td>Public four Year</td>\n",
       "    </tr>\n",
       "  </tbody>\n",
       "</table>\n",
       "<p>68 rows × 9 columns</p>\n",
       "</div>"
      ],
      "text/plain": [
       "    Year  National  Middle States  Midwest  New England   South  Southwest  \\\n",
       "0   1990     910.0         1400.0   1200.0       1360.0   710.0      600.0   \n",
       "1   1991    1170.0         1680.0   1290.0       1750.0   810.0      660.0   \n",
       "2   1992    1120.0         1820.0   1430.0       1870.0   920.0      690.0   \n",
       "3   1993    1250.0         1890.0   1500.0       2110.0   980.0      710.0   \n",
       "4   1994    1310.0         2000.0   1550.0       2200.0   990.0      750.0   \n",
       "..   ...       ...            ...      ...          ...     ...        ...   \n",
       "63  2019   10440.0        11280.0  10970.0      13960.0  9590.0     9980.0   \n",
       "64  2020   10570.0        11330.0  11170.0      14310.0  9650.0    10300.0   \n",
       "65  2021   10750.0        11570.0  11430.0      14520.0  9760.0    10530.0   \n",
       "66  2022   10990.0        11840.0  11790.0      15000.0  9820.0    10660.0   \n",
       "67  2023   11260.0        12110.0  12230.0      15330.0  9970.0    10760.0   \n",
       "\n",
       "       West          UnivType  \n",
       "0     410.0   Public Two Year  \n",
       "1     510.0   Public Two Year  \n",
       "2     620.0   Public Two Year  \n",
       "3     770.0   Public Two Year  \n",
       "4     780.0   Public Two Year  \n",
       "..      ...               ...  \n",
       "63   9880.0  Public four Year  \n",
       "64  10030.0  Public four Year  \n",
       "65  10120.0  Public four Year  \n",
       "66  10510.0  Public four Year  \n",
       "67  10820.0  Public four Year  \n",
       "\n",
       "[68 rows x 9 columns]"
      ]
     },
     "execution_count": 41,
     "metadata": {},
     "output_type": "execute_result"
    }
   ],
   "source": [
    "df"
   ]
  },
  {
   "cell_type": "code",
   "execution_count": 42,
   "metadata": {},
   "outputs": [],
   "source": [
    "df['Year'] = pd.to_datetime(df['Year']).dt.year"
   ]
  },
  {
   "cell_type": "code",
   "execution_count": 43,
   "metadata": {},
   "outputs": [
    {
     "data": {
      "text/plain": [
       "Year             0\n",
       "National         0\n",
       "Middle States    0\n",
       "Midwest          0\n",
       "New England      0\n",
       "South            0\n",
       "Southwest        0\n",
       "West             0\n",
       "UnivType         0\n",
       "dtype: int64"
      ]
     },
     "execution_count": 43,
     "metadata": {},
     "output_type": "execute_result"
    }
   ],
   "source": [
    "df.isna().sum()"
   ]
  },
  {
   "cell_type": "code",
   "execution_count": 44,
   "metadata": {},
   "outputs": [
    {
     "data": {
      "image/png": "[encoded data removed]",
      "text/plain": [
       "<Figure size 1500x1000 with 1 Axes>"
      ]
     },
     "metadata": {},
     "output_type": "display_data"
    },
    {
     "data": {
      "image/png": "[encoded data removed]",
      "text/plain": [
       "<Figure size 1500x1000 with 1 Axes>"
      ]
     },
     "metadata": {},
     "output_type": "display_data"
    }
   ],
   "source": [
    "for univ in df['UnivType'].unique():\n",
    "    temporary = df[df['UnivType']==univ]\n",
    "    fig, ax = plt.subplots(figsize=(15,10))\n",
    "    # print(temporary)\n",
    "\n",
    "    for column in temporary.columns.to_list():\n",
    "        \n",
    "        if column not in  [\"UnivType\", \"Year\", \"National\"]:\n",
    "            # print(column)\n",
    "            sns.lineplot(data=temporary, x=\"Year\", y=column, label=column)\n",
    "\n",
    "    plt.xlabel('Year')\n",
    "    plt.ylabel('Tuition($)')\n",
    "    plt.title(univ)\n",
    "\n",
    "    plt.grid()\n",
    "    plt.legend()\n",
    "    plt.show()\n",
    "\n",
    "\n"
   ]
  },
  {
   "cell_type": "markdown",
   "metadata": {},
   "source": [
    "Public two year\n",
    "- They all have an ascending trend over the year no matter the type of university\n",
    "- New england seems to have the overall upper hand even though it started  by middle state at the beginning \n",
    "- Around 1997, we have a drop down in tuition for New england and an increase that restarted around 2000\n",
    "- The midwest and southwest on the other hand has the most stable tuition rate increase\n",
    "- for the south, we had frequent dips and increase from 1995 to 2017 and from then, a pretty stable tuition rate increase.\n",
    "- middle state observed a great increase 1994 that put it in front of new england which underwent a dips at that time. this stiuation is kept constant until 2007 where new england retake the place of the highest tuition rate.\n",
    "\n",
    "Public four year\n",
    "- all 6 of them observed a stable growth rate till arount 2000\n",
    "the growth rate of new england has peaked around 2000.\n",
    "- the 3 most expesnive region seems to have started their pick in 2001 and the three other observed that peak in 2002\n",
    "- "
   ]
  },
  {
   "cell_type": "code",
   "execution_count": 45,
   "metadata": {},
   "outputs": [
    {
     "data": {
      "image/png": "[encoded data removed]",
      "text/plain": [
       "<Figure size 1500x1000 with 1 Axes>"
      ]
     },
     "metadata": {},
     "output_type": "display_data"
    },
    {
     "data": {
      "image/png": "[encoded data removed]",
      "text/plain": [
       "<Figure size 1500x1000 with 1 Axes>"
      ]
     },
     "metadata": {},
     "output_type": "display_data"
    }
   ],
   "source": [
    "for univ in df['UnivType'].unique():\n",
    "    temporary = df[df['UnivType']==univ]\n",
    "    fig, ax = plt.subplots(figsize=(15,10))\n",
    "    # print(temporary)\n",
    "    columns=[]\n",
    "    column_mean_list = []\n",
    "    for column in temporary.columns.to_list():\n",
    "        \n",
    "        if column not in  [\"UnivType\", \"Year\", \"National\"]:\n",
    "            columns+=[column]\n",
    "            column_mean = temporary[column].mean()\n",
    "            column_mean_list+=[column_mean]\n",
    "            # print(column)\n",
    "            sns.barplot(x=columns, y=column_mean_list, label=column)\n",
    "\n",
    "    plt.xlabel('Region')\n",
    "    plt.ylabel('Average Tuition($)')\n",
    "    plt.title(univ)\n",
    "    plt.ylim(0, 10000)\n",
    "    plt.grid()\n",
    "    # plt.legend()\n",
    "    plt.show()\n",
    "\n",
    "\n"
   ]
  },
  {
   "cell_type": "markdown",
   "metadata": {},
   "source": [
    "Comparison between average prices of the 2 year and 4 year.\n",
    "- On average, New England is the highest in both the Public 2 year and 4 year categories.\n",
    "\n",
    "- The southwest, on average, is half the price of both the middle states and new england.\n",
    "\n",
    "- Oddly enough, almost all of them double in price for being the full 4 year colleges in all reigons of the world, except the south, southwest, and the west, which exhibited either a 2.5x (south), or more than 3x more on average tuition.\n",
    "\n",
    "- New England again, is on top of the average tuition.\n",
    "\n",
    "- The lowest in the four year now is the south, rather than the west in the 2 year.\n",
    "\n"
   ]
  },
  {
   "cell_type": "code",
   "execution_count": 46,
   "metadata": {},
   "outputs": [
    {
     "data": {
      "image/png": "[encoded data removed]",
      "text/plain": [
       "<Figure size 1500x1000 with 1 Axes>"
      ]
     },
     "metadata": {},
     "output_type": "display_data"
    }
   ],
   "source": [
    "columns_to_melt = [col for col in df.columns if col not in ['UnivType', 'Year', 'National']]\n",
    "melted_df = df.melt(id_vars=['UnivType'],value_vars=columns_to_melt,  var_name='Region', value_name='Average Tuition($)')\n",
    "\n",
    "\n",
    "plt.figure(figsize=(15,10))\n",
    "sns.barplot(data=melted_df.sort_values(by='Average Tuition($)'), x='Region', y='Average Tuition($)', hue='UnivType')\n",
    "plt.xlabel('Region')\n",
    "plt.ylabel('Average Tuition($)')\n",
    "plt.title('Average Tuition by Region and University Type')\n",
    "plt.grid()\n",
    "plt.legend(title='University Type')\n",
    "plt.xticks(rotation=45)  # Rotate x-axis labels for better readability\n",
    "plt.tight_layout()  # Adjust layout to prevent clipping of labels\n",
    "plt.show()"
   ]
  },
  {
   "cell_type": "code",
   "execution_count": 47,
   "metadata": {},
   "outputs": [
    {
     "data": {
      "application/vnd.plotly.v1+json": {
       "config": {
        "plotlyServerURL": "https://plot.ly"
       },
       "data": [
        {
         "hovertemplate": "variable=Middle States<br>Year=%{x}<br>Tuition($)=%{y}<extra></extra>",
         "legendgroup": "Middle States",
         "line": {
          "color": "#636efa",
          "dash": "solid"
         },
         "marker": {
          "symbol": "circle"
         },
         "mode": "lines",
         "name": "Middle States",
         "orientation": "v",
         "showlegend": true,
         "type": "scatter",
         "x": [
          1990,
          1991,
          1992,
          1993,
          1994,
          1995,
          1996,
          1997,
          1998,
          1999,
          2000,
          2001,
          2002,
          2003,
          2004,
          2005,
          2006,
          2007,
          2008,
          2009,
          2010,
          2011,
          2012,
          2013,
          2014,
          2015,
          2016,
          2017,
          2018,
          2019,
          2020,
          2021,
          2022,
          2023
         ],
         "xaxis": "x",
         "y": [
          1400,
          1680,
          1820,
          1890,
          2000,
          2360,
          2530,
          2560,
          2620,
          2620,
          2650,
          2740,
          2950,
          3080,
          3220,
          3360,
          3480,
          3410,
          3530,
          3720,
          3810,
          4090,
          4260,
          4420,
          4640,
          4850,
          4990,
          5120,
          5290,
          5410,
          5500,
          5550,
          5620,
          5770
         ],
         "yaxis": "y"
        },
        {
         "hovertemplate": "variable=Midwest<br>Year=%{x}<br>Tuition($)=%{y}<extra></extra>",
         "legendgroup": "Midwest",
         "line": {
          "color": "#EF553B",
          "dash": "solid"
         },
         "marker": {
          "symbol": "circle"
         },
         "mode": "lines",
         "name": "Midwest",
         "orientation": "v",
         "showlegend": true,
         "type": "scatter",
         "x": [
          1990,
          1991,
          1992,
          1993,
          1994,
          1995,
          1996,
          1997,
          1998,
          1999,
          2000,
          2001,
          2002,
          2003,
          2004,
          2005,
          2006,
          2007,
          2008,
          2009,
          2010,
          2011,
          2012,
          2013,
          2014,
          2015,
          2016,
          2017,
          2018,
          2019,
          2020,
          2021,
          2022,
          2023
         ],
         "xaxis": "x",
         "y": [
          1200,
          1290,
          1430,
          1500,
          1550,
          1600,
          1700,
          1750,
          1830,
          1830,
          1880,
          2020,
          2150,
          2330,
          2550,
          2660,
          2840,
          2950,
          3070,
          3150,
          3340,
          3480,
          3630,
          3760,
          3900,
          4020,
          4090,
          4220,
          4340,
          4460,
          4650,
          4760,
          4830,
          4970
         ],
         "yaxis": "y"
        },
        {
         "hovertemplate": "variable=New England<br>Year=%{x}<br>Tuition($)=%{y}<extra></extra>",
         "legendgroup": "New England",
         "line": {
          "color": "#00cc96",
          "dash": "solid"
         },
         "marker": {
          "symbol": "circle"
         },
         "mode": "lines",
         "name": "New England",
         "orientation": "v",
         "showlegend": true,
         "type": "scatter",
         "x": [
          1990,
          1991,
          1992,
          1993,
          1994,
          1995,
          1996,
          1997,
          1998,
          1999,
          2000,
          2001,
          2002,
          2003,
          2004,
          2005,
          2006,
          2007,
          2008,
          2009,
          2010,
          2011,
          2012,
          2013,
          2014,
          2015,
          2016,
          2017,
          2018,
          2019,
          2020,
          2021,
          2022,
          2023
         ],
         "xaxis": "x",
         "y": [
          1360,
          1750,
          1870,
          2110,
          2200,
          2210,
          2300,
          2360,
          2300,
          2170,
          2150,
          2280,
          2620,
          2960,
          3140,
          3270,
          3330,
          3540,
          3690,
          3980,
          4260,
          4420,
          4620,
          4690,
          4800,
          5070,
          5170,
          5370,
          5510,
          5650,
          5760,
          5800,
          5890,
          6060
         ],
         "yaxis": "y"
        },
        {
         "hovertemplate": "variable=South<br>Year=%{x}<br>Tuition($)=%{y}<extra></extra>",
         "legendgroup": "South",
         "line": {
          "color": "#ab63fa",
          "dash": "solid"
         },
         "marker": {
          "symbol": "circle"
         },
         "mode": "lines",
         "name": "South",
         "orientation": "v",
         "showlegend": true,
         "type": "scatter",
         "x": [
          1990,
          1991,
          1992,
          1993,
          1994,
          1995,
          1996,
          1997,
          1998,
          1999,
          2000,
          2001,
          2002,
          2003,
          2004,
          2005,
          2006,
          2007,
          2008,
          2009,
          2010,
          2011,
          2012,
          2013,
          2014,
          2015,
          2016,
          2017,
          2018,
          2019,
          2020,
          2021,
          2022,
          2023
         ],
         "xaxis": "x",
         "y": [
          710,
          810,
          920,
          980,
          990,
          1040,
          1080,
          1190,
          1240,
          1270,
          1330,
          1470,
          1630,
          1810,
          1950,
          2080,
          2150,
          2210,
          2340,
          2550,
          2810,
          3090,
          3240,
          3360,
          3480,
          3580,
          3680,
          3770,
          3850,
          3910,
          3910,
          3940,
          3990,
          4050
         ],
         "yaxis": "y"
        },
        {
         "hovertemplate": "variable=Southwest<br>Year=%{x}<br>Tuition($)=%{y}<extra></extra>",
         "legendgroup": "Southwest",
         "line": {
          "color": "#FFA15A",
          "dash": "solid"
         },
         "marker": {
          "symbol": "circle"
         },
         "mode": "lines",
         "name": "Southwest",
         "orientation": "v",
         "showlegend": true,
         "type": "scatter",
         "x": [
          1990,
          1991,
          1992,
          1993,
          1994,
          1995,
          1996,
          1997,
          1998,
          1999,
          2000,
          2001,
          2002,
          2003,
          2004,
          2005,
          2006,
          2007,
          2008,
          2009,
          2010,
          2011,
          2012,
          2013,
          2014,
          2015,
          2016,
          2017,
          2018,
          2019,
          2020,
          2021,
          2022,
          2023
         ],
         "xaxis": "x",
         "y": [
          600,
          660,
          690,
          710,
          750,
          830,
          870,
          940,
          1000,
          1040,
          1130,
          1120,
          1220,
          1360,
          1510,
          1610,
          1690,
          1740,
          1780,
          1860,
          1970,
          2150,
          2250,
          2330,
          2430,
          2490,
          2610,
          2740,
          2800,
          2920,
          3020,
          3040,
          3200,
          3310
         ],
         "yaxis": "y"
        },
        {
         "hovertemplate": "variable=West<br>Year=%{x}<br>Tuition($)=%{y}<extra></extra>",
         "legendgroup": "West",
         "line": {
          "color": "#19d3f3",
          "dash": "solid"
         },
         "marker": {
          "symbol": "circle"
         },
         "mode": "lines",
         "name": "West",
         "orientation": "v",
         "showlegend": true,
         "type": "scatter",
         "x": [
          1990,
          1991,
          1992,
          1993,
          1994,
          1995,
          1996,
          1997,
          1998,
          1999,
          2000,
          2001,
          2002,
          2003,
          2004,
          2005,
          2006,
          2007,
          2008,
          2009,
          2010,
          2011,
          2012,
          2013,
          2014,
          2015,
          2016,
          2017,
          2018,
          2019,
          2020,
          2021,
          2022,
          2023
         ],
         "xaxis": "x",
         "y": [
          410,
          510,
          620,
          770,
          780,
          810,
          900,
          930,
          1050,
          1010,
          960,
          910,
          970,
          1090,
          1290,
          1320,
          1310,
          1250,
          1290,
          1530,
          1640,
          1980,
          2290,
          2320,
          2430,
          2450,
          2320,
          2350,
          2410,
          2440,
          2460,
          2520,
          2600,
          2670
         ],
         "yaxis": "y"
        }
       ],
       "layout": {
        "height": 700,
        "legend": {
         "title": {
          "text": ""
         },
         "tracegroupgap": 0
        },
        "template": {
         "data": {
          "bar": [
           {
            "error_x": {
             "color": "#2a3f5f"
            },
            "error_y": {
             "color": "#2a3f5f"
            },
            "marker": {
             "line": {
              "color": "#E5ECF6",
              "width": 0.5
             },
             "pattern": {
              "fillmode": "overlay",
              "size": 10,
              "solidity": 0.2
             }
            },
            "type": "bar"
           }
          ],
          "barpolar": [
           {
            "marker": {
             "line": {
              "color": "#E5ECF6",
              "width": 0.5
             },
             "pattern": {
              "fillmode": "overlay",
              "size": 10,
              "solidity": 0.2
             }
            },
            "type": "barpolar"
           }
          ],
          "carpet": [
           {
            "aaxis": {
             "endlinecolor": "#2a3f5f",
             "gridcolor": "white",
             "linecolor": "white",
             "minorgridcolor": "white",
             "startlinecolor": "#2a3f5f"
            },
            "baxis": {
             "endlinecolor": "#2a3f5f",
             "gridcolor": "white",
             "linecolor": "white",
             "minorgridcolor": "white",
             "startlinecolor": "#2a3f5f"
            },
            "type": "carpet"
           }
          ],
          "choropleth": [
           {
            "colorbar": {
             "outlinewidth": 0,
             "ticks": ""
            },
            "type": "choropleth"
           }
          ],
          "contour": [
           {
            "colorbar": {
             "outlinewidth": 0,
             "ticks": ""
            },
            "colorscale": [
             [
              0,
              "#0d0887"
             ],
             [
              0.1111111111111111,
              "#46039f"
             ],
             [
              0.2222222222222222,
              "#7201a8"
             ],
             [
              0.3333333333333333,
              "#9c179e"
             ],
             [
              0.4444444444444444,
              "#bd3786"
             ],
             [
              0.5555555555555556,
              "#d8576b"
             ],
             [
              0.6666666666666666,
              "#ed7953"
             ],
             [
              0.7777777777777778,
              "#fb9f3a"
             ],
             [
              0.8888888888888888,
              "#fdca26"
             ],
             [
              1,
              "#f0f921"
             ]
            ],
            "type": "contour"
           }
          ],
          "contourcarpet": [
           {
            "colorbar": {
             "outlinewidth": 0,
             "ticks": ""
            },
            "type": "contourcarpet"
           }
          ],
          "heatmap": [
           {
            "colorbar": {
             "outlinewidth": 0,
             "ticks": ""
            },
            "colorscale": [
             [
              0,
              "#0d0887"
             ],
             [
              0.1111111111111111,
              "#46039f"
             ],
             [
              0.2222222222222222,
              "#7201a8"
             ],
             [
              0.3333333333333333,
              "#9c179e"
             ],
             [
              0.4444444444444444,
              "#bd3786"
             ],
             [
              0.5555555555555556,
              "#d8576b"
             ],
             [
              0.6666666666666666,
              "#ed7953"
             ],
             [
              0.7777777777777778,
              "#fb9f3a"
             ],
             [
              0.8888888888888888,
              "#fdca26"
             ],
             [
              1,
              "#f0f921"
             ]
            ],
            "type": "heatmap"
           }
          ],
          "heatmapgl": [
           {
            "colorbar": {
             "outlinewidth": 0,
             "ticks": ""
            },
            "colorscale": [
             [
              0,
              "#0d0887"
             ],
             [
              0.1111111111111111,
              "#46039f"
             ],
             [
              0.2222222222222222,
              "#7201a8"
             ],
             [
              0.3333333333333333,
              "#9c179e"
             ],
             [
              0.4444444444444444,
              "#bd3786"
             ],
             [
              0.5555555555555556,
              "#d8576b"
             ],
             [
              0.6666666666666666,
              "#ed7953"
             ],
             [
              0.7777777777777778,
              "#fb9f3a"
             ],
             [
              0.8888888888888888,
              "#fdca26"
             ],
             [
              1,
              "#f0f921"
             ]
            ],
            "type": "heatmapgl"
           }
          ],
          "histogram": [
           {
            "marker": {
             "pattern": {
              "fillmode": "overlay",
              "size": 10,
              "solidity": 0.2
             }
            },
            "type": "histogram"
           }
          ],
          "histogram2d": [
           {
            "colorbar": {
             "outlinewidth": 0,
             "ticks": ""
            },
            "colorscale": [
             [
              0,
              "#0d0887"
             ],
             [
              0.1111111111111111,
              "#46039f"
             ],
             [
              0.2222222222222222,
              "#7201a8"
             ],
             [
              0.3333333333333333,
              "#9c179e"
             ],
             [
              0.4444444444444444,
              "#bd3786"
             ],
             [
              0.5555555555555556,
              "#d8576b"
             ],
             [
              0.6666666666666666,
              "#ed7953"
             ],
             [
              0.7777777777777778,
              "#fb9f3a"
             ],
             [
              0.8888888888888888,
              "#fdca26"
             ],
             [
              1,
              "#f0f921"
             ]
            ],
            "type": "histogram2d"
           }
          ],
          "histogram2dcontour": [
           {
            "colorbar": {
             "outlinewidth": 0,
             "ticks": ""
            },
            "colorscale": [
             [
              0,
              "#0d0887"
             ],
             [
              0.1111111111111111,
              "#46039f"
             ],
             [
              0.2222222222222222,
              "#7201a8"
             ],
             [
              0.3333333333333333,
              "#9c179e"
             ],
             [
              0.4444444444444444,
              "#bd3786"
             ],
             [
              0.5555555555555556,
              "#d8576b"
             ],
             [
              0.6666666666666666,
              "#ed7953"
             ],
             [
              0.7777777777777778,
              "#fb9f3a"
             ],
             [
              0.8888888888888888,
              "#fdca26"
             ],
             [
              1,
              "#f0f921"
             ]
            ],
            "type": "histogram2dcontour"
           }
          ],
          "mesh3d": [
           {
            "colorbar": {
             "outlinewidth": 0,
             "ticks": ""
            },
            "type": "mesh3d"
           }
          ],
          "parcoords": [
           {
            "line": {
             "colorbar": {
              "outlinewidth": 0,
              "ticks": ""
             }
            },
            "type": "parcoords"
           }
          ],
          "pie": [
           {
            "automargin": true,
            "type": "pie"
           }
          ],
          "scatter": [
           {
            "fillpattern": {
             "fillmode": "overlay",
             "size": 10,
             "solidity": 0.2
            },
            "type": "scatter"
           }
          ],
          "scatter3d": [
           {
            "line": {
             "colorbar": {
              "outlinewidth": 0,
              "ticks": ""
             }
            },
            "marker": {
             "colorbar": {
              "outlinewidth": 0,
              "ticks": ""
             }
            },
            "type": "scatter3d"
           }
          ],
          "scattercarpet": [
           {
            "marker": {
             "colorbar": {
              "outlinewidth": 0,
              "ticks": ""
             }
            },
            "type": "scattercarpet"
           }
          ],
          "scattergeo": [
           {
            "marker": {
             "colorbar": {
              "outlinewidth": 0,
              "ticks": ""
             }
            },
            "type": "scattergeo"
           }
          ],
          "scattergl": [
           {
            "marker": {
             "colorbar": {
              "outlinewidth": 0,
              "ticks": ""
             }
            },
            "type": "scattergl"
           }
          ],
          "scattermapbox": [
           {
            "marker": {
             "colorbar": {
              "outlinewidth": 0,
              "ticks": ""
             }
            },
            "type": "scattermapbox"
           }
          ],
          "scatterpolar": [
           {
            "marker": {
             "colorbar": {
              "outlinewidth": 0,
              "ticks": ""
             }
            },
            "type": "scatterpolar"
           }
          ],
          "scatterpolargl": [
           {
            "marker": {
             "colorbar": {
              "outlinewidth": 0,
              "ticks": ""
             }
            },
            "type": "scatterpolargl"
           }
          ],
          "scatterternary": [
           {
            "marker": {
             "colorbar": {
              "outlinewidth": 0,
              "ticks": ""
             }
            },
            "type": "scatterternary"
           }
          ],
          "surface": [
           {
            "colorbar": {
             "outlinewidth": 0,
             "ticks": ""
            },
            "colorscale": [
             [
              0,
              "#0d0887"
             ],
             [
              0.1111111111111111,
              "#46039f"
             ],
             [
              0.2222222222222222,
              "#7201a8"
             ],
             [
              0.3333333333333333,
              "#9c179e"
             ],
             [
              0.4444444444444444,
              "#bd3786"
             ],
             [
              0.5555555555555556,
              "#d8576b"
             ],
             [
              0.6666666666666666,
              "#ed7953"
             ],
             [
              0.7777777777777778,
              "#fb9f3a"
             ],
             [
              0.8888888888888888,
              "#fdca26"
             ],
             [
              1,
              "#f0f921"
             ]
            ],
            "type": "surface"
           }
          ],
          "table": [
           {
            "cells": {
             "fill": {
              "color": "#EBF0F8"
             },
             "line": {
              "color": "white"
             }
            },
            "header": {
             "fill": {
              "color": "#C8D4E3"
             },
             "line": {
              "color": "white"
             }
            },
            "type": "table"
           }
          ]
         },
         "layout": {
          "annotationdefaults": {
           "arrowcolor": "#2a3f5f",
           "arrowhead": 0,
           "arrowwidth": 1
          },
          "autotypenumbers": "strict",
          "coloraxis": {
           "colorbar": {
            "outlinewidth": 0,
            "ticks": ""
           }
          },
          "colorscale": {
           "diverging": [
            [
             0,
             "#8e0152"
            ],
            [
             0.1,
             "#c51b7d"
            ],
            [
             0.2,
             "#de77ae"
            ],
            [
             0.3,
             "#f1b6da"
            ],
            [
             0.4,
             "#fde0ef"
            ],
            [
             0.5,
             "#f7f7f7"
            ],
            [
             0.6,
             "#e6f5d0"
            ],
            [
             0.7,
             "#b8e186"
            ],
            [
             0.8,
             "#7fbc41"
            ],
            [
             0.9,
             "#4d9221"
            ],
            [
             1,
             "#276419"
            ]
           ],
           "sequential": [
            [
             0,
             "#0d0887"
            ],
            [
             0.1111111111111111,
             "#46039f"
            ],
            [
             0.2222222222222222,
             "#7201a8"
            ],
            [
             0.3333333333333333,
             "#9c179e"
            ],
            [
             0.4444444444444444,
             "#bd3786"
            ],
            [
             0.5555555555555556,
             "#d8576b"
            ],
            [
             0.6666666666666666,
             "#ed7953"
            ],
            [
             0.7777777777777778,
             "#fb9f3a"
            ],
            [
             0.8888888888888888,
             "#fdca26"
            ],
            [
             1,
             "#f0f921"
            ]
           ],
           "sequentialminus": [
            [
             0,
             "#0d0887"
            ],
            [
             0.1111111111111111,
             "#46039f"
            ],
            [
             0.2222222222222222,
             "#7201a8"
            ],
            [
             0.3333333333333333,
             "#9c179e"
            ],
            [
             0.4444444444444444,
             "#bd3786"
            ],
            [
             0.5555555555555556,
             "#d8576b"
            ],
            [
             0.6666666666666666,
             "#ed7953"
            ],
            [
             0.7777777777777778,
             "#fb9f3a"
            ],
            [
             0.8888888888888888,
             "#fdca26"
            ],
            [
             1,
             "#f0f921"
            ]
           ]
          },
          "colorway": [
           "#636efa",
           "#EF553B",
           "#00cc96",
           "#ab63fa",
           "#FFA15A",
           "#19d3f3",
           "#FF6692",
           "#B6E880",
           "#FF97FF",
           "#FECB52"
          ],
          "font": {
           "color": "#2a3f5f"
          },
          "geo": {
           "bgcolor": "white",
           "lakecolor": "white",
           "landcolor": "#E5ECF6",
           "showlakes": true,
           "showland": true,
           "subunitcolor": "white"
          },
          "hoverlabel": {
           "align": "left"
          },
          "hovermode": "closest",
          "mapbox": {
           "style": "light"
          },
          "paper_bgcolor": "white",
          "plot_bgcolor": "#E5ECF6",
          "polar": {
           "angularaxis": {
            "gridcolor": "white",
            "linecolor": "white",
            "ticks": ""
           },
           "bgcolor": "#E5ECF6",
           "radialaxis": {
            "gridcolor": "white",
            "linecolor": "white",
            "ticks": ""
           }
          },
          "scene": {
           "xaxis": {
            "backgroundcolor": "#E5ECF6",
            "gridcolor": "white",
            "gridwidth": 2,
            "linecolor": "white",
            "showbackground": true,
            "ticks": "",
            "zerolinecolor": "white"
           },
           "yaxis": {
            "backgroundcolor": "#E5ECF6",
            "gridcolor": "white",
            "gridwidth": 2,
            "linecolor": "white",
            "showbackground": true,
            "ticks": "",
            "zerolinecolor": "white"
           },
           "zaxis": {
            "backgroundcolor": "#E5ECF6",
            "gridcolor": "white",
            "gridwidth": 2,
            "linecolor": "white",
            "showbackground": true,
            "ticks": "",
            "zerolinecolor": "white"
           }
          },
          "shapedefaults": {
           "line": {
            "color": "#2a3f5f"
           }
          },
          "ternary": {
           "aaxis": {
            "gridcolor": "white",
            "linecolor": "white",
            "ticks": ""
           },
           "baxis": {
            "gridcolor": "white",
            "linecolor": "white",
            "ticks": ""
           },
           "bgcolor": "#E5ECF6",
           "caxis": {
            "gridcolor": "white",
            "linecolor": "white",
            "ticks": ""
           }
          },
          "title": {
           "x": 0.05
          },
          "xaxis": {
           "automargin": true,
           "gridcolor": "white",
           "linecolor": "white",
           "ticks": "",
           "title": {
            "standoff": 15
           },
           "zerolinecolor": "white",
           "zerolinewidth": 2
          },
          "yaxis": {
           "automargin": true,
           "gridcolor": "white",
           "linecolor": "white",
           "ticks": "",
           "title": {
            "standoff": 15
           },
           "zerolinecolor": "white",
           "zerolinewidth": 2
          }
         }
        },
        "title": {
         "text": "Public Two Year"
        },
        "width": 900,
        "xaxis": {
         "anchor": "y",
         "domain": [
          0,
          1
         ],
         "title": {
          "text": "Year"
         }
        },
        "yaxis": {
         "anchor": "x",
         "domain": [
          0,
          1
         ],
         "title": {
          "text": "Tuition($)"
         }
        }
       }
      }
     },
     "metadata": {},
     "output_type": "display_data"
    },
    {
     "data": {
      "application/vnd.plotly.v1+json": {
       "config": {
        "plotlyServerURL": "https://plot.ly"
       },
       "data": [
        {
         "hovertemplate": "variable=Middle States<br>Year=%{x}<br>Tuition($)=%{y}<extra></extra>",
         "legendgroup": "Middle States",
         "line": {
          "color": "#636efa",
          "dash": "solid"
         },
         "marker": {
          "symbol": "circle"
         },
         "mode": "lines",
         "name": "Middle States",
         "orientation": "v",
         "showlegend": true,
         "type": "scatter",
         "x": [
          1990,
          1991,
          1992,
          1993,
          1994,
          1995,
          1996,
          1997,
          1998,
          1999,
          2000,
          2001,
          2002,
          2003,
          2004,
          2005,
          2006,
          2007,
          2008,
          2009,
          2010,
          2011,
          2012,
          2013,
          2014,
          2015,
          2016,
          2017,
          2018,
          2019,
          2020,
          2021,
          2022,
          2023
         ],
         "xaxis": "x",
         "y": [
          2080,
          2770,
          3090,
          3360,
          3520,
          3730,
          3910,
          4060,
          4200,
          4510,
          4690,
          4780,
          5590,
          5930,
          6290,
          6600,
          6860,
          7250,
          7570,
          8000,
          8410,
          8910,
          9210,
          9430,
          9790,
          10090,
          10410,
          10730,
          11020,
          11280,
          11330,
          11570,
          11840,
          12110
         ],
         "yaxis": "y"
        },
        {
         "hovertemplate": "variable=Midwest<br>Year=%{x}<br>Tuition($)=%{y}<extra></extra>",
         "legendgroup": "Midwest",
         "line": {
          "color": "#EF553B",
          "dash": "solid"
         },
         "marker": {
          "symbol": "circle"
         },
         "mode": "lines",
         "name": "Midwest",
         "orientation": "v",
         "showlegend": true,
         "type": "scatter",
         "x": [
          1990,
          1991,
          1992,
          1993,
          1994,
          1995,
          1996,
          1997,
          1998,
          1999,
          2000,
          2001,
          2002,
          2003,
          2004,
          2005,
          2006,
          2007,
          2008,
          2009,
          2010,
          2011,
          2012,
          2013,
          2014,
          2015,
          2016,
          2017,
          2018,
          2019,
          2020,
          2021,
          2022,
          2023
         ],
         "xaxis": "x",
         "y": [
          2130,
          2300,
          2620,
          2770,
          2920,
          3100,
          3260,
          3470,
          3650,
          3810,
          3990,
          4220,
          4890,
          5450,
          6070,
          6570,
          6930,
          7380,
          7790,
          8120,
          8530,
          9010,
          9370,
          9570,
          9740,
          9940,
          10210,
          10430,
          10670,
          10970,
          11170,
          11430,
          11790,
          12230
         ],
         "yaxis": "y"
        },
        {
         "hovertemplate": "variable=New England<br>Year=%{x}<br>Tuition($)=%{y}<extra></extra>",
         "legendgroup": "New England",
         "line": {
          "color": "#00cc96",
          "dash": "solid"
         },
         "marker": {
          "symbol": "circle"
         },
         "mode": "lines",
         "name": "New England",
         "orientation": "v",
         "showlegend": true,
         "type": "scatter",
         "x": [
          1990,
          1991,
          1992,
          1993,
          1994,
          1995,
          1996,
          1997,
          1998,
          1999,
          2000,
          2001,
          2002,
          2003,
          2004,
          2005,
          2006,
          2007,
          2008,
          2009,
          2010,
          2011,
          2012,
          2013,
          2014,
          2015,
          2016,
          2017,
          2018,
          2019,
          2020,
          2021,
          2022,
          2023
         ],
         "xaxis": "x",
         "y": [
          2550,
          3390,
          3630,
          3950,
          4090,
          4240,
          4320,
          4530,
          4640,
          4680,
          4750,
          4890,
          5350,
          6240,
          6880,
          7260,
          7670,
          8120,
          8630,
          9380,
          9840,
          10500,
          11030,
          11220,
          11460,
          11970,
          12510,
          12960,
          13420,
          13960,
          14310,
          14520,
          15000,
          15330
         ],
         "yaxis": "y"
        },
        {
         "hovertemplate": "variable=South<br>Year=%{x}<br>Tuition($)=%{y}<extra></extra>",
         "legendgroup": "South",
         "line": {
          "color": "#ab63fa",
          "dash": "solid"
         },
         "marker": {
          "symbol": "circle"
         },
         "mode": "lines",
         "name": "South",
         "orientation": "v",
         "showlegend": true,
         "type": "scatter",
         "x": [
          1990,
          1991,
          1992,
          1993,
          1994,
          1995,
          1996,
          1997,
          1998,
          1999,
          2000,
          2001,
          2002,
          2003,
          2004,
          2005,
          2006,
          2007,
          2008,
          2009,
          2010,
          2011,
          2012,
          2013,
          2014,
          2015,
          2016,
          2017,
          2018,
          2019,
          2020,
          2021,
          2022,
          2023
         ],
         "xaxis": "x",
         "y": [
          1800,
          1880,
          2010,
          2180,
          2260,
          2320,
          2430,
          2540,
          2680,
          2730,
          2910,
          3190,
          3380,
          3810,
          4130,
          4430,
          4730,
          5020,
          5430,
          5780,
          6470,
          7140,
          7640,
          8040,
          8370,
          8730,
          8960,
          9280,
          9440,
          9590,
          9650,
          9760,
          9820,
          9970
         ],
         "yaxis": "y"
        },
        {
         "hovertemplate": "variable=Southwest<br>Year=%{x}<br>Tuition($)=%{y}<extra></extra>",
         "legendgroup": "Southwest",
         "line": {
          "color": "#FFA15A",
          "dash": "solid"
         },
         "marker": {
          "symbol": "circle"
         },
         "mode": "lines",
         "name": "Southwest",
         "orientation": "v",
         "showlegend": true,
         "type": "scatter",
         "x": [
          1990,
          1991,
          1992,
          1993,
          1994,
          1995,
          1996,
          1997,
          1998,
          1999,
          2000,
          2001,
          2002,
          2003,
          2004,
          2005,
          2006,
          2007,
          2008,
          2009,
          2010,
          2011,
          2012,
          2013,
          2014,
          2015,
          2016,
          2017,
          2018,
          2019,
          2020,
          2021,
          2022,
          2023
         ],
         "xaxis": "x",
         "y": [
          1180,
          1270,
          1410,
          1550,
          1730,
          1870,
          2160,
          2320,
          2530,
          2720,
          2930,
          3210,
          3400,
          3930,
          4690,
          5040,
          5540,
          5980,
          6450,
          6710,
          7100,
          7430,
          7730,
          7950,
          8280,
          8620,
          9010,
          9370,
          9600,
          9980,
          10300,
          10530,
          10660,
          10760
         ],
         "yaxis": "y"
        },
        {
         "hovertemplate": "variable=West<br>Year=%{x}<br>Tuition($)=%{y}<extra></extra>",
         "legendgroup": "West",
         "line": {
          "color": "#19d3f3",
          "dash": "solid"
         },
         "marker": {
          "symbol": "circle"
         },
         "mode": "lines",
         "name": "West",
         "orientation": "v",
         "showlegend": true,
         "type": "scatter",
         "x": [
          1990,
          1991,
          1992,
          1993,
          1994,
          1995,
          1996,
          1997,
          1998,
          1999,
          2000,
          2001,
          2002,
          2003,
          2004,
          2005,
          2006,
          2007,
          2008,
          2009,
          2010,
          2011,
          2012,
          2013,
          2014,
          2015,
          2016,
          2017,
          2018,
          2019,
          2020,
          2021,
          2022,
          2023
         ],
         "xaxis": "x",
         "y": [
          1400,
          1690,
          1970,
          2240,
          2490,
          2560,
          2590,
          2680,
          2660,
          2680,
          2750,
          2930,
          3030,
          3700,
          4120,
          4470,
          4650,
          5030,
          5470,
          6310,
          7140,
          8260,
          8560,
          8730,
          8910,
          9050,
          9090,
          9530,
          9740,
          9880,
          10030,
          10120,
          10510,
          10820
         ],
         "yaxis": "y"
        }
       ],
       "layout": {
        "height": 700,
        "legend": {
         "title": {
          "text": ""
         },
         "tracegroupgap": 0
        },
        "template": {
         "data": {
          "bar": [
           {
            "error_x": {
             "color": "#2a3f5f"
            },
            "error_y": {
             "color": "#2a3f5f"
            },
            "marker": {
             "line": {
              "color": "#E5ECF6",
              "width": 0.5
             },
             "pattern": {
              "fillmode": "overlay",
              "size": 10,
              "solidity": 0.2
             }
            },
            "type": "bar"
           }
          ],
          "barpolar": [
           {
            "marker": {
             "line": {
              "color": "#E5ECF6",
              "width": 0.5
             },
             "pattern": {
              "fillmode": "overlay",
              "size": 10,
              "solidity": 0.2
             }
            },
            "type": "barpolar"
           }
          ],
          "carpet": [
           {
            "aaxis": {
             "endlinecolor": "#2a3f5f",
             "gridcolor": "white",
             "linecolor": "white",
             "minorgridcolor": "white",
             "startlinecolor": "#2a3f5f"
            },
            "baxis": {
             "endlinecolor": "#2a3f5f",
             "gridcolor": "white",
             "linecolor": "white",
             "minorgridcolor": "white",
             "startlinecolor": "#2a3f5f"
            },
            "type": "carpet"
           }
          ],
          "choropleth": [
           {
            "colorbar": {
             "outlinewidth": 0,
             "ticks": ""
            },
            "type": "choropleth"
           }
          ],
          "contour": [
           {
            "colorbar": {
             "outlinewidth": 0,
             "ticks": ""
            },
            "colorscale": [
             [
              0,
              "#0d0887"
             ],
             [
              0.1111111111111111,
              "#46039f"
             ],
             [
              0.2222222222222222,
              "#7201a8"
             ],
             [
              0.3333333333333333,
              "#9c179e"
             ],
             [
              0.4444444444444444,
              "#bd3786"
             ],
             [
              0.5555555555555556,
              "#d8576b"
             ],
             [
              0.6666666666666666,
              "#ed7953"
             ],
             [
              0.7777777777777778,
              "#fb9f3a"
             ],
             [
              0.8888888888888888,
              "#fdca26"
             ],
             [
              1,
              "#f0f921"
             ]
            ],
            "type": "contour"
           }
          ],
          "contourcarpet": [
           {
            "colorbar": {
             "outlinewidth": 0,
             "ticks": ""
            },
            "type": "contourcarpet"
           }
          ],
          "heatmap": [
           {
            "colorbar": {
             "outlinewidth": 0,
             "ticks": ""
            },
            "colorscale": [
             [
              0,
              "#0d0887"
             ],
             [
              0.1111111111111111,
              "#46039f"
             ],
             [
              0.2222222222222222,
              "#7201a8"
             ],
             [
              0.3333333333333333,
              "#9c179e"
             ],
             [
              0.4444444444444444,
              "#bd3786"
             ],
             [
              0.5555555555555556,
              "#d8576b"
             ],
             [
              0.6666666666666666,
              "#ed7953"
             ],
             [
              0.7777777777777778,
              "#fb9f3a"
             ],
             [
              0.8888888888888888,
              "#fdca26"
             ],
             [
              1,
              "#f0f921"
             ]
            ],
            "type": "heatmap"
           }
          ],
          "heatmapgl": [
           {
            "colorbar": {
             "outlinewidth": 0,
             "ticks": ""
            },
            "colorscale": [
             [
              0,
              "#0d0887"
             ],
             [
              0.1111111111111111,
              "#46039f"
             ],
             [
              0.2222222222222222,
              "#7201a8"
             ],
             [
              0.3333333333333333,
              "#9c179e"
             ],
             [
              0.4444444444444444,
              "#bd3786"
             ],
             [
              0.5555555555555556,
              "#d8576b"
             ],
             [
              0.6666666666666666,
              "#ed7953"
             ],
             [
              0.7777777777777778,
              "#fb9f3a"
             ],
             [
              0.8888888888888888,
              "#fdca26"
             ],
             [
              1,
              "#f0f921"
             ]
            ],
            "type": "heatmapgl"
           }
          ],
          "histogram": [
           {
            "marker": {
             "pattern": {
              "fillmode": "overlay",
              "size": 10,
              "solidity": 0.2
             }
            },
            "type": "histogram"
           }
          ],
          "histogram2d": [
           {
            "colorbar": {
             "outlinewidth": 0,
             "ticks": ""
            },
            "colorscale": [
             [
              0,
              "#0d0887"
             ],
             [
              0.1111111111111111,
              "#46039f"
             ],
             [
              0.2222222222222222,
              "#7201a8"
             ],
             [
              0.3333333333333333,
              "#9c179e"
             ],
             [
              0.4444444444444444,
              "#bd3786"
             ],
             [
              0.5555555555555556,
              "#d8576b"
             ],
             [
              0.6666666666666666,
              "#ed7953"
             ],
             [
              0.7777777777777778,
              "#fb9f3a"
             ],
             [
              0.8888888888888888,
              "#fdca26"
             ],
             [
              1,
              "#f0f921"
             ]
            ],
            "type": "histogram2d"
           }
          ],
          "histogram2dcontour": [
           {
            "colorbar": {
             "outlinewidth": 0,
             "ticks": ""
            },
            "colorscale": [
             [
              0,
              "#0d0887"
             ],
             [
              0.1111111111111111,
              "#46039f"
             ],
             [
              0.2222222222222222,
              "#7201a8"
             ],
             [
              0.3333333333333333,
              "#9c179e"
             ],
             [
              0.4444444444444444,
              "#bd3786"
             ],
             [
              0.5555555555555556,
              "#d8576b"
             ],
             [
              0.6666666666666666,
              "#ed7953"
             ],
             [
              0.7777777777777778,
              "#fb9f3a"
             ],
             [
              0.8888888888888888,
              "#fdca26"
             ],
             [
              1,
              "#f0f921"
             ]
            ],
            "type": "histogram2dcontour"
           }
          ],
          "mesh3d": [
           {
            "colorbar": {
             "outlinewidth": 0,
             "ticks": ""
            },
            "type": "mesh3d"
           }
          ],
          "parcoords": [
           {
            "line": {
             "colorbar": {
              "outlinewidth": 0,
              "ticks": ""
             }
            },
            "type": "parcoords"
           }
          ],
          "pie": [
           {
            "automargin": true,
            "type": "pie"
           }
          ],
          "scatter": [
           {
            "fillpattern": {
             "fillmode": "overlay",
             "size": 10,
             "solidity": 0.2
            },
            "type": "scatter"
           }
          ],
          "scatter3d": [
           {
            "line": {
             "colorbar": {
              "outlinewidth": 0,
              "ticks": ""
             }
            },
            "marker": {
             "colorbar": {
              "outlinewidth": 0,
              "ticks": ""
             }
            },
            "type": "scatter3d"
           }
          ],
          "scattercarpet": [
           {
            "marker": {
             "colorbar": {
              "outlinewidth": 0,
              "ticks": ""
             }
            },
            "type": "scattercarpet"
           }
          ],
          "scattergeo": [
           {
            "marker": {
             "colorbar": {
              "outlinewidth": 0,
              "ticks": ""
             }
            },
            "type": "scattergeo"
           }
          ],
          "scattergl": [
           {
            "marker": {
             "colorbar": {
              "outlinewidth": 0,
              "ticks": ""
             }
            },
            "type": "scattergl"
           }
          ],
          "scattermapbox": [
           {
            "marker": {
             "colorbar": {
              "outlinewidth": 0,
              "ticks": ""
             }
            },
            "type": "scattermapbox"
           }
          ],
          "scatterpolar": [
           {
            "marker": {
             "colorbar": {
              "outlinewidth": 0,
              "ticks": ""
             }
            },
            "type": "scatterpolar"
           }
          ],
          "scatterpolargl": [
           {
            "marker": {
             "colorbar": {
              "outlinewidth": 0,
              "ticks": ""
             }
            },
            "type": "scatterpolargl"
           }
          ],
          "scatterternary": [
           {
            "marker": {
             "colorbar": {
              "outlinewidth": 0,
              "ticks": ""
             }
            },
            "type": "scatterternary"
           }
          ],
          "surface": [
           {
            "colorbar": {
             "outlinewidth": 0,
             "ticks": ""
            },
            "colorscale": [
             [
              0,
              "#0d0887"
             ],
             [
              0.1111111111111111,
              "#46039f"
             ],
             [
              0.2222222222222222,
              "#7201a8"
             ],
             [
              0.3333333333333333,
              "#9c179e"
             ],
             [
              0.4444444444444444,
              "#bd3786"
             ],
             [
              0.5555555555555556,
              "#d8576b"
             ],
             [
              0.6666666666666666,
              "#ed7953"
             ],
             [
              0.7777777777777778,
              "#fb9f3a"
             ],
             [
              0.8888888888888888,
              "#fdca26"
             ],
             [
              1,
              "#f0f921"
             ]
            ],
            "type": "surface"
           }
          ],
          "table": [
           {
            "cells": {
             "fill": {
              "color": "#EBF0F8"
             },
             "line": {
              "color": "white"
             }
            },
            "header": {
             "fill": {
              "color": "#C8D4E3"
             },
             "line": {
              "color": "white"
             }
            },
            "type": "table"
           }
          ]
         },
         "layout": {
          "annotationdefaults": {
           "arrowcolor": "#2a3f5f",
           "arrowhead": 0,
           "arrowwidth": 1
          },
          "autotypenumbers": "strict",
          "coloraxis": {
           "colorbar": {
            "outlinewidth": 0,
            "ticks": ""
           }
          },
          "colorscale": {
           "diverging": [
            [
             0,
             "#8e0152"
            ],
            [
             0.1,
             "#c51b7d"
            ],
            [
             0.2,
             "#de77ae"
            ],
            [
             0.3,
             "#f1b6da"
            ],
            [
             0.4,
             "#fde0ef"
            ],
            [
             0.5,
             "#f7f7f7"
            ],
            [
             0.6,
             "#e6f5d0"
            ],
            [
             0.7,
             "#b8e186"
            ],
            [
             0.8,
             "#7fbc41"
            ],
            [
             0.9,
             "#4d9221"
            ],
            [
             1,
             "#276419"
            ]
           ],
           "sequential": [
            [
             0,
             "#0d0887"
            ],
            [
             0.1111111111111111,
             "#46039f"
            ],
            [
             0.2222222222222222,
             "#7201a8"
            ],
            [
             0.3333333333333333,
             "#9c179e"
            ],
            [
             0.4444444444444444,
             "#bd3786"
            ],
            [
             0.5555555555555556,
             "#d8576b"
            ],
            [
             0.6666666666666666,
             "#ed7953"
            ],
            [
             0.7777777777777778,
             "#fb9f3a"
            ],
            [
             0.8888888888888888,
             "#fdca26"
            ],
            [
             1,
             "#f0f921"
            ]
           ],
           "sequentialminus": [
            [
             0,
             "#0d0887"
            ],
            [
             0.1111111111111111,
             "#46039f"
            ],
            [
             0.2222222222222222,
             "#7201a8"
            ],
            [
             0.3333333333333333,
             "#9c179e"
            ],
            [
             0.4444444444444444,
             "#bd3786"
            ],
            [
             0.5555555555555556,
             "#d8576b"
            ],
            [
             0.6666666666666666,
             "#ed7953"
            ],
            [
             0.7777777777777778,
             "#fb9f3a"
            ],
            [
             0.8888888888888888,
             "#fdca26"
            ],
            [
             1,
             "#f0f921"
            ]
           ]
          },
          "colorway": [
           "#636efa",
           "#EF553B",
           "#00cc96",
           "#ab63fa",
           "#FFA15A",
           "#19d3f3",
           "#FF6692",
           "#B6E880",
           "#FF97FF",
           "#FECB52"
          ],
          "font": {
           "color": "#2a3f5f"
          },
          "geo": {
           "bgcolor": "white",
           "lakecolor": "white",
           "landcolor": "#E5ECF6",
           "showlakes": true,
           "showland": true,
           "subunitcolor": "white"
          },
          "hoverlabel": {
           "align": "left"
          },
          "hovermode": "closest",
          "mapbox": {
           "style": "light"
          },
          "paper_bgcolor": "white",
          "plot_bgcolor": "#E5ECF6",
          "polar": {
           "angularaxis": {
            "gridcolor": "white",
            "linecolor": "white",
            "ticks": ""
           },
           "bgcolor": "#E5ECF6",
           "radialaxis": {
            "gridcolor": "white",
            "linecolor": "white",
            "ticks": ""
           }
          },
          "scene": {
           "xaxis": {
            "backgroundcolor": "#E5ECF6",
            "gridcolor": "white",
            "gridwidth": 2,
            "linecolor": "white",
            "showbackground": true,
            "ticks": "",
            "zerolinecolor": "white"
           },
           "yaxis": {
            "backgroundcolor": "#E5ECF6",
            "gridcolor": "white",
            "gridwidth": 2,
            "linecolor": "white",
            "showbackground": true,
            "ticks": "",
            "zerolinecolor": "white"
           },
           "zaxis": {
            "backgroundcolor": "#E5ECF6",
            "gridcolor": "white",
            "gridwidth": 2,
            "linecolor": "white",
            "showbackground": true,
            "ticks": "",
            "zerolinecolor": "white"
           }
          },
          "shapedefaults": {
           "line": {
            "color": "#2a3f5f"
           }
          },
          "ternary": {
           "aaxis": {
            "gridcolor": "white",
            "linecolor": "white",
            "ticks": ""
           },
           "baxis": {
            "gridcolor": "white",
            "linecolor": "white",
            "ticks": ""
           },
           "bgcolor": "#E5ECF6",
           "caxis": {
            "gridcolor": "white",
            "linecolor": "white",
            "ticks": ""
           }
          },
          "title": {
           "x": 0.05
          },
          "xaxis": {
           "automargin": true,
           "gridcolor": "white",
           "linecolor": "white",
           "ticks": "",
           "title": {
            "standoff": 15
           },
           "zerolinecolor": "white",
           "zerolinewidth": 2
          },
          "yaxis": {
           "automargin": true,
           "gridcolor": "white",
           "linecolor": "white",
           "ticks": "",
           "title": {
            "standoff": 15
           },
           "zerolinecolor": "white",
           "zerolinewidth": 2
          }
         }
        },
        "title": {
         "text": "Public four Year"
        },
        "width": 900,
        "xaxis": {
         "anchor": "y",
         "domain": [
          0,
          1
         ],
         "title": {
          "text": "Year"
         }
        },
        "yaxis": {
         "anchor": "x",
         "domain": [
          0,
          1
         ],
         "title": {
          "text": "Tuition($)"
         }
        }
       }
      }
     },
     "metadata": {},
     "output_type": "display_data"
    }
   ],
   "source": [
    "import plotly.express as px\n",
    "\n",
    "for univ in df['UnivType'].unique():\n",
    "    temporary = df[df['UnivType'] == univ]\n",
    "    columns = [col for col in temporary.columns.to_list() if col not in [\"UnivType\", \"Year\", \"National\"]]\n",
    "    fig = px.line(temporary, x=\"Year\", y=columns, title=univ, labels={'Year': 'Year', 'value': 'Tuition($)'},  width=900, height=700)\n",
    "    fig.update_layout(xaxis_title='Year', yaxis_title='Tuition($)', legend_title='')\n",
    "    fig.show()\n",
    "    fig.write_html(f\"../../../graphs/function/two/two-{univ}.html\")\n"
   ]
  },
  {
   "cell_type": "code",
   "execution_count": 48,
   "metadata": {},
   "outputs": [
    {
     "data": {
      "text/html": [
       "<div>\n",
       "<style scoped>\n",
       "    .dataframe tbody tr th:only-of-type {\n",
       "        vertical-align: middle;\n",
       "    }\n",
       "\n",
       "    .dataframe tbody tr th {\n",
       "        vertical-align: top;\n",
       "    }\n",
       "\n",
       "    .dataframe thead th {\n",
       "        text-align: right;\n",
       "    }\n",
       "</style>\n",
       "<table border=\"1\" class=\"dataframe\">\n",
       "  <thead>\n",
       "    <tr style=\"text-align: right;\">\n",
       "      <th></th>\n",
       "      <th>Year</th>\n",
       "      <th>National</th>\n",
       "      <th>Middle States</th>\n",
       "      <th>Midwest</th>\n",
       "      <th>New England</th>\n",
       "      <th>South</th>\n",
       "      <th>Southwest</th>\n",
       "      <th>West</th>\n",
       "      <th>UnivType</th>\n",
       "    </tr>\n",
       "  </thead>\n",
       "  <tbody>\n",
       "    <tr>\n",
       "      <th>0</th>\n",
       "      <td>1990</td>\n",
       "      <td>910.0</td>\n",
       "      <td>1400.0</td>\n",
       "      <td>1200.0</td>\n",
       "      <td>1360.0</td>\n",
       "      <td>710.0</td>\n",
       "      <td>600.0</td>\n",
       "      <td>410.0</td>\n",
       "      <td>Public Two Year</td>\n",
       "    </tr>\n",
       "    <tr>\n",
       "      <th>1</th>\n",
       "      <td>1991</td>\n",
       "      <td>1170.0</td>\n",
       "      <td>1680.0</td>\n",
       "      <td>1290.0</td>\n",
       "      <td>1750.0</td>\n",
       "      <td>810.0</td>\n",
       "      <td>660.0</td>\n",
       "      <td>510.0</td>\n",
       "      <td>Public Two Year</td>\n",
       "    </tr>\n",
       "    <tr>\n",
       "      <th>2</th>\n",
       "      <td>1992</td>\n",
       "      <td>1120.0</td>\n",
       "      <td>1820.0</td>\n",
       "      <td>1430.0</td>\n",
       "      <td>1870.0</td>\n",
       "      <td>920.0</td>\n",
       "      <td>690.0</td>\n",
       "      <td>620.0</td>\n",
       "      <td>Public Two Year</td>\n",
       "    </tr>\n",
       "    <tr>\n",
       "      <th>3</th>\n",
       "      <td>1993</td>\n",
       "      <td>1250.0</td>\n",
       "      <td>1890.0</td>\n",
       "      <td>1500.0</td>\n",
       "      <td>2110.0</td>\n",
       "      <td>980.0</td>\n",
       "      <td>710.0</td>\n",
       "      <td>770.0</td>\n",
       "      <td>Public Two Year</td>\n",
       "    </tr>\n",
       "    <tr>\n",
       "      <th>4</th>\n",
       "      <td>1994</td>\n",
       "      <td>1310.0</td>\n",
       "      <td>2000.0</td>\n",
       "      <td>1550.0</td>\n",
       "      <td>2200.0</td>\n",
       "      <td>990.0</td>\n",
       "      <td>750.0</td>\n",
       "      <td>780.0</td>\n",
       "      <td>Public Two Year</td>\n",
       "    </tr>\n",
       "  </tbody>\n",
       "</table>\n",
       "</div>"
      ],
      "text/plain": [
       "   Year  National  Middle States  Midwest  New England  South  Southwest  \\\n",
       "0  1990     910.0         1400.0   1200.0       1360.0  710.0      600.0   \n",
       "1  1991    1170.0         1680.0   1290.0       1750.0  810.0      660.0   \n",
       "2  1992    1120.0         1820.0   1430.0       1870.0  920.0      690.0   \n",
       "3  1993    1250.0         1890.0   1500.0       2110.0  980.0      710.0   \n",
       "4  1994    1310.0         2000.0   1550.0       2200.0  990.0      750.0   \n",
       "\n",
       "    West         UnivType  \n",
       "0  410.0  Public Two Year  \n",
       "1  510.0  Public Two Year  \n",
       "2  620.0  Public Two Year  \n",
       "3  770.0  Public Two Year  \n",
       "4  780.0  Public Two Year  "
      ]
     },
     "execution_count": 48,
     "metadata": {},
     "output_type": "execute_result"
    }
   ],
   "source": [
    "df.head()"
   ]
  },
  {
   "cell_type": "code",
   "execution_count": 60,
   "metadata": {},
   "outputs": [],
   "source": [
    "def tukey(var):\n",
    "    temp = melted_df[melted_df[\"UnivType\"]==var]\n",
    "\n",
    "\n",
    "\n",
    "    from scipy.stats import f_oneway\n",
    "\n",
    "    groups = melted_df['Region'].unique()\n",
    "    group_data = [melted_df[melted_df['Region'] == group]['Average Tuition($)'] for group in groups]\n",
    "\n",
    "    # Perform ANOVA\n",
    "    f_statistic, p_value = f_oneway(*group_data)\n",
    "\n",
    "    print(\"F-Statistic:\", f_statistic)\n",
    "    print(\"P-Value:\", p_value)\n",
    "    from statsmodels.stats.multicomp import pairwise_tukeyhsd\n",
    "    tukey_results = pairwise_tukeyhsd(melted_df['Average Tuition($)'], melted_df['Region'])\n",
    "    # Convert Tukey's HSD results to DataFrame\n",
    "\n",
    "    # print(tukey_results)\n",
    "    tukey_df = pd.DataFrame(data=tukey_results._results_table.data[1:], columns=tukey_results._results_table.data[0])\n",
    "\n",
    "    # Filter rows where reject is True\n",
    "    # tukey_df\n",
    "    tukey_df['reject']= tukey_df['reject'].apply(lambda x: 1 if x else 0)\n",
    "    # tukey_df\n",
    "\n",
    "    heatmap_df = tukey_df.pivot(index='group1', columns='group2', values='reject')\n",
    "    # heatmap_df\n",
    "    plt.figure(figsize=(8, 6))\n",
    "    sns.heatmap(heatmap_df, annot=True, cmap=\"coolwarm\", cbar=False, linewidths=0.5)\n",
    "    plt.title(f'Tukey Test Results Heatmap for {var}')\n",
    "    plt.xlabel('')\n",
    "    plt.ylabel('')\n",
    "    plt.show()"
   ]
  },
  {
   "cell_type": "code",
   "execution_count": 61,
   "metadata": {},
   "outputs": [
    {
     "name": "stdout",
     "output_type": "stream",
     "text": [
      "F-Statistic: 6.588740759497573\n",
      "P-Value: 6.566334817637163e-06\n"
     ]
    },
    {
     "data": {
      "image/png": "[encoded data removed]",
      "text/plain": [
       "<Figure size 800x600 with 1 Axes>"
      ]
     },
     "metadata": {},
     "output_type": "display_data"
    },
    {
     "name": "stdout",
     "output_type": "stream",
     "text": [
      "F-Statistic: 6.588740759497573\n",
      "P-Value: 6.566334817637163e-06\n"
     ]
    },
    {
     "data": {
      "image/png": "[encoded data removed]",
      "text/plain": [
       "<Figure size 800x600 with 1 Axes>"
      ]
     },
     "metadata": {},
     "output_type": "display_data"
    }
   ],
   "source": [
    "for var in melted_df['UnivType'].unique():\n",
    "    tukey(var)"
   ]
  }
 ],
 "metadata": {
  "kernelspec": {
   "display_name": "base",
   "language": "python",
   "name": "python3"
  },
  "language_info": {
   "codemirror_mode": {
    "name": "ipython",
    "version": 3
   },
   "file_extension": ".py",
   "mimetype": "text/x-python",
   "name": "python",
   "nbconvert_exporter": "python",
   "pygments_lexer": "ipython3",
   "version": "3.12.2"
  }
 },
 "nbformat": 4,
 "nbformat_minor": 2
}
