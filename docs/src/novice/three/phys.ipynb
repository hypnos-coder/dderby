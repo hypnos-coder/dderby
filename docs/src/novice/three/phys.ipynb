{
 "cells": [
  {
   "cell_type": "code",
   "execution_count": 26,
   "metadata": {},
   "outputs": [],
   "source": [
    "yellow_ball = {\n",
    "    \"label\":\"yellow_ball\",\n",
    "    \"d\":0.122,\n",
    "    \"ha\":0.311,\n",
    "    \"hb\": 0.041,\n",
    "    \"t\": 1.242,\n",
    "    \"m\":0.1451\n",
    "}\n",
    "cork_disk = {\n",
    "    \"label\":\"cork_disk\",\n",
    "    \"d\":0.17,\n",
    "    \"ha\":0.311,\n",
    "    \"hb\": 0.041,\n",
    "    \"t\": 1.175,\n",
    "    \"m\":0.0516\n",
    "}\n",
    "solid_snooker = {\n",
    "    \"label\":\"solid_snooker\",\n",
    "    \"d\":0.0052,\n",
    "    \"ha\":0.329,\n",
    "    \"hb\": 0.041,\n",
    "    \"t\": 1.167,\n",
    "    \"m\":0.163\n",
    "}\n",
    "metal_hoop = {\n",
    "    \"label\":\"metal_hoop\",\n",
    "    \"d\":0.155,\n",
    "    \"ha\":0.329,\n",
    "    \"hb\": 0.041,\n",
    "    \"t\": 1.367,\n",
    "    \"m\":0.259\n",
    "}\n",
    "data = [yellow_ball, cork_disk, solid_snooker, metal_hoop]\n",
    "angle = 15"
   ]
  },
  {
   "cell_type": "code",
   "execution_count": 27,
   "metadata": {},
   "outputs": [],
   "source": [
    "import math\n",
    "def distance(ang, ha,hb):\n",
    "    return (ha-hb)/math.sin(math.radians(ang))\n",
    "\n",
    "def angular_distance(distance,diameter):\n",
    "    r=diameter/2\n",
    "    return distance/r\n",
    "\n",
    "def angular_speed(time, ang_displacement):\n",
    "    return 2*(ang_displacement/time)\n",
    "\n",
    "def moment_inertia(mass, angular_speed, ha,hb, diameter):\n",
    "    r=diameter/2\n",
    "\n",
    "    return ((2*mass*9.8*(ha-hb))/angular_speed**2)-mass*r**2\n"
   ]
  },
  {
   "cell_type": "code",
   "execution_count": 28,
   "metadata": {},
   "outputs": [
    {
     "name": "stdout",
     "output_type": "stream",
     "text": [
      "yellow_ball\n",
      "distance::> 1.043199892392194\n",
      "angular distance::> 17.1016375801999\n",
      "angular speed::> 27.53886888921079\n",
      "moment inertia::> 0.00047258294490654584\n",
      "\n",
      "\n",
      "cork_disk\n",
      "distance::> 1.043199892392194\n",
      "angular distance::> 12.272939910496397\n",
      "angular speed::> 20.890110485951315\n",
      "moment inertia::> 0.0002529215646891406\n",
      "\n",
      "\n",
      "solid_snooker\n",
      "distance::> 1.1127465518850068\n",
      "angular distance::> 427.979443032695\n",
      "angular speed::> 733.4694824896229\n",
      "moment inertia::> 6.084190947091891e-07\n",
      "\n",
      "\n",
      "metal_hoop\n",
      "distance::> 1.1127465518850068\n",
      "angular distance::> 14.358020024322668\n",
      "angular speed::> 21.006613056799807\n",
      "moment inertia::> 0.0017574942733915814\n",
      "\n",
      "\n"
     ]
    }
   ],
   "source": [
    "to_calculate = [\"distance\", \"angular distance\", \"angular speed\", \"moment inertia\"]\n",
    "for item in data:\n",
    "    print(item['label'])\n",
    "    hyp = distance(angle, item['ha'],  item['hb'])\n",
    "    print(\"distance::>\", hyp)\n",
    "\n",
    "    ang_dist = angular_distance(hyp, item['d'])\n",
    "    print(\"angular distance::>\", ang_dist)\n",
    "\n",
    "    ang_speed = angular_speed(item['t'], ang_dist)\n",
    "    print(\"angular speed::>\", ang_speed)\n",
    "\n",
    "    print('moment inertia::>', moment_inertia(item['m'], ang_speed, item['ha'], item['hb'], item['d']))\n",
    "print(\"\\n\")"
   ]
  }
 ],
 "metadata": {
  "kernelspec": {
   "display_name": "datascience",
   "language": "python",
   "name": "python3"
  },
  "language_info": {
   "codemirror_mode": {
    "name": "ipython",
    "version": 3
   },
   "file_extension": ".py",
   "mimetype": "text/x-python",
   "name": "python",
   "nbconvert_exporter": "python",
   "pygments_lexer": "ipython3",
   "version": "3.12.2"
  }
 },
 "nbformat": 4,
 "nbformat_minor": 2
}
