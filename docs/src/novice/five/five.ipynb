{
 "cells": [
  {
   "cell_type": "code",
   "execution_count": 1,
   "metadata": {},
   "outputs": [
    {
     "data": {
      "text/html": [
       "<div>\n",
       "<style scoped>\n",
       "    .dataframe tbody tr th:only-of-type {\n",
       "        vertical-align: middle;\n",
       "    }\n",
       "\n",
       "    .dataframe tbody tr th {\n",
       "        vertical-align: top;\n",
       "    }\n",
       "\n",
       "    .dataframe thead th {\n",
       "        text-align: right;\n",
       "    }\n",
       "</style>\n",
       "<table border=\"1\" class=\"dataframe\">\n",
       "  <thead>\n",
       "    <tr style=\"text-align: right;\">\n",
       "      <th></th>\n",
       "      <th>State</th>\n",
       "      <th>2004-05</th>\n",
       "      <th>2005-06</th>\n",
       "      <th>2006-07</th>\n",
       "      <th>2007-08</th>\n",
       "      <th>2008-09</th>\n",
       "      <th>2009-10</th>\n",
       "      <th>2010-11</th>\n",
       "      <th>2011-12</th>\n",
       "      <th>2012-13</th>\n",
       "      <th>...</th>\n",
       "      <th>2016-17</th>\n",
       "      <th>2017-18</th>\n",
       "      <th>2018-19</th>\n",
       "      <th>2019-20</th>\n",
       "      <th>2020-21</th>\n",
       "      <th>2021-22</th>\n",
       "      <th>2022-23</th>\n",
       "      <th>2023-24</th>\n",
       "      <th>1-Year % Change</th>\n",
       "      <th>5-Year % Change</th>\n",
       "    </tr>\n",
       "  </thead>\n",
       "  <tbody>\n",
       "    <tr>\n",
       "      <th>0</th>\n",
       "      <td>Alabama</td>\n",
       "      <td>4510</td>\n",
       "      <td>4782</td>\n",
       "      <td>4906</td>\n",
       "      <td>5244</td>\n",
       "      <td>5968</td>\n",
       "      <td>6487</td>\n",
       "      <td>7373</td>\n",
       "      <td>8001</td>\n",
       "      <td>8734</td>\n",
       "      <td>...</td>\n",
       "      <td>10083</td>\n",
       "      <td>10650</td>\n",
       "      <td>10777</td>\n",
       "      <td>10922</td>\n",
       "      <td>10996</td>\n",
       "      <td>11338</td>\n",
       "      <td>11683</td>\n",
       "      <td>11890</td>\n",
       "      <td>0.02</td>\n",
       "      <td>0.10</td>\n",
       "    </tr>\n",
       "    <tr>\n",
       "      <th>1</th>\n",
       "      <td>Alaska</td>\n",
       "      <td>3435</td>\n",
       "      <td>3793</td>\n",
       "      <td>4194</td>\n",
       "      <td>4425</td>\n",
       "      <td>4678</td>\n",
       "      <td>4922</td>\n",
       "      <td>5261</td>\n",
       "      <td>5455</td>\n",
       "      <td>5785</td>\n",
       "      <td>...</td>\n",
       "      <td>7128</td>\n",
       "      <td>7440</td>\n",
       "      <td>7821</td>\n",
       "      <td>8233</td>\n",
       "      <td>8610</td>\n",
       "      <td>8815</td>\n",
       "      <td>9024</td>\n",
       "      <td>9163</td>\n",
       "      <td>0.02</td>\n",
       "      <td>0.17</td>\n",
       "    </tr>\n",
       "    <tr>\n",
       "      <th>2</th>\n",
       "      <td>Arizona</td>\n",
       "      <td>4078</td>\n",
       "      <td>4434</td>\n",
       "      <td>4674</td>\n",
       "      <td>4959</td>\n",
       "      <td>5584</td>\n",
       "      <td>6554</td>\n",
       "      <td>8075</td>\n",
       "      <td>9435</td>\n",
       "      <td>9728</td>\n",
       "      <td>...</td>\n",
       "      <td>10931</td>\n",
       "      <td>11210</td>\n",
       "      <td>11545</td>\n",
       "      <td>11879</td>\n",
       "      <td>11811</td>\n",
       "      <td>11820</td>\n",
       "      <td>12184</td>\n",
       "      <td>12583</td>\n",
       "      <td>0.03</td>\n",
       "      <td>0.09</td>\n",
       "    </tr>\n",
       "    <tr>\n",
       "      <th>3</th>\n",
       "      <td>Arkansas</td>\n",
       "      <td>4581</td>\n",
       "      <td>4980</td>\n",
       "      <td>5314</td>\n",
       "      <td>5599</td>\n",
       "      <td>5914</td>\n",
       "      <td>5980</td>\n",
       "      <td>6304</td>\n",
       "      <td>6654</td>\n",
       "      <td>6995</td>\n",
       "      <td>...</td>\n",
       "      <td>8254</td>\n",
       "      <td>8550</td>\n",
       "      <td>8701</td>\n",
       "      <td>9036</td>\n",
       "      <td>9078</td>\n",
       "      <td>9250</td>\n",
       "      <td>9478</td>\n",
       "      <td>9734</td>\n",
       "      <td>0.03</td>\n",
       "      <td>0.12</td>\n",
       "    </tr>\n",
       "    <tr>\n",
       "      <th>4</th>\n",
       "      <td>California</td>\n",
       "      <td>4195</td>\n",
       "      <td>4526</td>\n",
       "      <td>4549</td>\n",
       "      <td>4951</td>\n",
       "      <td>5436</td>\n",
       "      <td>6550</td>\n",
       "      <td>7485</td>\n",
       "      <td>8933</td>\n",
       "      <td>8986</td>\n",
       "      <td>...</td>\n",
       "      <td>9302</td>\n",
       "      <td>9800</td>\n",
       "      <td>9875</td>\n",
       "      <td>9854</td>\n",
       "      <td>9924</td>\n",
       "      <td>9943</td>\n",
       "      <td>10353</td>\n",
       "      <td>10641</td>\n",
       "      <td>0.03</td>\n",
       "      <td>0.08</td>\n",
       "    </tr>\n",
       "  </tbody>\n",
       "</table>\n",
       "<p>5 rows × 23 columns</p>\n",
       "</div>"
      ],
      "text/plain": [
       "        State  2004-05  2005-06  2006-07    2007-08   2008-09  2009-10  \\\n",
       "0     Alabama     4510     4782     4906        5244     5968     6487   \n",
       "1      Alaska     3435     3793     4194        4425     4678     4922   \n",
       "2     Arizona     4078     4434     4674        4959     5584     6554   \n",
       "3    Arkansas     4581     4980     5314        5599     5914     5980   \n",
       "4  California     4195     4526     4549        4951     5436     6550   \n",
       "\n",
       "   2010-11  2011-12  2012-13  ...  2016-17  2017-18  2018-19  2019-20  \\\n",
       "0     7373     8001     8734  ...    10083    10650    10777    10922   \n",
       "1     5261     5455     5785  ...     7128     7440     7821     8233   \n",
       "2     8075     9435     9728  ...    10931    11210    11545    11879   \n",
       "3     6304     6654     6995  ...     8254     8550     8701     9036   \n",
       "4     7485     8933     8986  ...     9302     9800     9875     9854   \n",
       "\n",
       "   2020-21  2021-22  2022-23  2023-24  1-Year % Change  5-Year % Change  \n",
       "0    10996    11338    11683    11890             0.02             0.10  \n",
       "1     8610     8815     9024     9163             0.02             0.17  \n",
       "2    11811    11820    12184    12583             0.03             0.09  \n",
       "3     9078     9250     9478     9734             0.03             0.12  \n",
       "4     9924     9943    10353    10641             0.03             0.08  \n",
       "\n",
       "[5 rows x 23 columns]"
      ]
     },
     "execution_count": 1,
     "metadata": {},
     "output_type": "execute_result"
    }
   ],
   "source": [
    "import pandas as pd\n",
    "import seaborn as sns\n",
    "import matplotlib.pyplot as plt\n",
    "\n",
    "df_salary = pd.read_csv(\"../../../data//salary_potential.csv\")\n",
    "df_two_years = pd.read_csv(\"../../../data/National_education_cost/CP3-pub-2y-current-dollars.csv\")\n",
    "df_four_years = pd.read_csv(\"../../../data/National_education_cost/CP3-pub-4y-current-dollars.csv\")\n",
    "\n",
    "import warnings\n",
    "warnings.filterwarnings(\"ignore\")\n",
    "\n",
    "df_four_years.head()"
   ]
  },
  {
   "cell_type": "code",
   "execution_count": 2,
   "metadata": {},
   "outputs": [],
   "source": [
    "def get_data_ready(data: pd.DataFrame):\n",
    "    data = data.rename({\n",
    "        \"In Current Dollars\":\"State\"\n",
    "        }, \n",
    "        axis=1, \n",
    "        # inplace=True\n",
    "        ).dropna()\n",
    "    column_to_drop = data.columns[-7:-2].to_list()\n",
    "    # print(column_to_drop)\n",
    "    data.drop(column_to_drop, axis=1, inplace=True)\n",
    "    # print(data.columns)\n",
    "    \n",
    "    data = pd.melt(data, id_vars=[\"State\", \"1-Year % Change\", \"5-Year % Change\"], var_name=\"Year\", value_name=\"Tuition\")\n",
    "    data = data.sort_values(by=[\"State\", \"Year\"]).reset_index(drop=True)\n",
    "    relevant = pd.DataFrame(data.groupby([\"State\"])[\"Tuition\"].mean(\"\"))\n",
    "    return relevant\n",
    "\n",
    "\n"
   ]
  },
  {
   "cell_type": "code",
   "execution_count": 3,
   "metadata": {},
   "outputs": [],
   "source": [
    "relevant_four_year = get_data_ready(df_four_years)\n",
    "relevant_two_year = get_data_ready(df_two_years)\n",
    "\n"
   ]
  },
  {
   "cell_type": "code",
   "execution_count": 4,
   "metadata": {},
   "outputs": [],
   "source": [
    "relevant_salary = df_salary.iloc[:, 1:].groupby([\"state_name\"]).mean().reset_index()\n",
    "relevant_salary.rename({\n",
    "    \"state_name\":\"State\"\n",
    "}, axis=1, inplace=True)\n",
    "relevant_salary['State'] = relevant_salary['State'].apply(lambda x: x.replace(\"-\", \" \"))\n",
    "# relevant_salary"
   ]
  },
  {
   "cell_type": "code",
   "execution_count": 5,
   "metadata": {},
   "outputs": [
    {
     "name": "stdout",
     "output_type": "stream",
     "text": [
      "Alaska\n"
     ]
    }
   ],
   "source": [
    "for i in relevant_salary.State:\n",
    "    if i not in relevant_two_year.index:\n",
    "        print(i)"
   ]
  },
  {
   "cell_type": "code",
   "execution_count": 6,
   "metadata": {},
   "outputs": [],
   "source": [
    "# # merge data\n",
    "# df_list = [relevant_salary, relevant_four_year, relevant_two_year]\n",
    "# merged_df = df_list[0]\n",
    "# for df in df_list:\n",
    "#     merged_df = pd.merge(right=merged_df, left=df, on=\"State\")\n",
    "# merged_df\n",
    "\n",
    "merged_df = pd.merge(right=relevant_two_year, left=relevant_four_year, on=\"State\", suffixes=[\"-four years\", \"-two years\"]).reset_index()\n",
    "df = pd.merge(right=merged_df, left=relevant_salary, on=\"State\")\n"
   ]
  },
  {
   "cell_type": "code",
   "execution_count": 7,
   "metadata": {},
   "outputs": [
    {
     "data": {
      "text/html": [
       "<div>\n",
       "<style scoped>\n",
       "    .dataframe tbody tr th:only-of-type {\n",
       "        vertical-align: middle;\n",
       "    }\n",
       "\n",
       "    .dataframe tbody tr th {\n",
       "        vertical-align: top;\n",
       "    }\n",
       "\n",
       "    .dataframe thead th {\n",
       "        text-align: right;\n",
       "    }\n",
       "</style>\n",
       "<table border=\"1\" class=\"dataframe\">\n",
       "  <thead>\n",
       "    <tr style=\"text-align: right;\">\n",
       "      <th></th>\n",
       "      <th>State</th>\n",
       "      <th>early_career_pay</th>\n",
       "      <th>mid_career_pay</th>\n",
       "      <th>Tuition-four years</th>\n",
       "      <th>Tuition-two years</th>\n",
       "    </tr>\n",
       "  </thead>\n",
       "  <tbody>\n",
       "    <tr>\n",
       "      <th>0</th>\n",
       "      <td>Alabama</td>\n",
       "      <td>44992.000000</td>\n",
       "      <td>81592.000000</td>\n",
       "      <td>7726.800000</td>\n",
       "      <td>3639.940</td>\n",
       "    </tr>\n",
       "    <tr>\n",
       "      <th>1</th>\n",
       "      <td>Arizona</td>\n",
       "      <td>50228.571429</td>\n",
       "      <td>90642.857143</td>\n",
       "      <td>8154.333333</td>\n",
       "      <td>2087.564</td>\n",
       "    </tr>\n",
       "    <tr>\n",
       "      <th>2</th>\n",
       "      <td>Arkansas</td>\n",
       "      <td>44110.526316</td>\n",
       "      <td>79242.105263</td>\n",
       "      <td>6703.533333</td>\n",
       "      <td>2742.738</td>\n",
       "    </tr>\n",
       "    <tr>\n",
       "      <th>3</th>\n",
       "      <td>California</td>\n",
       "      <td>67232.000000</td>\n",
       "      <td>123976.000000</td>\n",
       "      <td>7473.600000</td>\n",
       "      <td>1088.828</td>\n",
       "    </tr>\n",
       "    <tr>\n",
       "      <th>4</th>\n",
       "      <td>Colorado</td>\n",
       "      <td>51857.894737</td>\n",
       "      <td>93257.894737</td>\n",
       "      <td>7613.400000</td>\n",
       "      <td>3311.248</td>\n",
       "    </tr>\n",
       "  </tbody>\n",
       "</table>\n",
       "</div>"
      ],
      "text/plain": [
       "        State  early_career_pay  mid_career_pay  Tuition-four years  \\\n",
       "0     Alabama      44992.000000    81592.000000         7726.800000   \n",
       "1     Arizona      50228.571429    90642.857143         8154.333333   \n",
       "2    Arkansas      44110.526316    79242.105263         6703.533333   \n",
       "3  California      67232.000000   123976.000000         7473.600000   \n",
       "4    Colorado      51857.894737    93257.894737         7613.400000   \n",
       "\n",
       "   Tuition-two years  \n",
       "0           3639.940  \n",
       "1           2087.564  \n",
       "2           2742.738  \n",
       "3           1088.828  \n",
       "4           3311.248  "
      ]
     },
     "execution_count": 7,
     "metadata": {},
     "output_type": "execute_result"
    }
   ],
   "source": [
    "df.head()"
   ]
  },
  {
   "cell_type": "code",
   "execution_count": 8,
   "metadata": {},
   "outputs": [
    {
     "data": {
      "text/plain": [
       "(['early_career_pay', 'mid_career_pay'],\n",
       " ['Tuition-four years', 'Tuition-two years'])"
      ]
     },
     "execution_count": 8,
     "metadata": {},
     "output_type": "execute_result"
    }
   ],
   "source": [
    "# x and y given as array_like objects\n",
    "import plotly.express as px\n",
    "pay_list = df.columns[1:3].to_list()\n",
    "univ_type_list =  df.columns[3:].to_list()\n",
    "pay_list, univ_type_list\n"
   ]
  },
  {
   "cell_type": "code",
   "execution_count": 10,
   "metadata": {},
   "outputs": [
    {
     "data": {
      "application/vnd.plotly.v1+json": {
       "config": {
        "plotlyServerURL": "https://plot.ly"
       },
       "data": [
        {
         "mode": "markers",
         "name": "Tuition-four years-early_career_pay",
         "type": "scatter",
         "x": [
          7726.8,
          8154.333333333333,
          6703.533333333334,
          7473.6,
          7613.4,
          9391.933333333332,
          9895.133333333333,
          5071.933333333333,
          6347.133333333333,
          7601.8,
          5609.733333333334,
          11020.066666666668,
          8035.6,
          7234.466666666666,
          6957,
          7860.666666666667,
          5923.066666666667,
          8547.866666666667,
          8166.2,
          9951.333333333334,
          10319.933333333332,
          9422.666666666666,
          5921.666666666667,
          7582.6,
          5848.333333333333,
          6712.066666666667,
          5437.266666666666,
          12653.8,
          11633.466666666667,
          5414.066666666667,
          6343.6,
          5580.133333333333,
          6739.866666666667,
          9369.266666666666,
          6165.4,
          7775.4,
          11682.866666666667,
          9489.6,
          10153.333333333334,
          6677.666666666667,
          7206.466666666666,
          7829.4,
          5211.6,
          12851.6,
          9397.266666666666,
          8283.266666666666,
          5745.866666666667,
          7669.933333333333,
          4202.266666666666
         ],
         "xaxis": "x",
         "y": [
          44992,
          50228.57142857143,
          44110.52631578947,
          67232,
          51857.89473684211,
          55220,
          49040,
          51524,
          49280,
          47700,
          48957.142857142855,
          54944,
          52296,
          48240,
          45844,
          43620,
          47373.913043478264,
          47594.117647058825,
          54852,
          63100,
          52172,
          51676,
          42042.857142857145,
          49096,
          46933.333333333336,
          46868.42105263158,
          52366.666666666664,
          50707.692307692305,
          54764,
          48350,
          66688,
          49640,
          45622.22222222222,
          52900,
          46691.30434782609,
          49562.5,
          60644,
          54100,
          45376,
          47110,
          47936,
          57468,
          50690,
          48078.57142857143,
          53620,
          52616,
          44594.444444444445,
          50300,
          52400
         ],
         "yaxis": "y"
        },
        {
         "mode": "markers",
         "name": "Tuition-four years-mid_career_pay",
         "type": "scatter",
         "x": [
          7726.8,
          8154.333333333333,
          6703.533333333334,
          7473.6,
          7613.4,
          9391.933333333332,
          9895.133333333333,
          5071.933333333333,
          6347.133333333333,
          7601.8,
          5609.733333333334,
          11020.066666666668,
          8035.6,
          7234.466666666666,
          6957,
          7860.666666666667,
          5923.066666666667,
          8547.866666666667,
          8166.2,
          9951.333333333334,
          10319.933333333332,
          9422.666666666666,
          5921.666666666667,
          7582.6,
          5848.333333333333,
          6712.066666666667,
          5437.266666666666,
          12653.8,
          11633.466666666667,
          5414.066666666667,
          6343.6,
          5580.133333333333,
          6739.866666666667,
          9369.266666666666,
          6165.4,
          7775.4,
          11682.866666666667,
          9489.6,
          10153.333333333334,
          6677.666666666667,
          7206.466666666666,
          7829.4,
          5211.6,
          12851.6,
          9397.266666666666,
          8283.266666666666,
          5745.866666666667,
          7669.933333333333,
          4202.266666666666
         ],
         "xaxis": "x2",
         "y": [
          81592,
          90642.85714285714,
          79242.1052631579,
          123976,
          93257.8947368421,
          99855,
          85620,
          92560,
          88092,
          85750,
          87100,
          99520,
          94568,
          87096,
          82424,
          78892,
          86343.47826086957,
          85429.41176470589,
          98480,
          115712,
          94168,
          92900,
          75707.14285714286,
          87972,
          85511.11111111111,
          83642.1052631579,
          93633.33333333333,
          90584.61538461539,
          100172,
          90350,
          122328,
          89228,
          80622.22222222222,
          97104,
          84208.69565217392,
          89112.5,
          110884,
          97018.18181818182,
          81612,
          85170,
          85708,
          103476,
          90740,
          87021.42857142857,
          96540,
          94972,
          80694.44444444444,
          90612,
          98800
         ],
         "yaxis": "y2"
        },
        {
         "mode": "markers",
         "name": "Tuition-two years-early_career_pay",
         "type": "scatter",
         "x": [
          3639.94,
          2087.564,
          2742.738,
          1088.828,
          3311.248,
          3448.2786666666666,
          3721.4393333333333,
          2715.078666666667,
          2976.3466666666664,
          2806.052,
          2965.29,
          3092.974,
          3620.0559999999996,
          4065.598,
          2387.8053333333332,
          4056.9793333333337,
          2842.6299999999997,
          3270.951333333333,
          3757.158,
          4744.1539999999995,
          2903.7406666666666,
          4913.654666666667,
          2225.8740000000003,
          2817.4013333333332,
          3033.438666666667,
          2495.33,
          2388.504,
          6144.2626666666665,
          3986.308,
          1427.7046666666668,
          4297.582,
          1880.094,
          3936.034,
          3952.548666666667,
          3098.42,
          3996.8593333333333,
          4051.0840000000003,
          3574.133333333333,
          4033.442666666667,
          4896.115333333333,
          3392.654,
          1999.578,
          2987.0513333333333,
          6511.666666666667,
          3730.6746666666663,
          3602.262666666667,
          3021.404,
          3810.9953333333333,
          2394.5206666666663
         ],
         "xaxis": "x3",
         "y": [
          44992,
          50228.57142857143,
          44110.52631578947,
          67232,
          51857.89473684211,
          55220,
          49040,
          51524,
          49280,
          47700,
          48957.142857142855,
          54944,
          52296,
          48240,
          45844,
          43620,
          47373.913043478264,
          47594.117647058825,
          54852,
          63100,
          52172,
          51676,
          42042.857142857145,
          49096,
          46933.333333333336,
          46868.42105263158,
          52366.666666666664,
          50707.692307692305,
          54764,
          48350,
          66688,
          49640,
          45622.22222222222,
          52900,
          46691.30434782609,
          49562.5,
          60644,
          54100,
          45376,
          47110,
          47936,
          57468,
          50690,
          48078.57142857143,
          53620,
          52616,
          44594.444444444445,
          50300,
          52400
         ],
         "yaxis": "y3"
        },
        {
         "mode": "markers",
         "name": "Tuition-two years-mid_career_pay",
         "type": "scatter",
         "x": [
          3639.94,
          2087.564,
          2742.738,
          1088.828,
          3311.248,
          3448.2786666666666,
          3721.4393333333333,
          2715.078666666667,
          2976.3466666666664,
          2806.052,
          2965.29,
          3092.974,
          3620.0559999999996,
          4065.598,
          2387.8053333333332,
          4056.9793333333337,
          2842.6299999999997,
          3270.951333333333,
          3757.158,
          4744.1539999999995,
          2903.7406666666666,
          4913.654666666667,
          2225.8740000000003,
          2817.4013333333332,
          3033.438666666667,
          2495.33,
          2388.504,
          6144.2626666666665,
          3986.308,
          1427.7046666666668,
          4297.582,
          1880.094,
          3936.034,
          3952.548666666667,
          3098.42,
          3996.8593333333333,
          4051.0840000000003,
          3574.133333333333,
          4033.442666666667,
          4896.115333333333,
          3392.654,
          1999.578,
          2987.0513333333333,
          6511.666666666667,
          3730.6746666666663,
          3602.262666666667,
          3021.404,
          3810.9953333333333,
          2394.5206666666663
         ],
         "xaxis": "x4",
         "y": [
          81592,
          90642.85714285714,
          79242.1052631579,
          123976,
          93257.8947368421,
          99855,
          85620,
          92560,
          88092,
          85750,
          87100,
          99520,
          94568,
          87096,
          82424,
          78892,
          86343.47826086957,
          85429.41176470589,
          98480,
          115712,
          94168,
          92900,
          75707.14285714286,
          87972,
          85511.11111111111,
          83642.1052631579,
          93633.33333333333,
          90584.61538461539,
          100172,
          90350,
          122328,
          89228,
          80622.22222222222,
          97104,
          84208.69565217392,
          89112.5,
          110884,
          97018.18181818182,
          81612,
          85170,
          85708,
          103476,
          90740,
          87021.42857142857,
          96540,
          94972,
          80694.44444444444,
          90612,
          98800
         ],
         "yaxis": "y4"
        }
       ],
       "layout": {
        "height": 1000,
        "showlegend": true,
        "template": {
         "data": {
          "bar": [
           {
            "error_x": {
             "color": "#2a3f5f"
            },
            "error_y": {
             "color": "#2a3f5f"
            },
            "marker": {
             "line": {
              "color": "#E5ECF6",
              "width": 0.5
             },
             "pattern": {
              "fillmode": "overlay",
              "size": 10,
              "solidity": 0.2
             }
            },
            "type": "bar"
           }
          ],
          "barpolar": [
           {
            "marker": {
             "line": {
              "color": "#E5ECF6",
              "width": 0.5
             },
             "pattern": {
              "fillmode": "overlay",
              "size": 10,
              "solidity": 0.2
             }
            },
            "type": "barpolar"
           }
          ],
          "carpet": [
           {
            "aaxis": {
             "endlinecolor": "#2a3f5f",
             "gridcolor": "white",
             "linecolor": "white",
             "minorgridcolor": "white",
             "startlinecolor": "#2a3f5f"
            },
            "baxis": {
             "endlinecolor": "#2a3f5f",
             "gridcolor": "white",
             "linecolor": "white",
             "minorgridcolor": "white",
             "startlinecolor": "#2a3f5f"
            },
            "type": "carpet"
           }
          ],
          "choropleth": [
           {
            "colorbar": {
             "outlinewidth": 0,
             "ticks": ""
            },
            "type": "choropleth"
           }
          ],
          "contour": [
           {
            "colorbar": {
             "outlinewidth": 0,
             "ticks": ""
            },
            "colorscale": [
             [
              0,
              "#0d0887"
             ],
             [
              0.1111111111111111,
              "#46039f"
             ],
             [
              0.2222222222222222,
              "#7201a8"
             ],
             [
              0.3333333333333333,
              "#9c179e"
             ],
             [
              0.4444444444444444,
              "#bd3786"
             ],
             [
              0.5555555555555556,
              "#d8576b"
             ],
             [
              0.6666666666666666,
              "#ed7953"
             ],
             [
              0.7777777777777778,
              "#fb9f3a"
             ],
             [
              0.8888888888888888,
              "#fdca26"
             ],
             [
              1,
              "#f0f921"
             ]
            ],
            "type": "contour"
           }
          ],
          "contourcarpet": [
           {
            "colorbar": {
             "outlinewidth": 0,
             "ticks": ""
            },
            "type": "contourcarpet"
           }
          ],
          "heatmap": [
           {
            "colorbar": {
             "outlinewidth": 0,
             "ticks": ""
            },
            "colorscale": [
             [
              0,
              "#0d0887"
             ],
             [
              0.1111111111111111,
              "#46039f"
             ],
             [
              0.2222222222222222,
              "#7201a8"
             ],
             [
              0.3333333333333333,
              "#9c179e"
             ],
             [
              0.4444444444444444,
              "#bd3786"
             ],
             [
              0.5555555555555556,
              "#d8576b"
             ],
             [
              0.6666666666666666,
              "#ed7953"
             ],
             [
              0.7777777777777778,
              "#fb9f3a"
             ],
             [
              0.8888888888888888,
              "#fdca26"
             ],
             [
              1,
              "#f0f921"
             ]
            ],
            "type": "heatmap"
           }
          ],
          "heatmapgl": [
           {
            "colorbar": {
             "outlinewidth": 0,
             "ticks": ""
            },
            "colorscale": [
             [
              0,
              "#0d0887"
             ],
             [
              0.1111111111111111,
              "#46039f"
             ],
             [
              0.2222222222222222,
              "#7201a8"
             ],
             [
              0.3333333333333333,
              "#9c179e"
             ],
             [
              0.4444444444444444,
              "#bd3786"
             ],
             [
              0.5555555555555556,
              "#d8576b"
             ],
             [
              0.6666666666666666,
              "#ed7953"
             ],
             [
              0.7777777777777778,
              "#fb9f3a"
             ],
             [
              0.8888888888888888,
              "#fdca26"
             ],
             [
              1,
              "#f0f921"
             ]
            ],
            "type": "heatmapgl"
           }
          ],
          "histogram": [
           {
            "marker": {
             "pattern": {
              "fillmode": "overlay",
              "size": 10,
              "solidity": 0.2
             }
            },
            "type": "histogram"
           }
          ],
          "histogram2d": [
           {
            "colorbar": {
             "outlinewidth": 0,
             "ticks": ""
            },
            "colorscale": [
             [
              0,
              "#0d0887"
             ],
             [
              0.1111111111111111,
              "#46039f"
             ],
             [
              0.2222222222222222,
              "#7201a8"
             ],
             [
              0.3333333333333333,
              "#9c179e"
             ],
             [
              0.4444444444444444,
              "#bd3786"
             ],
             [
              0.5555555555555556,
              "#d8576b"
             ],
             [
              0.6666666666666666,
              "#ed7953"
             ],
             [
              0.7777777777777778,
              "#fb9f3a"
             ],
             [
              0.8888888888888888,
              "#fdca26"
             ],
             [
              1,
              "#f0f921"
             ]
            ],
            "type": "histogram2d"
           }
          ],
          "histogram2dcontour": [
           {
            "colorbar": {
             "outlinewidth": 0,
             "ticks": ""
            },
            "colorscale": [
             [
              0,
              "#0d0887"
             ],
             [
              0.1111111111111111,
              "#46039f"
             ],
             [
              0.2222222222222222,
              "#7201a8"
             ],
             [
              0.3333333333333333,
              "#9c179e"
             ],
             [
              0.4444444444444444,
              "#bd3786"
             ],
             [
              0.5555555555555556,
              "#d8576b"
             ],
             [
              0.6666666666666666,
              "#ed7953"
             ],
             [
              0.7777777777777778,
              "#fb9f3a"
             ],
             [
              0.8888888888888888,
              "#fdca26"
             ],
             [
              1,
              "#f0f921"
             ]
            ],
            "type": "histogram2dcontour"
           }
          ],
          "mesh3d": [
           {
            "colorbar": {
             "outlinewidth": 0,
             "ticks": ""
            },
            "type": "mesh3d"
           }
          ],
          "parcoords": [
           {
            "line": {
             "colorbar": {
              "outlinewidth": 0,
              "ticks": ""
             }
            },
            "type": "parcoords"
           }
          ],
          "pie": [
           {
            "automargin": true,
            "type": "pie"
           }
          ],
          "scatter": [
           {
            "fillpattern": {
             "fillmode": "overlay",
             "size": 10,
             "solidity": 0.2
            },
            "type": "scatter"
           }
          ],
          "scatter3d": [
           {
            "line": {
             "colorbar": {
              "outlinewidth": 0,
              "ticks": ""
             }
            },
            "marker": {
             "colorbar": {
              "outlinewidth": 0,
              "ticks": ""
             }
            },
            "type": "scatter3d"
           }
          ],
          "scattercarpet": [
           {
            "marker": {
             "colorbar": {
              "outlinewidth": 0,
              "ticks": ""
             }
            },
            "type": "scattercarpet"
           }
          ],
          "scattergeo": [
           {
            "marker": {
             "colorbar": {
              "outlinewidth": 0,
              "ticks": ""
             }
            },
            "type": "scattergeo"
           }
          ],
          "scattergl": [
           {
            "marker": {
             "colorbar": {
              "outlinewidth": 0,
              "ticks": ""
             }
            },
            "type": "scattergl"
           }
          ],
          "scattermapbox": [
           {
            "marker": {
             "colorbar": {
              "outlinewidth": 0,
              "ticks": ""
             }
            },
            "type": "scattermapbox"
           }
          ],
          "scatterpolar": [
           {
            "marker": {
             "colorbar": {
              "outlinewidth": 0,
              "ticks": ""
             }
            },
            "type": "scatterpolar"
           }
          ],
          "scatterpolargl": [
           {
            "marker": {
             "colorbar": {
              "outlinewidth": 0,
              "ticks": ""
             }
            },
            "type": "scatterpolargl"
           }
          ],
          "scatterternary": [
           {
            "marker": {
             "colorbar": {
              "outlinewidth": 0,
              "ticks": ""
             }
            },
            "type": "scatterternary"
           }
          ],
          "surface": [
           {
            "colorbar": {
             "outlinewidth": 0,
             "ticks": ""
            },
            "colorscale": [
             [
              0,
              "#0d0887"
             ],
             [
              0.1111111111111111,
              "#46039f"
             ],
             [
              0.2222222222222222,
              "#7201a8"
             ],
             [
              0.3333333333333333,
              "#9c179e"
             ],
             [
              0.4444444444444444,
              "#bd3786"
             ],
             [
              0.5555555555555556,
              "#d8576b"
             ],
             [
              0.6666666666666666,
              "#ed7953"
             ],
             [
              0.7777777777777778,
              "#fb9f3a"
             ],
             [
              0.8888888888888888,
              "#fdca26"
             ],
             [
              1,
              "#f0f921"
             ]
            ],
            "type": "surface"
           }
          ],
          "table": [
           {
            "cells": {
             "fill": {
              "color": "#EBF0F8"
             },
             "line": {
              "color": "white"
             }
            },
            "header": {
             "fill": {
              "color": "#C8D4E3"
             },
             "line": {
              "color": "white"
             }
            },
            "type": "table"
           }
          ]
         },
         "layout": {
          "annotationdefaults": {
           "arrowcolor": "#2a3f5f",
           "arrowhead": 0,
           "arrowwidth": 1
          },
          "autotypenumbers": "strict",
          "coloraxis": {
           "colorbar": {
            "outlinewidth": 0,
            "ticks": ""
           }
          },
          "colorscale": {
           "diverging": [
            [
             0,
             "#8e0152"
            ],
            [
             0.1,
             "#c51b7d"
            ],
            [
             0.2,
             "#de77ae"
            ],
            [
             0.3,
             "#f1b6da"
            ],
            [
             0.4,
             "#fde0ef"
            ],
            [
             0.5,
             "#f7f7f7"
            ],
            [
             0.6,
             "#e6f5d0"
            ],
            [
             0.7,
             "#b8e186"
            ],
            [
             0.8,
             "#7fbc41"
            ],
            [
             0.9,
             "#4d9221"
            ],
            [
             1,
             "#276419"
            ]
           ],
           "sequential": [
            [
             0,
             "#0d0887"
            ],
            [
             0.1111111111111111,
             "#46039f"
            ],
            [
             0.2222222222222222,
             "#7201a8"
            ],
            [
             0.3333333333333333,
             "#9c179e"
            ],
            [
             0.4444444444444444,
             "#bd3786"
            ],
            [
             0.5555555555555556,
             "#d8576b"
            ],
            [
             0.6666666666666666,
             "#ed7953"
            ],
            [
             0.7777777777777778,
             "#fb9f3a"
            ],
            [
             0.8888888888888888,
             "#fdca26"
            ],
            [
             1,
             "#f0f921"
            ]
           ],
           "sequentialminus": [
            [
             0,
             "#0d0887"
            ],
            [
             0.1111111111111111,
             "#46039f"
            ],
            [
             0.2222222222222222,
             "#7201a8"
            ],
            [
             0.3333333333333333,
             "#9c179e"
            ],
            [
             0.4444444444444444,
             "#bd3786"
            ],
            [
             0.5555555555555556,
             "#d8576b"
            ],
            [
             0.6666666666666666,
             "#ed7953"
            ],
            [
             0.7777777777777778,
             "#fb9f3a"
            ],
            [
             0.8888888888888888,
             "#fdca26"
            ],
            [
             1,
             "#f0f921"
            ]
           ]
          },
          "colorway": [
           "#636efa",
           "#EF553B",
           "#00cc96",
           "#ab63fa",
           "#FFA15A",
           "#19d3f3",
           "#FF6692",
           "#B6E880",
           "#FF97FF",
           "#FECB52"
          ],
          "font": {
           "color": "#2a3f5f"
          },
          "geo": {
           "bgcolor": "white",
           "lakecolor": "white",
           "landcolor": "#E5ECF6",
           "showlakes": true,
           "showland": true,
           "subunitcolor": "white"
          },
          "hoverlabel": {
           "align": "left"
          },
          "hovermode": "closest",
          "mapbox": {
           "style": "light"
          },
          "paper_bgcolor": "white",
          "plot_bgcolor": "#E5ECF6",
          "polar": {
           "angularaxis": {
            "gridcolor": "white",
            "linecolor": "white",
            "ticks": ""
           },
           "bgcolor": "#E5ECF6",
           "radialaxis": {
            "gridcolor": "white",
            "linecolor": "white",
            "ticks": ""
           }
          },
          "scene": {
           "xaxis": {
            "backgroundcolor": "#E5ECF6",
            "gridcolor": "white",
            "gridwidth": 2,
            "linecolor": "white",
            "showbackground": true,
            "ticks": "",
            "zerolinecolor": "white"
           },
           "yaxis": {
            "backgroundcolor": "#E5ECF6",
            "gridcolor": "white",
            "gridwidth": 2,
            "linecolor": "white",
            "showbackground": true,
            "ticks": "",
            "zerolinecolor": "white"
           },
           "zaxis": {
            "backgroundcolor": "#E5ECF6",
            "gridcolor": "white",
            "gridwidth": 2,
            "linecolor": "white",
            "showbackground": true,
            "ticks": "",
            "zerolinecolor": "white"
           }
          },
          "shapedefaults": {
           "line": {
            "color": "#2a3f5f"
           }
          },
          "ternary": {
           "aaxis": {
            "gridcolor": "white",
            "linecolor": "white",
            "ticks": ""
           },
           "baxis": {
            "gridcolor": "white",
            "linecolor": "white",
            "ticks": ""
           },
           "bgcolor": "#E5ECF6",
           "caxis": {
            "gridcolor": "white",
            "linecolor": "white",
            "ticks": ""
           }
          },
          "title": {
           "x": 0.05
          },
          "xaxis": {
           "automargin": true,
           "gridcolor": "white",
           "linecolor": "white",
           "ticks": "",
           "title": {
            "standoff": 15
           },
           "zerolinecolor": "white",
           "zerolinewidth": 2
          },
          "yaxis": {
           "automargin": true,
           "gridcolor": "white",
           "linecolor": "white",
           "ticks": "",
           "title": {
            "standoff": 15
           },
           "zerolinecolor": "white",
           "zerolinewidth": 2
          }
         }
        },
        "title": {
         "text": "Correlation between salary and tuition"
        },
        "xaxis": {
         "anchor": "y",
         "domain": [
          0,
          0.45
         ]
        },
        "xaxis2": {
         "anchor": "y2",
         "domain": [
          0.55,
          1
         ]
        },
        "xaxis3": {
         "anchor": "y3",
         "domain": [
          0,
          0.45
         ]
        },
        "xaxis4": {
         "anchor": "y4",
         "domain": [
          0.55,
          1
         ]
        },
        "yaxis": {
         "anchor": "x",
         "domain": [
          0.575,
          1
         ]
        },
        "yaxis2": {
         "anchor": "x2",
         "domain": [
          0.575,
          1
         ]
        },
        "yaxis3": {
         "anchor": "x3",
         "domain": [
          0,
          0.425
         ]
        },
        "yaxis4": {
         "anchor": "x4",
         "domain": [
          0,
          0.425
         ]
        }
       }
      }
     },
     "metadata": {},
     "output_type": "display_data"
    }
   ],
   "source": [
    "import plotly.graph_objects as go\n",
    "from plotly.subplots import make_subplots\n",
    "fig = make_subplots(\n",
    "    rows=2, cols=2,\n",
    "    column_widths=[0.4, 0.4],\n",
    "    row_heights=[0.4, 0.4],\n",
    "    )\n",
    "\n",
    "for univ_type in univ_type_list:\n",
    "    for pay in pay_list:\n",
    "        fig.add_trace(\n",
    "\n",
    "            go.Scatter(\n",
    "            x=df[univ_type],\n",
    "            y=df[pay],\n",
    "            mode=\"markers\",\n",
    "            name= f\"{univ_type}-{pay}\",\n",
    "            \n",
    "            \n",
    "            ),\n",
    "            row=univ_type_list.index(univ_type)+1,\n",
    "            col=pay_list.index(pay)+1,\n",
    "        )\n",
    "        \n",
    "\n",
    "\n",
    "fig.update_layout(title_text=\"Correlation between salary and tuition\", showlegend=True, height=1000)\n",
    "# fig.write_html(\"../../../graphs/html/five/scatter_plot.html\")\n",
    "fig.show()"
   ]
  },
  {
   "cell_type": "code",
   "execution_count": null,
   "metadata": {},
   "outputs": [
    {
     "data": {
      "application/vnd.plotly.v1+json": {
       "config": {
        "plotlyServerURL": "https://plot.ly"
       },
       "data": [
        {
         "coloraxis": "coloraxis",
         "hovertemplate": "x: %{x}<br>y: %{y}<br>color: %{z}<extra></extra>",
         "name": "0",
         "texttemplate": "%{z}",
         "type": "heatmap",
         "x": [
          "early_career_pay",
          "mid_career_pay",
          "Tuition-four years",
          "Tuition-two years"
         ],
         "xaxis": "x",
         "y": [
          "early_career_pay",
          "mid_career_pay",
          "Tuition-four years",
          "Tuition-two years"
         ],
         "yaxis": "y",
         "z": [
          [
           1,
           0.9944673626663619,
           0.2704909585314462,
           0.019878643136498578
          ],
          [
           0.9944673626663619,
           1,
           0.24565279218270927,
           0.0005780392174149091
          ],
          [
           0.2704909585314462,
           0.24565279218270927,
           1,
           0.6292981612203754
          ],
          [
           0.019878643136498578,
           0.0005780392174149091,
           0.6292981612203754,
           1
          ]
         ]
        }
       ],
       "layout": {
        "coloraxis": {
         "colorscale": [
          [
           0,
           "#0d0887"
          ],
          [
           0.1111111111111111,
           "#46039f"
          ],
          [
           0.2222222222222222,
           "#7201a8"
          ],
          [
           0.3333333333333333,
           "#9c179e"
          ],
          [
           0.4444444444444444,
           "#bd3786"
          ],
          [
           0.5555555555555556,
           "#d8576b"
          ],
          [
           0.6666666666666666,
           "#ed7953"
          ],
          [
           0.7777777777777778,
           "#fb9f3a"
          ],
          [
           0.8888888888888888,
           "#fdca26"
          ],
          [
           1,
           "#f0f921"
          ]
         ]
        },
        "margin": {
         "t": 60
        },
        "template": {
         "data": {
          "bar": [
           {
            "error_x": {
             "color": "#2a3f5f"
            },
            "error_y": {
             "color": "#2a3f5f"
            },
            "marker": {
             "line": {
              "color": "#E5ECF6",
              "width": 0.5
             },
             "pattern": {
              "fillmode": "overlay",
              "size": 10,
              "solidity": 0.2
             }
            },
            "type": "bar"
           }
          ],
          "barpolar": [
           {
            "marker": {
             "line": {
              "color": "#E5ECF6",
              "width": 0.5
             },
             "pattern": {
              "fillmode": "overlay",
              "size": 10,
              "solidity": 0.2
             }
            },
            "type": "barpolar"
           }
          ],
          "carpet": [
           {
            "aaxis": {
             "endlinecolor": "#2a3f5f",
             "gridcolor": "white",
             "linecolor": "white",
             "minorgridcolor": "white",
             "startlinecolor": "#2a3f5f"
            },
            "baxis": {
             "endlinecolor": "#2a3f5f",
             "gridcolor": "white",
             "linecolor": "white",
             "minorgridcolor": "white",
             "startlinecolor": "#2a3f5f"
            },
            "type": "carpet"
           }
          ],
          "choropleth": [
           {
            "colorbar": {
             "outlinewidth": 0,
             "ticks": ""
            },
            "type": "choropleth"
           }
          ],
          "contour": [
           {
            "colorbar": {
             "outlinewidth": 0,
             "ticks": ""
            },
            "colorscale": [
             [
              0,
              "#0d0887"
             ],
             [
              0.1111111111111111,
              "#46039f"
             ],
             [
              0.2222222222222222,
              "#7201a8"
             ],
             [
              0.3333333333333333,
              "#9c179e"
             ],
             [
              0.4444444444444444,
              "#bd3786"
             ],
             [
              0.5555555555555556,
              "#d8576b"
             ],
             [
              0.6666666666666666,
              "#ed7953"
             ],
             [
              0.7777777777777778,
              "#fb9f3a"
             ],
             [
              0.8888888888888888,
              "#fdca26"
             ],
             [
              1,
              "#f0f921"
             ]
            ],
            "type": "contour"
           }
          ],
          "contourcarpet": [
           {
            "colorbar": {
             "outlinewidth": 0,
             "ticks": ""
            },
            "type": "contourcarpet"
           }
          ],
          "heatmap": [
           {
            "colorbar": {
             "outlinewidth": 0,
             "ticks": ""
            },
            "colorscale": [
             [
              0,
              "#0d0887"
             ],
             [
              0.1111111111111111,
              "#46039f"
             ],
             [
              0.2222222222222222,
              "#7201a8"
             ],
             [
              0.3333333333333333,
              "#9c179e"
             ],
             [
              0.4444444444444444,
              "#bd3786"
             ],
             [
              0.5555555555555556,
              "#d8576b"
             ],
             [
              0.6666666666666666,
              "#ed7953"
             ],
             [
              0.7777777777777778,
              "#fb9f3a"
             ],
             [
              0.8888888888888888,
              "#fdca26"
             ],
             [
              1,
              "#f0f921"
             ]
            ],
            "type": "heatmap"
           }
          ],
          "heatmapgl": [
           {
            "colorbar": {
             "outlinewidth": 0,
             "ticks": ""
            },
            "colorscale": [
             [
              0,
              "#0d0887"
             ],
             [
              0.1111111111111111,
              "#46039f"
             ],
             [
              0.2222222222222222,
              "#7201a8"
             ],
             [
              0.3333333333333333,
              "#9c179e"
             ],
             [
              0.4444444444444444,
              "#bd3786"
             ],
             [
              0.5555555555555556,
              "#d8576b"
             ],
             [
              0.6666666666666666,
              "#ed7953"
             ],
             [
              0.7777777777777778,
              "#fb9f3a"
             ],
             [
              0.8888888888888888,
              "#fdca26"
             ],
             [
              1,
              "#f0f921"
             ]
            ],
            "type": "heatmapgl"
           }
          ],
          "histogram": [
           {
            "marker": {
             "pattern": {
              "fillmode": "overlay",
              "size": 10,
              "solidity": 0.2
             }
            },
            "type": "histogram"
           }
          ],
          "histogram2d": [
           {
            "colorbar": {
             "outlinewidth": 0,
             "ticks": ""
            },
            "colorscale": [
             [
              0,
              "#0d0887"
             ],
             [
              0.1111111111111111,
              "#46039f"
             ],
             [
              0.2222222222222222,
              "#7201a8"
             ],
             [
              0.3333333333333333,
              "#9c179e"
             ],
             [
              0.4444444444444444,
              "#bd3786"
             ],
             [
              0.5555555555555556,
              "#d8576b"
             ],
             [
              0.6666666666666666,
              "#ed7953"
             ],
             [
              0.7777777777777778,
              "#fb9f3a"
             ],
             [
              0.8888888888888888,
              "#fdca26"
             ],
             [
              1,
              "#f0f921"
             ]
            ],
            "type": "histogram2d"
           }
          ],
          "histogram2dcontour": [
           {
            "colorbar": {
             "outlinewidth": 0,
             "ticks": ""
            },
            "colorscale": [
             [
              0,
              "#0d0887"
             ],
             [
              0.1111111111111111,
              "#46039f"
             ],
             [
              0.2222222222222222,
              "#7201a8"
             ],
             [
              0.3333333333333333,
              "#9c179e"
             ],
             [
              0.4444444444444444,
              "#bd3786"
             ],
             [
              0.5555555555555556,
              "#d8576b"
             ],
             [
              0.6666666666666666,
              "#ed7953"
             ],
             [
              0.7777777777777778,
              "#fb9f3a"
             ],
             [
              0.8888888888888888,
              "#fdca26"
             ],
             [
              1,
              "#f0f921"
             ]
            ],
            "type": "histogram2dcontour"
           }
          ],
          "mesh3d": [
           {
            "colorbar": {
             "outlinewidth": 0,
             "ticks": ""
            },
            "type": "mesh3d"
           }
          ],
          "parcoords": [
           {
            "line": {
             "colorbar": {
              "outlinewidth": 0,
              "ticks": ""
             }
            },
            "type": "parcoords"
           }
          ],
          "pie": [
           {
            "automargin": true,
            "type": "pie"
           }
          ],
          "scatter": [
           {
            "fillpattern": {
             "fillmode": "overlay",
             "size": 10,
             "solidity": 0.2
            },
            "type": "scatter"
           }
          ],
          "scatter3d": [
           {
            "line": {
             "colorbar": {
              "outlinewidth": 0,
              "ticks": ""
             }
            },
            "marker": {
             "colorbar": {
              "outlinewidth": 0,
              "ticks": ""
             }
            },
            "type": "scatter3d"
           }
          ],
          "scattercarpet": [
           {
            "marker": {
             "colorbar": {
              "outlinewidth": 0,
              "ticks": ""
             }
            },
            "type": "scattercarpet"
           }
          ],
          "scattergeo": [
           {
            "marker": {
             "colorbar": {
              "outlinewidth": 0,
              "ticks": ""
             }
            },
            "type": "scattergeo"
           }
          ],
          "scattergl": [
           {
            "marker": {
             "colorbar": {
              "outlinewidth": 0,
              "ticks": ""
             }
            },
            "type": "scattergl"
           }
          ],
          "scattermapbox": [
           {
            "marker": {
             "colorbar": {
              "outlinewidth": 0,
              "ticks": ""
             }
            },
            "type": "scattermapbox"
           }
          ],
          "scatterpolar": [
           {
            "marker": {
             "colorbar": {
              "outlinewidth": 0,
              "ticks": ""
             }
            },
            "type": "scatterpolar"
           }
          ],
          "scatterpolargl": [
           {
            "marker": {
             "colorbar": {
              "outlinewidth": 0,
              "ticks": ""
             }
            },
            "type": "scatterpolargl"
           }
          ],
          "scatterternary": [
           {
            "marker": {
             "colorbar": {
              "outlinewidth": 0,
              "ticks": ""
             }
            },
            "type": "scatterternary"
           }
          ],
          "surface": [
           {
            "colorbar": {
             "outlinewidth": 0,
             "ticks": ""
            },
            "colorscale": [
             [
              0,
              "#0d0887"
             ],
             [
              0.1111111111111111,
              "#46039f"
             ],
             [
              0.2222222222222222,
              "#7201a8"
             ],
             [
              0.3333333333333333,
              "#9c179e"
             ],
             [
              0.4444444444444444,
              "#bd3786"
             ],
             [
              0.5555555555555556,
              "#d8576b"
             ],
             [
              0.6666666666666666,
              "#ed7953"
             ],
             [
              0.7777777777777778,
              "#fb9f3a"
             ],
             [
              0.8888888888888888,
              "#fdca26"
             ],
             [
              1,
              "#f0f921"
             ]
            ],
            "type": "surface"
           }
          ],
          "table": [
           {
            "cells": {
             "fill": {
              "color": "#EBF0F8"
             },
             "line": {
              "color": "white"
             }
            },
            "header": {
             "fill": {
              "color": "#C8D4E3"
             },
             "line": {
              "color": "white"
             }
            },
            "type": "table"
           }
          ]
         },
         "layout": {
          "annotationdefaults": {
           "arrowcolor": "#2a3f5f",
           "arrowhead": 0,
           "arrowwidth": 1
          },
          "autotypenumbers": "strict",
          "coloraxis": {
           "colorbar": {
            "outlinewidth": 0,
            "ticks": ""
           }
          },
          "colorscale": {
           "diverging": [
            [
             0,
             "#8e0152"
            ],
            [
             0.1,
             "#c51b7d"
            ],
            [
             0.2,
             "#de77ae"
            ],
            [
             0.3,
             "#f1b6da"
            ],
            [
             0.4,
             "#fde0ef"
            ],
            [
             0.5,
             "#f7f7f7"
            ],
            [
             0.6,
             "#e6f5d0"
            ],
            [
             0.7,
             "#b8e186"
            ],
            [
             0.8,
             "#7fbc41"
            ],
            [
             0.9,
             "#4d9221"
            ],
            [
             1,
             "#276419"
            ]
           ],
           "sequential": [
            [
             0,
             "#0d0887"
            ],
            [
             0.1111111111111111,
             "#46039f"
            ],
            [
             0.2222222222222222,
             "#7201a8"
            ],
            [
             0.3333333333333333,
             "#9c179e"
            ],
            [
             0.4444444444444444,
             "#bd3786"
            ],
            [
             0.5555555555555556,
             "#d8576b"
            ],
            [
             0.6666666666666666,
             "#ed7953"
            ],
            [
             0.7777777777777778,
             "#fb9f3a"
            ],
            [
             0.8888888888888888,
             "#fdca26"
            ],
            [
             1,
             "#f0f921"
            ]
           ],
           "sequentialminus": [
            [
             0,
             "#0d0887"
            ],
            [
             0.1111111111111111,
             "#46039f"
            ],
            [
             0.2222222222222222,
             "#7201a8"
            ],
            [
             0.3333333333333333,
             "#9c179e"
            ],
            [
             0.4444444444444444,
             "#bd3786"
            ],
            [
             0.5555555555555556,
             "#d8576b"
            ],
            [
             0.6666666666666666,
             "#ed7953"
            ],
            [
             0.7777777777777778,
             "#fb9f3a"
            ],
            [
             0.8888888888888888,
             "#fdca26"
            ],
            [
             1,
             "#f0f921"
            ]
           ]
          },
          "colorway": [
           "#636efa",
           "#EF553B",
           "#00cc96",
           "#ab63fa",
           "#FFA15A",
           "#19d3f3",
           "#FF6692",
           "#B6E880",
           "#FF97FF",
           "#FECB52"
          ],
          "font": {
           "color": "#2a3f5f"
          },
          "geo": {
           "bgcolor": "white",
           "lakecolor": "white",
           "landcolor": "#E5ECF6",
           "showlakes": true,
           "showland": true,
           "subunitcolor": "white"
          },
          "hoverlabel": {
           "align": "left"
          },
          "hovermode": "closest",
          "mapbox": {
           "style": "light"
          },
          "paper_bgcolor": "white",
          "plot_bgcolor": "#E5ECF6",
          "polar": {
           "angularaxis": {
            "gridcolor": "white",
            "linecolor": "white",
            "ticks": ""
           },
           "bgcolor": "#E5ECF6",
           "radialaxis": {
            "gridcolor": "white",
            "linecolor": "white",
            "ticks": ""
           }
          },
          "scene": {
           "xaxis": {
            "backgroundcolor": "#E5ECF6",
            "gridcolor": "white",
            "gridwidth": 2,
            "linecolor": "white",
            "showbackground": true,
            "ticks": "",
            "zerolinecolor": "white"
           },
           "yaxis": {
            "backgroundcolor": "#E5ECF6",
            "gridcolor": "white",
            "gridwidth": 2,
            "linecolor": "white",
            "showbackground": true,
            "ticks": "",
            "zerolinecolor": "white"
           },
           "zaxis": {
            "backgroundcolor": "#E5ECF6",
            "gridcolor": "white",
            "gridwidth": 2,
            "linecolor": "white",
            "showbackground": true,
            "ticks": "",
            "zerolinecolor": "white"
           }
          },
          "shapedefaults": {
           "line": {
            "color": "#2a3f5f"
           }
          },
          "ternary": {
           "aaxis": {
            "gridcolor": "white",
            "linecolor": "white",
            "ticks": ""
           },
           "baxis": {
            "gridcolor": "white",
            "linecolor": "white",
            "ticks": ""
           },
           "bgcolor": "#E5ECF6",
           "caxis": {
            "gridcolor": "white",
            "linecolor": "white",
            "ticks": ""
           }
          },
          "title": {
           "x": 0.05
          },
          "xaxis": {
           "automargin": true,
           "gridcolor": "white",
           "linecolor": "white",
           "ticks": "",
           "title": {
            "standoff": 15
           },
           "zerolinecolor": "white",
           "zerolinewidth": 2
          },
          "yaxis": {
           "automargin": true,
           "gridcolor": "white",
           "linecolor": "white",
           "ticks": "",
           "title": {
            "standoff": 15
           },
           "zerolinecolor": "white",
           "zerolinewidth": 2
          }
         }
        },
        "width": 1000,
        "xaxis": {
         "anchor": "y",
         "domain": [
          0,
          1
         ]
        },
        "yaxis": {
         "anchor": "x",
         "autorange": "reversed",
         "domain": [
          0,
          1
         ]
        }
       }
      }
     },
     "metadata": {},
     "output_type": "display_data"
    }
   ],
   "source": [
    "fig = px.imshow(df.iloc[:,1:].corr(), text_auto=True, aspect=\"auto\", width=1000)\n",
    "fig.write_html(\"../../../graphs/html/five/correlation.html\")\n",
    "fig.show()"
   ]
  },
  {
   "cell_type": "code",
   "execution_count": null,
   "metadata": {},
   "outputs": [],
   "source": []
  }
 ],
 "metadata": {
  "kernelspec": {
   "display_name": "base",
   "language": "python",
   "name": "python3"
  },
  "language_info": {
   "codemirror_mode": {
    "name": "ipython",
    "version": 3
   },
   "file_extension": ".py",
   "mimetype": "text/x-python",
   "name": "python",
   "nbconvert_exporter": "python",
   "pygments_lexer": "ipython3",
   "version": "3.12.2"
  }
 },
 "nbformat": 4,
 "nbformat_minor": 2
}
