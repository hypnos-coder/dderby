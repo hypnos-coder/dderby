{
 "cells": [
  {
   "cell_type": "code",
   "execution_count": 2,
   "metadata": {},
   "outputs": [
    {
     "data": {
      "text/html": [
       "<div>\n",
       "<style scoped>\n",
       "    .dataframe tbody tr th:only-of-type {\n",
       "        vertical-align: middle;\n",
       "    }\n",
       "\n",
       "    .dataframe tbody tr th {\n",
       "        vertical-align: top;\n",
       "    }\n",
       "\n",
       "    .dataframe thead th {\n",
       "        text-align: right;\n",
       "    }\n",
       "</style>\n",
       "<table border=\"1\" class=\"dataframe\">\n",
       "  <thead>\n",
       "    <tr style=\"text-align: right;\">\n",
       "      <th></th>\n",
       "      <th>In Current Dollars</th>\n",
       "      <th>2004-05</th>\n",
       "      <th>2005-06</th>\n",
       "      <th>2006-07</th>\n",
       "      <th>2007-08</th>\n",
       "      <th>2008-09</th>\n",
       "      <th>2009-10</th>\n",
       "      <th>2010-11</th>\n",
       "      <th>2011-12</th>\n",
       "      <th>2012-13</th>\n",
       "      <th>...</th>\n",
       "      <th>2016-17</th>\n",
       "      <th>2017-18</th>\n",
       "      <th>2018-19</th>\n",
       "      <th>2019-20</th>\n",
       "      <th>2020-21</th>\n",
       "      <th>2021-22</th>\n",
       "      <th>2022-23 REV</th>\n",
       "      <th>2023-24</th>\n",
       "      <th>1-Year % Change</th>\n",
       "      <th>5-Year % Change</th>\n",
       "    </tr>\n",
       "  </thead>\n",
       "  <tbody>\n",
       "    <tr>\n",
       "      <th>0</th>\n",
       "      <td>Alabama</td>\n",
       "      <td>2728.0</td>\n",
       "      <td>2730.0</td>\n",
       "      <td>2786.0</td>\n",
       "      <td>2809.0</td>\n",
       "      <td>2835.0</td>\n",
       "      <td>2839.0</td>\n",
       "      <td>3417.0</td>\n",
       "      <td>4010.0</td>\n",
       "      <td>4088.0</td>\n",
       "      <td>...</td>\n",
       "      <td>4394.75</td>\n",
       "      <td>4480.0</td>\n",
       "      <td>4760.46</td>\n",
       "      <td>4846.07</td>\n",
       "      <td>4929.25</td>\n",
       "      <td>4929.25</td>\n",
       "      <td>4979.53</td>\n",
       "      <td>5072.18</td>\n",
       "      <td>0.02</td>\n",
       "      <td>0.07</td>\n",
       "    </tr>\n",
       "    <tr>\n",
       "      <th>1</th>\n",
       "      <td>Alaska</td>\n",
       "      <td>NaN</td>\n",
       "      <td>NaN</td>\n",
       "      <td>NaN</td>\n",
       "      <td>NaN</td>\n",
       "      <td>NaN</td>\n",
       "      <td>NaN</td>\n",
       "      <td>NaN</td>\n",
       "      <td>NaN</td>\n",
       "      <td>NaN</td>\n",
       "      <td>...</td>\n",
       "      <td>NaN</td>\n",
       "      <td>NaN</td>\n",
       "      <td>NaN</td>\n",
       "      <td>NaN</td>\n",
       "      <td>NaN</td>\n",
       "      <td>NaN</td>\n",
       "      <td>NaN</td>\n",
       "      <td>NaN</td>\n",
       "      <td>NaN</td>\n",
       "      <td>NaN</td>\n",
       "    </tr>\n",
       "    <tr>\n",
       "      <th>2</th>\n",
       "      <td>Arizona</td>\n",
       "      <td>1393.0</td>\n",
       "      <td>1522.0</td>\n",
       "      <td>1660.0</td>\n",
       "      <td>1686.0</td>\n",
       "      <td>1821.0</td>\n",
       "      <td>1918.0</td>\n",
       "      <td>1979.0</td>\n",
       "      <td>2151.0</td>\n",
       "      <td>2204.0</td>\n",
       "      <td>...</td>\n",
       "      <td>2558.51</td>\n",
       "      <td>2600.0</td>\n",
       "      <td>2582.33</td>\n",
       "      <td>2603.17</td>\n",
       "      <td>2258.96</td>\n",
       "      <td>2590.72</td>\n",
       "      <td>2608.33</td>\n",
       "      <td>2882.27</td>\n",
       "      <td>0.11</td>\n",
       "      <td>0.12</td>\n",
       "    </tr>\n",
       "    <tr>\n",
       "      <th>3</th>\n",
       "      <td>Arkansas</td>\n",
       "      <td>1874.0</td>\n",
       "      <td>1980.0</td>\n",
       "      <td>2095.0</td>\n",
       "      <td>2138.0</td>\n",
       "      <td>2296.0</td>\n",
       "      <td>2378.0</td>\n",
       "      <td>2525.0</td>\n",
       "      <td>2663.0</td>\n",
       "      <td>2794.0</td>\n",
       "      <td>...</td>\n",
       "      <td>3532.52</td>\n",
       "      <td>3610.0</td>\n",
       "      <td>3670.21</td>\n",
       "      <td>3752.36</td>\n",
       "      <td>3886.54</td>\n",
       "      <td>3887.02</td>\n",
       "      <td>4118.12</td>\n",
       "      <td>4354.95</td>\n",
       "      <td>0.06</td>\n",
       "      <td>0.19</td>\n",
       "    </tr>\n",
       "    <tr>\n",
       "      <th>4</th>\n",
       "      <td>California</td>\n",
       "      <td>808.0</td>\n",
       "      <td>810.0</td>\n",
       "      <td>724.0</td>\n",
       "      <td>633.0</td>\n",
       "      <td>634.0</td>\n",
       "      <td>817.0</td>\n",
       "      <td>819.0</td>\n",
       "      <td>1119.0</td>\n",
       "      <td>1419.0</td>\n",
       "      <td>...</td>\n",
       "      <td>1425.96</td>\n",
       "      <td>1420.0</td>\n",
       "      <td>1428.05</td>\n",
       "      <td>1427.90</td>\n",
       "      <td>1428.15</td>\n",
       "      <td>1428.15</td>\n",
       "      <td>1433.15</td>\n",
       "      <td>1435.95</td>\n",
       "      <td>0.00</td>\n",
       "      <td>0.01</td>\n",
       "    </tr>\n",
       "  </tbody>\n",
       "</table>\n",
       "<p>5 rows × 23 columns</p>\n",
       "</div>"
      ],
      "text/plain": [
       "  In Current Dollars  2004-05  2005-06  2006-07    2007-08   2008-09  2009-10  \\\n",
       "0            Alabama   2728.0   2730.0   2786.0      2809.0   2835.0   2839.0   \n",
       "1             Alaska      NaN      NaN      NaN         NaN      NaN      NaN   \n",
       "2            Arizona   1393.0   1522.0   1660.0      1686.0   1821.0   1918.0   \n",
       "3           Arkansas   1874.0   1980.0   2095.0      2138.0   2296.0   2378.0   \n",
       "4         California    808.0    810.0    724.0       633.0    634.0    817.0   \n",
       "\n",
       "   2010-11  2011-12  2012-13  ...  2016-17  2017-18  2018-19  2019-20  \\\n",
       "0   3417.0   4010.0   4088.0  ...  4394.75   4480.0  4760.46  4846.07   \n",
       "1      NaN      NaN      NaN  ...      NaN      NaN      NaN      NaN   \n",
       "2   1979.0   2151.0   2204.0  ...  2558.51   2600.0  2582.33  2603.17   \n",
       "3   2525.0   2663.0   2794.0  ...  3532.52   3610.0  3670.21  3752.36   \n",
       "4    819.0   1119.0   1419.0  ...  1425.96   1420.0  1428.05  1427.90   \n",
       "\n",
       "   2020-21  2021-22  2022-23 REV  2023-24  1-Year % Change  5-Year % Change  \n",
       "0  4929.25  4929.25      4979.53  5072.18             0.02             0.07  \n",
       "1      NaN      NaN          NaN      NaN              NaN              NaN  \n",
       "2  2258.96  2590.72      2608.33  2882.27             0.11             0.12  \n",
       "3  3886.54  3887.02      4118.12  4354.95             0.06             0.19  \n",
       "4  1428.15  1428.15      1433.15  1435.95             0.00             0.01  \n",
       "\n",
       "[5 rows x 23 columns]"
      ]
     },
     "execution_count": 2,
     "metadata": {},
     "output_type": "execute_result"
    }
   ],
   "source": [
    "import pandas as pd\n",
    "import seaborn as sns\n",
    "import matplotlib.pyplot as plt\n",
    "\n",
    "df = pd.read_csv(\"../../../data/National_education_cost/CP3-pub-2y-current-dollars.csv\")\n",
    "import warnings\n",
    "warnings.filterwarnings(\"ignore\")\n",
    "\n",
    "# df.drop([\"Unnamed: 23\", ], axis=1, inplace=True)\n",
    "df.head()"
   ]
  },
  {
   "cell_type": "code",
   "execution_count": 3,
   "metadata": {},
   "outputs": [],
   "source": [
    "df.rename({\n",
    "    \"In Current Dollars\": \"State\"\n",
    "}, axis=1, inplace=True)\n",
    "\n",
    "df.dropna(inplace=True)\n"
   ]
  },
  {
   "cell_type": "code",
   "execution_count": 4,
   "metadata": {},
   "outputs": [],
   "source": [
    "melted_df = pd.melt(df, id_vars=[\"State\", \"1-Year % Change\", \"5-Year % Change\"], var_name=\"Year\", value_name=\"Tuition\")\n",
    "df = melted_df.sort_values(by=[\"State\", \"Year\"]).reset_index(drop=True)"
   ]
  },
  {
   "cell_type": "code",
   "execution_count": 5,
   "metadata": {},
   "outputs": [
    {
     "data": {
      "text/html": [
       "<div>\n",
       "<style scoped>\n",
       "    .dataframe tbody tr th:only-of-type {\n",
       "        vertical-align: middle;\n",
       "    }\n",
       "\n",
       "    .dataframe tbody tr th {\n",
       "        vertical-align: top;\n",
       "    }\n",
       "\n",
       "    .dataframe thead th {\n",
       "        text-align: right;\n",
       "    }\n",
       "</style>\n",
       "<table border=\"1\" class=\"dataframe\">\n",
       "  <thead>\n",
       "    <tr style=\"text-align: right;\">\n",
       "      <th></th>\n",
       "      <th>State</th>\n",
       "      <th>1-Year % Change</th>\n",
       "      <th>5-Year % Change</th>\n",
       "      <th>Year</th>\n",
       "      <th>Tuition</th>\n",
       "    </tr>\n",
       "  </thead>\n",
       "  <tbody>\n",
       "    <tr>\n",
       "      <th>0</th>\n",
       "      <td>Alabama</td>\n",
       "      <td>0.02</td>\n",
       "      <td>0.07</td>\n",
       "      <td>2007-08</td>\n",
       "      <td>2809.00</td>\n",
       "    </tr>\n",
       "    <tr>\n",
       "      <th>1</th>\n",
       "      <td>Alabama</td>\n",
       "      <td>0.02</td>\n",
       "      <td>0.07</td>\n",
       "      <td>2004-05</td>\n",
       "      <td>2728.00</td>\n",
       "    </tr>\n",
       "    <tr>\n",
       "      <th>2</th>\n",
       "      <td>Alabama</td>\n",
       "      <td>0.02</td>\n",
       "      <td>0.07</td>\n",
       "      <td>2005-06</td>\n",
       "      <td>2730.00</td>\n",
       "    </tr>\n",
       "    <tr>\n",
       "      <th>3</th>\n",
       "      <td>Alabama</td>\n",
       "      <td>0.02</td>\n",
       "      <td>0.07</td>\n",
       "      <td>2006-07</td>\n",
       "      <td>2786.00</td>\n",
       "    </tr>\n",
       "    <tr>\n",
       "      <th>4</th>\n",
       "      <td>Alabama</td>\n",
       "      <td>0.02</td>\n",
       "      <td>0.07</td>\n",
       "      <td>2008-09</td>\n",
       "      <td>2835.00</td>\n",
       "    </tr>\n",
       "    <tr>\n",
       "      <th>...</th>\n",
       "      <td>...</td>\n",
       "      <td>...</td>\n",
       "      <td>...</td>\n",
       "      <td>...</td>\n",
       "      <td>...</td>\n",
       "    </tr>\n",
       "    <tr>\n",
       "      <th>975</th>\n",
       "      <td>Wyoming</td>\n",
       "      <td>0.00</td>\n",
       "      <td>0.42</td>\n",
       "      <td>2019-20</td>\n",
       "      <td>4174.45</td>\n",
       "    </tr>\n",
       "    <tr>\n",
       "      <th>976</th>\n",
       "      <td>Wyoming</td>\n",
       "      <td>0.00</td>\n",
       "      <td>0.42</td>\n",
       "      <td>2020-21</td>\n",
       "      <td>4316.92</td>\n",
       "    </tr>\n",
       "    <tr>\n",
       "      <th>977</th>\n",
       "      <td>Wyoming</td>\n",
       "      <td>0.00</td>\n",
       "      <td>0.42</td>\n",
       "      <td>2021-22</td>\n",
       "      <td>4556.64</td>\n",
       "    </tr>\n",
       "    <tr>\n",
       "      <th>978</th>\n",
       "      <td>Wyoming</td>\n",
       "      <td>0.00</td>\n",
       "      <td>0.42</td>\n",
       "      <td>2022-23 REV</td>\n",
       "      <td>4613.82</td>\n",
       "    </tr>\n",
       "    <tr>\n",
       "      <th>979</th>\n",
       "      <td>Wyoming</td>\n",
       "      <td>0.00</td>\n",
       "      <td>0.42</td>\n",
       "      <td>2023-24</td>\n",
       "      <td>4613.62</td>\n",
       "    </tr>\n",
       "  </tbody>\n",
       "</table>\n",
       "<p>980 rows × 5 columns</p>\n",
       "</div>"
      ],
      "text/plain": [
       "       State  1-Year % Change  5-Year % Change         Year  Tuition\n",
       "0    Alabama             0.02             0.07     2007-08   2809.00\n",
       "1    Alabama             0.02             0.07      2004-05  2728.00\n",
       "2    Alabama             0.02             0.07      2005-06  2730.00\n",
       "3    Alabama             0.02             0.07      2006-07  2786.00\n",
       "4    Alabama             0.02             0.07      2008-09  2835.00\n",
       "..       ...              ...              ...          ...      ...\n",
       "975  Wyoming             0.00             0.42      2019-20  4174.45\n",
       "976  Wyoming             0.00             0.42      2020-21  4316.92\n",
       "977  Wyoming             0.00             0.42      2021-22  4556.64\n",
       "978  Wyoming             0.00             0.42  2022-23 REV  4613.82\n",
       "979  Wyoming             0.00             0.42      2023-24  4613.62\n",
       "\n",
       "[980 rows x 5 columns]"
      ]
     },
     "execution_count": 5,
     "metadata": {},
     "output_type": "execute_result"
    }
   ],
   "source": [
    "df"
   ]
  },
  {
   "cell_type": "code",
   "execution_count": 6,
   "metadata": {},
   "outputs": [
    {
     "data": {
      "text/html": [
       "<div>\n",
       "<style scoped>\n",
       "    .dataframe tbody tr th:only-of-type {\n",
       "        vertical-align: middle;\n",
       "    }\n",
       "\n",
       "    .dataframe tbody tr th {\n",
       "        vertical-align: top;\n",
       "    }\n",
       "\n",
       "    .dataframe thead th {\n",
       "        text-align: right;\n",
       "    }\n",
       "</style>\n",
       "<table border=\"1\" class=\"dataframe\">\n",
       "  <thead>\n",
       "    <tr style=\"text-align: right;\">\n",
       "      <th></th>\n",
       "      <th>State</th>\n",
       "      <th>1-Year % Change</th>\n",
       "      <th>5-Year % Change</th>\n",
       "      <th>Year</th>\n",
       "      <th>Tuition</th>\n",
       "    </tr>\n",
       "  </thead>\n",
       "  <tbody>\n",
       "    <tr>\n",
       "      <th>0</th>\n",
       "      <td>Alabama</td>\n",
       "      <td>0.02</td>\n",
       "      <td>0.07</td>\n",
       "      <td>2004</td>\n",
       "      <td>2728.0</td>\n",
       "    </tr>\n",
       "    <tr>\n",
       "      <th>1</th>\n",
       "      <td>Alabama</td>\n",
       "      <td>0.02</td>\n",
       "      <td>0.07</td>\n",
       "      <td>2005</td>\n",
       "      <td>2730.0</td>\n",
       "    </tr>\n",
       "    <tr>\n",
       "      <th>2</th>\n",
       "      <td>Alabama</td>\n",
       "      <td>0.02</td>\n",
       "      <td>0.07</td>\n",
       "      <td>2006</td>\n",
       "      <td>2786.0</td>\n",
       "    </tr>\n",
       "    <tr>\n",
       "      <th>3</th>\n",
       "      <td>Alabama</td>\n",
       "      <td>0.02</td>\n",
       "      <td>0.07</td>\n",
       "      <td>2007</td>\n",
       "      <td>2809.0</td>\n",
       "    </tr>\n",
       "    <tr>\n",
       "      <th>4</th>\n",
       "      <td>Alabama</td>\n",
       "      <td>0.02</td>\n",
       "      <td>0.07</td>\n",
       "      <td>2008</td>\n",
       "      <td>2835.0</td>\n",
       "    </tr>\n",
       "  </tbody>\n",
       "</table>\n",
       "</div>"
      ],
      "text/plain": [
       "     State  1-Year % Change  5-Year % Change  Year  Tuition\n",
       "0  Alabama             0.02             0.07  2004   2728.0\n",
       "1  Alabama             0.02             0.07  2005   2730.0\n",
       "2  Alabama             0.02             0.07  2006   2786.0\n",
       "3  Alabama             0.02             0.07  2007   2809.0\n",
       "4  Alabama             0.02             0.07  2008   2835.0"
      ]
     },
     "execution_count": 6,
     "metadata": {},
     "output_type": "execute_result"
    }
   ],
   "source": [
    "def replace_year(x):\n",
    "    x=x.strip()\n",
    "    current = x[:4]\n",
    "    return current\n",
    "\n",
    "\n",
    "df['Year'] = df['Year'].apply(replace_year)\n",
    "df['Year'] = pd.to_datetime(df['Year']).dt.year\n",
    "# df.dtypes\n",
    "df = df.sort_values(by=[\"State\", \"Year\"]).reset_index(drop=True)\n",
    "df.head()"
   ]
  },
  {
   "cell_type": "code",
   "execution_count": 7,
   "metadata": {},
   "outputs": [
    {
     "data": {
      "text/html": [
       "<div>\n",
       "<style scoped>\n",
       "    .dataframe tbody tr th:only-of-type {\n",
       "        vertical-align: middle;\n",
       "    }\n",
       "\n",
       "    .dataframe tbody tr th {\n",
       "        vertical-align: top;\n",
       "    }\n",
       "\n",
       "    .dataframe thead th {\n",
       "        text-align: right;\n",
       "    }\n",
       "</style>\n",
       "<table border=\"1\" class=\"dataframe\">\n",
       "  <thead>\n",
       "    <tr style=\"text-align: right;\">\n",
       "      <th></th>\n",
       "      <th>State</th>\n",
       "      <th>1-Year % Change</th>\n",
       "      <th>5-Year % Change</th>\n",
       "      <th>Year</th>\n",
       "      <th>Tuition</th>\n",
       "      <th>State_Code</th>\n",
       "    </tr>\n",
       "  </thead>\n",
       "  <tbody>\n",
       "    <tr>\n",
       "      <th>0</th>\n",
       "      <td>Alabama</td>\n",
       "      <td>0.02</td>\n",
       "      <td>0.07</td>\n",
       "      <td>2004</td>\n",
       "      <td>2728.00</td>\n",
       "      <td>AL</td>\n",
       "    </tr>\n",
       "    <tr>\n",
       "      <th>1</th>\n",
       "      <td>Alabama</td>\n",
       "      <td>0.02</td>\n",
       "      <td>0.07</td>\n",
       "      <td>2005</td>\n",
       "      <td>2730.00</td>\n",
       "      <td>AL</td>\n",
       "    </tr>\n",
       "    <tr>\n",
       "      <th>2</th>\n",
       "      <td>Alabama</td>\n",
       "      <td>0.02</td>\n",
       "      <td>0.07</td>\n",
       "      <td>2006</td>\n",
       "      <td>2786.00</td>\n",
       "      <td>AL</td>\n",
       "    </tr>\n",
       "    <tr>\n",
       "      <th>3</th>\n",
       "      <td>Alabama</td>\n",
       "      <td>0.02</td>\n",
       "      <td>0.07</td>\n",
       "      <td>2007</td>\n",
       "      <td>2809.00</td>\n",
       "      <td>AL</td>\n",
       "    </tr>\n",
       "    <tr>\n",
       "      <th>4</th>\n",
       "      <td>Alabama</td>\n",
       "      <td>0.02</td>\n",
       "      <td>0.07</td>\n",
       "      <td>2008</td>\n",
       "      <td>2835.00</td>\n",
       "      <td>AL</td>\n",
       "    </tr>\n",
       "    <tr>\n",
       "      <th>...</th>\n",
       "      <td>...</td>\n",
       "      <td>...</td>\n",
       "      <td>...</td>\n",
       "      <td>...</td>\n",
       "      <td>...</td>\n",
       "      <td>...</td>\n",
       "    </tr>\n",
       "    <tr>\n",
       "      <th>975</th>\n",
       "      <td>Wyoming</td>\n",
       "      <td>0.00</td>\n",
       "      <td>0.42</td>\n",
       "      <td>2019</td>\n",
       "      <td>4174.45</td>\n",
       "      <td>WY</td>\n",
       "    </tr>\n",
       "    <tr>\n",
       "      <th>976</th>\n",
       "      <td>Wyoming</td>\n",
       "      <td>0.00</td>\n",
       "      <td>0.42</td>\n",
       "      <td>2020</td>\n",
       "      <td>4316.92</td>\n",
       "      <td>WY</td>\n",
       "    </tr>\n",
       "    <tr>\n",
       "      <th>977</th>\n",
       "      <td>Wyoming</td>\n",
       "      <td>0.00</td>\n",
       "      <td>0.42</td>\n",
       "      <td>2021</td>\n",
       "      <td>4556.64</td>\n",
       "      <td>WY</td>\n",
       "    </tr>\n",
       "    <tr>\n",
       "      <th>978</th>\n",
       "      <td>Wyoming</td>\n",
       "      <td>0.00</td>\n",
       "      <td>0.42</td>\n",
       "      <td>2022</td>\n",
       "      <td>4613.82</td>\n",
       "      <td>WY</td>\n",
       "    </tr>\n",
       "    <tr>\n",
       "      <th>979</th>\n",
       "      <td>Wyoming</td>\n",
       "      <td>0.00</td>\n",
       "      <td>0.42</td>\n",
       "      <td>2023</td>\n",
       "      <td>4613.62</td>\n",
       "      <td>WY</td>\n",
       "    </tr>\n",
       "  </tbody>\n",
       "</table>\n",
       "<p>980 rows × 6 columns</p>\n",
       "</div>"
      ],
      "text/plain": [
       "       State  1-Year % Change  5-Year % Change  Year  Tuition State_Code\n",
       "0    Alabama             0.02             0.07  2004  2728.00         AL\n",
       "1    Alabama             0.02             0.07  2005  2730.00         AL\n",
       "2    Alabama             0.02             0.07  2006  2786.00         AL\n",
       "3    Alabama             0.02             0.07  2007  2809.00         AL\n",
       "4    Alabama             0.02             0.07  2008  2835.00         AL\n",
       "..       ...              ...              ...   ...      ...        ...\n",
       "975  Wyoming             0.00             0.42  2019  4174.45         WY\n",
       "976  Wyoming             0.00             0.42  2020  4316.92         WY\n",
       "977  Wyoming             0.00             0.42  2021  4556.64         WY\n",
       "978  Wyoming             0.00             0.42  2022  4613.82         WY\n",
       "979  Wyoming             0.00             0.42  2023  4613.62         WY\n",
       "\n",
       "[980 rows x 6 columns]"
      ]
     },
     "execution_count": 7,
     "metadata": {},
     "output_type": "execute_result"
    }
   ],
   "source": [
    "state_codes = {\n",
    "    'Alabama': 'AL', 'Alaska': 'AK', 'Arizona': 'AZ', 'Arkansas': 'AR', 'California': 'CA',\n",
    "    'Colorado': 'CO', 'Connecticut': 'CT', 'Delaware': 'DE', 'Florida': 'FL', 'Georgia': 'GA',\n",
    "    'Hawaii': 'HI', 'Idaho': 'ID', 'Illinois': 'IL', 'Indiana': 'IN', 'Iowa': 'IA', 'Kansas': 'KS',\n",
    "    'Kentucky': 'KY', 'Louisiana': 'LA', 'Maine': 'ME', 'Maryland': 'MD', 'Massachusetts': 'MA',\n",
    "    'Michigan': 'MI', 'Minnesota': 'MN', 'Mississippi': 'MS', 'Missouri': 'MO', 'Montana': 'MT',\n",
    "    'Nebraska': 'NE', 'Nevada': 'NV', 'New Hampshire': 'NH', 'New Jersey': 'NJ', 'New Mexico': 'NM',\n",
    "    'New York': 'NY', 'North Carolina': 'NC', 'North Dakota': 'ND', 'Ohio': 'OH', 'Oklahoma': 'OK',\n",
    "    'Oregon': 'OR', 'Pennsylvania': 'PA', 'Rhode Island': 'RI', 'South Carolina': 'SC',\n",
    "    'South Dakota': 'SD', 'Tennessee': 'TN', 'Texas': 'TX', 'Utah': 'UT', 'Vermont': 'VT',\n",
    "    'Virginia': 'VA', 'Washington': 'WA', 'West Virginia': 'WV', 'Wisconsin': 'WI', 'Wyoming': 'WY',\n",
    "    'District of Columbia': 'DC'\n",
    "}\n",
    "\n",
    "# Add state codes to the melted DataFrame\n",
    "df['State_Code'] = df['State'].map(state_codes)\n",
    "df"
   ]
  },
  {
   "cell_type": "code",
   "execution_count": 9,
   "metadata": {},
   "outputs": [
    {
     "data": {
      "application/vnd.plotly.v1+json": {
       "config": {
        "plotlyServerURL": "https://plot.ly"
       },
       "data": [
        {
         "coloraxis": "coloraxis",
         "customdata": [
          [
           2728
          ],
          [
           1393
          ],
          [
           1874
          ],
          [
           808
          ],
          [
           2218
          ],
          [
           2406
          ],
          [
           2508.71
          ],
          [
           1780
          ],
          [
           2075
          ],
          [
           1458
          ],
          [
           1798
          ],
          [
           1990
          ],
          [
           2584
          ],
          [
           2920
          ],
          [
           1767
          ],
          [
           2770
          ],
          [
           1738
          ],
          [
           2595
          ],
          [
           2978
          ],
          [
           3361
          ],
          [
           1995
          ],
          [
           3795
          ],
          [
           1546
          ],
          [
           2152
          ],
          [
           2366
          ],
          [
           1763
          ],
          [
           1590
          ],
          [
           4680
          ],
          [
           2802
          ],
          [
           1040
          ],
          [
           3272
          ],
          [
           1195
          ],
          [
           3000
          ],
          [
           3200.59
          ],
          [
           2106
          ],
          [
           2863
          ],
          [
           2868.08
          ],
          [
           2310
          ],
          [
           2828
          ],
          [
           3035
          ],
          [
           2197
          ],
          [
           1382
          ],
          [
           2017
          ],
          [
           4720
          ],
          [
           2081
          ],
          [
           2482
          ],
          [
           2081.09
          ],
          [
           2906
          ],
          [
           1686
          ]
         ],
         "geo": "geo",
         "hovertemplate": "<b>%{hovertext}</b><br><br>Year=2004<br>State_Code=%{location}<br>Tuition=%{z}<extra></extra>",
         "hovertext": [
          "Alabama",
          "Arizona",
          "Arkansas",
          "California",
          "Colorado",
          "Connecticut",
          "Delaware",
          "Florida",
          "Georgia",
          "Hawaii",
          "Idaho",
          "Illinois",
          "Indiana",
          "Iowa",
          "Kansas",
          "Kentucky",
          "Louisiana",
          "Maine",
          "Maryland",
          "Massachusetts",
          "Michigan",
          "Minnesota",
          "Mississippi",
          "Missouri",
          "Montana",
          "Nebraska",
          "Nevada",
          "New Hampshire",
          "New Jersey",
          "New Mexico",
          "New York",
          "North Carolina",
          "North Dakota",
          "Ohio",
          "Oklahoma",
          "Oregon",
          "Pennsylvania",
          "Rhode Island",
          "South Carolina",
          "South Dakota",
          "Tennessee",
          "Texas",
          "Utah",
          "Vermont",
          "Virginia",
          "Washington",
          "West Virginia",
          "Wisconsin",
          "Wyoming"
         ],
         "locationmode": "USA-states",
         "locations": [
          "AL",
          "AZ",
          "AR",
          "CA",
          "CO",
          "CT",
          "DE",
          "FL",
          "GA",
          "HI",
          "ID",
          "IL",
          "IN",
          "IA",
          "KS",
          "KY",
          "LA",
          "ME",
          "MD",
          "MA",
          "MI",
          "MN",
          "MS",
          "MO",
          "MT",
          "NE",
          "NV",
          "NH",
          "NJ",
          "NM",
          "NY",
          "NC",
          "ND",
          "OH",
          "OK",
          "OR",
          "PA",
          "RI",
          "SC",
          "SD",
          "TN",
          "TX",
          "UT",
          "VT",
          "VA",
          "WA",
          "WV",
          "WI",
          "WY"
         ],
         "name": "",
         "type": "choropleth",
         "z": [
          2728,
          1393,
          1874,
          808,
          2218,
          2406,
          2508.71,
          1780,
          2075,
          1458,
          1798,
          1990,
          2584,
          2920,
          1767,
          2770,
          1738,
          2595,
          2978,
          3361,
          1995,
          3795,
          1546,
          2152,
          2366,
          1763,
          1590,
          4680,
          2802,
          1040,
          3272,
          1195,
          3000,
          3200.59,
          2106,
          2863,
          2868.08,
          2310,
          2828,
          3035,
          2197,
          1382,
          2017,
          4720,
          2081,
          2482,
          2081.09,
          2906,
          1686
         ]
        }
       ],
       "frames": [
        {
         "data": [
          {
           "coloraxis": "coloraxis",
           "customdata": [
            [
             2728
            ],
            [
             1393
            ],
            [
             1874
            ],
            [
             808
            ],
            [
             2218
            ],
            [
             2406
            ],
            [
             2508.71
            ],
            [
             1780
            ],
            [
             2075
            ],
            [
             1458
            ],
            [
             1798
            ],
            [
             1990
            ],
            [
             2584
            ],
            [
             2920
            ],
            [
             1767
            ],
            [
             2770
            ],
            [
             1738
            ],
            [
             2595
            ],
            [
             2978
            ],
            [
             3361
            ],
            [
             1995
            ],
            [
             3795
            ],
            [
             1546
            ],
            [
             2152
            ],
            [
             2366
            ],
            [
             1763
            ],
            [
             1590
            ],
            [
             4680
            ],
            [
             2802
            ],
            [
             1040
            ],
            [
             3272
            ],
            [
             1195
            ],
            [
             3000
            ],
            [
             3200.59
            ],
            [
             2106
            ],
            [
             2863
            ],
            [
             2868.08
            ],
            [
             2310
            ],
            [
             2828
            ],
            [
             3035
            ],
            [
             2197
            ],
            [
             1382
            ],
            [
             2017
            ],
            [
             4720
            ],
            [
             2081
            ],
            [
             2482
            ],
            [
             2081.09
            ],
            [
             2906
            ],
            [
             1686
            ]
           ],
           "geo": "geo",
           "hovertemplate": "<b>%{hovertext}</b><br><br>Year=2004<br>State_Code=%{location}<br>Tuition=%{z}<extra></extra>",
           "hovertext": [
            "Alabama",
            "Arizona",
            "Arkansas",
            "California",
            "Colorado",
            "Connecticut",
            "Delaware",
            "Florida",
            "Georgia",
            "Hawaii",
            "Idaho",
            "Illinois",
            "Indiana",
            "Iowa",
            "Kansas",
            "Kentucky",
            "Louisiana",
            "Maine",
            "Maryland",
            "Massachusetts",
            "Michigan",
            "Minnesota",
            "Mississippi",
            "Missouri",
            "Montana",
            "Nebraska",
            "Nevada",
            "New Hampshire",
            "New Jersey",
            "New Mexico",
            "New York",
            "North Carolina",
            "North Dakota",
            "Ohio",
            "Oklahoma",
            "Oregon",
            "Pennsylvania",
            "Rhode Island",
            "South Carolina",
            "South Dakota",
            "Tennessee",
            "Texas",
            "Utah",
            "Vermont",
            "Virginia",
            "Washington",
            "West Virginia",
            "Wisconsin",
            "Wyoming"
           ],
           "locationmode": "USA-states",
           "locations": [
            "AL",
            "AZ",
            "AR",
            "CA",
            "CO",
            "CT",
            "DE",
            "FL",
            "GA",
            "HI",
            "ID",
            "IL",
            "IN",
            "IA",
            "KS",
            "KY",
            "LA",
            "ME",
            "MD",
            "MA",
            "MI",
            "MN",
            "MS",
            "MO",
            "MT",
            "NE",
            "NV",
            "NH",
            "NJ",
            "NM",
            "NY",
            "NC",
            "ND",
            "OH",
            "OK",
            "OR",
            "PA",
            "RI",
            "SC",
            "SD",
            "TN",
            "TX",
            "UT",
            "VT",
            "VA",
            "WA",
            "WV",
            "WI",
            "WY"
           ],
           "name": "",
           "type": "choropleth",
           "z": [
            2728,
            1393,
            1874,
            808,
            2218,
            2406,
            2508.71,
            1780,
            2075,
            1458,
            1798,
            1990,
            2584,
            2920,
            1767,
            2770,
            1738,
            2595,
            2978,
            3361,
            1995,
            3795,
            1546,
            2152,
            2366,
            1763,
            1590,
            4680,
            2802,
            1040,
            3272,
            1195,
            3000,
            3200.59,
            2106,
            2863,
            2868.08,
            2310,
            2828,
            3035,
            2197,
            1382,
            2017,
            4720,
            2081,
            2482,
            2081.09,
            2906,
            1686
           ]
          }
         ],
         "name": "2004"
        },
        {
         "data": [
          {
           "coloraxis": "coloraxis",
           "customdata": [
            [
             2730
            ],
            [
             1522
            ],
            [
             1980
            ],
            [
             810
            ],
            [
             2388
            ],
            [
             2536
            ],
            [
             2679.42
            ],
            [
             1919
            ],
            [
             2208
            ],
            [
             1525
            ],
            [
             1876
            ],
            [
             2147
            ],
            [
             2728
            ],
            [
             3090
            ],
            [
             1848
            ],
            [
             3008
            ],
            [
             1841
            ],
            [
             2812
            ],
            [
             3093
            ],
            [
             3498
            ],
            [
             2126
            ],
            [
             4013
            ],
            [
             1668
            ],
            [
             2279
            ],
            [
             2470
            ],
            [
             1866
            ],
            [
             1643
            ],
            [
             5184
            ],
            [
             2947
            ],
            [
             1118
            ],
            [
             3383
            ],
            [
             1245
            ],
            [
             3240
            ],
            [
             3381.04
            ],
            [
             2237
            ],
            [
             2966
            ],
            [
             3051.63
            ],
            [
             2470
            ],
            [
             2941
            ],
            [
             3196
            ],
            [
             2390
            ],
            [
             1469
            ],
            [
             2155
            ],
            [
             4990
            ],
            [
             2191
            ],
            [
             2633
            ],
            [
             2101.9
            ],
            [
             3132
            ],
            [
             1770
            ]
           ],
           "geo": "geo",
           "hovertemplate": "<b>%{hovertext}</b><br><br>Year=2005<br>State_Code=%{location}<br>Tuition=%{z}<extra></extra>",
           "hovertext": [
            "Alabama",
            "Arizona",
            "Arkansas",
            "California",
            "Colorado",
            "Connecticut",
            "Delaware",
            "Florida",
            "Georgia",
            "Hawaii",
            "Idaho",
            "Illinois",
            "Indiana",
            "Iowa",
            "Kansas",
            "Kentucky",
            "Louisiana",
            "Maine",
            "Maryland",
            "Massachusetts",
            "Michigan",
            "Minnesota",
            "Mississippi",
            "Missouri",
            "Montana",
            "Nebraska",
            "Nevada",
            "New Hampshire",
            "New Jersey",
            "New Mexico",
            "New York",
            "North Carolina",
            "North Dakota",
            "Ohio",
            "Oklahoma",
            "Oregon",
            "Pennsylvania",
            "Rhode Island",
            "South Carolina",
            "South Dakota",
            "Tennessee",
            "Texas",
            "Utah",
            "Vermont",
            "Virginia",
            "Washington",
            "West Virginia",
            "Wisconsin",
            "Wyoming"
           ],
           "locationmode": "USA-states",
           "locations": [
            "AL",
            "AZ",
            "AR",
            "CA",
            "CO",
            "CT",
            "DE",
            "FL",
            "GA",
            "HI",
            "ID",
            "IL",
            "IN",
            "IA",
            "KS",
            "KY",
            "LA",
            "ME",
            "MD",
            "MA",
            "MI",
            "MN",
            "MS",
            "MO",
            "MT",
            "NE",
            "NV",
            "NH",
            "NJ",
            "NM",
            "NY",
            "NC",
            "ND",
            "OH",
            "OK",
            "OR",
            "PA",
            "RI",
            "SC",
            "SD",
            "TN",
            "TX",
            "UT",
            "VT",
            "VA",
            "WA",
            "WV",
            "WI",
            "WY"
           ],
           "name": "",
           "type": "choropleth",
           "z": [
            2730,
            1522,
            1980,
            810,
            2388,
            2536,
            2679.42,
            1919,
            2208,
            1525,
            1876,
            2147,
            2728,
            3090,
            1848,
            3008,
            1841,
            2812,
            3093,
            3498,
            2126,
            4013,
            1668,
            2279,
            2470,
            1866,
            1643,
            5184,
            2947,
            1118,
            3383,
            1245,
            3240,
            3381.04,
            2237,
            2966,
            3051.63,
            2470,
            2941,
            3196,
            2390,
            1469,
            2155,
            4990,
            2191,
            2633,
            2101.9,
            3132,
            1770
           ]
          }
         ],
         "name": "2005"
        },
        {
         "data": [
          {
           "coloraxis": "coloraxis",
           "customdata": [
            [
             2786
            ],
            [
             1660
            ],
            [
             2095
            ],
            [
             724
            ],
            [
             2376
            ],
            [
             2672
            ],
            [
             2857.55
            ],
            [
             2031
            ],
            [
             2236
            ],
            [
             1732
            ],
            [
             1979
            ],
            [
             2301
            ],
            [
             2882
            ],
            [
             3202
            ],
            [
             1887
            ],
            [
             3270
            ],
            [
             1875
            ],
            [
             2926
            ],
            [
             3122
            ],
            [
             3579
            ],
            [
             2231
            ],
            [
             4264
            ],
            [
             1693
            ],
            [
             2391
            ],
            [
             2572
            ],
            [
             2013
            ],
            [
             1695
            ],
            [
             5234
            ],
            [
             3188
            ],
            [
             1102
            ],
            [
             3460
            ],
            [
             1257
            ],
            [
             3304
            ],
            [
             3435.29
            ],
            [
             2306
            ],
            [
             3161
            ],
            [
             3109.62
            ],
            [
             2686
            ],
            [
             3125
            ],
            [
             3449
            ],
            [
             2490
            ],
            [
             1610
            ],
            [
             2324
            ],
            [
             5230
            ],
            [
             2372
            ],
            [
             2738
            ],
            [
             2207
            ],
            [
             3145
            ],
            [
             1830
            ]
           ],
           "geo": "geo",
           "hovertemplate": "<b>%{hovertext}</b><br><br>Year=2006<br>State_Code=%{location}<br>Tuition=%{z}<extra></extra>",
           "hovertext": [
            "Alabama",
            "Arizona",
            "Arkansas",
            "California",
            "Colorado",
            "Connecticut",
            "Delaware",
            "Florida",
            "Georgia",
            "Hawaii",
            "Idaho",
            "Illinois",
            "Indiana",
            "Iowa",
            "Kansas",
            "Kentucky",
            "Louisiana",
            "Maine",
            "Maryland",
            "Massachusetts",
            "Michigan",
            "Minnesota",
            "Mississippi",
            "Missouri",
            "Montana",
            "Nebraska",
            "Nevada",
            "New Hampshire",
            "New Jersey",
            "New Mexico",
            "New York",
            "North Carolina",
            "North Dakota",
            "Ohio",
            "Oklahoma",
            "Oregon",
            "Pennsylvania",
            "Rhode Island",
            "South Carolina",
            "South Dakota",
            "Tennessee",
            "Texas",
            "Utah",
            "Vermont",
            "Virginia",
            "Washington",
            "West Virginia",
            "Wisconsin",
            "Wyoming"
           ],
           "locationmode": "USA-states",
           "locations": [
            "AL",
            "AZ",
            "AR",
            "CA",
            "CO",
            "CT",
            "DE",
            "FL",
            "GA",
            "HI",
            "ID",
            "IL",
            "IN",
            "IA",
            "KS",
            "KY",
            "LA",
            "ME",
            "MD",
            "MA",
            "MI",
            "MN",
            "MS",
            "MO",
            "MT",
            "NE",
            "NV",
            "NH",
            "NJ",
            "NM",
            "NY",
            "NC",
            "ND",
            "OH",
            "OK",
            "OR",
            "PA",
            "RI",
            "SC",
            "SD",
            "TN",
            "TX",
            "UT",
            "VT",
            "VA",
            "WA",
            "WV",
            "WI",
            "WY"
           ],
           "name": "",
           "type": "choropleth",
           "z": [
            2786,
            1660,
            2095,
            724,
            2376,
            2672,
            2857.55,
            2031,
            2236,
            1732,
            1979,
            2301,
            2882,
            3202,
            1887,
            3270,
            1875,
            2926,
            3122,
            3579,
            2231,
            4264,
            1693,
            2391,
            2572,
            2013,
            1695,
            5234,
            3188,
            1102,
            3460,
            1257,
            3304,
            3435.29,
            2306,
            3161,
            3109.62,
            2686,
            3125,
            3449,
            2490,
            1610,
            2324,
            5230,
            2372,
            2738,
            2207,
            3145,
            1830
           ]
          }
         ],
         "name": "2006"
        },
        {
         "data": [
          {
           "coloraxis": "coloraxis",
           "customdata": [
            [
             2809
            ],
            [
             1686
            ],
            [
             2138
            ],
            [
             633
            ],
            [
             2459
            ],
            [
             2828
            ],
            [
             2996.1
            ],
            [
             2031
            ],
            [
             2120
            ],
            [
             1946
            ],
            [
             2092
            ],
            [
             2440
            ],
            [
             3003
            ],
            [
             3331
            ],
            [
             1928
            ],
            [
             3450
            ],
            [
             1915
            ],
            [
             3120
            ],
            [
             3252
            ],
            [
             3694
            ],
            [
             2329
            ],
            [
             4446
            ],
            [
             1709
            ],
            [
             2505
            ],
            [
             2770
            ],
            [
             2155
            ],
            [
             1763
            ],
            [
             5609
            ],
            [
             3387
            ],
            [
             1143
            ],
            [
             3547
            ],
            [
             1341
            ],
            [
             3455
            ],
            [
             3515
            ],
            [
             2486
            ],
            [
             3222
            ],
            [
             3234
            ],
            [
             2846
            ],
            [
             3235
            ],
            [
             3596
            ],
            [
             2632
            ],
            [
             1649
            ],
            [
             2444
            ],
            [
             5500
            ],
            [
             2561
            ],
            [
             2879
            ],
            [
             2345
            ],
            [
             3270
            ],
            [
             1922
            ]
           ],
           "geo": "geo",
           "hovertemplate": "<b>%{hovertext}</b><br><br>Year=2007<br>State_Code=%{location}<br>Tuition=%{z}<extra></extra>",
           "hovertext": [
            "Alabama",
            "Arizona",
            "Arkansas",
            "California",
            "Colorado",
            "Connecticut",
            "Delaware",
            "Florida",
            "Georgia",
            "Hawaii",
            "Idaho",
            "Illinois",
            "Indiana",
            "Iowa",
            "Kansas",
            "Kentucky",
            "Louisiana",
            "Maine",
            "Maryland",
            "Massachusetts",
            "Michigan",
            "Minnesota",
            "Mississippi",
            "Missouri",
            "Montana",
            "Nebraska",
            "Nevada",
            "New Hampshire",
            "New Jersey",
            "New Mexico",
            "New York",
            "North Carolina",
            "North Dakota",
            "Ohio",
            "Oklahoma",
            "Oregon",
            "Pennsylvania",
            "Rhode Island",
            "South Carolina",
            "South Dakota",
            "Tennessee",
            "Texas",
            "Utah",
            "Vermont",
            "Virginia",
            "Washington",
            "West Virginia",
            "Wisconsin",
            "Wyoming"
           ],
           "locationmode": "USA-states",
           "locations": [
            "AL",
            "AZ",
            "AR",
            "CA",
            "CO",
            "CT",
            "DE",
            "FL",
            "GA",
            "HI",
            "ID",
            "IL",
            "IN",
            "IA",
            "KS",
            "KY",
            "LA",
            "ME",
            "MD",
            "MA",
            "MI",
            "MN",
            "MS",
            "MO",
            "MT",
            "NE",
            "NV",
            "NH",
            "NJ",
            "NM",
            "NY",
            "NC",
            "ND",
            "OH",
            "OK",
            "OR",
            "PA",
            "RI",
            "SC",
            "SD",
            "TN",
            "TX",
            "UT",
            "VT",
            "VA",
            "WA",
            "WV",
            "WI",
            "WY"
           ],
           "name": "",
           "type": "choropleth",
           "z": [
            2809,
            1686,
            2138,
            633,
            2459,
            2828,
            2996.1,
            2031,
            2120,
            1946,
            2092,
            2440,
            3003,
            3331,
            1928,
            3450,
            1915,
            3120,
            3252,
            3694,
            2329,
            4446,
            1709,
            2505,
            2770,
            2155,
            1763,
            5609,
            3387,
            1143,
            3547,
            1341,
            3455,
            3515,
            2486,
            3222,
            3234,
            2846,
            3235,
            3596,
            2632,
            1649,
            2444,
            5500,
            2561,
            2879,
            2345,
            3270,
            1922
           ]
          }
         ],
         "name": "2007"
        },
        {
         "data": [
          {
           "coloraxis": "coloraxis",
           "customdata": [
            [
             2835
            ],
            [
             1821
            ],
            [
             2296
            ],
            [
             634
            ],
            [
             2550
            ],
            [
             2984
            ],
            [
             3254.64
            ],
            [
             2292
            ],
            [
             2104
            ],
            [
             2192
            ],
            [
             2232
            ],
            [
             2597
            ],
            [
             3137
            ],
            [
             3512
            ],
            [
             1984
            ],
            [
             3684
            ],
            [
             1947
            ],
            [
             3156
            ],
            [
             3329
            ],
            [
             3925
            ],
            [
             2455
            ],
            [
             4562
            ],
            [
             1770
            ],
            [
             2586
            ],
            [
             2904
            ],
            [
             2240
            ],
            [
             1921
            ],
            [
             5607
            ],
            [
             3550
            ],
            [
             1146
            ],
            [
             3653
            ],
            [
             1350
            ],
            [
             3837
            ],
            [
             3516
            ],
            [
             2693
            ],
            [
             3336
            ],
            [
             3345
            ],
            [
             3090
            ],
            [
             3346
            ],
            [
             3939
            ],
            [
             2777
            ],
            [
             1662
            ],
            [
             2555
            ],
            [
             5830
            ],
            [
             2860
            ],
            [
             2962
            ],
            [
             2479
            ],
            [
             3422
            ],
            [
             2018
            ]
           ],
           "geo": "geo",
           "hovertemplate": "<b>%{hovertext}</b><br><br>Year=2008<br>State_Code=%{location}<br>Tuition=%{z}<extra></extra>",
           "hovertext": [
            "Alabama",
            "Arizona",
            "Arkansas",
            "California",
            "Colorado",
            "Connecticut",
            "Delaware",
            "Florida",
            "Georgia",
            "Hawaii",
            "Idaho",
            "Illinois",
            "Indiana",
            "Iowa",
            "Kansas",
            "Kentucky",
            "Louisiana",
            "Maine",
            "Maryland",
            "Massachusetts",
            "Michigan",
            "Minnesota",
            "Mississippi",
            "Missouri",
            "Montana",
            "Nebraska",
            "Nevada",
            "New Hampshire",
            "New Jersey",
            "New Mexico",
            "New York",
            "North Carolina",
            "North Dakota",
            "Ohio",
            "Oklahoma",
            "Oregon",
            "Pennsylvania",
            "Rhode Island",
            "South Carolina",
            "South Dakota",
            "Tennessee",
            "Texas",
            "Utah",
            "Vermont",
            "Virginia",
            "Washington",
            "West Virginia",
            "Wisconsin",
            "Wyoming"
           ],
           "locationmode": "USA-states",
           "locations": [
            "AL",
            "AZ",
            "AR",
            "CA",
            "CO",
            "CT",
            "DE",
            "FL",
            "GA",
            "HI",
            "ID",
            "IL",
            "IN",
            "IA",
            "KS",
            "KY",
            "LA",
            "ME",
            "MD",
            "MA",
            "MI",
            "MN",
            "MS",
            "MO",
            "MT",
            "NE",
            "NV",
            "NH",
            "NJ",
            "NM",
            "NY",
            "NC",
            "ND",
            "OH",
            "OK",
            "OR",
            "PA",
            "RI",
            "SC",
            "SD",
            "TN",
            "TX",
            "UT",
            "VT",
            "VA",
            "WA",
            "WV",
            "WI",
            "WY"
           ],
           "name": "",
           "type": "choropleth",
           "z": [
            2835,
            1821,
            2296,
            634,
            2550,
            2984,
            3254.64,
            2292,
            2104,
            2192,
            2232,
            2597,
            3137,
            3512,
            1984,
            3684,
            1947,
            3156,
            3329,
            3925,
            2455,
            4562,
            1770,
            2586,
            2904,
            2240,
            1921,
            5607,
            3550,
            1146,
            3653,
            1350,
            3837,
            3516,
            2693,
            3336,
            3345,
            3090,
            3346,
            3939,
            2777,
            1662,
            2555,
            5830,
            2860,
            2962,
            2479,
            3422,
            2018
           ]
          }
         ],
         "name": "2008"
        },
        {
         "data": [
          {
           "coloraxis": "coloraxis",
           "customdata": [
            [
             2839
            ],
            [
             1918
            ],
            [
             2378
            ],
            [
             817
            ],
            [
             2768
            ],
            [
             3200
            ],
            [
             3417.93
            ],
            [
             2553
            ],
            [
             2596
            ],
            [
             2443
            ],
            [
             2418
            ],
            [
             2729
            ],
            [
             3279
            ],
            [
             3701
            ],
            [
             2121
            ],
            [
             3759
            ],
            [
             2049
            ],
            [
             3236
            ],
            [
             3394
            ],
            [
             4291
            ],
            [
             2527
            ],
            [
             4739
            ],
            [
             1855
            ],
            [
             2580
            ],
            [
             2978
            ],
            [
             2294
            ],
            [
             2022
            ],
            [
             5892
            ],
            [
             3794
            ],
            [
             1208
            ],
            [
             3871
            ],
            [
             1600
            ],
            [
             3878
            ],
            [
             3495
            ],
            [
             2704
            ],
            [
             3611
            ],
            [
             3448
            ],
            [
             3376
            ],
            [
             3481
            ],
            [
             4314
            ],
            [
             2971
            ],
            [
             1746
            ],
            [
             2710
            ],
            [
             6070
            ],
            [
             3087
            ],
            [
             3153
            ],
            [
             2632
            ],
            [
             3507
            ],
            [
             2164
            ]
           ],
           "geo": "geo",
           "hovertemplate": "<b>%{hovertext}</b><br><br>Year=2009<br>State_Code=%{location}<br>Tuition=%{z}<extra></extra>",
           "hovertext": [
            "Alabama",
            "Arizona",
            "Arkansas",
            "California",
            "Colorado",
            "Connecticut",
            "Delaware",
            "Florida",
            "Georgia",
            "Hawaii",
            "Idaho",
            "Illinois",
            "Indiana",
            "Iowa",
            "Kansas",
            "Kentucky",
            "Louisiana",
            "Maine",
            "Maryland",
            "Massachusetts",
            "Michigan",
            "Minnesota",
            "Mississippi",
            "Missouri",
            "Montana",
            "Nebraska",
            "Nevada",
            "New Hampshire",
            "New Jersey",
            "New Mexico",
            "New York",
            "North Carolina",
            "North Dakota",
            "Ohio",
            "Oklahoma",
            "Oregon",
            "Pennsylvania",
            "Rhode Island",
            "South Carolina",
            "South Dakota",
            "Tennessee",
            "Texas",
            "Utah",
            "Vermont",
            "Virginia",
            "Washington",
            "West Virginia",
            "Wisconsin",
            "Wyoming"
           ],
           "locationmode": "USA-states",
           "locations": [
            "AL",
            "AZ",
            "AR",
            "CA",
            "CO",
            "CT",
            "DE",
            "FL",
            "GA",
            "HI",
            "ID",
            "IL",
            "IN",
            "IA",
            "KS",
            "KY",
            "LA",
            "ME",
            "MD",
            "MA",
            "MI",
            "MN",
            "MS",
            "MO",
            "MT",
            "NE",
            "NV",
            "NH",
            "NJ",
            "NM",
            "NY",
            "NC",
            "ND",
            "OH",
            "OK",
            "OR",
            "PA",
            "RI",
            "SC",
            "SD",
            "TN",
            "TX",
            "UT",
            "VT",
            "VA",
            "WA",
            "WV",
            "WI",
            "WY"
           ],
           "name": "",
           "type": "choropleth",
           "z": [
            2839,
            1918,
            2378,
            817,
            2768,
            3200,
            3417.93,
            2553,
            2596,
            2443,
            2418,
            2729,
            3279,
            3701,
            2121,
            3759,
            2049,
            3236,
            3394,
            4291,
            2527,
            4739,
            1855,
            2580,
            2978,
            2294,
            2022,
            5892,
            3794,
            1208,
            3871,
            1600,
            3878,
            3495,
            2704,
            3611,
            3448,
            3376,
            3481,
            4314,
            2971,
            1746,
            2710,
            6070,
            3087,
            3153,
            2632,
            3507,
            2164
           ]
          }
         ],
         "name": "2009"
        },
        {
         "data": [
          {
           "coloraxis": "coloraxis",
           "customdata": [
            [
             3417
            ],
            [
             1979
            ],
            [
             2525
            ],
            [
             819
            ],
            [
             3122
            ],
            [
             3408
            ],
            [
             3573.8
            ],
            [
             2773
            ],
            [
             2800
            ],
            [
             2710
            ],
            [
             2554
            ],
            [
             3010
            ],
            [
             3441
            ],
            [
             3912
            ],
            [
             2281
            ],
            [
             3900
            ],
            [
             2212
            ],
            [
             3260
            ],
            [
             3567
            ],
            [
             4594
            ],
            [
             2694
            ],
            [
             4939
            ],
            [
             2119
            ],
            [
             2580
            ],
            [
             3029
            ],
            [
             2412
            ],
            [
             2243
            ],
            [
             6271
            ],
            [
             3922
            ],
            [
             1325
            ],
            [
             3961
            ],
            [
             1776
            ],
            [
             3880
            ],
            [
             3732
            ],
            [
             2832
            ],
            [
             3745
            ],
            [
             3470
            ],
            [
             3652
            ],
            [
             3646
            ],
            [
             4585
            ],
            [
             3196
            ],
            [
             1858
            ],
            [
             2867
            ],
            [
             6250
            ],
            [
             3585
            ],
            [
             3360
            ],
            [
             2524
            ],
            [
             3623
            ],
            [
             2223
            ]
           ],
           "geo": "geo",
           "hovertemplate": "<b>%{hovertext}</b><br><br>Year=2010<br>State_Code=%{location}<br>Tuition=%{z}<extra></extra>",
           "hovertext": [
            "Alabama",
            "Arizona",
            "Arkansas",
            "California",
            "Colorado",
            "Connecticut",
            "Delaware",
            "Florida",
            "Georgia",
            "Hawaii",
            "Idaho",
            "Illinois",
            "Indiana",
            "Iowa",
            "Kansas",
            "Kentucky",
            "Louisiana",
            "Maine",
            "Maryland",
            "Massachusetts",
            "Michigan",
            "Minnesota",
            "Mississippi",
            "Missouri",
            "Montana",
            "Nebraska",
            "Nevada",
            "New Hampshire",
            "New Jersey",
            "New Mexico",
            "New York",
            "North Carolina",
            "North Dakota",
            "Ohio",
            "Oklahoma",
            "Oregon",
            "Pennsylvania",
            "Rhode Island",
            "South Carolina",
            "South Dakota",
            "Tennessee",
            "Texas",
            "Utah",
            "Vermont",
            "Virginia",
            "Washington",
            "West Virginia",
            "Wisconsin",
            "Wyoming"
           ],
           "locationmode": "USA-states",
           "locations": [
            "AL",
            "AZ",
            "AR",
            "CA",
            "CO",
            "CT",
            "DE",
            "FL",
            "GA",
            "HI",
            "ID",
            "IL",
            "IN",
            "IA",
            "KS",
            "KY",
            "LA",
            "ME",
            "MD",
            "MA",
            "MI",
            "MN",
            "MS",
            "MO",
            "MT",
            "NE",
            "NV",
            "NH",
            "NJ",
            "NM",
            "NY",
            "NC",
            "ND",
            "OH",
            "OK",
            "OR",
            "PA",
            "RI",
            "SC",
            "SD",
            "TN",
            "TX",
            "UT",
            "VT",
            "VA",
            "WA",
            "WV",
            "WI",
            "WY"
           ],
           "name": "",
           "type": "choropleth",
           "z": [
            3417,
            1979,
            2525,
            819,
            3122,
            3408,
            3573.8,
            2773,
            2800,
            2710,
            2554,
            3010,
            3441,
            3912,
            2281,
            3900,
            2212,
            3260,
            3567,
            4594,
            2694,
            4939,
            2119,
            2580,
            3029,
            2412,
            2243,
            6271,
            3922,
            1325,
            3961,
            1776,
            3880,
            3732,
            2832,
            3745,
            3470,
            3652,
            3646,
            4585,
            3196,
            1858,
            2867,
            6250,
            3585,
            3360,
            2524,
            3623,
            2223
           ]
          }
         ],
         "name": "2010"
        },
        {
         "data": [
          {
           "coloraxis": "coloraxis",
           "customdata": [
            [
             4010
            ],
            [
             2151
            ],
            [
             2663
            ],
            [
             1119
            ],
            [
             3394
            ],
            [
             3490
            ],
            [
             3817.49
            ],
            [
             2985
            ],
            [
             3125
            ],
            [
             2965
            ],
            [
             2791
            ],
            [
             3152
            ],
            [
             3538
            ],
            [
             4111
            ],
            [
             2362
            ],
            [
             4051
            ],
            [
             2701
            ],
            [
             3329
            ],
            [
             3708
            ],
            [
             4817
            ],
            [
             2861
            ],
            [
             5161
            ],
            [
             2205
            ],
            [
             2736
            ],
            [
             3054
            ],
            [
             2491
            ],
            [
             2513
            ],
            [
             6724
            ],
            [
             4111
            ],
            [
             1499
            ],
            [
             4253
            ],
            [
             2070
            ],
            [
             3926
            ],
            [
             3953
            ],
            [
             3024
            ],
            [
             4021
            ],
            [
             3927
            ],
            [
             3676
            ],
            [
             3717
            ],
            [
             4943
            ],
            [
             3552
            ],
            [
             2040
            ],
            [
             3017
            ],
            [
             6520
            ],
            [
             3983
            ],
            [
             3814
            ],
            [
             2707
            ],
            [
             3829
            ],
            [
             2327
            ]
           ],
           "geo": "geo",
           "hovertemplate": "<b>%{hovertext}</b><br><br>Year=2011<br>State_Code=%{location}<br>Tuition=%{z}<extra></extra>",
           "hovertext": [
            "Alabama",
            "Arizona",
            "Arkansas",
            "California",
            "Colorado",
            "Connecticut",
            "Delaware",
            "Florida",
            "Georgia",
            "Hawaii",
            "Idaho",
            "Illinois",
            "Indiana",
            "Iowa",
            "Kansas",
            "Kentucky",
            "Louisiana",
            "Maine",
            "Maryland",
            "Massachusetts",
            "Michigan",
            "Minnesota",
            "Mississippi",
            "Missouri",
            "Montana",
            "Nebraska",
            "Nevada",
            "New Hampshire",
            "New Jersey",
            "New Mexico",
            "New York",
            "North Carolina",
            "North Dakota",
            "Ohio",
            "Oklahoma",
            "Oregon",
            "Pennsylvania",
            "Rhode Island",
            "South Carolina",
            "South Dakota",
            "Tennessee",
            "Texas",
            "Utah",
            "Vermont",
            "Virginia",
            "Washington",
            "West Virginia",
            "Wisconsin",
            "Wyoming"
           ],
           "locationmode": "USA-states",
           "locations": [
            "AL",
            "AZ",
            "AR",
            "CA",
            "CO",
            "CT",
            "DE",
            "FL",
            "GA",
            "HI",
            "ID",
            "IL",
            "IN",
            "IA",
            "KS",
            "KY",
            "LA",
            "ME",
            "MD",
            "MA",
            "MI",
            "MN",
            "MS",
            "MO",
            "MT",
            "NE",
            "NV",
            "NH",
            "NJ",
            "NM",
            "NY",
            "NC",
            "ND",
            "OH",
            "OK",
            "OR",
            "PA",
            "RI",
            "SC",
            "SD",
            "TN",
            "TX",
            "UT",
            "VT",
            "VA",
            "WA",
            "WV",
            "WI",
            "WY"
           ],
           "name": "",
           "type": "choropleth",
           "z": [
            4010,
            2151,
            2663,
            1119,
            3394,
            3490,
            3817.49,
            2985,
            3125,
            2965,
            2791,
            3152,
            3538,
            4111,
            2362,
            4051,
            2701,
            3329,
            3708,
            4817,
            2861,
            5161,
            2205,
            2736,
            3054,
            2491,
            2513,
            6724,
            4111,
            1499,
            4253,
            2070,
            3926,
            3953,
            3024,
            4021,
            3927,
            3676,
            3717,
            4943,
            3552,
            2040,
            3017,
            6520,
            3983,
            3814,
            2707,
            3829,
            2327
           ]
          }
         ],
         "name": "2011"
        },
        {
         "data": [
          {
           "coloraxis": "coloraxis",
           "customdata": [
            [
             4088
            ],
            [
             2204
            ],
            [
             2794
            ],
            [
             1419
            ],
            [
             3577
            ],
            [
             3598
            ],
            [
             3850.89
            ],
            [
             3091
            ],
            [
             3315
            ],
            [
             3097
            ],
            [
             3114
            ],
            [
             3249
            ],
            [
             3660
            ],
            [
             4251
            ],
            [
             2517
            ],
            [
             4201
            ],
            [
             3001
            ],
            [
             3333
            ],
            [
             3886
            ],
            [
             5114
            ],
            [
             3042
            ],
            [
             5369
            ],
            [
             2265
            ],
            [
             2888
            ],
            [
             3094
            ],
            [
             2601
            ],
            [
             2700
            ],
            [
             6736
            ],
            [
             4160
            ],
            [
             1593
            ],
            [
             4453
            ],
            [
             2162
            ],
            [
             3969
            ],
            [
             4208
            ],
            [
             3163
            ],
            [
             4222
            ],
            [
             4200
            ],
            [
             3950
            ],
            [
             4248
            ],
            [
             5468
            ],
            [
             3659
            ],
            [
             2146
            ],
            [
             3149
            ],
            [
             6790
            ],
            [
             4192
            ],
            [
             4243
            ],
            [
             2923
            ],
            [
             4030
            ],
            [
             2440
            ]
           ],
           "geo": "geo",
           "hovertemplate": "<b>%{hovertext}</b><br><br>Year=2012<br>State_Code=%{location}<br>Tuition=%{z}<extra></extra>",
           "hovertext": [
            "Alabama",
            "Arizona",
            "Arkansas",
            "California",
            "Colorado",
            "Connecticut",
            "Delaware",
            "Florida",
            "Georgia",
            "Hawaii",
            "Idaho",
            "Illinois",
            "Indiana",
            "Iowa",
            "Kansas",
            "Kentucky",
            "Louisiana",
            "Maine",
            "Maryland",
            "Massachusetts",
            "Michigan",
            "Minnesota",
            "Mississippi",
            "Missouri",
            "Montana",
            "Nebraska",
            "Nevada",
            "New Hampshire",
            "New Jersey",
            "New Mexico",
            "New York",
            "North Carolina",
            "North Dakota",
            "Ohio",
            "Oklahoma",
            "Oregon",
            "Pennsylvania",
            "Rhode Island",
            "South Carolina",
            "South Dakota",
            "Tennessee",
            "Texas",
            "Utah",
            "Vermont",
            "Virginia",
            "Washington",
            "West Virginia",
            "Wisconsin",
            "Wyoming"
           ],
           "locationmode": "USA-states",
           "locations": [
            "AL",
            "AZ",
            "AR",
            "CA",
            "CO",
            "CT",
            "DE",
            "FL",
            "GA",
            "HI",
            "ID",
            "IL",
            "IN",
            "IA",
            "KS",
            "KY",
            "LA",
            "ME",
            "MD",
            "MA",
            "MI",
            "MN",
            "MS",
            "MO",
            "MT",
            "NE",
            "NV",
            "NH",
            "NJ",
            "NM",
            "NY",
            "NC",
            "ND",
            "OH",
            "OK",
            "OR",
            "PA",
            "RI",
            "SC",
            "SD",
            "TN",
            "TX",
            "UT",
            "VT",
            "VA",
            "WA",
            "WV",
            "WI",
            "WY"
           ],
           "name": "",
           "type": "choropleth",
           "z": [
            4088,
            2204,
            2794,
            1419,
            3577,
            3598,
            3850.89,
            3091,
            3315,
            3097,
            3114,
            3249,
            3660,
            4251,
            2517,
            4201,
            3001,
            3333,
            3886,
            5114,
            3042,
            5369,
            2265,
            2888,
            3094,
            2601,
            2700,
            6736,
            4160,
            1593,
            4453,
            2162,
            3969,
            4208,
            3163,
            4222,
            4200,
            3950,
            4248,
            5468,
            3659,
            2146,
            3149,
            6790,
            4192,
            4243,
            2923,
            4030,
            2440
           ]
          }
         ],
         "name": "2012"
        },
        {
         "data": [
          {
           "coloraxis": "coloraxis",
           "customdata": [
            [
             4151.15
            ],
            [
             2333.7
            ],
            [
             3006.07
            ],
            [
             1424.91
            ],
            [
             3744.87
            ],
            [
             3786
            ],
            [
             4050.06
            ],
            [
             3141.32
            ],
            [
             3426.86
            ],
            [
             3252.18
            ],
            [
             3697.17
            ],
            [
             3393.41
            ],
            [
             3808.99
            ],
            [
             4387.45
            ],
            [
             2543.6
            ],
            [
             4321.58
            ],
            [
             3380.66
            ],
            [
             3397.98
            ],
            [
             3991.86
            ],
            [
             5142.22
            ],
            [
             3224.81
            ],
            [
             5373.11
            ],
            [
             2392.83
            ],
            [
             2985.91
            ],
            [
             3169.57
            ],
            [
             2675.93
            ],
            [
             2700
            ],
            [
             6734.68
            ],
            [
             4265.97
            ],
            [
             1614.85
            ],
            [
             4618.72
            ],
            [
             2253.34
            ],
            [
             4105.28
            ],
            [
             4373.59
            ],
            [
             3288.15
            ],
            [
             4429.09
            ],
            [
             4449.92
            ],
            [
             3950
            ],
            [
             4491.25
            ],
            [
             5540.94
            ],
            [
             3762.98
            ],
            [
             2204.06
            ],
            [
             3312.19
            ],
            [
             7090
            ],
            [
             4329.59
            ],
            [
             4305.71
            ],
            [
             3278.18
            ],
            [
             4178.64
            ],
            [
             2605.26
            ]
           ],
           "geo": "geo",
           "hovertemplate": "<b>%{hovertext}</b><br><br>Year=2013<br>State_Code=%{location}<br>Tuition=%{z}<extra></extra>",
           "hovertext": [
            "Alabama",
            "Arizona",
            "Arkansas",
            "California",
            "Colorado",
            "Connecticut",
            "Delaware",
            "Florida",
            "Georgia",
            "Hawaii",
            "Idaho",
            "Illinois",
            "Indiana",
            "Iowa",
            "Kansas",
            "Kentucky",
            "Louisiana",
            "Maine",
            "Maryland",
            "Massachusetts",
            "Michigan",
            "Minnesota",
            "Mississippi",
            "Missouri",
            "Montana",
            "Nebraska",
            "Nevada",
            "New Hampshire",
            "New Jersey",
            "New Mexico",
            "New York",
            "North Carolina",
            "North Dakota",
            "Ohio",
            "Oklahoma",
            "Oregon",
            "Pennsylvania",
            "Rhode Island",
            "South Carolina",
            "South Dakota",
            "Tennessee",
            "Texas",
            "Utah",
            "Vermont",
            "Virginia",
            "Washington",
            "West Virginia",
            "Wisconsin",
            "Wyoming"
           ],
           "locationmode": "USA-states",
           "locations": [
            "AL",
            "AZ",
            "AR",
            "CA",
            "CO",
            "CT",
            "DE",
            "FL",
            "GA",
            "HI",
            "ID",
            "IL",
            "IN",
            "IA",
            "KS",
            "KY",
            "LA",
            "ME",
            "MD",
            "MA",
            "MI",
            "MN",
            "MS",
            "MO",
            "MT",
            "NE",
            "NV",
            "NH",
            "NJ",
            "NM",
            "NY",
            "NC",
            "ND",
            "OH",
            "OK",
            "OR",
            "PA",
            "RI",
            "SC",
            "SD",
            "TN",
            "TX",
            "UT",
            "VT",
            "VA",
            "WA",
            "WV",
            "WI",
            "WY"
           ],
           "name": "",
           "type": "choropleth",
           "z": [
            4151.15,
            2333.7,
            3006.07,
            1424.91,
            3744.87,
            3786,
            4050.06,
            3141.32,
            3426.86,
            3252.18,
            3697.17,
            3393.41,
            3808.99,
            4387.45,
            2543.6,
            4321.58,
            3380.66,
            3397.98,
            3991.86,
            5142.22,
            3224.81,
            5373.11,
            2392.83,
            2985.91,
            3169.57,
            2675.93,
            2700,
            6734.68,
            4265.97,
            1614.85,
            4618.72,
            2253.34,
            4105.28,
            4373.59,
            3288.15,
            4429.09,
            4449.92,
            3950,
            4491.25,
            5540.94,
            3762.98,
            2204.06,
            3312.19,
            7090,
            4329.59,
            4305.71,
            3278.18,
            4178.64,
            2605.26
           ]
          }
         ],
         "name": "2013"
        },
        {
         "data": [
          {
           "coloraxis": "coloraxis",
           "customdata": [
            [
             4256.51
            ],
            [
             2430.35
            ],
            [
             3176.63
            ],
            [
             1428.07
            ],
            [
             3900.06
            ],
            [
             3866
            ],
            [
             4293.75
            ],
            [
             3175.73
            ],
            [
             3599.41
            ],
            [
             3492.23
            ],
            [
             3749.17
            ],
            [
             3543.74
            ],
            [
             4178.09
            ],
            [
             4523.37
            ],
            [
             2678.86
            ],
            [
             4460.98
            ],
            [
             3624.61
            ],
            [
             3490.17
            ],
            [
             4134.53
            ],
            [
             5308.64
            ],
            [
             3377.64
            ],
            [
             5382.28
            ],
            [
             2529.28
            ],
            [
             3077.86
            ],
            [
             3173.67
            ],
            [
             2763.51
            ],
            [
             2700
            ],
            [
             6512.08
            ],
            [
             4440.51
            ],
            [
             1654.29
            ],
            [
             4851.19
            ],
            [
             2300.12
            ],
            [
             4192.12
            ],
            [
             4531.15
            ],
            [
             3496.5
            ],
            [
             4558.74
            ],
            [
             4698.01
            ],
            [
             3950
            ],
            [
             4642.33
            ],
            [
             5704.67
            ],
            [
             3946.7
            ],
            [
             2290.05
            ],
            [
             3466.46
            ],
            [
             7320
            ],
            [
             4559.98
            ],
            [
             4295.31
            ],
            [
             3731.33
            ],
            [
             4311.73
            ],
            [
             2706.27
            ]
           ],
           "geo": "geo",
           "hovertemplate": "<b>%{hovertext}</b><br><br>Year=2014<br>State_Code=%{location}<br>Tuition=%{z}<extra></extra>",
           "hovertext": [
            "Alabama",
            "Arizona",
            "Arkansas",
            "California",
            "Colorado",
            "Connecticut",
            "Delaware",
            "Florida",
            "Georgia",
            "Hawaii",
            "Idaho",
            "Illinois",
            "Indiana",
            "Iowa",
            "Kansas",
            "Kentucky",
            "Louisiana",
            "Maine",
            "Maryland",
            "Massachusetts",
            "Michigan",
            "Minnesota",
            "Mississippi",
            "Missouri",
            "Montana",
            "Nebraska",
            "Nevada",
            "New Hampshire",
            "New Jersey",
            "New Mexico",
            "New York",
            "North Carolina",
            "North Dakota",
            "Ohio",
            "Oklahoma",
            "Oregon",
            "Pennsylvania",
            "Rhode Island",
            "South Carolina",
            "South Dakota",
            "Tennessee",
            "Texas",
            "Utah",
            "Vermont",
            "Virginia",
            "Washington",
            "West Virginia",
            "Wisconsin",
            "Wyoming"
           ],
           "locationmode": "USA-states",
           "locations": [
            "AL",
            "AZ",
            "AR",
            "CA",
            "CO",
            "CT",
            "DE",
            "FL",
            "GA",
            "HI",
            "ID",
            "IL",
            "IN",
            "IA",
            "KS",
            "KY",
            "LA",
            "ME",
            "MD",
            "MA",
            "MI",
            "MN",
            "MS",
            "MO",
            "MT",
            "NE",
            "NV",
            "NH",
            "NJ",
            "NM",
            "NY",
            "NC",
            "ND",
            "OH",
            "OK",
            "OR",
            "PA",
            "RI",
            "SC",
            "SD",
            "TN",
            "TX",
            "UT",
            "VT",
            "VA",
            "WA",
            "WV",
            "WI",
            "WY"
           ],
           "name": "",
           "type": "choropleth",
           "z": [
            4256.51,
            2430.35,
            3176.63,
            1428.07,
            3900.06,
            3866,
            4293.75,
            3175.73,
            3599.41,
            3492.23,
            3749.17,
            3543.74,
            4178.09,
            4523.37,
            2678.86,
            4460.98,
            3624.61,
            3490.17,
            4134.53,
            5308.64,
            3377.64,
            5382.28,
            2529.28,
            3077.86,
            3173.67,
            2763.51,
            2700,
            6512.08,
            4440.51,
            1654.29,
            4851.19,
            2300.12,
            4192.12,
            4531.15,
            3496.5,
            4558.74,
            4698.01,
            3950,
            4642.33,
            5704.67,
            3946.7,
            2290.05,
            3466.46,
            7320,
            4559.98,
            4295.31,
            3731.33,
            4311.73,
            2706.27
           ]
          }
         ],
         "name": "2014"
        },
        {
         "data": [
          {
           "coloraxis": "coloraxis",
           "customdata": [
            [
             4314.23
            ],
            [
             2474.57
            ],
            [
             3402.64
            ],
            [
             1422.43
            ],
            [
             4076.85
            ],
            [
             4048.19
            ],
            [
             4413.75
            ],
            [
             3234.36
            ],
            [
             3678.45
            ],
            [
             3663.81
            ],
            [
             3871.62
            ],
            [
             3748.4
            ],
            [
             4323.87
            ],
            [
             4736.37
            ],
            [
             2779.03
            ],
            [
             4653.09
            ],
            [
             3969.67
            ],
            [
             3490.87
            ],
            [
             4274.28
            ],
            [
             5696.82
            ],
            [
             3475.6
            ],
            [
             5390.58
            ],
            [
             2585.07
            ],
            [
             3194.37
            ],
            [
             3249.87
            ],
            [
             2893.98
            ],
            [
             2805
            ],
            [
             6512.08
            ],
            [
             4600.01
            ],
            [
             1655.93
            ],
            [
             5102.77
            ],
            [
             2327.07
            ],
            [
             4406.43
            ],
            [
             4533.77
            ],
            [
             3647.08
            ],
            [
             4657.41
            ],
            [
             4927.44
            ],
            [
             4266
            ],
            [
             4771.73
            ],
            [
             6137.98
            ],
            [
             4158.57
            ],
            [
             2323.58
            ],
            [
             3565.19
            ],
            [
             7530
            ],
            [
             4801.92
            ],
            [
             4171.91
            ],
            [
             3829.31
            ],
            [
             4466.47
            ],
            [
             2780.75
            ]
           ],
           "geo": "geo",
           "hovertemplate": "<b>%{hovertext}</b><br><br>Year=2015<br>State_Code=%{location}<br>Tuition=%{z}<extra></extra>",
           "hovertext": [
            "Alabama",
            "Arizona",
            "Arkansas",
            "California",
            "Colorado",
            "Connecticut",
            "Delaware",
            "Florida",
            "Georgia",
            "Hawaii",
            "Idaho",
            "Illinois",
            "Indiana",
            "Iowa",
            "Kansas",
            "Kentucky",
            "Louisiana",
            "Maine",
            "Maryland",
            "Massachusetts",
            "Michigan",
            "Minnesota",
            "Mississippi",
            "Missouri",
            "Montana",
            "Nebraska",
            "Nevada",
            "New Hampshire",
            "New Jersey",
            "New Mexico",
            "New York",
            "North Carolina",
            "North Dakota",
            "Ohio",
            "Oklahoma",
            "Oregon",
            "Pennsylvania",
            "Rhode Island",
            "South Carolina",
            "South Dakota",
            "Tennessee",
            "Texas",
            "Utah",
            "Vermont",
            "Virginia",
            "Washington",
            "West Virginia",
            "Wisconsin",
            "Wyoming"
           ],
           "locationmode": "USA-states",
           "locations": [
            "AL",
            "AZ",
            "AR",
            "CA",
            "CO",
            "CT",
            "DE",
            "FL",
            "GA",
            "HI",
            "ID",
            "IL",
            "IN",
            "IA",
            "KS",
            "KY",
            "LA",
            "ME",
            "MD",
            "MA",
            "MI",
            "MN",
            "MS",
            "MO",
            "MT",
            "NE",
            "NV",
            "NH",
            "NJ",
            "NM",
            "NY",
            "NC",
            "ND",
            "OH",
            "OK",
            "OR",
            "PA",
            "RI",
            "SC",
            "SD",
            "TN",
            "TX",
            "UT",
            "VT",
            "VA",
            "WA",
            "WV",
            "WI",
            "WY"
           ],
           "name": "",
           "type": "choropleth",
           "z": [
            4314.23,
            2474.57,
            3402.64,
            1422.43,
            4076.85,
            4048.19,
            4413.75,
            3234.36,
            3678.45,
            3663.81,
            3871.62,
            3748.4,
            4323.87,
            4736.37,
            2779.03,
            4653.09,
            3969.67,
            3490.87,
            4274.28,
            5696.82,
            3475.6,
            5390.58,
            2585.07,
            3194.37,
            3249.87,
            2893.98,
            2805,
            6512.08,
            4600.01,
            1655.93,
            5102.77,
            2327.07,
            4406.43,
            4533.77,
            3647.08,
            4657.41,
            4927.44,
            4266,
            4771.73,
            6137.98,
            4158.57,
            2323.58,
            3565.19,
            7530,
            4801.92,
            4171.91,
            3829.31,
            4466.47,
            2780.75
           ]
          }
         ],
         "name": "2015"
        },
        {
         "data": [
          {
           "coloraxis": "coloraxis",
           "customdata": [
            [
             4394.75
            ],
            [
             2558.51
            ],
            [
             3532.52
            ],
            [
             1425.96
            ],
            [
             4265.28
            ],
            [
             4187.42
            ],
            [
             4532.5
            ],
            [
             3233.5
            ],
            [
             3769.76
            ],
            [
             3844.16
            ],
            [
             4015.89
            ],
            [
             3895.76
            ],
            [
             4458.21
            ],
            [
             4913.21
            ],
            [
             2947.17
            ],
            [
             4910.12
            ],
            [
             4054.76
            ],
            [
             3536.18
            ],
            [
             4416.94
            ],
            [
             5831.09
            ],
            [
             3586.84
            ],
            [
             5375.01
            ],
            [
             2770.35
            ],
            [
             3263.99
            ],
            [
             3318.85
            ],
            [
             2992.79
            ],
            [
             2910
            ],
            [
             6532.68
            ],
            [
             4721.11
            ],
            [
             1714.6
            ],
            [
             5193.43
            ],
            [
             2428.61
            ],
            [
             4429.65
            ],
            [
             4320.99
            ],
            [
             3959.46
            ],
            [
             4785.47
            ],
            [
             5225.97
            ],
            [
             4266
            ],
            [
             4984.47
            ],
            [
             6292.14
            ],
            [
             4262.12
            ],
            [
             2436.95
            ],
            [
             3661.06
            ],
            [
             7740
            ],
            [
             4972.73
            ],
            [
             4204.01
            ],
            [
             4003.25
            ],
            [
             4334.09
            ],
            [
             2999.43
            ]
           ],
           "geo": "geo",
           "hovertemplate": "<b>%{hovertext}</b><br><br>Year=2016<br>State_Code=%{location}<br>Tuition=%{z}<extra></extra>",
           "hovertext": [
            "Alabama",
            "Arizona",
            "Arkansas",
            "California",
            "Colorado",
            "Connecticut",
            "Delaware",
            "Florida",
            "Georgia",
            "Hawaii",
            "Idaho",
            "Illinois",
            "Indiana",
            "Iowa",
            "Kansas",
            "Kentucky",
            "Louisiana",
            "Maine",
            "Maryland",
            "Massachusetts",
            "Michigan",
            "Minnesota",
            "Mississippi",
            "Missouri",
            "Montana",
            "Nebraska",
            "Nevada",
            "New Hampshire",
            "New Jersey",
            "New Mexico",
            "New York",
            "North Carolina",
            "North Dakota",
            "Ohio",
            "Oklahoma",
            "Oregon",
            "Pennsylvania",
            "Rhode Island",
            "South Carolina",
            "South Dakota",
            "Tennessee",
            "Texas",
            "Utah",
            "Vermont",
            "Virginia",
            "Washington",
            "West Virginia",
            "Wisconsin",
            "Wyoming"
           ],
           "locationmode": "USA-states",
           "locations": [
            "AL",
            "AZ",
            "AR",
            "CA",
            "CO",
            "CT",
            "DE",
            "FL",
            "GA",
            "HI",
            "ID",
            "IL",
            "IN",
            "IA",
            "KS",
            "KY",
            "LA",
            "ME",
            "MD",
            "MA",
            "MI",
            "MN",
            "MS",
            "MO",
            "MT",
            "NE",
            "NV",
            "NH",
            "NJ",
            "NM",
            "NY",
            "NC",
            "ND",
            "OH",
            "OK",
            "OR",
            "PA",
            "RI",
            "SC",
            "SD",
            "TN",
            "TX",
            "UT",
            "VT",
            "VA",
            "WA",
            "WV",
            "WI",
            "WY"
           ],
           "name": "",
           "type": "choropleth",
           "z": [
            4394.75,
            2558.51,
            3532.52,
            1425.96,
            4265.28,
            4187.42,
            4532.5,
            3233.5,
            3769.76,
            3844.16,
            4015.89,
            3895.76,
            4458.21,
            4913.21,
            2947.17,
            4910.12,
            4054.76,
            3536.18,
            4416.94,
            5831.09,
            3586.84,
            5375.01,
            2770.35,
            3263.99,
            3318.85,
            2992.79,
            2910,
            6532.68,
            4721.11,
            1714.6,
            5193.43,
            2428.61,
            4429.65,
            4320.99,
            3959.46,
            4785.47,
            5225.97,
            4266,
            4984.47,
            6292.14,
            4262.12,
            2436.95,
            3661.06,
            7740,
            4972.73,
            4204.01,
            4003.25,
            4334.09,
            2999.43
           ]
          }
         ],
         "name": "2016"
        },
        {
         "data": [
          {
           "coloraxis": "coloraxis",
           "customdata": [
            [
             4480
            ],
            [
             2600
            ],
            [
             3610
            ],
            [
             1420
            ],
            [
             4320
            ],
            [
             4310
            ],
            [
             4720
            ],
            [
             3240
            ],
            [
             3790
            ],
            [
             3850
            ],
            [
             4100
            ],
            [
             4060
            ],
            [
             4580
            ],
            [
             5070
            ],
            [
             3030
            ],
            [
             5100
            ],
            [
             4140
            ],
            [
             3620
            ],
            [
             4530
            ],
            [
             6040
            ],
            [
             3770
            ],
            [
             5450
            ],
            [
             3090
            ],
            [
             3460
            ],
            [
             3640
            ],
            [
             3090
            ],
            [
             3220
            ],
            [
             6840
            ],
            [
             4870
            ],
            [
             1760
            ],
            [
             5350
            ],
            [
             2440
            ],
            [
             4600
            ],
            [
             4390
            ],
            [
             4150
            ],
            [
             5050
            ],
            [
             5330
            ],
            [
             4560
            ],
            [
             5420
            ],
            [
             6560
            ],
            [
             4320
            ],
            [
             2560
            ],
            [
             3750
            ],
            [
             7980
            ],
            [
             5130
            ],
            [
             4310
            ],
            [
             4180
            ],
            [
             4460
            ],
            [
             3200
            ]
           ],
           "geo": "geo",
           "hovertemplate": "<b>%{hovertext}</b><br><br>Year=2017<br>State_Code=%{location}<br>Tuition=%{z}<extra></extra>",
           "hovertext": [
            "Alabama",
            "Arizona",
            "Arkansas",
            "California",
            "Colorado",
            "Connecticut",
            "Delaware",
            "Florida",
            "Georgia",
            "Hawaii",
            "Idaho",
            "Illinois",
            "Indiana",
            "Iowa",
            "Kansas",
            "Kentucky",
            "Louisiana",
            "Maine",
            "Maryland",
            "Massachusetts",
            "Michigan",
            "Minnesota",
            "Mississippi",
            "Missouri",
            "Montana",
            "Nebraska",
            "Nevada",
            "New Hampshire",
            "New Jersey",
            "New Mexico",
            "New York",
            "North Carolina",
            "North Dakota",
            "Ohio",
            "Oklahoma",
            "Oregon",
            "Pennsylvania",
            "Rhode Island",
            "South Carolina",
            "South Dakota",
            "Tennessee",
            "Texas",
            "Utah",
            "Vermont",
            "Virginia",
            "Washington",
            "West Virginia",
            "Wisconsin",
            "Wyoming"
           ],
           "locationmode": "USA-states",
           "locations": [
            "AL",
            "AZ",
            "AR",
            "CA",
            "CO",
            "CT",
            "DE",
            "FL",
            "GA",
            "HI",
            "ID",
            "IL",
            "IN",
            "IA",
            "KS",
            "KY",
            "LA",
            "ME",
            "MD",
            "MA",
            "MI",
            "MN",
            "MS",
            "MO",
            "MT",
            "NE",
            "NV",
            "NH",
            "NJ",
            "NM",
            "NY",
            "NC",
            "ND",
            "OH",
            "OK",
            "OR",
            "PA",
            "RI",
            "SC",
            "SD",
            "TN",
            "TX",
            "UT",
            "VT",
            "VA",
            "WA",
            "WV",
            "WI",
            "WY"
           ],
           "name": "",
           "type": "choropleth",
           "z": [
            4480,
            2600,
            3610,
            1420,
            4320,
            4310,
            4720,
            3240,
            3790,
            3850,
            4100,
            4060,
            4580,
            5070,
            3030,
            5100,
            4140,
            3620,
            4530,
            6040,
            3770,
            5450,
            3090,
            3460,
            3640,
            3090,
            3220,
            6840,
            4870,
            1760,
            5350,
            2440,
            4600,
            4390,
            4150,
            5050,
            5330,
            4560,
            5420,
            6560,
            4320,
            2560,
            3750,
            7980,
            5130,
            4310,
            4180,
            4460,
            3200
           ]
          }
         ],
         "name": "2017"
        },
        {
         "data": [
          {
           "coloraxis": "coloraxis",
           "customdata": [
            [
             4760.46
            ],
            [
             2582.33
            ],
            [
             3670.21
            ],
            [
             1428.05
            ],
            [
             4509.66
            ],
            [
             4404.57
            ],
            [
             4855
            ],
            [
             3246.27
            ],
            [
             3801.72
            ],
            [
             3920.4
            ],
            [
             4191.5
            ],
            [
             4138.3
            ],
            [
             4699.68
            ],
            [
             5323.57
            ],
            [
             3143.42
            ],
            [
             5315.92
            ],
            [
             4190.75
            ],
            [
             3762.07
            ],
            [
             4680.76
            ],
            [
             6270.54
            ],
            [
             3861.22
            ],
            [
             5445.84
            ],
            [
             3190.58
            ],
            [
             3581.89
            ],
            [
             3712.62
            ],
            [
             3178.74
            ],
            [
             3402.56
            ],
            [
             7095.42
            ],
            [
             5036.02
            ],
            [
             1841.9
            ],
            [
             5494.62
            ],
            [
             2456.27
            ],
            [
             4818.03
            ],
            [
             4702.81
            ],
            [
             4384.11
            ],
            [
             5325.18
            ],
            [
             5481.59
            ],
            [
             4564
            ],
            [
             5624.86
            ],
            [
             6681
            ],
            [
             4575.44
            ],
            [
             2617.03
            ],
            [
             3812.87
            ],
            [
             8115
            ],
            [
             5253.9
            ],
            [
             4483
            ],
            [
             4299
            ],
            [
             4550
            ],
            [
             3246.1
            ]
           ],
           "geo": "geo",
           "hovertemplate": "<b>%{hovertext}</b><br><br>Year=2018<br>State_Code=%{location}<br>Tuition=%{z}<extra></extra>",
           "hovertext": [
            "Alabama",
            "Arizona",
            "Arkansas",
            "California",
            "Colorado",
            "Connecticut",
            "Delaware",
            "Florida",
            "Georgia",
            "Hawaii",
            "Idaho",
            "Illinois",
            "Indiana",
            "Iowa",
            "Kansas",
            "Kentucky",
            "Louisiana",
            "Maine",
            "Maryland",
            "Massachusetts",
            "Michigan",
            "Minnesota",
            "Mississippi",
            "Missouri",
            "Montana",
            "Nebraska",
            "Nevada",
            "New Hampshire",
            "New Jersey",
            "New Mexico",
            "New York",
            "North Carolina",
            "North Dakota",
            "Ohio",
            "Oklahoma",
            "Oregon",
            "Pennsylvania",
            "Rhode Island",
            "South Carolina",
            "South Dakota",
            "Tennessee",
            "Texas",
            "Utah",
            "Vermont",
            "Virginia",
            "Washington",
            "West Virginia",
            "Wisconsin",
            "Wyoming"
           ],
           "locationmode": "USA-states",
           "locations": [
            "AL",
            "AZ",
            "AR",
            "CA",
            "CO",
            "CT",
            "DE",
            "FL",
            "GA",
            "HI",
            "ID",
            "IL",
            "IN",
            "IA",
            "KS",
            "KY",
            "LA",
            "ME",
            "MD",
            "MA",
            "MI",
            "MN",
            "MS",
            "MO",
            "MT",
            "NE",
            "NV",
            "NH",
            "NJ",
            "NM",
            "NY",
            "NC",
            "ND",
            "OH",
            "OK",
            "OR",
            "PA",
            "RI",
            "SC",
            "SD",
            "TN",
            "TX",
            "UT",
            "VT",
            "VA",
            "WA",
            "WV",
            "WI",
            "WY"
           ],
           "name": "",
           "type": "choropleth",
           "z": [
            4760.46,
            2582.33,
            3670.21,
            1428.05,
            4509.66,
            4404.57,
            4855,
            3246.27,
            3801.72,
            3920.4,
            4191.5,
            4138.3,
            4699.68,
            5323.57,
            3143.42,
            5315.92,
            4190.75,
            3762.07,
            4680.76,
            6270.54,
            3861.22,
            5445.84,
            3190.58,
            3581.89,
            3712.62,
            3178.74,
            3402.56,
            7095.42,
            5036.02,
            1841.9,
            5494.62,
            2456.27,
            4818.03,
            4702.81,
            4384.11,
            5325.18,
            5481.59,
            4564,
            5624.86,
            6681,
            4575.44,
            2617.03,
            3812.87,
            8115,
            5253.9,
            4483,
            4299,
            4550,
            3246.1
           ]
          }
         ],
         "name": "2018"
        },
        {
         "data": [
          {
           "coloraxis": "coloraxis",
           "customdata": [
            [
             4846.07
            ],
            [
             2603.17
            ],
            [
             3752.36
            ],
            [
             1427.9
            ],
            [
             4700
            ],
            [
             4509.21
            ],
            [
             4945
            ],
            [
             3237.85
            ],
            [
             4060.64
            ],
            [
             4018.26
            ],
            [
             4188.32
            ],
            [
             4189.18
            ],
            [
             4805.01
            ],
            [
             5481.36
            ],
            [
             3229.76
            ],
            [
             5460
            ],
            [
             4190
            ],
            [
             3763.65
            ],
            [
             4760.47
            ],
            [
             6558.58
            ],
            [
             3995.15
            ],
            [
             5603.87
            ],
            [
             3336.11
            ],
            [
             3794.26
            ],
            [
             3811.18
            ],
            [
             3273.6
            ],
            [
             3561.67
            ],
            [
             7097.87
            ],
            [
             5238.3
            ],
            [
             1862.96
            ],
            [
             5579.96
            ],
            [
             2458.96
            ],
            [
             5013.26
            ],
            [
             4903.26
            ],
            [
             4494.54
            ],
            [
             5609.49
            ],
            [
             5657.77
            ],
            [
             4700
            ],
            [
             5860.8
            ],
            [
             6990.37
            ],
            [
             4640.9
            ],
            [
             2763.26
            ],
            [
             3901.02
            ],
            [
             8205
            ],
            [
             5251.88
            ],
            [
             4623.68
            ],
            [
             4327.29
            ],
            [
             4447.16
            ],
            [
             4174.45
            ]
           ],
           "geo": "geo",
           "hovertemplate": "<b>%{hovertext}</b><br><br>Year=2019<br>State_Code=%{location}<br>Tuition=%{z}<extra></extra>",
           "hovertext": [
            "Alabama",
            "Arizona",
            "Arkansas",
            "California",
            "Colorado",
            "Connecticut",
            "Delaware",
            "Florida",
            "Georgia",
            "Hawaii",
            "Idaho",
            "Illinois",
            "Indiana",
            "Iowa",
            "Kansas",
            "Kentucky",
            "Louisiana",
            "Maine",
            "Maryland",
            "Massachusetts",
            "Michigan",
            "Minnesota",
            "Mississippi",
            "Missouri",
            "Montana",
            "Nebraska",
            "Nevada",
            "New Hampshire",
            "New Jersey",
            "New Mexico",
            "New York",
            "North Carolina",
            "North Dakota",
            "Ohio",
            "Oklahoma",
            "Oregon",
            "Pennsylvania",
            "Rhode Island",
            "South Carolina",
            "South Dakota",
            "Tennessee",
            "Texas",
            "Utah",
            "Vermont",
            "Virginia",
            "Washington",
            "West Virginia",
            "Wisconsin",
            "Wyoming"
           ],
           "locationmode": "USA-states",
           "locations": [
            "AL",
            "AZ",
            "AR",
            "CA",
            "CO",
            "CT",
            "DE",
            "FL",
            "GA",
            "HI",
            "ID",
            "IL",
            "IN",
            "IA",
            "KS",
            "KY",
            "LA",
            "ME",
            "MD",
            "MA",
            "MI",
            "MN",
            "MS",
            "MO",
            "MT",
            "NE",
            "NV",
            "NH",
            "NJ",
            "NM",
            "NY",
            "NC",
            "ND",
            "OH",
            "OK",
            "OR",
            "PA",
            "RI",
            "SC",
            "SD",
            "TN",
            "TX",
            "UT",
            "VT",
            "VA",
            "WA",
            "WV",
            "WI",
            "WY"
           ],
           "name": "",
           "type": "choropleth",
           "z": [
            4846.07,
            2603.17,
            3752.36,
            1427.9,
            4700,
            4509.21,
            4945,
            3237.85,
            4060.64,
            4018.26,
            4188.32,
            4189.18,
            4805.01,
            5481.36,
            3229.76,
            5460,
            4190,
            3763.65,
            4760.47,
            6558.58,
            3995.15,
            5603.87,
            3336.11,
            3794.26,
            3811.18,
            3273.6,
            3561.67,
            7097.87,
            5238.3,
            1862.96,
            5579.96,
            2458.96,
            5013.26,
            4903.26,
            4494.54,
            5609.49,
            5657.77,
            4700,
            5860.8,
            6990.37,
            4640.9,
            2763.26,
            3901.02,
            8205,
            5251.88,
            4623.68,
            4327.29,
            4447.16,
            4174.45
           ]
          }
         ],
         "name": "2019"
        },
        {
         "data": [
          {
           "coloraxis": "coloraxis",
           "customdata": [
            [
             4929.25
            ],
            [
             2258.96
            ],
            [
             3886.54
            ],
            [
             1428.15
            ],
            [
             4782.93
            ],
            [
             4514.56
            ],
            [
             4945.44
            ],
            [
             3235.03
            ],
            [
             4011.5
            ],
            [
             4017.14
            ],
            [
             4175.48
            ],
            [
             4383.39
            ],
            [
             4967.26
            ],
            [
             5668.81
            ],
            [
             3285.45
            ],
            [
             5610
            ],
            [
             4197.1
            ],
            [
             3836.88
            ],
            [
             4820.74
            ],
            [
             6812.17
            ],
            [
             4069.02
            ],
            [
             5631.74
            ],
            [
             3455.2
            ],
            [
             3949.24
            ],
            [
             3836.13
            ],
            [
             3382.97
            ],
            [
             3736.65
            ],
            [
             7094.7
            ],
            [
             5397.35
            ],
            [
             1937.08
            ],
            [
             5677.33
            ],
            [
             2456.92
            ],
            [
             5295.4
            ],
            [
             4975.05
            ],
            [
             4557.58
            ],
            [
             5838.95
            ],
            [
             5578.18
            ],
            [
             4844.53
            ],
            [
             5890.81
            ],
            [
             7061.83
            ],
            [
             4568.93
            ],
            [
             2863.32
            ],
            [
             3941.87
            ],
            [
             8600
            ],
            [
             5215.86
            ],
            [
             4717.05
            ],
            [
             4376.92
            ],
            [
             4562.05
            ],
            [
             4316.92
            ]
           ],
           "geo": "geo",
           "hovertemplate": "<b>%{hovertext}</b><br><br>Year=2020<br>State_Code=%{location}<br>Tuition=%{z}<extra></extra>",
           "hovertext": [
            "Alabama",
            "Arizona",
            "Arkansas",
            "California",
            "Colorado",
            "Connecticut",
            "Delaware",
            "Florida",
            "Georgia",
            "Hawaii",
            "Idaho",
            "Illinois",
            "Indiana",
            "Iowa",
            "Kansas",
            "Kentucky",
            "Louisiana",
            "Maine",
            "Maryland",
            "Massachusetts",
            "Michigan",
            "Minnesota",
            "Mississippi",
            "Missouri",
            "Montana",
            "Nebraska",
            "Nevada",
            "New Hampshire",
            "New Jersey",
            "New Mexico",
            "New York",
            "North Carolina",
            "North Dakota",
            "Ohio",
            "Oklahoma",
            "Oregon",
            "Pennsylvania",
            "Rhode Island",
            "South Carolina",
            "South Dakota",
            "Tennessee",
            "Texas",
            "Utah",
            "Vermont",
            "Virginia",
            "Washington",
            "West Virginia",
            "Wisconsin",
            "Wyoming"
           ],
           "locationmode": "USA-states",
           "locations": [
            "AL",
            "AZ",
            "AR",
            "CA",
            "CO",
            "CT",
            "DE",
            "FL",
            "GA",
            "HI",
            "ID",
            "IL",
            "IN",
            "IA",
            "KS",
            "KY",
            "LA",
            "ME",
            "MD",
            "MA",
            "MI",
            "MN",
            "MS",
            "MO",
            "MT",
            "NE",
            "NV",
            "NH",
            "NJ",
            "NM",
            "NY",
            "NC",
            "ND",
            "OH",
            "OK",
            "OR",
            "PA",
            "RI",
            "SC",
            "SD",
            "TN",
            "TX",
            "UT",
            "VT",
            "VA",
            "WA",
            "WV",
            "WI",
            "WY"
           ],
           "name": "",
           "type": "choropleth",
           "z": [
            4929.25,
            2258.96,
            3886.54,
            1428.15,
            4782.93,
            4514.56,
            4945.44,
            3235.03,
            4011.5,
            4017.14,
            4175.48,
            4383.39,
            4967.26,
            5668.81,
            3285.45,
            5610,
            4197.1,
            3836.88,
            4820.74,
            6812.17,
            4069.02,
            5631.74,
            3455.2,
            3949.24,
            3836.13,
            3382.97,
            3736.65,
            7094.7,
            5397.35,
            1937.08,
            5677.33,
            2456.92,
            5295.4,
            4975.05,
            4557.58,
            5838.95,
            5578.18,
            4844.53,
            5890.81,
            7061.83,
            4568.93,
            2863.32,
            3941.87,
            8600,
            5215.86,
            4717.05,
            4376.92,
            4562.05,
            4316.92
           ]
          }
         ],
         "name": "2020"
        },
        {
         "data": [
          {
           "coloraxis": "coloraxis",
           "customdata": [
            [
             4929.25
            ],
            [
             2590.72
            ],
            [
             3887.02
            ],
            [
             1428.15
            ],
            [
             4798.02
            ],
            [
             4514.56
            ],
            [
             4945
            ],
            [
             3242.18
            ],
            [
             4025.85
            ],
            [
             4017.14
            ],
            [
             4175.48
            ],
            [
             4419.32
            ],
            [
             4997.23
            ],
            [
             5785.78
            ],
            [
             3386.86
            ],
            [
             5610
            ],
            [
             4200.46
            ],
            [
             3836.88
            ],
            [
             4855.6
            ],
            [
             6840.35
            ],
            [
             4116.94
            ],
            [
             5899.96
            ],
            [
             3580.59
            ],
            [
             4133.19
            ],
            [
             3936.69
            ],
            [
             3408.23
            ],
            [
             3798.08
            ],
            [
             7094.7
            ],
            [
             5481.97
            ],
            [
             1959.07
            ],
            [
             5746.24
            ],
            [
             2484.45
            ],
            [
             5471.24
            ],
            [
             5081.4
            ],
            [
             4583.1
            ],
            [
             6033.63
            ],
            [
             5631.66
            ],
            [
             4980
            ],
            [
             5910.45
            ],
            [
             7237.23
            ],
            [
             4637.07
            ],
            [
             2889.05
            ],
            [
             4058.38
            ],
            [
             8600
            ],
            [
             5229.49
            ],
            [
             4791.5
            ],
            [
             4412.79
            ],
            [
             4661.22
            ],
            [
             4556.64
            ]
           ],
           "geo": "geo",
           "hovertemplate": "<b>%{hovertext}</b><br><br>Year=2021<br>State_Code=%{location}<br>Tuition=%{z}<extra></extra>",
           "hovertext": [
            "Alabama",
            "Arizona",
            "Arkansas",
            "California",
            "Colorado",
            "Connecticut",
            "Delaware",
            "Florida",
            "Georgia",
            "Hawaii",
            "Idaho",
            "Illinois",
            "Indiana",
            "Iowa",
            "Kansas",
            "Kentucky",
            "Louisiana",
            "Maine",
            "Maryland",
            "Massachusetts",
            "Michigan",
            "Minnesota",
            "Mississippi",
            "Missouri",
            "Montana",
            "Nebraska",
            "Nevada",
            "New Hampshire",
            "New Jersey",
            "New Mexico",
            "New York",
            "North Carolina",
            "North Dakota",
            "Ohio",
            "Oklahoma",
            "Oregon",
            "Pennsylvania",
            "Rhode Island",
            "South Carolina",
            "South Dakota",
            "Tennessee",
            "Texas",
            "Utah",
            "Vermont",
            "Virginia",
            "Washington",
            "West Virginia",
            "Wisconsin",
            "Wyoming"
           ],
           "locationmode": "USA-states",
           "locations": [
            "AL",
            "AZ",
            "AR",
            "CA",
            "CO",
            "CT",
            "DE",
            "FL",
            "GA",
            "HI",
            "ID",
            "IL",
            "IN",
            "IA",
            "KS",
            "KY",
            "LA",
            "ME",
            "MD",
            "MA",
            "MI",
            "MN",
            "MS",
            "MO",
            "MT",
            "NE",
            "NV",
            "NH",
            "NJ",
            "NM",
            "NY",
            "NC",
            "ND",
            "OH",
            "OK",
            "OR",
            "PA",
            "RI",
            "SC",
            "SD",
            "TN",
            "TX",
            "UT",
            "VT",
            "VA",
            "WA",
            "WV",
            "WI",
            "WY"
           ],
           "name": "",
           "type": "choropleth",
           "z": [
            4929.25,
            2590.72,
            3887.02,
            1428.15,
            4798.02,
            4514.56,
            4945,
            3242.18,
            4025.85,
            4017.14,
            4175.48,
            4419.32,
            4997.23,
            5785.78,
            3386.86,
            5610,
            4200.46,
            3836.88,
            4855.6,
            6840.35,
            4116.94,
            5899.96,
            3580.59,
            4133.19,
            3936.69,
            3408.23,
            3798.08,
            7094.7,
            5481.97,
            1959.07,
            5746.24,
            2484.45,
            5471.24,
            5081.4,
            4583.1,
            6033.63,
            5631.66,
            4980,
            5910.45,
            7237.23,
            4637.07,
            2889.05,
            4058.38,
            8600,
            5229.49,
            4791.5,
            4412.79,
            4661.22,
            4556.64
           ]
          }
         ],
         "name": "2021"
        },
        {
         "data": [
          {
           "coloraxis": "coloraxis",
           "customdata": [
            [
             4979.53
            ],
            [
             2608.33
            ],
            [
             4118.12
            ],
            [
             1433.15
            ],
            [
             4870.5
            ],
            [
             4740
            ],
            [
             4995
            ],
            [
             3242.43
            ],
            [
             3989.81
            ],
            [
             4018.68
            ],
            [
             4200.05
            ],
            [
             4480.49
            ],
            [
             5053.55
            ],
            [
             6044.51
            ],
            [
             3477.11
            ],
            [
             5700
            ],
            [
             4191.43
            ],
            [
             3843.19
            ],
            [
             4909.33
            ],
            [
             6891.23
            ],
            [
             4286.77
            ],
            [
             6140.47
            ],
            [
             3731.92
            ],
            [
             4316.67
            ],
            [
             3911.81
            ],
            [
             3499.69
            ],
            [
             3916.84
            ],
            [
             7095.95
            ],
            [
             5671.84
            ],
            [
             2099.65
            ],
            [
             5745.28
            ],
            [
             2496.94
            ],
            [
             5613.11
            ],
            [
             5244.81
            ],
            [
             4672.01
            ],
            [
             6181.96
            ],
            [
             5816.17
            ],
            [
             5090
            ],
            [
             5947.79
            ],
            [
             7290.92
            ],
            [
             4639.29
            ],
            [
             3041.18
            ],
            [
             4228.9
            ],
            [
             8660
            ],
            [
             5253.91
            ],
            [
             4932.28
            ],
            [
             4525.3
            ],
            [
             4731.07
            ],
            [
             4613.82
            ]
           ],
           "geo": "geo",
           "hovertemplate": "<b>%{hovertext}</b><br><br>Year=2022<br>State_Code=%{location}<br>Tuition=%{z}<extra></extra>",
           "hovertext": [
            "Alabama",
            "Arizona",
            "Arkansas",
            "California",
            "Colorado",
            "Connecticut",
            "Delaware",
            "Florida",
            "Georgia",
            "Hawaii",
            "Idaho",
            "Illinois",
            "Indiana",
            "Iowa",
            "Kansas",
            "Kentucky",
            "Louisiana",
            "Maine",
            "Maryland",
            "Massachusetts",
            "Michigan",
            "Minnesota",
            "Mississippi",
            "Missouri",
            "Montana",
            "Nebraska",
            "Nevada",
            "New Hampshire",
            "New Jersey",
            "New Mexico",
            "New York",
            "North Carolina",
            "North Dakota",
            "Ohio",
            "Oklahoma",
            "Oregon",
            "Pennsylvania",
            "Rhode Island",
            "South Carolina",
            "South Dakota",
            "Tennessee",
            "Texas",
            "Utah",
            "Vermont",
            "Virginia",
            "Washington",
            "West Virginia",
            "Wisconsin",
            "Wyoming"
           ],
           "locationmode": "USA-states",
           "locations": [
            "AL",
            "AZ",
            "AR",
            "CA",
            "CO",
            "CT",
            "DE",
            "FL",
            "GA",
            "HI",
            "ID",
            "IL",
            "IN",
            "IA",
            "KS",
            "KY",
            "LA",
            "ME",
            "MD",
            "MA",
            "MI",
            "MN",
            "MS",
            "MO",
            "MT",
            "NE",
            "NV",
            "NH",
            "NJ",
            "NM",
            "NY",
            "NC",
            "ND",
            "OH",
            "OK",
            "OR",
            "PA",
            "RI",
            "SC",
            "SD",
            "TN",
            "TX",
            "UT",
            "VT",
            "VA",
            "WA",
            "WV",
            "WI",
            "WY"
           ],
           "name": "",
           "type": "choropleth",
           "z": [
            4979.53,
            2608.33,
            4118.12,
            1433.15,
            4870.5,
            4740,
            4995,
            3242.43,
            3989.81,
            4018.68,
            4200.05,
            4480.49,
            5053.55,
            6044.51,
            3477.11,
            5700,
            4191.43,
            3843.19,
            4909.33,
            6891.23,
            4286.77,
            6140.47,
            3731.92,
            4316.67,
            3911.81,
            3499.69,
            3916.84,
            7095.95,
            5671.84,
            2099.65,
            5745.28,
            2496.94,
            5613.11,
            5244.81,
            4672.01,
            6181.96,
            5816.17,
            5090,
            5947.79,
            7290.92,
            4639.29,
            3041.18,
            4228.9,
            8660,
            5253.91,
            4932.28,
            4525.3,
            4731.07,
            4613.82
           ]
          }
         ],
         "name": "2022"
        },
        {
         "data": [
          {
           "coloraxis": "coloraxis",
           "customdata": [
            [
             5072.18
            ],
            [
             2882.27
            ],
            [
             4354.95
            ],
            [
             1435.95
            ],
            [
             5117.62
            ],
            [
             4972
            ],
            [
             4995
            ],
            [
             3242.48
            ],
            [
             4033.97
            ],
            [
             4018.68
            ],
            [
             4200.05
            ],
            [
             4577.32
            ],
            [
             5318.47
            ],
            [
             6289.73
            ],
            [
             3583.76
            ],
            [
             5799.51
            ],
            [
             4332.05
            ],
            [
             3843.19
            ],
            [
             4952.82
            ],
            [
             7060.63
            ],
            [
             4423.51
            ],
            [
             6157.56
            ],
            [
             3852.47
            ],
            [
             4476.54
            ],
            [
             4112.05
            ],
            [
             3550.86
            ],
            [
             4060.24
            ],
            [
             7096.36
            ],
            [
             5865.68
            ],
            [
             2134.28
            ],
            [
             5896.83
            ],
            [
             2526.1
            ],
            [
             5644.07
            ],
            [
             5459.17
            ],
            [
             4686.54
            ],
            [
             6421.51
            ],
            [
             6016.38
            ],
            [
             5326
            ],
            [
             6054.74
            ],
            [
             7290.92
            ],
            [
             4766.87
            ],
            [
             3156.66
            ],
            [
             4228.9
            ],
            [
             8660
            ],
            [
             5408.83
            ],
            [
             5126.63
            ],
            [
             4738.67
            ],
            [
             4866.17
            ],
            [
             4613.62
            ]
           ],
           "geo": "geo",
           "hovertemplate": "<b>%{hovertext}</b><br><br>Year=2023<br>State_Code=%{location}<br>Tuition=%{z}<extra></extra>",
           "hovertext": [
            "Alabama",
            "Arizona",
            "Arkansas",
            "California",
            "Colorado",
            "Connecticut",
            "Delaware",
            "Florida",
            "Georgia",
            "Hawaii",
            "Idaho",
            "Illinois",
            "Indiana",
            "Iowa",
            "Kansas",
            "Kentucky",
            "Louisiana",
            "Maine",
            "Maryland",
            "Massachusetts",
            "Michigan",
            "Minnesota",
            "Mississippi",
            "Missouri",
            "Montana",
            "Nebraska",
            "Nevada",
            "New Hampshire",
            "New Jersey",
            "New Mexico",
            "New York",
            "North Carolina",
            "North Dakota",
            "Ohio",
            "Oklahoma",
            "Oregon",
            "Pennsylvania",
            "Rhode Island",
            "South Carolina",
            "South Dakota",
            "Tennessee",
            "Texas",
            "Utah",
            "Vermont",
            "Virginia",
            "Washington",
            "West Virginia",
            "Wisconsin",
            "Wyoming"
           ],
           "locationmode": "USA-states",
           "locations": [
            "AL",
            "AZ",
            "AR",
            "CA",
            "CO",
            "CT",
            "DE",
            "FL",
            "GA",
            "HI",
            "ID",
            "IL",
            "IN",
            "IA",
            "KS",
            "KY",
            "LA",
            "ME",
            "MD",
            "MA",
            "MI",
            "MN",
            "MS",
            "MO",
            "MT",
            "NE",
            "NV",
            "NH",
            "NJ",
            "NM",
            "NY",
            "NC",
            "ND",
            "OH",
            "OK",
            "OR",
            "PA",
            "RI",
            "SC",
            "SD",
            "TN",
            "TX",
            "UT",
            "VT",
            "VA",
            "WA",
            "WV",
            "WI",
            "WY"
           ],
           "name": "",
           "type": "choropleth",
           "z": [
            5072.18,
            2882.27,
            4354.95,
            1435.95,
            5117.62,
            4972,
            4995,
            3242.48,
            4033.97,
            4018.68,
            4200.05,
            4577.32,
            5318.47,
            6289.73,
            3583.76,
            5799.51,
            4332.05,
            3843.19,
            4952.82,
            7060.63,
            4423.51,
            6157.56,
            3852.47,
            4476.54,
            4112.05,
            3550.86,
            4060.24,
            7096.36,
            5865.68,
            2134.28,
            5896.83,
            2526.1,
            5644.07,
            5459.17,
            4686.54,
            6421.51,
            6016.38,
            5326,
            6054.74,
            7290.92,
            4766.87,
            3156.66,
            4228.9,
            8660,
            5408.83,
            5126.63,
            4738.67,
            4866.17,
            4613.62
           ]
          }
         ],
         "name": "2023"
        }
       ],
       "layout": {
        "coloraxis": {
         "cmax": 8660,
         "cmin": 633,
         "colorbar": {
          "title": {
           "text": "Tuition"
          }
         },
         "colorscale": [
          [
           0,
           "rgb(255,255,204)"
          ],
          [
           0.125,
           "rgb(255,237,160)"
          ],
          [
           0.25,
           "rgb(254,217,118)"
          ],
          [
           0.375,
           "rgb(254,178,76)"
          ],
          [
           0.5,
           "rgb(253,141,60)"
          ],
          [
           0.625,
           "rgb(252,78,42)"
          ],
          [
           0.75,
           "rgb(227,26,28)"
          ],
          [
           0.875,
           "rgb(189,0,38)"
          ],
          [
           1,
           "rgb(128,0,38)"
          ]
         ]
        },
        "geo": {
         "center": {},
         "domain": {
          "x": [
           0,
           1
          ],
          "y": [
           0,
           1
          ]
         },
         "oceancolor": "LightBlue",
         "projection": {
          "type": "albers usa"
         },
         "showcoastlines": false,
         "showframe": false,
         "showocean": true
        },
        "height": 600,
        "legend": {
         "tracegroupgap": 0
        },
        "sliders": [
         {
          "active": 0,
          "currentvalue": {
           "prefix": "Year="
          },
          "len": 0.9,
          "pad": {
           "b": 10,
           "t": 60
          },
          "steps": [
           {
            "args": [
             [
              "2004"
             ],
             {
              "frame": {
               "duration": 0,
               "redraw": true
              },
              "fromcurrent": true,
              "mode": "immediate",
              "transition": {
               "duration": 0,
               "easing": "linear"
              }
             }
            ],
            "label": "2004",
            "method": "animate"
           },
           {
            "args": [
             [
              "2005"
             ],
             {
              "frame": {
               "duration": 0,
               "redraw": true
              },
              "fromcurrent": true,
              "mode": "immediate",
              "transition": {
               "duration": 0,
               "easing": "linear"
              }
             }
            ],
            "label": "2005",
            "method": "animate"
           },
           {
            "args": [
             [
              "2006"
             ],
             {
              "frame": {
               "duration": 0,
               "redraw": true
              },
              "fromcurrent": true,
              "mode": "immediate",
              "transition": {
               "duration": 0,
               "easing": "linear"
              }
             }
            ],
            "label": "2006",
            "method": "animate"
           },
           {
            "args": [
             [
              "2007"
             ],
             {
              "frame": {
               "duration": 0,
               "redraw": true
              },
              "fromcurrent": true,
              "mode": "immediate",
              "transition": {
               "duration": 0,
               "easing": "linear"
              }
             }
            ],
            "label": "2007",
            "method": "animate"
           },
           {
            "args": [
             [
              "2008"
             ],
             {
              "frame": {
               "duration": 0,
               "redraw": true
              },
              "fromcurrent": true,
              "mode": "immediate",
              "transition": {
               "duration": 0,
               "easing": "linear"
              }
             }
            ],
            "label": "2008",
            "method": "animate"
           },
           {
            "args": [
             [
              "2009"
             ],
             {
              "frame": {
               "duration": 0,
               "redraw": true
              },
              "fromcurrent": true,
              "mode": "immediate",
              "transition": {
               "duration": 0,
               "easing": "linear"
              }
             }
            ],
            "label": "2009",
            "method": "animate"
           },
           {
            "args": [
             [
              "2010"
             ],
             {
              "frame": {
               "duration": 0,
               "redraw": true
              },
              "fromcurrent": true,
              "mode": "immediate",
              "transition": {
               "duration": 0,
               "easing": "linear"
              }
             }
            ],
            "label": "2010",
            "method": "animate"
           },
           {
            "args": [
             [
              "2011"
             ],
             {
              "frame": {
               "duration": 0,
               "redraw": true
              },
              "fromcurrent": true,
              "mode": "immediate",
              "transition": {
               "duration": 0,
               "easing": "linear"
              }
             }
            ],
            "label": "2011",
            "method": "animate"
           },
           {
            "args": [
             [
              "2012"
             ],
             {
              "frame": {
               "duration": 0,
               "redraw": true
              },
              "fromcurrent": true,
              "mode": "immediate",
              "transition": {
               "duration": 0,
               "easing": "linear"
              }
             }
            ],
            "label": "2012",
            "method": "animate"
           },
           {
            "args": [
             [
              "2013"
             ],
             {
              "frame": {
               "duration": 0,
               "redraw": true
              },
              "fromcurrent": true,
              "mode": "immediate",
              "transition": {
               "duration": 0,
               "easing": "linear"
              }
             }
            ],
            "label": "2013",
            "method": "animate"
           },
           {
            "args": [
             [
              "2014"
             ],
             {
              "frame": {
               "duration": 0,
               "redraw": true
              },
              "fromcurrent": true,
              "mode": "immediate",
              "transition": {
               "duration": 0,
               "easing": "linear"
              }
             }
            ],
            "label": "2014",
            "method": "animate"
           },
           {
            "args": [
             [
              "2015"
             ],
             {
              "frame": {
               "duration": 0,
               "redraw": true
              },
              "fromcurrent": true,
              "mode": "immediate",
              "transition": {
               "duration": 0,
               "easing": "linear"
              }
             }
            ],
            "label": "2015",
            "method": "animate"
           },
           {
            "args": [
             [
              "2016"
             ],
             {
              "frame": {
               "duration": 0,
               "redraw": true
              },
              "fromcurrent": true,
              "mode": "immediate",
              "transition": {
               "duration": 0,
               "easing": "linear"
              }
             }
            ],
            "label": "2016",
            "method": "animate"
           },
           {
            "args": [
             [
              "2017"
             ],
             {
              "frame": {
               "duration": 0,
               "redraw": true
              },
              "fromcurrent": true,
              "mode": "immediate",
              "transition": {
               "duration": 0,
               "easing": "linear"
              }
             }
            ],
            "label": "2017",
            "method": "animate"
           },
           {
            "args": [
             [
              "2018"
             ],
             {
              "frame": {
               "duration": 0,
               "redraw": true
              },
              "fromcurrent": true,
              "mode": "immediate",
              "transition": {
               "duration": 0,
               "easing": "linear"
              }
             }
            ],
            "label": "2018",
            "method": "animate"
           },
           {
            "args": [
             [
              "2019"
             ],
             {
              "frame": {
               "duration": 0,
               "redraw": true
              },
              "fromcurrent": true,
              "mode": "immediate",
              "transition": {
               "duration": 0,
               "easing": "linear"
              }
             }
            ],
            "label": "2019",
            "method": "animate"
           },
           {
            "args": [
             [
              "2020"
             ],
             {
              "frame": {
               "duration": 0,
               "redraw": true
              },
              "fromcurrent": true,
              "mode": "immediate",
              "transition": {
               "duration": 0,
               "easing": "linear"
              }
             }
            ],
            "label": "2020",
            "method": "animate"
           },
           {
            "args": [
             [
              "2021"
             ],
             {
              "frame": {
               "duration": 0,
               "redraw": true
              },
              "fromcurrent": true,
              "mode": "immediate",
              "transition": {
               "duration": 0,
               "easing": "linear"
              }
             }
            ],
            "label": "2021",
            "method": "animate"
           },
           {
            "args": [
             [
              "2022"
             ],
             {
              "frame": {
               "duration": 0,
               "redraw": true
              },
              "fromcurrent": true,
              "mode": "immediate",
              "transition": {
               "duration": 0,
               "easing": "linear"
              }
             }
            ],
            "label": "2022",
            "method": "animate"
           },
           {
            "args": [
             [
              "2023"
             ],
             {
              "frame": {
               "duration": 0,
               "redraw": true
              },
              "fromcurrent": true,
              "mode": "immediate",
              "transition": {
               "duration": 0,
               "easing": "linear"
              }
             }
            ],
            "label": "2023",
            "method": "animate"
           }
          ],
          "x": 0.1,
          "xanchor": "left",
          "y": 0,
          "yanchor": "top"
         }
        ],
        "template": {
         "data": {
          "bar": [
           {
            "error_x": {
             "color": "#2a3f5f"
            },
            "error_y": {
             "color": "#2a3f5f"
            },
            "marker": {
             "line": {
              "color": "#E5ECF6",
              "width": 0.5
             },
             "pattern": {
              "fillmode": "overlay",
              "size": 10,
              "solidity": 0.2
             }
            },
            "type": "bar"
           }
          ],
          "barpolar": [
           {
            "marker": {
             "line": {
              "color": "#E5ECF6",
              "width": 0.5
             },
             "pattern": {
              "fillmode": "overlay",
              "size": 10,
              "solidity": 0.2
             }
            },
            "type": "barpolar"
           }
          ],
          "carpet": [
           {
            "aaxis": {
             "endlinecolor": "#2a3f5f",
             "gridcolor": "white",
             "linecolor": "white",
             "minorgridcolor": "white",
             "startlinecolor": "#2a3f5f"
            },
            "baxis": {
             "endlinecolor": "#2a3f5f",
             "gridcolor": "white",
             "linecolor": "white",
             "minorgridcolor": "white",
             "startlinecolor": "#2a3f5f"
            },
            "type": "carpet"
           }
          ],
          "choropleth": [
           {
            "colorbar": {
             "outlinewidth": 0,
             "ticks": ""
            },
            "type": "choropleth"
           }
          ],
          "contour": [
           {
            "colorbar": {
             "outlinewidth": 0,
             "ticks": ""
            },
            "colorscale": [
             [
              0,
              "#0d0887"
             ],
             [
              0.1111111111111111,
              "#46039f"
             ],
             [
              0.2222222222222222,
              "#7201a8"
             ],
             [
              0.3333333333333333,
              "#9c179e"
             ],
             [
              0.4444444444444444,
              "#bd3786"
             ],
             [
              0.5555555555555556,
              "#d8576b"
             ],
             [
              0.6666666666666666,
              "#ed7953"
             ],
             [
              0.7777777777777778,
              "#fb9f3a"
             ],
             [
              0.8888888888888888,
              "#fdca26"
             ],
             [
              1,
              "#f0f921"
             ]
            ],
            "type": "contour"
           }
          ],
          "contourcarpet": [
           {
            "colorbar": {
             "outlinewidth": 0,
             "ticks": ""
            },
            "type": "contourcarpet"
           }
          ],
          "heatmap": [
           {
            "colorbar": {
             "outlinewidth": 0,
             "ticks": ""
            },
            "colorscale": [
             [
              0,
              "#0d0887"
             ],
             [
              0.1111111111111111,
              "#46039f"
             ],
             [
              0.2222222222222222,
              "#7201a8"
             ],
             [
              0.3333333333333333,
              "#9c179e"
             ],
             [
              0.4444444444444444,
              "#bd3786"
             ],
             [
              0.5555555555555556,
              "#d8576b"
             ],
             [
              0.6666666666666666,
              "#ed7953"
             ],
             [
              0.7777777777777778,
              "#fb9f3a"
             ],
             [
              0.8888888888888888,
              "#fdca26"
             ],
             [
              1,
              "#f0f921"
             ]
            ],
            "type": "heatmap"
           }
          ],
          "heatmapgl": [
           {
            "colorbar": {
             "outlinewidth": 0,
             "ticks": ""
            },
            "colorscale": [
             [
              0,
              "#0d0887"
             ],
             [
              0.1111111111111111,
              "#46039f"
             ],
             [
              0.2222222222222222,
              "#7201a8"
             ],
             [
              0.3333333333333333,
              "#9c179e"
             ],
             [
              0.4444444444444444,
              "#bd3786"
             ],
             [
              0.5555555555555556,
              "#d8576b"
             ],
             [
              0.6666666666666666,
              "#ed7953"
             ],
             [
              0.7777777777777778,
              "#fb9f3a"
             ],
             [
              0.8888888888888888,
              "#fdca26"
             ],
             [
              1,
              "#f0f921"
             ]
            ],
            "type": "heatmapgl"
           }
          ],
          "histogram": [
           {
            "marker": {
             "pattern": {
              "fillmode": "overlay",
              "size": 10,
              "solidity": 0.2
             }
            },
            "type": "histogram"
           }
          ],
          "histogram2d": [
           {
            "colorbar": {
             "outlinewidth": 0,
             "ticks": ""
            },
            "colorscale": [
             [
              0,
              "#0d0887"
             ],
             [
              0.1111111111111111,
              "#46039f"
             ],
             [
              0.2222222222222222,
              "#7201a8"
             ],
             [
              0.3333333333333333,
              "#9c179e"
             ],
             [
              0.4444444444444444,
              "#bd3786"
             ],
             [
              0.5555555555555556,
              "#d8576b"
             ],
             [
              0.6666666666666666,
              "#ed7953"
             ],
             [
              0.7777777777777778,
              "#fb9f3a"
             ],
             [
              0.8888888888888888,
              "#fdca26"
             ],
             [
              1,
              "#f0f921"
             ]
            ],
            "type": "histogram2d"
           }
          ],
          "histogram2dcontour": [
           {
            "colorbar": {
             "outlinewidth": 0,
             "ticks": ""
            },
            "colorscale": [
             [
              0,
              "#0d0887"
             ],
             [
              0.1111111111111111,
              "#46039f"
             ],
             [
              0.2222222222222222,
              "#7201a8"
             ],
             [
              0.3333333333333333,
              "#9c179e"
             ],
             [
              0.4444444444444444,
              "#bd3786"
             ],
             [
              0.5555555555555556,
              "#d8576b"
             ],
             [
              0.6666666666666666,
              "#ed7953"
             ],
             [
              0.7777777777777778,
              "#fb9f3a"
             ],
             [
              0.8888888888888888,
              "#fdca26"
             ],
             [
              1,
              "#f0f921"
             ]
            ],
            "type": "histogram2dcontour"
           }
          ],
          "mesh3d": [
           {
            "colorbar": {
             "outlinewidth": 0,
             "ticks": ""
            },
            "type": "mesh3d"
           }
          ],
          "parcoords": [
           {
            "line": {
             "colorbar": {
              "outlinewidth": 0,
              "ticks": ""
             }
            },
            "type": "parcoords"
           }
          ],
          "pie": [
           {
            "automargin": true,
            "type": "pie"
           }
          ],
          "scatter": [
           {
            "fillpattern": {
             "fillmode": "overlay",
             "size": 10,
             "solidity": 0.2
            },
            "type": "scatter"
           }
          ],
          "scatter3d": [
           {
            "line": {
             "colorbar": {
              "outlinewidth": 0,
              "ticks": ""
             }
            },
            "marker": {
             "colorbar": {
              "outlinewidth": 0,
              "ticks": ""
             }
            },
            "type": "scatter3d"
           }
          ],
          "scattercarpet": [
           {
            "marker": {
             "colorbar": {
              "outlinewidth": 0,
              "ticks": ""
             }
            },
            "type": "scattercarpet"
           }
          ],
          "scattergeo": [
           {
            "marker": {
             "colorbar": {
              "outlinewidth": 0,
              "ticks": ""
             }
            },
            "type": "scattergeo"
           }
          ],
          "scattergl": [
           {
            "marker": {
             "colorbar": {
              "outlinewidth": 0,
              "ticks": ""
             }
            },
            "type": "scattergl"
           }
          ],
          "scattermapbox": [
           {
            "marker": {
             "colorbar": {
              "outlinewidth": 0,
              "ticks": ""
             }
            },
            "type": "scattermapbox"
           }
          ],
          "scatterpolar": [
           {
            "marker": {
             "colorbar": {
              "outlinewidth": 0,
              "ticks": ""
             }
            },
            "type": "scatterpolar"
           }
          ],
          "scatterpolargl": [
           {
            "marker": {
             "colorbar": {
              "outlinewidth": 0,
              "ticks": ""
             }
            },
            "type": "scatterpolargl"
           }
          ],
          "scatterternary": [
           {
            "marker": {
             "colorbar": {
              "outlinewidth": 0,
              "ticks": ""
             }
            },
            "type": "scatterternary"
           }
          ],
          "surface": [
           {
            "colorbar": {
             "outlinewidth": 0,
             "ticks": ""
            },
            "colorscale": [
             [
              0,
              "#0d0887"
             ],
             [
              0.1111111111111111,
              "#46039f"
             ],
             [
              0.2222222222222222,
              "#7201a8"
             ],
             [
              0.3333333333333333,
              "#9c179e"
             ],
             [
              0.4444444444444444,
              "#bd3786"
             ],
             [
              0.5555555555555556,
              "#d8576b"
             ],
             [
              0.6666666666666666,
              "#ed7953"
             ],
             [
              0.7777777777777778,
              "#fb9f3a"
             ],
             [
              0.8888888888888888,
              "#fdca26"
             ],
             [
              1,
              "#f0f921"
             ]
            ],
            "type": "surface"
           }
          ],
          "table": [
           {
            "cells": {
             "fill": {
              "color": "#EBF0F8"
             },
             "line": {
              "color": "white"
             }
            },
            "header": {
             "fill": {
              "color": "#C8D4E3"
             },
             "line": {
              "color": "white"
             }
            },
            "type": "table"
           }
          ]
         },
         "layout": {
          "annotationdefaults": {
           "arrowcolor": "#2a3f5f",
           "arrowhead": 0,
           "arrowwidth": 1
          },
          "autotypenumbers": "strict",
          "coloraxis": {
           "colorbar": {
            "outlinewidth": 0,
            "ticks": ""
           }
          },
          "colorscale": {
           "diverging": [
            [
             0,
             "#8e0152"
            ],
            [
             0.1,
             "#c51b7d"
            ],
            [
             0.2,
             "#de77ae"
            ],
            [
             0.3,
             "#f1b6da"
            ],
            [
             0.4,
             "#fde0ef"
            ],
            [
             0.5,
             "#f7f7f7"
            ],
            [
             0.6,
             "#e6f5d0"
            ],
            [
             0.7,
             "#b8e186"
            ],
            [
             0.8,
             "#7fbc41"
            ],
            [
             0.9,
             "#4d9221"
            ],
            [
             1,
             "#276419"
            ]
           ],
           "sequential": [
            [
             0,
             "#0d0887"
            ],
            [
             0.1111111111111111,
             "#46039f"
            ],
            [
             0.2222222222222222,
             "#7201a8"
            ],
            [
             0.3333333333333333,
             "#9c179e"
            ],
            [
             0.4444444444444444,
             "#bd3786"
            ],
            [
             0.5555555555555556,
             "#d8576b"
            ],
            [
             0.6666666666666666,
             "#ed7953"
            ],
            [
             0.7777777777777778,
             "#fb9f3a"
            ],
            [
             0.8888888888888888,
             "#fdca26"
            ],
            [
             1,
             "#f0f921"
            ]
           ],
           "sequentialminus": [
            [
             0,
             "#0d0887"
            ],
            [
             0.1111111111111111,
             "#46039f"
            ],
            [
             0.2222222222222222,
             "#7201a8"
            ],
            [
             0.3333333333333333,
             "#9c179e"
            ],
            [
             0.4444444444444444,
             "#bd3786"
            ],
            [
             0.5555555555555556,
             "#d8576b"
            ],
            [
             0.6666666666666666,
             "#ed7953"
            ],
            [
             0.7777777777777778,
             "#fb9f3a"
            ],
            [
             0.8888888888888888,
             "#fdca26"
            ],
            [
             1,
             "#f0f921"
            ]
           ]
          },
          "colorway": [
           "#636efa",
           "#EF553B",
           "#00cc96",
           "#ab63fa",
           "#FFA15A",
           "#19d3f3",
           "#FF6692",
           "#B6E880",
           "#FF97FF",
           "#FECB52"
          ],
          "font": {
           "color": "#2a3f5f"
          },
          "geo": {
           "bgcolor": "white",
           "lakecolor": "white",
           "landcolor": "#E5ECF6",
           "showlakes": true,
           "showland": true,
           "subunitcolor": "white"
          },
          "hoverlabel": {
           "align": "left"
          },
          "hovermode": "closest",
          "mapbox": {
           "style": "light"
          },
          "paper_bgcolor": "white",
          "plot_bgcolor": "#E5ECF6",
          "polar": {
           "angularaxis": {
            "gridcolor": "white",
            "linecolor": "white",
            "ticks": ""
           },
           "bgcolor": "#E5ECF6",
           "radialaxis": {
            "gridcolor": "white",
            "linecolor": "white",
            "ticks": ""
           }
          },
          "scene": {
           "xaxis": {
            "backgroundcolor": "#E5ECF6",
            "gridcolor": "white",
            "gridwidth": 2,
            "linecolor": "white",
            "showbackground": true,
            "ticks": "",
            "zerolinecolor": "white"
           },
           "yaxis": {
            "backgroundcolor": "#E5ECF6",
            "gridcolor": "white",
            "gridwidth": 2,
            "linecolor": "white",
            "showbackground": true,
            "ticks": "",
            "zerolinecolor": "white"
           },
           "zaxis": {
            "backgroundcolor": "#E5ECF6",
            "gridcolor": "white",
            "gridwidth": 2,
            "linecolor": "white",
            "showbackground": true,
            "ticks": "",
            "zerolinecolor": "white"
           }
          },
          "shapedefaults": {
           "line": {
            "color": "#2a3f5f"
           }
          },
          "ternary": {
           "aaxis": {
            "gridcolor": "white",
            "linecolor": "white",
            "ticks": ""
           },
           "baxis": {
            "gridcolor": "white",
            "linecolor": "white",
            "ticks": ""
           },
           "bgcolor": "#E5ECF6",
           "caxis": {
            "gridcolor": "white",
            "linecolor": "white",
            "ticks": ""
           }
          },
          "title": {
           "x": 0.05
          },
          "xaxis": {
           "automargin": true,
           "gridcolor": "white",
           "linecolor": "white",
           "ticks": "",
           "title": {
            "standoff": 15
           },
           "zerolinecolor": "white",
           "zerolinewidth": 2
          },
          "yaxis": {
           "automargin": true,
           "gridcolor": "white",
           "linecolor": "white",
           "ticks": "",
           "title": {
            "standoff": 15
           },
           "zerolinecolor": "white",
           "zerolinewidth": 2
          }
         }
        },
        "title": {
         "text": "2 years Schools tuition evolution"
        },
        "transition": {
         "duration": 5000
        },
        "updatemenus": [
         {
          "buttons": [
           {
            "args": [
             null,
             {
              "frame": {
               "duration": 500,
               "redraw": true
              },
              "fromcurrent": true,
              "mode": "immediate",
              "transition": {
               "duration": 500,
               "easing": "linear"
              }
             }
            ],
            "label": "&#9654;",
            "method": "animate"
           },
           {
            "args": [
             [
              null
             ],
             {
              "frame": {
               "duration": 0,
               "redraw": true
              },
              "fromcurrent": true,
              "mode": "immediate",
              "transition": {
               "duration": 0,
               "easing": "linear"
              }
             }
            ],
            "label": "&#9724;",
            "method": "animate"
           }
          ],
          "direction": "left",
          "pad": {
           "r": 10,
           "t": 70
          },
          "showactive": false,
          "type": "buttons",
          "x": 0.1,
          "xanchor": "right",
          "y": 0,
          "yanchor": "top"
         }
        ],
        "width": 800
       }
      }
     },
     "metadata": {},
     "output_type": "display_data"
    }
   ],
   "source": [
    "import plotly.express as px\n",
    "column_selected = \"Tuition\"\n",
    "\n",
    "map_figure = px.choropleth(\n",
    "    data_frame=df,\n",
    "    locations='State_Code',\n",
    "    locationmode='USA-states',\n",
    "    color=column_selected,\n",
    "    animation_frame='Year',\n",
    "    color_continuous_scale='YlOrRd',\n",
    "    range_color=(df[column_selected].min(), df[column_selected].max()),\n",
    "    title='2 years Schools tuition evolution',\n",
    "    labels={'Tuition ($)': column_selected},\n",
    "    hover_name = \"State\",\n",
    "    hover_data = [\"Tuition\"]\n",
    "\n",
    ")\n",
    "\n",
    "map_figure.update_geos(showframe=False, showcoastlines=False, projection_type='albers usa', showocean=True, oceancolor=\"LightBlue\")\n",
    "map_figure.update_layout(\n",
    "    width=800,\n",
    "    height=600,\n",
    "    transition_duration=5000\n",
    ")\n",
    "map_figure.write_html(\"../../../graphs/html/three-map-2.html\")\n",
    "map_figure.show()"
   ]
  },
  {
   "cell_type": "code",
   "execution_count": 10,
   "metadata": {},
   "outputs": [
    {
     "name": "stdout",
     "output_type": "stream",
     "text": [
      "F-Statistic: 32.82878747935231\n",
      "P-Value: 2.1667568703743365e-166\n"
     ]
    }
   ],
   "source": [
    "#performing one way ANOVA\n",
    "\n",
    "# Null hypothesis: Groups means are equal (no variation in means of groups)\n",
    "# H0: μ1=μ2=…=μp\n",
    "# Alternative hypothesis: At least, one group mean is different from other groups\n",
    "# H1: All μ are not equal\n",
    "\n",
    "\n",
    "from scipy.stats import f_oneway\n",
    "\n",
    "groups = df['State'].unique()\n",
    "group_data = [df[df['State'] == group]['Tuition'] for group in groups]\n",
    "\n",
    "# Perform ANOVA\n",
    "f_statistic, p_value = f_oneway(*group_data)\n",
    "\n",
    "print(\"F-Statistic:\", f_statistic)\n",
    "print(\"P-Value:\", p_value)"
   ]
  },
  {
   "cell_type": "code",
   "execution_count": 11,
   "metadata": {},
   "outputs": [],
   "source": [
    "from statsmodels.stats.multicomp import pairwise_tukeyhsd\n",
    "tukey_results = pairwise_tukeyhsd(df['Tuition'], df['State'])\n",
    "# Convert Tukey's HSD results to DataFrame\n"
   ]
  },
  {
   "cell_type": "code",
   "execution_count": 12,
   "metadata": {},
   "outputs": [],
   "source": [
    "tukey_df = pd.DataFrame(data=tukey_results._results_table.data[1:], columns=tukey_results._results_table.data[0])\n",
    "\n",
    "# Filter rows where reject is True\n",
    "significant_differences = tukey_df[tukey_df['reject'] == True]\n",
    "diff_mn = significant_differences[significant_differences['group1']=='Minnesota']\n"
   ]
  },
  {
   "cell_type": "code",
   "execution_count": 15,
   "metadata": {},
   "outputs": [
    {
     "data": {
      "application/vnd.plotly.v1+json": {
       "config": {
        "plotlyServerURL": "https://plot.ly"
       },
       "data": [
        {
         "alignmentgroup": "True",
         "hovertemplate": "p-adj=%{x}<br>group2=%{y}<extra></extra>",
         "legendgroup": "",
         "marker": {
          "color": "#636efa",
          "pattern": {
           "shape": ""
          }
         },
         "name": "",
         "offsetgroup": "",
         "orientation": "h",
         "showlegend": false,
         "textposition": "auto",
         "type": "bar",
         "x": [
          0,
          0,
          0,
          0,
          0,
          0.0067,
          0,
          0,
          0,
          0.0063,
          0.0001,
          0,
          0,
          0,
          0.0049,
          0,
          0.0257,
          0
         ],
         "xaxis": "x",
         "y": [
          "Mississippi",
          "Missouri",
          "Montana",
          "Nebraska",
          "Nevada",
          "New Hampshire",
          "New Mexico",
          "North Carolina",
          "Oklahoma",
          "Rhode Island",
          "Tennessee",
          "Texas",
          "Utah",
          "Vermont",
          "Washington",
          "West Virginia",
          "Wisconsin",
          "Wyoming"
         ],
         "yaxis": "y"
        }
       ],
       "layout": {
        "barmode": "relative",
        "legend": {
         "tracegroupgap": 0
        },
        "margin": {
         "t": 60
        },
        "template": {
         "data": {
          "bar": [
           {
            "error_x": {
             "color": "#2a3f5f"
            },
            "error_y": {
             "color": "#2a3f5f"
            },
            "marker": {
             "line": {
              "color": "#E5ECF6",
              "width": 0.5
             },
             "pattern": {
              "fillmode": "overlay",
              "size": 10,
              "solidity": 0.2
             }
            },
            "type": "bar"
           }
          ],
          "barpolar": [
           {
            "marker": {
             "line": {
              "color": "#E5ECF6",
              "width": 0.5
             },
             "pattern": {
              "fillmode": "overlay",
              "size": 10,
              "solidity": 0.2
             }
            },
            "type": "barpolar"
           }
          ],
          "carpet": [
           {
            "aaxis": {
             "endlinecolor": "#2a3f5f",
             "gridcolor": "white",
             "linecolor": "white",
             "minorgridcolor": "white",
             "startlinecolor": "#2a3f5f"
            },
            "baxis": {
             "endlinecolor": "#2a3f5f",
             "gridcolor": "white",
             "linecolor": "white",
             "minorgridcolor": "white",
             "startlinecolor": "#2a3f5f"
            },
            "type": "carpet"
           }
          ],
          "choropleth": [
           {
            "colorbar": {
             "outlinewidth": 0,
             "ticks": ""
            },
            "type": "choropleth"
           }
          ],
          "contour": [
           {
            "colorbar": {
             "outlinewidth": 0,
             "ticks": ""
            },
            "colorscale": [
             [
              0,
              "#0d0887"
             ],
             [
              0.1111111111111111,
              "#46039f"
             ],
             [
              0.2222222222222222,
              "#7201a8"
             ],
             [
              0.3333333333333333,
              "#9c179e"
             ],
             [
              0.4444444444444444,
              "#bd3786"
             ],
             [
              0.5555555555555556,
              "#d8576b"
             ],
             [
              0.6666666666666666,
              "#ed7953"
             ],
             [
              0.7777777777777778,
              "#fb9f3a"
             ],
             [
              0.8888888888888888,
              "#fdca26"
             ],
             [
              1,
              "#f0f921"
             ]
            ],
            "type": "contour"
           }
          ],
          "contourcarpet": [
           {
            "colorbar": {
             "outlinewidth": 0,
             "ticks": ""
            },
            "type": "contourcarpet"
           }
          ],
          "heatmap": [
           {
            "colorbar": {
             "outlinewidth": 0,
             "ticks": ""
            },
            "colorscale": [
             [
              0,
              "#0d0887"
             ],
             [
              0.1111111111111111,
              "#46039f"
             ],
             [
              0.2222222222222222,
              "#7201a8"
             ],
             [
              0.3333333333333333,
              "#9c179e"
             ],
             [
              0.4444444444444444,
              "#bd3786"
             ],
             [
              0.5555555555555556,
              "#d8576b"
             ],
             [
              0.6666666666666666,
              "#ed7953"
             ],
             [
              0.7777777777777778,
              "#fb9f3a"
             ],
             [
              0.8888888888888888,
              "#fdca26"
             ],
             [
              1,
              "#f0f921"
             ]
            ],
            "type": "heatmap"
           }
          ],
          "heatmapgl": [
           {
            "colorbar": {
             "outlinewidth": 0,
             "ticks": ""
            },
            "colorscale": [
             [
              0,
              "#0d0887"
             ],
             [
              0.1111111111111111,
              "#46039f"
             ],
             [
              0.2222222222222222,
              "#7201a8"
             ],
             [
              0.3333333333333333,
              "#9c179e"
             ],
             [
              0.4444444444444444,
              "#bd3786"
             ],
             [
              0.5555555555555556,
              "#d8576b"
             ],
             [
              0.6666666666666666,
              "#ed7953"
             ],
             [
              0.7777777777777778,
              "#fb9f3a"
             ],
             [
              0.8888888888888888,
              "#fdca26"
             ],
             [
              1,
              "#f0f921"
             ]
            ],
            "type": "heatmapgl"
           }
          ],
          "histogram": [
           {
            "marker": {
             "pattern": {
              "fillmode": "overlay",
              "size": 10,
              "solidity": 0.2
             }
            },
            "type": "histogram"
           }
          ],
          "histogram2d": [
           {
            "colorbar": {
             "outlinewidth": 0,
             "ticks": ""
            },
            "colorscale": [
             [
              0,
              "#0d0887"
             ],
             [
              0.1111111111111111,
              "#46039f"
             ],
             [
              0.2222222222222222,
              "#7201a8"
             ],
             [
              0.3333333333333333,
              "#9c179e"
             ],
             [
              0.4444444444444444,
              "#bd3786"
             ],
             [
              0.5555555555555556,
              "#d8576b"
             ],
             [
              0.6666666666666666,
              "#ed7953"
             ],
             [
              0.7777777777777778,
              "#fb9f3a"
             ],
             [
              0.8888888888888888,
              "#fdca26"
             ],
             [
              1,
              "#f0f921"
             ]
            ],
            "type": "histogram2d"
           }
          ],
          "histogram2dcontour": [
           {
            "colorbar": {
             "outlinewidth": 0,
             "ticks": ""
            },
            "colorscale": [
             [
              0,
              "#0d0887"
             ],
             [
              0.1111111111111111,
              "#46039f"
             ],
             [
              0.2222222222222222,
              "#7201a8"
             ],
             [
              0.3333333333333333,
              "#9c179e"
             ],
             [
              0.4444444444444444,
              "#bd3786"
             ],
             [
              0.5555555555555556,
              "#d8576b"
             ],
             [
              0.6666666666666666,
              "#ed7953"
             ],
             [
              0.7777777777777778,
              "#fb9f3a"
             ],
             [
              0.8888888888888888,
              "#fdca26"
             ],
             [
              1,
              "#f0f921"
             ]
            ],
            "type": "histogram2dcontour"
           }
          ],
          "mesh3d": [
           {
            "colorbar": {
             "outlinewidth": 0,
             "ticks": ""
            },
            "type": "mesh3d"
           }
          ],
          "parcoords": [
           {
            "line": {
             "colorbar": {
              "outlinewidth": 0,
              "ticks": ""
             }
            },
            "type": "parcoords"
           }
          ],
          "pie": [
           {
            "automargin": true,
            "type": "pie"
           }
          ],
          "scatter": [
           {
            "fillpattern": {
             "fillmode": "overlay",
             "size": 10,
             "solidity": 0.2
            },
            "type": "scatter"
           }
          ],
          "scatter3d": [
           {
            "line": {
             "colorbar": {
              "outlinewidth": 0,
              "ticks": ""
             }
            },
            "marker": {
             "colorbar": {
              "outlinewidth": 0,
              "ticks": ""
             }
            },
            "type": "scatter3d"
           }
          ],
          "scattercarpet": [
           {
            "marker": {
             "colorbar": {
              "outlinewidth": 0,
              "ticks": ""
             }
            },
            "type": "scattercarpet"
           }
          ],
          "scattergeo": [
           {
            "marker": {
             "colorbar": {
              "outlinewidth": 0,
              "ticks": ""
             }
            },
            "type": "scattergeo"
           }
          ],
          "scattergl": [
           {
            "marker": {
             "colorbar": {
              "outlinewidth": 0,
              "ticks": ""
             }
            },
            "type": "scattergl"
           }
          ],
          "scattermapbox": [
           {
            "marker": {
             "colorbar": {
              "outlinewidth": 0,
              "ticks": ""
             }
            },
            "type": "scattermapbox"
           }
          ],
          "scatterpolar": [
           {
            "marker": {
             "colorbar": {
              "outlinewidth": 0,
              "ticks": ""
             }
            },
            "type": "scatterpolar"
           }
          ],
          "scatterpolargl": [
           {
            "marker": {
             "colorbar": {
              "outlinewidth": 0,
              "ticks": ""
             }
            },
            "type": "scatterpolargl"
           }
          ],
          "scatterternary": [
           {
            "marker": {
             "colorbar": {
              "outlinewidth": 0,
              "ticks": ""
             }
            },
            "type": "scatterternary"
           }
          ],
          "surface": [
           {
            "colorbar": {
             "outlinewidth": 0,
             "ticks": ""
            },
            "colorscale": [
             [
              0,
              "#0d0887"
             ],
             [
              0.1111111111111111,
              "#46039f"
             ],
             [
              0.2222222222222222,
              "#7201a8"
             ],
             [
              0.3333333333333333,
              "#9c179e"
             ],
             [
              0.4444444444444444,
              "#bd3786"
             ],
             [
              0.5555555555555556,
              "#d8576b"
             ],
             [
              0.6666666666666666,
              "#ed7953"
             ],
             [
              0.7777777777777778,
              "#fb9f3a"
             ],
             [
              0.8888888888888888,
              "#fdca26"
             ],
             [
              1,
              "#f0f921"
             ]
            ],
            "type": "surface"
           }
          ],
          "table": [
           {
            "cells": {
             "fill": {
              "color": "#EBF0F8"
             },
             "line": {
              "color": "white"
             }
            },
            "header": {
             "fill": {
              "color": "#C8D4E3"
             },
             "line": {
              "color": "white"
             }
            },
            "type": "table"
           }
          ]
         },
         "layout": {
          "annotationdefaults": {
           "arrowcolor": "#2a3f5f",
           "arrowhead": 0,
           "arrowwidth": 1
          },
          "autotypenumbers": "strict",
          "coloraxis": {
           "colorbar": {
            "outlinewidth": 0,
            "ticks": ""
           }
          },
          "colorscale": {
           "diverging": [
            [
             0,
             "#8e0152"
            ],
            [
             0.1,
             "#c51b7d"
            ],
            [
             0.2,
             "#de77ae"
            ],
            [
             0.3,
             "#f1b6da"
            ],
            [
             0.4,
             "#fde0ef"
            ],
            [
             0.5,
             "#f7f7f7"
            ],
            [
             0.6,
             "#e6f5d0"
            ],
            [
             0.7,
             "#b8e186"
            ],
            [
             0.8,
             "#7fbc41"
            ],
            [
             0.9,
             "#4d9221"
            ],
            [
             1,
             "#276419"
            ]
           ],
           "sequential": [
            [
             0,
             "#0d0887"
            ],
            [
             0.1111111111111111,
             "#46039f"
            ],
            [
             0.2222222222222222,
             "#7201a8"
            ],
            [
             0.3333333333333333,
             "#9c179e"
            ],
            [
             0.4444444444444444,
             "#bd3786"
            ],
            [
             0.5555555555555556,
             "#d8576b"
            ],
            [
             0.6666666666666666,
             "#ed7953"
            ],
            [
             0.7777777777777778,
             "#fb9f3a"
            ],
            [
             0.8888888888888888,
             "#fdca26"
            ],
            [
             1,
             "#f0f921"
            ]
           ],
           "sequentialminus": [
            [
             0,
             "#0d0887"
            ],
            [
             0.1111111111111111,
             "#46039f"
            ],
            [
             0.2222222222222222,
             "#7201a8"
            ],
            [
             0.3333333333333333,
             "#9c179e"
            ],
            [
             0.4444444444444444,
             "#bd3786"
            ],
            [
             0.5555555555555556,
             "#d8576b"
            ],
            [
             0.6666666666666666,
             "#ed7953"
            ],
            [
             0.7777777777777778,
             "#fb9f3a"
            ],
            [
             0.8888888888888888,
             "#fdca26"
            ],
            [
             1,
             "#f0f921"
            ]
           ]
          },
          "colorway": [
           "#636efa",
           "#EF553B",
           "#00cc96",
           "#ab63fa",
           "#FFA15A",
           "#19d3f3",
           "#FF6692",
           "#B6E880",
           "#FF97FF",
           "#FECB52"
          ],
          "font": {
           "color": "#2a3f5f"
          },
          "geo": {
           "bgcolor": "white",
           "lakecolor": "white",
           "landcolor": "#E5ECF6",
           "showlakes": true,
           "showland": true,
           "subunitcolor": "white"
          },
          "hoverlabel": {
           "align": "left"
          },
          "hovermode": "closest",
          "mapbox": {
           "style": "light"
          },
          "paper_bgcolor": "white",
          "plot_bgcolor": "#E5ECF6",
          "polar": {
           "angularaxis": {
            "gridcolor": "white",
            "linecolor": "white",
            "ticks": ""
           },
           "bgcolor": "#E5ECF6",
           "radialaxis": {
            "gridcolor": "white",
            "linecolor": "white",
            "ticks": ""
           }
          },
          "scene": {
           "xaxis": {
            "backgroundcolor": "#E5ECF6",
            "gridcolor": "white",
            "gridwidth": 2,
            "linecolor": "white",
            "showbackground": true,
            "ticks": "",
            "zerolinecolor": "white"
           },
           "yaxis": {
            "backgroundcolor": "#E5ECF6",
            "gridcolor": "white",
            "gridwidth": 2,
            "linecolor": "white",
            "showbackground": true,
            "ticks": "",
            "zerolinecolor": "white"
           },
           "zaxis": {
            "backgroundcolor": "#E5ECF6",
            "gridcolor": "white",
            "gridwidth": 2,
            "linecolor": "white",
            "showbackground": true,
            "ticks": "",
            "zerolinecolor": "white"
           }
          },
          "shapedefaults": {
           "line": {
            "color": "#2a3f5f"
           }
          },
          "ternary": {
           "aaxis": {
            "gridcolor": "white",
            "linecolor": "white",
            "ticks": ""
           },
           "baxis": {
            "gridcolor": "white",
            "linecolor": "white",
            "ticks": ""
           },
           "bgcolor": "#E5ECF6",
           "caxis": {
            "gridcolor": "white",
            "linecolor": "white",
            "ticks": ""
           }
          },
          "title": {
           "x": 0.05
          },
          "xaxis": {
           "automargin": true,
           "gridcolor": "white",
           "linecolor": "white",
           "ticks": "",
           "title": {
            "standoff": 15
           },
           "zerolinecolor": "white",
           "zerolinewidth": 2
          },
          "yaxis": {
           "automargin": true,
           "gridcolor": "white",
           "linecolor": "white",
           "ticks": "",
           "title": {
            "standoff": 15
           },
           "zerolinecolor": "white",
           "zerolinewidth": 2
          }
         }
        },
        "width": 600,
        "xaxis": {
         "anchor": "y",
         "domain": [
          0,
          1
         ],
         "title": {
          "text": "p-adj"
         }
        },
        "yaxis": {
         "anchor": "x",
         "domain": [
          0,
          1
         ],
         "title": {
          "text": "group2"
         }
        }
       }
      }
     },
     "metadata": {},
     "output_type": "display_data"
    }
   ],
   "source": [
    "import plotly.express as px\n",
    "\n",
    "fig = px.bar(diff_mn, x='p-adj', y='group2', width=600)\n",
    "fig.write_html(\"../../../graphs/html/three/tukey_test-2.html\")\n",
    "fig.show()"
   ]
  }
 ],
 "metadata": {
  "kernelspec": {
   "display_name": "base",
   "language": "python",
   "name": "python3"
  },
  "language_info": {
   "codemirror_mode": {
    "name": "ipython",
    "version": 3
   },
   "file_extension": ".py",
   "mimetype": "text/x-python",
   "name": "python",
   "nbconvert_exporter": "python",
   "pygments_lexer": "ipython3",
   "version": "3.12.2"
  }
 },
 "nbformat": 4,
 "nbformat_minor": 2
}
