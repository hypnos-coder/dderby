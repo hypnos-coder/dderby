{
 "cells": [
  {
   "cell_type": "code",
   "execution_count": 2,
   "metadata": {},
   "outputs": [
    {
     "data": {
      "text/html": [
       "<div>\n",
       "<style scoped>\n",
       "    .dataframe tbody tr th:only-of-type {\n",
       "        vertical-align: middle;\n",
       "    }\n",
       "\n",
       "    .dataframe tbody tr th {\n",
       "        vertical-align: top;\n",
       "    }\n",
       "\n",
       "    .dataframe thead th {\n",
       "        text-align: right;\n",
       "    }\n",
       "</style>\n",
       "<table border=\"1\" class=\"dataframe\">\n",
       "  <thead>\n",
       "    <tr style=\"text-align: right;\">\n",
       "      <th></th>\n",
       "      <th>State</th>\n",
       "      <th>2004-05</th>\n",
       "      <th>2005-06</th>\n",
       "      <th>2006-07</th>\n",
       "      <th>2007-08</th>\n",
       "      <th>2008-09</th>\n",
       "      <th>2009-10</th>\n",
       "      <th>2010-11</th>\n",
       "      <th>2011-12</th>\n",
       "      <th>2012-13</th>\n",
       "      <th>...</th>\n",
       "      <th>2016-17</th>\n",
       "      <th>2017-18</th>\n",
       "      <th>2018-19</th>\n",
       "      <th>2019-20</th>\n",
       "      <th>2020-21</th>\n",
       "      <th>2021-22</th>\n",
       "      <th>2022-23</th>\n",
       "      <th>2023-24</th>\n",
       "      <th>1-Year % Change</th>\n",
       "      <th>5-Year % Change</th>\n",
       "    </tr>\n",
       "  </thead>\n",
       "  <tbody>\n",
       "    <tr>\n",
       "      <th>0</th>\n",
       "      <td>Alabama</td>\n",
       "      <td>4510</td>\n",
       "      <td>4782</td>\n",
       "      <td>4906</td>\n",
       "      <td>5244</td>\n",
       "      <td>5968</td>\n",
       "      <td>6487</td>\n",
       "      <td>7373</td>\n",
       "      <td>8001</td>\n",
       "      <td>8734</td>\n",
       "      <td>...</td>\n",
       "      <td>10083</td>\n",
       "      <td>10650</td>\n",
       "      <td>10777</td>\n",
       "      <td>10922</td>\n",
       "      <td>10996</td>\n",
       "      <td>11338</td>\n",
       "      <td>11683</td>\n",
       "      <td>11890</td>\n",
       "      <td>0.02</td>\n",
       "      <td>0.10</td>\n",
       "    </tr>\n",
       "    <tr>\n",
       "      <th>1</th>\n",
       "      <td>Alaska</td>\n",
       "      <td>3435</td>\n",
       "      <td>3793</td>\n",
       "      <td>4194</td>\n",
       "      <td>4425</td>\n",
       "      <td>4678</td>\n",
       "      <td>4922</td>\n",
       "      <td>5261</td>\n",
       "      <td>5455</td>\n",
       "      <td>5785</td>\n",
       "      <td>...</td>\n",
       "      <td>7128</td>\n",
       "      <td>7440</td>\n",
       "      <td>7821</td>\n",
       "      <td>8233</td>\n",
       "      <td>8610</td>\n",
       "      <td>8815</td>\n",
       "      <td>9024</td>\n",
       "      <td>9163</td>\n",
       "      <td>0.02</td>\n",
       "      <td>0.17</td>\n",
       "    </tr>\n",
       "    <tr>\n",
       "      <th>2</th>\n",
       "      <td>Arizona</td>\n",
       "      <td>4078</td>\n",
       "      <td>4434</td>\n",
       "      <td>4674</td>\n",
       "      <td>4959</td>\n",
       "      <td>5584</td>\n",
       "      <td>6554</td>\n",
       "      <td>8075</td>\n",
       "      <td>9435</td>\n",
       "      <td>9728</td>\n",
       "      <td>...</td>\n",
       "      <td>10931</td>\n",
       "      <td>11210</td>\n",
       "      <td>11545</td>\n",
       "      <td>11879</td>\n",
       "      <td>11811</td>\n",
       "      <td>11820</td>\n",
       "      <td>12184</td>\n",
       "      <td>12583</td>\n",
       "      <td>0.03</td>\n",
       "      <td>0.09</td>\n",
       "    </tr>\n",
       "    <tr>\n",
       "      <th>3</th>\n",
       "      <td>Arkansas</td>\n",
       "      <td>4581</td>\n",
       "      <td>4980</td>\n",
       "      <td>5314</td>\n",
       "      <td>5599</td>\n",
       "      <td>5914</td>\n",
       "      <td>5980</td>\n",
       "      <td>6304</td>\n",
       "      <td>6654</td>\n",
       "      <td>6995</td>\n",
       "      <td>...</td>\n",
       "      <td>8254</td>\n",
       "      <td>8550</td>\n",
       "      <td>8701</td>\n",
       "      <td>9036</td>\n",
       "      <td>9078</td>\n",
       "      <td>9250</td>\n",
       "      <td>9478</td>\n",
       "      <td>9734</td>\n",
       "      <td>0.03</td>\n",
       "      <td>0.12</td>\n",
       "    </tr>\n",
       "    <tr>\n",
       "      <th>4</th>\n",
       "      <td>California</td>\n",
       "      <td>4195</td>\n",
       "      <td>4526</td>\n",
       "      <td>4549</td>\n",
       "      <td>4951</td>\n",
       "      <td>5436</td>\n",
       "      <td>6550</td>\n",
       "      <td>7485</td>\n",
       "      <td>8933</td>\n",
       "      <td>8986</td>\n",
       "      <td>...</td>\n",
       "      <td>9302</td>\n",
       "      <td>9800</td>\n",
       "      <td>9875</td>\n",
       "      <td>9854</td>\n",
       "      <td>9924</td>\n",
       "      <td>9943</td>\n",
       "      <td>10353</td>\n",
       "      <td>10641</td>\n",
       "      <td>0.03</td>\n",
       "      <td>0.08</td>\n",
       "    </tr>\n",
       "  </tbody>\n",
       "</table>\n",
       "<p>5 rows × 23 columns</p>\n",
       "</div>"
      ],
      "text/plain": [
       "        State  2004-05  2005-06  2006-07    2007-08   2008-09  2009-10  \\\n",
       "0     Alabama     4510     4782     4906        5244     5968     6487   \n",
       "1      Alaska     3435     3793     4194        4425     4678     4922   \n",
       "2     Arizona     4078     4434     4674        4959     5584     6554   \n",
       "3    Arkansas     4581     4980     5314        5599     5914     5980   \n",
       "4  California     4195     4526     4549        4951     5436     6550   \n",
       "\n",
       "   2010-11  2011-12  2012-13  ...  2016-17  2017-18  2018-19  2019-20  \\\n",
       "0     7373     8001     8734  ...    10083    10650    10777    10922   \n",
       "1     5261     5455     5785  ...     7128     7440     7821     8233   \n",
       "2     8075     9435     9728  ...    10931    11210    11545    11879   \n",
       "3     6304     6654     6995  ...     8254     8550     8701     9036   \n",
       "4     7485     8933     8986  ...     9302     9800     9875     9854   \n",
       "\n",
       "   2020-21  2021-22  2022-23  2023-24  1-Year % Change  5-Year % Change  \n",
       "0    10996    11338    11683    11890             0.02             0.10  \n",
       "1     8610     8815     9024     9163             0.02             0.17  \n",
       "2    11811    11820    12184    12583             0.03             0.09  \n",
       "3     9078     9250     9478     9734             0.03             0.12  \n",
       "4     9924     9943    10353    10641             0.03             0.08  \n",
       "\n",
       "[5 rows x 23 columns]"
      ]
     },
     "execution_count": 2,
     "metadata": {},
     "output_type": "execute_result"
    }
   ],
   "source": [
    "import pandas as pd\n",
    "import seaborn as sns\n",
    "import matplotlib.pyplot as plt\n",
    "\n",
    "df = pd.read_csv(\"../../../data/National_education_cost/CP3-pub-4y-current-dollars.csv\")\n",
    "import warnings\n",
    "warnings.filterwarnings(\"ignore\")\n",
    "\n",
    "# df.drop([\"Unnamed: 23\", ], axis=1, inplace=True)\n",
    "df.head()"
   ]
  },
  {
   "cell_type": "code",
   "execution_count": 3,
   "metadata": {},
   "outputs": [
    {
     "data": {
      "text/plain": [
       "Index(['State', '2004-05', '2005-06', '2006-07', '  2007-08 ', '2008-09',\n",
       "       '2009-10', '2010-11', '2011-12', '2012-13', '2013-14', '2014-15',\n",
       "       '2015-16', '2016-17', '2017-18', '2018-19', '2019-20', '2020-21',\n",
       "       '2021-22', '2022-23', '2023-24', '1-Year % Change', '5-Year % Change'],\n",
       "      dtype='object')"
      ]
     },
     "execution_count": 3,
     "metadata": {},
     "output_type": "execute_result"
    }
   ],
   "source": [
    "df.columns"
   ]
  },
  {
   "cell_type": "code",
   "execution_count": 4,
   "metadata": {},
   "outputs": [],
   "source": [
    "melted_df = pd.melt(df, id_vars=[\"State\", \"1-Year % Change\", \"5-Year % Change\"], var_name=\"Year\", value_name=\"Tuition\")\n",
    "df = melted_df.sort_values(by=[\"State\", \"Year\"]).reset_index(drop=True)"
   ]
  },
  {
   "cell_type": "code",
   "execution_count": 5,
   "metadata": {},
   "outputs": [
    {
     "data": {
      "text/html": [
       "<div>\n",
       "<style scoped>\n",
       "    .dataframe tbody tr th:only-of-type {\n",
       "        vertical-align: middle;\n",
       "    }\n",
       "\n",
       "    .dataframe tbody tr th {\n",
       "        vertical-align: top;\n",
       "    }\n",
       "\n",
       "    .dataframe thead th {\n",
       "        text-align: right;\n",
       "    }\n",
       "</style>\n",
       "<table border=\"1\" class=\"dataframe\">\n",
       "  <thead>\n",
       "    <tr style=\"text-align: right;\">\n",
       "      <th></th>\n",
       "      <th>State</th>\n",
       "      <th>1-Year % Change</th>\n",
       "      <th>5-Year % Change</th>\n",
       "      <th>Year</th>\n",
       "      <th>Tuition</th>\n",
       "    </tr>\n",
       "  </thead>\n",
       "  <tbody>\n",
       "    <tr>\n",
       "      <th>0</th>\n",
       "      <td>Alabama</td>\n",
       "      <td>0.02</td>\n",
       "      <td>0.10</td>\n",
       "      <td>2007-08</td>\n",
       "      <td>5244</td>\n",
       "    </tr>\n",
       "    <tr>\n",
       "      <th>1</th>\n",
       "      <td>Alabama</td>\n",
       "      <td>0.02</td>\n",
       "      <td>0.10</td>\n",
       "      <td>2004-05</td>\n",
       "      <td>4510</td>\n",
       "    </tr>\n",
       "    <tr>\n",
       "      <th>2</th>\n",
       "      <td>Alabama</td>\n",
       "      <td>0.02</td>\n",
       "      <td>0.10</td>\n",
       "      <td>2005-06</td>\n",
       "      <td>4782</td>\n",
       "    </tr>\n",
       "    <tr>\n",
       "      <th>3</th>\n",
       "      <td>Alabama</td>\n",
       "      <td>0.02</td>\n",
       "      <td>0.10</td>\n",
       "      <td>2006-07</td>\n",
       "      <td>4906</td>\n",
       "    </tr>\n",
       "    <tr>\n",
       "      <th>4</th>\n",
       "      <td>Alabama</td>\n",
       "      <td>0.02</td>\n",
       "      <td>0.10</td>\n",
       "      <td>2008-09</td>\n",
       "      <td>5968</td>\n",
       "    </tr>\n",
       "    <tr>\n",
       "      <th>...</th>\n",
       "      <td>...</td>\n",
       "      <td>...</td>\n",
       "      <td>...</td>\n",
       "      <td>...</td>\n",
       "      <td>...</td>\n",
       "    </tr>\n",
       "    <tr>\n",
       "      <th>1015</th>\n",
       "      <td>Wyoming</td>\n",
       "      <td>0.04</td>\n",
       "      <td>0.24</td>\n",
       "      <td>2019-20</td>\n",
       "      <td>5581</td>\n",
       "    </tr>\n",
       "    <tr>\n",
       "      <th>1016</th>\n",
       "      <td>Wyoming</td>\n",
       "      <td>0.04</td>\n",
       "      <td>0.24</td>\n",
       "      <td>2020-21</td>\n",
       "      <td>5792</td>\n",
       "    </tr>\n",
       "    <tr>\n",
       "      <th>1017</th>\n",
       "      <td>Wyoming</td>\n",
       "      <td>0.04</td>\n",
       "      <td>0.24</td>\n",
       "      <td>2021-22</td>\n",
       "      <td>6097</td>\n",
       "    </tr>\n",
       "    <tr>\n",
       "      <th>1018</th>\n",
       "      <td>Wyoming</td>\n",
       "      <td>0.04</td>\n",
       "      <td>0.24</td>\n",
       "      <td>2022-23</td>\n",
       "      <td>6441</td>\n",
       "    </tr>\n",
       "    <tr>\n",
       "      <th>1019</th>\n",
       "      <td>Wyoming</td>\n",
       "      <td>0.04</td>\n",
       "      <td>0.24</td>\n",
       "      <td>2023-24</td>\n",
       "      <td>6698</td>\n",
       "    </tr>\n",
       "  </tbody>\n",
       "</table>\n",
       "<p>1020 rows × 5 columns</p>\n",
       "</div>"
      ],
      "text/plain": [
       "        State  1-Year % Change  5-Year % Change        Year  Tuition\n",
       "0     Alabama             0.02             0.10    2007-08      5244\n",
       "1     Alabama             0.02             0.10     2004-05     4510\n",
       "2     Alabama             0.02             0.10     2005-06     4782\n",
       "3     Alabama             0.02             0.10     2006-07     4906\n",
       "4     Alabama             0.02             0.10     2008-09     5968\n",
       "...       ...              ...              ...         ...      ...\n",
       "1015  Wyoming             0.04             0.24     2019-20     5581\n",
       "1016  Wyoming             0.04             0.24     2020-21     5792\n",
       "1017  Wyoming             0.04             0.24     2021-22     6097\n",
       "1018  Wyoming             0.04             0.24     2022-23     6441\n",
       "1019  Wyoming             0.04             0.24     2023-24     6698\n",
       "\n",
       "[1020 rows x 5 columns]"
      ]
     },
     "execution_count": 5,
     "metadata": {},
     "output_type": "execute_result"
    }
   ],
   "source": [
    "df"
   ]
  },
  {
   "cell_type": "code",
   "execution_count": 6,
   "metadata": {},
   "outputs": [
    {
     "data": {
      "text/html": [
       "<div>\n",
       "<style scoped>\n",
       "    .dataframe tbody tr th:only-of-type {\n",
       "        vertical-align: middle;\n",
       "    }\n",
       "\n",
       "    .dataframe tbody tr th {\n",
       "        vertical-align: top;\n",
       "    }\n",
       "\n",
       "    .dataframe thead th {\n",
       "        text-align: right;\n",
       "    }\n",
       "</style>\n",
       "<table border=\"1\" class=\"dataframe\">\n",
       "  <thead>\n",
       "    <tr style=\"text-align: right;\">\n",
       "      <th></th>\n",
       "      <th>State</th>\n",
       "      <th>1-Year % Change</th>\n",
       "      <th>5-Year % Change</th>\n",
       "      <th>Year</th>\n",
       "      <th>Tuition</th>\n",
       "    </tr>\n",
       "  </thead>\n",
       "  <tbody>\n",
       "    <tr>\n",
       "      <th>0</th>\n",
       "      <td>Alabama</td>\n",
       "      <td>0.02</td>\n",
       "      <td>0.1</td>\n",
       "      <td>2004</td>\n",
       "      <td>4510</td>\n",
       "    </tr>\n",
       "    <tr>\n",
       "      <th>1</th>\n",
       "      <td>Alabama</td>\n",
       "      <td>0.02</td>\n",
       "      <td>0.1</td>\n",
       "      <td>2005</td>\n",
       "      <td>4782</td>\n",
       "    </tr>\n",
       "    <tr>\n",
       "      <th>2</th>\n",
       "      <td>Alabama</td>\n",
       "      <td>0.02</td>\n",
       "      <td>0.1</td>\n",
       "      <td>2006</td>\n",
       "      <td>4906</td>\n",
       "    </tr>\n",
       "    <tr>\n",
       "      <th>3</th>\n",
       "      <td>Alabama</td>\n",
       "      <td>0.02</td>\n",
       "      <td>0.1</td>\n",
       "      <td>2007</td>\n",
       "      <td>5244</td>\n",
       "    </tr>\n",
       "    <tr>\n",
       "      <th>4</th>\n",
       "      <td>Alabama</td>\n",
       "      <td>0.02</td>\n",
       "      <td>0.1</td>\n",
       "      <td>2008</td>\n",
       "      <td>5968</td>\n",
       "    </tr>\n",
       "  </tbody>\n",
       "</table>\n",
       "</div>"
      ],
      "text/plain": [
       "     State  1-Year % Change  5-Year % Change  Year  Tuition\n",
       "0  Alabama             0.02              0.1  2004     4510\n",
       "1  Alabama             0.02              0.1  2005     4782\n",
       "2  Alabama             0.02              0.1  2006     4906\n",
       "3  Alabama             0.02              0.1  2007     5244\n",
       "4  Alabama             0.02              0.1  2008     5968"
      ]
     },
     "execution_count": 6,
     "metadata": {},
     "output_type": "execute_result"
    }
   ],
   "source": [
    "def replace_year(x):\n",
    "    x=x.strip()\n",
    "    current = x[:4]\n",
    "    return current\n",
    "\n",
    "\n",
    "df['Year'] = df['Year'].apply(replace_year)\n",
    "df['Year'] = pd.to_datetime(df['Year']).dt.year\n",
    "# df.dtypes\n",
    "df = df.sort_values(by=[\"State\", \"Year\"]).reset_index(drop=True)\n",
    "df.head()"
   ]
  },
  {
   "cell_type": "code",
   "execution_count": 7,
   "metadata": {},
   "outputs": [
    {
     "data": {
      "text/html": [
       "<div>\n",
       "<style scoped>\n",
       "    .dataframe tbody tr th:only-of-type {\n",
       "        vertical-align: middle;\n",
       "    }\n",
       "\n",
       "    .dataframe tbody tr th {\n",
       "        vertical-align: top;\n",
       "    }\n",
       "\n",
       "    .dataframe thead th {\n",
       "        text-align: right;\n",
       "    }\n",
       "</style>\n",
       "<table border=\"1\" class=\"dataframe\">\n",
       "  <thead>\n",
       "    <tr style=\"text-align: right;\">\n",
       "      <th></th>\n",
       "      <th>State</th>\n",
       "      <th>1-Year % Change</th>\n",
       "      <th>5-Year % Change</th>\n",
       "      <th>Year</th>\n",
       "      <th>Tuition</th>\n",
       "      <th>State_Code</th>\n",
       "    </tr>\n",
       "  </thead>\n",
       "  <tbody>\n",
       "    <tr>\n",
       "      <th>0</th>\n",
       "      <td>Alabama</td>\n",
       "      <td>0.02</td>\n",
       "      <td>0.10</td>\n",
       "      <td>2004</td>\n",
       "      <td>4510</td>\n",
       "      <td>AL</td>\n",
       "    </tr>\n",
       "    <tr>\n",
       "      <th>1</th>\n",
       "      <td>Alabama</td>\n",
       "      <td>0.02</td>\n",
       "      <td>0.10</td>\n",
       "      <td>2005</td>\n",
       "      <td>4782</td>\n",
       "      <td>AL</td>\n",
       "    </tr>\n",
       "    <tr>\n",
       "      <th>2</th>\n",
       "      <td>Alabama</td>\n",
       "      <td>0.02</td>\n",
       "      <td>0.10</td>\n",
       "      <td>2006</td>\n",
       "      <td>4906</td>\n",
       "      <td>AL</td>\n",
       "    </tr>\n",
       "    <tr>\n",
       "      <th>3</th>\n",
       "      <td>Alabama</td>\n",
       "      <td>0.02</td>\n",
       "      <td>0.10</td>\n",
       "      <td>2007</td>\n",
       "      <td>5244</td>\n",
       "      <td>AL</td>\n",
       "    </tr>\n",
       "    <tr>\n",
       "      <th>4</th>\n",
       "      <td>Alabama</td>\n",
       "      <td>0.02</td>\n",
       "      <td>0.10</td>\n",
       "      <td>2008</td>\n",
       "      <td>5968</td>\n",
       "      <td>AL</td>\n",
       "    </tr>\n",
       "    <tr>\n",
       "      <th>...</th>\n",
       "      <td>...</td>\n",
       "      <td>...</td>\n",
       "      <td>...</td>\n",
       "      <td>...</td>\n",
       "      <td>...</td>\n",
       "      <td>...</td>\n",
       "    </tr>\n",
       "    <tr>\n",
       "      <th>1015</th>\n",
       "      <td>Wyoming</td>\n",
       "      <td>0.04</td>\n",
       "      <td>0.24</td>\n",
       "      <td>2019</td>\n",
       "      <td>5581</td>\n",
       "      <td>WY</td>\n",
       "    </tr>\n",
       "    <tr>\n",
       "      <th>1016</th>\n",
       "      <td>Wyoming</td>\n",
       "      <td>0.04</td>\n",
       "      <td>0.24</td>\n",
       "      <td>2020</td>\n",
       "      <td>5792</td>\n",
       "      <td>WY</td>\n",
       "    </tr>\n",
       "    <tr>\n",
       "      <th>1017</th>\n",
       "      <td>Wyoming</td>\n",
       "      <td>0.04</td>\n",
       "      <td>0.24</td>\n",
       "      <td>2021</td>\n",
       "      <td>6097</td>\n",
       "      <td>WY</td>\n",
       "    </tr>\n",
       "    <tr>\n",
       "      <th>1018</th>\n",
       "      <td>Wyoming</td>\n",
       "      <td>0.04</td>\n",
       "      <td>0.24</td>\n",
       "      <td>2022</td>\n",
       "      <td>6441</td>\n",
       "      <td>WY</td>\n",
       "    </tr>\n",
       "    <tr>\n",
       "      <th>1019</th>\n",
       "      <td>Wyoming</td>\n",
       "      <td>0.04</td>\n",
       "      <td>0.24</td>\n",
       "      <td>2023</td>\n",
       "      <td>6698</td>\n",
       "      <td>WY</td>\n",
       "    </tr>\n",
       "  </tbody>\n",
       "</table>\n",
       "<p>1020 rows × 6 columns</p>\n",
       "</div>"
      ],
      "text/plain": [
       "        State  1-Year % Change  5-Year % Change  Year  Tuition State_Code\n",
       "0     Alabama             0.02             0.10  2004     4510         AL\n",
       "1     Alabama             0.02             0.10  2005     4782         AL\n",
       "2     Alabama             0.02             0.10  2006     4906         AL\n",
       "3     Alabama             0.02             0.10  2007     5244         AL\n",
       "4     Alabama             0.02             0.10  2008     5968         AL\n",
       "...       ...              ...              ...   ...      ...        ...\n",
       "1015  Wyoming             0.04             0.24  2019     5581         WY\n",
       "1016  Wyoming             0.04             0.24  2020     5792         WY\n",
       "1017  Wyoming             0.04             0.24  2021     6097         WY\n",
       "1018  Wyoming             0.04             0.24  2022     6441         WY\n",
       "1019  Wyoming             0.04             0.24  2023     6698         WY\n",
       "\n",
       "[1020 rows x 6 columns]"
      ]
     },
     "execution_count": 7,
     "metadata": {},
     "output_type": "execute_result"
    }
   ],
   "source": [
    "state_codes = {\n",
    "    'Alabama': 'AL', 'Alaska': 'AK', 'Arizona': 'AZ', 'Arkansas': 'AR', 'California': 'CA',\n",
    "    'Colorado': 'CO', 'Connecticut': 'CT', 'Delaware': 'DE', 'Florida': 'FL', 'Georgia': 'GA',\n",
    "    'Hawaii': 'HI', 'Idaho': 'ID', 'Illinois': 'IL', 'Indiana': 'IN', 'Iowa': 'IA', 'Kansas': 'KS',\n",
    "    'Kentucky': 'KY', 'Louisiana': 'LA', 'Maine': 'ME', 'Maryland': 'MD', 'Massachusetts': 'MA',\n",
    "    'Michigan': 'MI', 'Minnesota': 'MN', 'Mississippi': 'MS', 'Missouri': 'MO', 'Montana': 'MT',\n",
    "    'Nebraska': 'NE', 'Nevada': 'NV', 'New Hampshire': 'NH', 'New Jersey': 'NJ', 'New Mexico': 'NM',\n",
    "    'New York': 'NY', 'North Carolina': 'NC', 'North Dakota': 'ND', 'Ohio': 'OH', 'Oklahoma': 'OK',\n",
    "    'Oregon': 'OR', 'Pennsylvania': 'PA', 'Rhode Island': 'RI', 'South Carolina': 'SC',\n",
    "    'South Dakota': 'SD', 'Tennessee': 'TN', 'Texas': 'TX', 'Utah': 'UT', 'Vermont': 'VT',\n",
    "    'Virginia': 'VA', 'Washington': 'WA', 'West Virginia': 'WV', 'Wisconsin': 'WI', 'Wyoming': 'WY',\n",
    "    'District of Columbia': 'DC'\n",
    "}\n",
    "\n",
    "# Add state codes to the melted DataFrame\n",
    "df['State_Code'] = df['State'].map(state_codes)\n",
    "df"
   ]
  },
  {
   "cell_type": "code",
   "execution_count": 8,
   "metadata": {},
   "outputs": [
    {
     "data": {
      "application/vnd.plotly.v1+json": {
       "config": {
        "plotlyServerURL": "https://plot.ly"
       },
       "data": [
        {
         "coloraxis": "coloraxis",
         "customdata": [
          [
           4510
          ],
          [
           3435
          ],
          [
           4078
          ],
          [
           4581
          ],
          [
           4195
          ],
          [
           3733
          ],
          [
           6336
          ],
          [
           6629
          ],
          [
           2520
          ],
          [
           3054
          ],
          [
           3411
          ],
          [
           3386
          ],
          [
           3591
          ],
          [
           6494
          ],
          [
           5847
          ],
          [
           5407
          ],
          [
           4242
          ],
          [
           4476
          ],
          [
           3534
          ],
          [
           5601
          ],
          [
           6770
          ],
          [
           7034
          ],
          [
           6294
          ],
          [
           6463
          ],
          [
           3991
          ],
          [
           5934
          ],
          [
           4468
          ],
          [
           4720
          ],
          [
           2874
          ],
          [
           8085
          ],
          [
           7979
          ],
          [
           3909
          ],
          [
           4948
          ],
          [
           3566
          ],
          [
           4606
          ],
          [
           8236
          ],
          [
           3535
          ],
          [
           5221
          ],
          [
           8249
          ],
          [
           5933
          ],
          [
           6611
          ],
          [
           4348
          ],
          [
           4306
          ],
          [
           5075
          ],
          [
           3274
          ],
          [
           8783
          ],
          [
           5579
          ],
          [
           4914
          ],
          [
           3631
          ],
          [
           5218
          ],
          [
           3243
          ]
         ],
         "geo": "geo",
         "hovertemplate": "<b>%{hovertext}</b><br><br>Year=2004<br>State_Code=%{location}<br>Tuition=%{z}<extra></extra>",
         "hovertext": [
          "Alabama",
          "Alaska",
          "Arizona",
          "Arkansas",
          "California",
          "Colorado",
          "Connecticut",
          "Delaware",
          "District of Columbia",
          "Florida",
          "Georgia",
          "Hawaii",
          "Idaho",
          "Illinois",
          "Indiana",
          "Iowa",
          "Kansas",
          "Kentucky",
          "Louisiana",
          "Maine",
          "Maryland",
          "Massachusetts",
          "Michigan",
          "Minnesota",
          "Mississippi",
          "Missouri",
          "Montana",
          "Nebraska",
          "Nevada",
          "New Hampshire",
          "New Jersey",
          "New Mexico",
          "New York",
          "North Carolina",
          "North Dakota",
          "Ohio",
          "Oklahoma",
          "Oregon",
          "Pennsylvania",
          "Rhode Island",
          "South Carolina",
          "South Dakota",
          "Tennessee",
          "Texas",
          "Utah",
          "Vermont",
          "Virginia",
          "Washington",
          "West Virginia",
          "Wisconsin",
          "Wyoming"
         ],
         "locationmode": "USA-states",
         "locations": [
          "AL",
          "AK",
          "AZ",
          "AR",
          "CA",
          "CO",
          "CT",
          "DE",
          "DC",
          "FL",
          "GA",
          "HI",
          "ID",
          "IL",
          "IN",
          "IA",
          "KS",
          "KY",
          "LA",
          "ME",
          "MD",
          "MA",
          "MI",
          "MN",
          "MS",
          "MO",
          "MT",
          "NE",
          "NV",
          "NH",
          "NJ",
          "NM",
          "NY",
          "NC",
          "ND",
          "OH",
          "OK",
          "OR",
          "PA",
          "RI",
          "SC",
          "SD",
          "TN",
          "TX",
          "UT",
          "VT",
          "VA",
          "WA",
          "WV",
          "WI",
          "WY"
         ],
         "name": "",
         "type": "choropleth",
         "z": [
          4510,
          3435,
          4078,
          4581,
          4195,
          3733,
          6336,
          6629,
          2520,
          3054,
          3411,
          3386,
          3591,
          6494,
          5847,
          5407,
          4242,
          4476,
          3534,
          5601,
          6770,
          7034,
          6294,
          6463,
          3991,
          5934,
          4468,
          4720,
          2874,
          8085,
          7979,
          3909,
          4948,
          3566,
          4606,
          8236,
          3535,
          5221,
          8249,
          5933,
          6611,
          4348,
          4306,
          5075,
          3274,
          8783,
          5579,
          4914,
          3631,
          5218,
          3243
         ]
        }
       ],
       "frames": [
        {
         "data": [
          {
           "coloraxis": "coloraxis",
           "customdata": [
            [
             4510
            ],
            [
             3435
            ],
            [
             4078
            ],
            [
             4581
            ],
            [
             4195
            ],
            [
             3733
            ],
            [
             6336
            ],
            [
             6629
            ],
            [
             2520
            ],
            [
             3054
            ],
            [
             3411
            ],
            [
             3386
            ],
            [
             3591
            ],
            [
             6494
            ],
            [
             5847
            ],
            [
             5407
            ],
            [
             4242
            ],
            [
             4476
            ],
            [
             3534
            ],
            [
             5601
            ],
            [
             6770
            ],
            [
             7034
            ],
            [
             6294
            ],
            [
             6463
            ],
            [
             3991
            ],
            [
             5934
            ],
            [
             4468
            ],
            [
             4720
            ],
            [
             2874
            ],
            [
             8085
            ],
            [
             7979
            ],
            [
             3909
            ],
            [
             4948
            ],
            [
             3566
            ],
            [
             4606
            ],
            [
             8236
            ],
            [
             3535
            ],
            [
             5221
            ],
            [
             8249
            ],
            [
             5933
            ],
            [
             6611
            ],
            [
             4348
            ],
            [
             4306
            ],
            [
             5075
            ],
            [
             3274
            ],
            [
             8783
            ],
            [
             5579
            ],
            [
             4914
            ],
            [
             3631
            ],
            [
             5218
            ],
            [
             3243
            ]
           ],
           "geo": "geo",
           "hovertemplate": "<b>%{hovertext}</b><br><br>Year=2004<br>State_Code=%{location}<br>Tuition=%{z}<extra></extra>",
           "hovertext": [
            "Alabama",
            "Alaska",
            "Arizona",
            "Arkansas",
            "California",
            "Colorado",
            "Connecticut",
            "Delaware",
            "District of Columbia",
            "Florida",
            "Georgia",
            "Hawaii",
            "Idaho",
            "Illinois",
            "Indiana",
            "Iowa",
            "Kansas",
            "Kentucky",
            "Louisiana",
            "Maine",
            "Maryland",
            "Massachusetts",
            "Michigan",
            "Minnesota",
            "Mississippi",
            "Missouri",
            "Montana",
            "Nebraska",
            "Nevada",
            "New Hampshire",
            "New Jersey",
            "New Mexico",
            "New York",
            "North Carolina",
            "North Dakota",
            "Ohio",
            "Oklahoma",
            "Oregon",
            "Pennsylvania",
            "Rhode Island",
            "South Carolina",
            "South Dakota",
            "Tennessee",
            "Texas",
            "Utah",
            "Vermont",
            "Virginia",
            "Washington",
            "West Virginia",
            "Wisconsin",
            "Wyoming"
           ],
           "locationmode": "USA-states",
           "locations": [
            "AL",
            "AK",
            "AZ",
            "AR",
            "CA",
            "CO",
            "CT",
            "DE",
            "DC",
            "FL",
            "GA",
            "HI",
            "ID",
            "IL",
            "IN",
            "IA",
            "KS",
            "KY",
            "LA",
            "ME",
            "MD",
            "MA",
            "MI",
            "MN",
            "MS",
            "MO",
            "MT",
            "NE",
            "NV",
            "NH",
            "NJ",
            "NM",
            "NY",
            "NC",
            "ND",
            "OH",
            "OK",
            "OR",
            "PA",
            "RI",
            "SC",
            "SD",
            "TN",
            "TX",
            "UT",
            "VT",
            "VA",
            "WA",
            "WV",
            "WI",
            "WY"
           ],
           "name": "",
           "type": "choropleth",
           "z": [
            4510,
            3435,
            4078,
            4581,
            4195,
            3733,
            6336,
            6629,
            2520,
            3054,
            3411,
            3386,
            3591,
            6494,
            5847,
            5407,
            4242,
            4476,
            3534,
            5601,
            6770,
            7034,
            6294,
            6463,
            3991,
            5934,
            4468,
            4720,
            2874,
            8085,
            7979,
            3909,
            4948,
            3566,
            4606,
            8236,
            3535,
            5221,
            8249,
            5933,
            6611,
            4348,
            4306,
            5075,
            3274,
            8783,
            5579,
            4914,
            3631,
            5218,
            3243
           ]
          }
         ],
         "name": "2004"
        },
        {
         "data": [
          {
           "coloraxis": "coloraxis",
           "customdata": [
            [
             4782
            ],
            [
             3793
            ],
            [
             4434
            ],
            [
             4980
            ],
            [
             4526
            ],
            [
             4427
            ],
            [
             6754
            ],
            [
             7050
            ],
            [
             2520
            ],
            [
             3213
            ],
            [
             3678
            ],
            [
             3491
            ],
            [
             3922
            ],
            [
             6914
            ],
            [
             6155
            ],
            [
             5619
            ],
            [
             4699
            ],
            [
             5029
            ],
            [
             3695
            ],
            [
             6065
            ],
            [
             7137
            ],
            [
             7335
            ],
            [
             7097
            ],
            [
             6944
            ],
            [
             4184
            ],
            [
             6271
            ],
            [
             4918
            ],
            [
             5302
            ],
            [
             3019
            ],
            [
             8584
            ],
            [
             8601
            ],
            [
             4247
            ],
            [
             5006
            ],
            [
             3655
            ],
            [
             5074
            ],
            [
             8340
            ],
            [
             3798
            ],
            [
             5430
            ],
            [
             8643
            ],
            [
             6439
            ],
            [
             7385
            ],
            [
             4593
            ],
            [
             4763
            ],
            [
             5385
            ],
            [
             3583
            ],
            [
             9248
            ],
            [
             6023
            ],
            [
             5252
            ],
            [
             3871
            ],
            [
             5626
            ],
            [
             3429
            ]
           ],
           "geo": "geo",
           "hovertemplate": "<b>%{hovertext}</b><br><br>Year=2005<br>State_Code=%{location}<br>Tuition=%{z}<extra></extra>",
           "hovertext": [
            "Alabama",
            "Alaska",
            "Arizona",
            "Arkansas",
            "California",
            "Colorado",
            "Connecticut",
            "Delaware",
            "District of Columbia",
            "Florida",
            "Georgia",
            "Hawaii",
            "Idaho",
            "Illinois",
            "Indiana",
            "Iowa",
            "Kansas",
            "Kentucky",
            "Louisiana",
            "Maine",
            "Maryland",
            "Massachusetts",
            "Michigan",
            "Minnesota",
            "Mississippi",
            "Missouri",
            "Montana",
            "Nebraska",
            "Nevada",
            "New Hampshire",
            "New Jersey",
            "New Mexico",
            "New York",
            "North Carolina",
            "North Dakota",
            "Ohio",
            "Oklahoma",
            "Oregon",
            "Pennsylvania",
            "Rhode Island",
            "South Carolina",
            "South Dakota",
            "Tennessee",
            "Texas",
            "Utah",
            "Vermont",
            "Virginia",
            "Washington",
            "West Virginia",
            "Wisconsin",
            "Wyoming"
           ],
           "locationmode": "USA-states",
           "locations": [
            "AL",
            "AK",
            "AZ",
            "AR",
            "CA",
            "CO",
            "CT",
            "DE",
            "DC",
            "FL",
            "GA",
            "HI",
            "ID",
            "IL",
            "IN",
            "IA",
            "KS",
            "KY",
            "LA",
            "ME",
            "MD",
            "MA",
            "MI",
            "MN",
            "MS",
            "MO",
            "MT",
            "NE",
            "NV",
            "NH",
            "NJ",
            "NM",
            "NY",
            "NC",
            "ND",
            "OH",
            "OK",
            "OR",
            "PA",
            "RI",
            "SC",
            "SD",
            "TN",
            "TX",
            "UT",
            "VT",
            "VA",
            "WA",
            "WV",
            "WI",
            "WY"
           ],
           "name": "",
           "type": "choropleth",
           "z": [
            4782,
            3793,
            4434,
            4980,
            4526,
            4427,
            6754,
            7050,
            2520,
            3213,
            3678,
            3491,
            3922,
            6914,
            6155,
            5619,
            4699,
            5029,
            3695,
            6065,
            7137,
            7335,
            7097,
            6944,
            4184,
            6271,
            4918,
            5302,
            3019,
            8584,
            8601,
            4247,
            5006,
            3655,
            5074,
            8340,
            3798,
            5430,
            8643,
            6439,
            7385,
            4593,
            4763,
            5385,
            3583,
            9248,
            6023,
            5252,
            3871,
            5626,
            3429
           ]
          }
         ],
         "name": "2005"
        },
        {
         "data": [
          {
           "coloraxis": "coloraxis",
           "customdata": [
            [
             4906
            ],
            [
             4194
            ],
            [
             4674
            ],
            [
             5314
            ],
            [
             4549
            ],
            [
             4772
            ],
            [
             7135
            ],
            [
             7403
            ],
            [
             3210
            ],
            [
             3315
            ],
            [
             3909
            ],
            [
             4227
            ],
            [
             4156
            ],
            [
             8058
            ],
            [
             6555
            ],
            [
             5900
            ],
            [
             5213
            ],
            [
             5764
            ],
            [
             3770
            ],
            [
             6616
            ],
            [
             7216
            ],
            [
             7583
            ],
            [
             7673
            ],
            [
             7518
            ],
            [
             4450
            ],
            [
             6526
            ],
            [
             5258
            ],
            [
             5229
            ],
            [
             3645
            ],
            [
             9127
            ],
            [
             9331
            ],
            [
             4056
            ],
            [
             5041
            ],
            [
             4067
            ],
            [
             5512
            ],
            [
             8444
            ],
            [
             4432
            ],
            [
             5576
            ],
            [
             9051
            ],
            [
             6787
            ],
            [
             7913
            ],
            [
             4969
            ],
            [
             4973
            ],
            [
             5985
            ],
            [
             3816
            ],
            [
             9783
            ],
            [
             6556
            ],
            [
             5670
            ],
            [
             4166
            ],
            [
             6042
            ],
            [
             3515
            ]
           ],
           "geo": "geo",
           "hovertemplate": "<b>%{hovertext}</b><br><br>Year=2006<br>State_Code=%{location}<br>Tuition=%{z}<extra></extra>",
           "hovertext": [
            "Alabama",
            "Alaska",
            "Arizona",
            "Arkansas",
            "California",
            "Colorado",
            "Connecticut",
            "Delaware",
            "District of Columbia",
            "Florida",
            "Georgia",
            "Hawaii",
            "Idaho",
            "Illinois",
            "Indiana",
            "Iowa",
            "Kansas",
            "Kentucky",
            "Louisiana",
            "Maine",
            "Maryland",
            "Massachusetts",
            "Michigan",
            "Minnesota",
            "Mississippi",
            "Missouri",
            "Montana",
            "Nebraska",
            "Nevada",
            "New Hampshire",
            "New Jersey",
            "New Mexico",
            "New York",
            "North Carolina",
            "North Dakota",
            "Ohio",
            "Oklahoma",
            "Oregon",
            "Pennsylvania",
            "Rhode Island",
            "South Carolina",
            "South Dakota",
            "Tennessee",
            "Texas",
            "Utah",
            "Vermont",
            "Virginia",
            "Washington",
            "West Virginia",
            "Wisconsin",
            "Wyoming"
           ],
           "locationmode": "USA-states",
           "locations": [
            "AL",
            "AK",
            "AZ",
            "AR",
            "CA",
            "CO",
            "CT",
            "DE",
            "DC",
            "FL",
            "GA",
            "HI",
            "ID",
            "IL",
            "IN",
            "IA",
            "KS",
            "KY",
            "LA",
            "ME",
            "MD",
            "MA",
            "MI",
            "MN",
            "MS",
            "MO",
            "MT",
            "NE",
            "NV",
            "NH",
            "NJ",
            "NM",
            "NY",
            "NC",
            "ND",
            "OH",
            "OK",
            "OR",
            "PA",
            "RI",
            "SC",
            "SD",
            "TN",
            "TX",
            "UT",
            "VT",
            "VA",
            "WA",
            "WV",
            "WI",
            "WY"
           ],
           "name": "",
           "type": "choropleth",
           "z": [
            4906,
            4194,
            4674,
            5314,
            4549,
            4772,
            7135,
            7403,
            3210,
            3315,
            3909,
            4227,
            4156,
            8058,
            6555,
            5900,
            5213,
            5764,
            3770,
            6616,
            7216,
            7583,
            7673,
            7518,
            4450,
            6526,
            5258,
            5229,
            3645,
            9127,
            9331,
            4056,
            5041,
            4067,
            5512,
            8444,
            4432,
            5576,
            9051,
            6787,
            7913,
            4969,
            4973,
            5985,
            3816,
            9783,
            6556,
            5670,
            4166,
            6042,
            3515
           ]
          }
         ],
         "name": "2006"
        },
        {
         "data": [
          {
           "coloraxis": "coloraxis",
           "customdata": [
            [
             5244
            ],
            [
             4425
            ],
            [
             4959
            ],
            [
             5599
            ],
            [
             4951
            ],
            [
             5435
            ],
            [
             7574
            ],
            [
             7808
            ],
            [
             3770
            ],
            [
             3386
            ],
            [
             4181
            ],
            [
             5017
            ],
            [
             4382
            ],
            [
             9099
            ],
            [
             6875
            ],
            [
             6218
            ],
            [
             5746
            ],
            [
             6279
            ],
            [
             3830
            ],
            [
             7334
            ],
            [
             7314
            ],
            [
             7887
            ],
            [
             8499
            ],
            [
             7798
            ],
            [
             4757
            ],
            [
             6845
            ],
            [
             5302
            ],
            [
             5581
            ],
            [
             3948
            ],
            [
             9698
            ],
            [
             9974
            ],
            [
             4248
            ],
            [
             5076
            ],
            [
             4306
            ],
            [
             5803
            ],
            [
             8462
            ],
            [
             4993
            ],
            [
             5946
            ],
            [
             9792
            ],
            [
             7221
            ],
            [
             8371
            ],
            [
             5343
            ],
            [
             5365
            ],
            [
             6450
            ],
            [
             4059
            ],
            [
             10485
            ],
            [
             7008
            ],
            [
             5986
            ],
            [
             4406
            ],
            [
             6413
            ],
            [
             3554
            ]
           ],
           "geo": "geo",
           "hovertemplate": "<b>%{hovertext}</b><br><br>Year=2007<br>State_Code=%{location}<br>Tuition=%{z}<extra></extra>",
           "hovertext": [
            "Alabama",
            "Alaska",
            "Arizona",
            "Arkansas",
            "California",
            "Colorado",
            "Connecticut",
            "Delaware",
            "District of Columbia",
            "Florida",
            "Georgia",
            "Hawaii",
            "Idaho",
            "Illinois",
            "Indiana",
            "Iowa",
            "Kansas",
            "Kentucky",
            "Louisiana",
            "Maine",
            "Maryland",
            "Massachusetts",
            "Michigan",
            "Minnesota",
            "Mississippi",
            "Missouri",
            "Montana",
            "Nebraska",
            "Nevada",
            "New Hampshire",
            "New Jersey",
            "New Mexico",
            "New York",
            "North Carolina",
            "North Dakota",
            "Ohio",
            "Oklahoma",
            "Oregon",
            "Pennsylvania",
            "Rhode Island",
            "South Carolina",
            "South Dakota",
            "Tennessee",
            "Texas",
            "Utah",
            "Vermont",
            "Virginia",
            "Washington",
            "West Virginia",
            "Wisconsin",
            "Wyoming"
           ],
           "locationmode": "USA-states",
           "locations": [
            "AL",
            "AK",
            "AZ",
            "AR",
            "CA",
            "CO",
            "CT",
            "DE",
            "DC",
            "FL",
            "GA",
            "HI",
            "ID",
            "IL",
            "IN",
            "IA",
            "KS",
            "KY",
            "LA",
            "ME",
            "MD",
            "MA",
            "MI",
            "MN",
            "MS",
            "MO",
            "MT",
            "NE",
            "NV",
            "NH",
            "NJ",
            "NM",
            "NY",
            "NC",
            "ND",
            "OH",
            "OK",
            "OR",
            "PA",
            "RI",
            "SC",
            "SD",
            "TN",
            "TX",
            "UT",
            "VT",
            "VA",
            "WA",
            "WV",
            "WI",
            "WY"
           ],
           "name": "",
           "type": "choropleth",
           "z": [
            5244,
            4425,
            4959,
            5599,
            4951,
            5435,
            7574,
            7808,
            3770,
            3386,
            4181,
            5017,
            4382,
            9099,
            6875,
            6218,
            5746,
            6279,
            3830,
            7334,
            7314,
            7887,
            8499,
            7798,
            4757,
            6845,
            5302,
            5581,
            3948,
            9698,
            9974,
            4248,
            5076,
            4306,
            5803,
            8462,
            4993,
            5946,
            9792,
            7221,
            8371,
            5343,
            5365,
            6450,
            4059,
            10485,
            7008,
            5986,
            4406,
            6413,
            3554
           ]
          }
         ],
         "name": "2007"
        },
        {
         "data": [
          {
           "coloraxis": "coloraxis",
           "customdata": [
            [
             5968
            ],
            [
             4678
            ],
            [
             5584
            ],
            [
             5914
            ],
            [
             5436
            ],
            [
             5792
            ],
            [
             8038
            ],
            [
             8291
            ],
            [
             3770
            ],
            [
             3825
            ],
            [
             4453
            ],
            [
             5823
            ],
            [
             4612
            ],
            [
             10021
            ],
            [
             7222
            ],
            [
             6433
            ],
            [
             6010
            ],
            [
             6809
            ],
            [
             4073
            ],
            [
             8078
            ],
            [
             7392
            ],
            [
             8239
            ],
            [
             9130
            ],
            [
             8317
            ],
            [
             4947
            ],
            [
             7228
            ],
            [
             5336
            ],
            [
             5956
            ],
            [
             4397
            ],
            [
             10293
            ],
            [
             10748
            ],
            [
             4520
            ],
            [
             5121
            ],
            [
             4391
            ],
            [
             6107
            ],
            [
             8474
            ],
            [
             5641
            ],
            [
             6239
            ],
            [
             10353
            ],
            [
             7727
            ],
            [
             9132
            ],
            [
             5698
            ],
            [
             5686
            ],
            [
             6919
            ],
            [
             4275
            ],
            [
             11341
            ],
            [
             7581
            ],
            [
             6433
            ],
            [
             4707
            ],
            [
             6796
            ],
            [
             3621
            ]
           ],
           "geo": "geo",
           "hovertemplate": "<b>%{hovertext}</b><br><br>Year=2008<br>State_Code=%{location}<br>Tuition=%{z}<extra></extra>",
           "hovertext": [
            "Alabama",
            "Alaska",
            "Arizona",
            "Arkansas",
            "California",
            "Colorado",
            "Connecticut",
            "Delaware",
            "District of Columbia",
            "Florida",
            "Georgia",
            "Hawaii",
            "Idaho",
            "Illinois",
            "Indiana",
            "Iowa",
            "Kansas",
            "Kentucky",
            "Louisiana",
            "Maine",
            "Maryland",
            "Massachusetts",
            "Michigan",
            "Minnesota",
            "Mississippi",
            "Missouri",
            "Montana",
            "Nebraska",
            "Nevada",
            "New Hampshire",
            "New Jersey",
            "New Mexico",
            "New York",
            "North Carolina",
            "North Dakota",
            "Ohio",
            "Oklahoma",
            "Oregon",
            "Pennsylvania",
            "Rhode Island",
            "South Carolina",
            "South Dakota",
            "Tennessee",
            "Texas",
            "Utah",
            "Vermont",
            "Virginia",
            "Washington",
            "West Virginia",
            "Wisconsin",
            "Wyoming"
           ],
           "locationmode": "USA-states",
           "locations": [
            "AL",
            "AK",
            "AZ",
            "AR",
            "CA",
            "CO",
            "CT",
            "DE",
            "DC",
            "FL",
            "GA",
            "HI",
            "ID",
            "IL",
            "IN",
            "IA",
            "KS",
            "KY",
            "LA",
            "ME",
            "MD",
            "MA",
            "MI",
            "MN",
            "MS",
            "MO",
            "MT",
            "NE",
            "NV",
            "NH",
            "NJ",
            "NM",
            "NY",
            "NC",
            "ND",
            "OH",
            "OK",
            "OR",
            "PA",
            "RI",
            "SC",
            "SD",
            "TN",
            "TX",
            "UT",
            "VT",
            "VA",
            "WA",
            "WV",
            "WI",
            "WY"
           ],
           "name": "",
           "type": "choropleth",
           "z": [
            5968,
            4678,
            5584,
            5914,
            5436,
            5792,
            8038,
            8291,
            3770,
            3825,
            4453,
            5823,
            4612,
            10021,
            7222,
            6433,
            6010,
            6809,
            4073,
            8078,
            7392,
            8239,
            9130,
            8317,
            4947,
            7228,
            5336,
            5956,
            4397,
            10293,
            10748,
            4520,
            5121,
            4391,
            6107,
            8474,
            5641,
            6239,
            10353,
            7727,
            9132,
            5698,
            5686,
            6919,
            4275,
            11341,
            7581,
            6433,
            4707,
            6796,
            3621
           ]
          }
         ],
         "name": "2008"
        },
        {
         "data": [
          {
           "coloraxis": "coloraxis",
           "customdata": [
            [
             6487
            ],
            [
             4922
            ],
            [
             6554
            ],
            [
             5980
            ],
            [
             6550
            ],
            [
             6270
            ],
            [
             8456
            ],
            [
             9012
            ],
            [
             5370
            ],
            [
             4316
            ],
            [
             5008
            ],
            [
             6638
            ],
            [
             4886
            ],
            [
             10410
            ],
            [
             7643
            ],
            [
             6712
            ],
            [
             6312
            ],
            [
             7116
            ],
            [
             4282
            ],
            [
             8544
            ],
            [
             7476
            ],
            [
             9239
            ],
            [
             9761
            ],
            [
             8788
            ],
            [
             4952
            ],
            [
             7215
            ],
            [
             5485
            ],
            [
             6234
            ],
            [
             4543
            ],
            [
             11075
            ],
            [
             11133
            ],
            [
             4786
            ],
            [
             5740
            ],
            [
             4539
            ],
            [
             6335
            ],
            [
             8505
            ],
            [
             5421
            ],
            [
             6906
            ],
            [
             10764
            ],
            [
             8503
            ],
            [
             9520
            ],
            [
             6031
            ],
            [
             6098
            ],
            [
             7328
            ],
            [
             4573
            ],
            [
             12016
            ],
            [
             7936
            ],
            [
             7321
            ],
            [
             4980
            ],
            [
             7169
            ],
            [
             3726
            ]
           ],
           "geo": "geo",
           "hovertemplate": "<b>%{hovertext}</b><br><br>Year=2009<br>State_Code=%{location}<br>Tuition=%{z}<extra></extra>",
           "hovertext": [
            "Alabama",
            "Alaska",
            "Arizona",
            "Arkansas",
            "California",
            "Colorado",
            "Connecticut",
            "Delaware",
            "District of Columbia",
            "Florida",
            "Georgia",
            "Hawaii",
            "Idaho",
            "Illinois",
            "Indiana",
            "Iowa",
            "Kansas",
            "Kentucky",
            "Louisiana",
            "Maine",
            "Maryland",
            "Massachusetts",
            "Michigan",
            "Minnesota",
            "Mississippi",
            "Missouri",
            "Montana",
            "Nebraska",
            "Nevada",
            "New Hampshire",
            "New Jersey",
            "New Mexico",
            "New York",
            "North Carolina",
            "North Dakota",
            "Ohio",
            "Oklahoma",
            "Oregon",
            "Pennsylvania",
            "Rhode Island",
            "South Carolina",
            "South Dakota",
            "Tennessee",
            "Texas",
            "Utah",
            "Vermont",
            "Virginia",
            "Washington",
            "West Virginia",
            "Wisconsin",
            "Wyoming"
           ],
           "locationmode": "USA-states",
           "locations": [
            "AL",
            "AK",
            "AZ",
            "AR",
            "CA",
            "CO",
            "CT",
            "DE",
            "DC",
            "FL",
            "GA",
            "HI",
            "ID",
            "IL",
            "IN",
            "IA",
            "KS",
            "KY",
            "LA",
            "ME",
            "MD",
            "MA",
            "MI",
            "MN",
            "MS",
            "MO",
            "MT",
            "NE",
            "NV",
            "NH",
            "NJ",
            "NM",
            "NY",
            "NC",
            "ND",
            "OH",
            "OK",
            "OR",
            "PA",
            "RI",
            "SC",
            "SD",
            "TN",
            "TX",
            "UT",
            "VT",
            "VA",
            "WA",
            "WV",
            "WI",
            "WY"
           ],
           "name": "",
           "type": "choropleth",
           "z": [
            6487,
            4922,
            6554,
            5980,
            6550,
            6270,
            8456,
            9012,
            5370,
            4316,
            5008,
            6638,
            4886,
            10410,
            7643,
            6712,
            6312,
            7116,
            4282,
            8544,
            7476,
            9239,
            9761,
            8788,
            4952,
            7215,
            5485,
            6234,
            4543,
            11075,
            11133,
            4786,
            5740,
            4539,
            6335,
            8505,
            5421,
            6906,
            10764,
            8503,
            9520,
            6031,
            6098,
            7328,
            4573,
            12016,
            7936,
            7321,
            4980,
            7169,
            3726
           ]
          }
         ],
         "name": "2009"
        },
        {
         "data": [
          {
           "coloraxis": "coloraxis",
           "customdata": [
            [
             7373
            ],
            [
             5261
            ],
            [
             8075
            ],
            [
             6304
            ],
            [
             7485
            ],
            [
             7078
            ],
            [
             8977
            ],
            [
             9623
            ],
            [
             7000
            ],
            [
             5034
            ],
            [
             5872
            ],
            [
             7458
            ],
            [
             5330
            ],
            [
             10969
            ],
            [
             7988
            ],
            [
             7155
            ],
            [
             6627
            ],
            [
             7519
            ],
            [
             4733
            ],
            [
             8945
            ],
            [
             7737
            ],
            [
             9488
            ],
            [
             10135
            ],
            [
             9387
            ],
            [
             5294
            ],
            [
             7271
            ],
            [
             5612
            ],
            [
             6600
            ],
            [
             5318
            ],
            [
             11946
            ],
            [
             11649
            ],
            [
             5128
            ],
            [
             5793
            ],
            [
             5323
            ],
            [
             6569
            ],
            [
             9056
            ],
            [
             5750
            ],
            [
             7434
            ],
            [
             11331
            ],
            [
             9319
            ],
            [
             10063
            ],
            [
             6318
            ],
            [
             6522
            ],
            [
             7744
            ],
            [
             4916
            ],
            [
             12474
            ],
            [
             8809
            ],
            [
             8197
            ],
            [
             5226
            ],
            [
             7711
            ],
            [
             3927
            ]
           ],
           "geo": "geo",
           "hovertemplate": "<b>%{hovertext}</b><br><br>Year=2010<br>State_Code=%{location}<br>Tuition=%{z}<extra></extra>",
           "hovertext": [
            "Alabama",
            "Alaska",
            "Arizona",
            "Arkansas",
            "California",
            "Colorado",
            "Connecticut",
            "Delaware",
            "District of Columbia",
            "Florida",
            "Georgia",
            "Hawaii",
            "Idaho",
            "Illinois",
            "Indiana",
            "Iowa",
            "Kansas",
            "Kentucky",
            "Louisiana",
            "Maine",
            "Maryland",
            "Massachusetts",
            "Michigan",
            "Minnesota",
            "Mississippi",
            "Missouri",
            "Montana",
            "Nebraska",
            "Nevada",
            "New Hampshire",
            "New Jersey",
            "New Mexico",
            "New York",
            "North Carolina",
            "North Dakota",
            "Ohio",
            "Oklahoma",
            "Oregon",
            "Pennsylvania",
            "Rhode Island",
            "South Carolina",
            "South Dakota",
            "Tennessee",
            "Texas",
            "Utah",
            "Vermont",
            "Virginia",
            "Washington",
            "West Virginia",
            "Wisconsin",
            "Wyoming"
           ],
           "locationmode": "USA-states",
           "locations": [
            "AL",
            "AK",
            "AZ",
            "AR",
            "CA",
            "CO",
            "CT",
            "DE",
            "DC",
            "FL",
            "GA",
            "HI",
            "ID",
            "IL",
            "IN",
            "IA",
            "KS",
            "KY",
            "LA",
            "ME",
            "MD",
            "MA",
            "MI",
            "MN",
            "MS",
            "MO",
            "MT",
            "NE",
            "NV",
            "NH",
            "NJ",
            "NM",
            "NY",
            "NC",
            "ND",
            "OH",
            "OK",
            "OR",
            "PA",
            "RI",
            "SC",
            "SD",
            "TN",
            "TX",
            "UT",
            "VT",
            "VA",
            "WA",
            "WV",
            "WI",
            "WY"
           ],
           "name": "",
           "type": "choropleth",
           "z": [
            7373,
            5261,
            8075,
            6304,
            7485,
            7078,
            8977,
            9623,
            7000,
            5034,
            5872,
            7458,
            5330,
            10969,
            7988,
            7155,
            6627,
            7519,
            4733,
            8945,
            7737,
            9488,
            10135,
            9387,
            5294,
            7271,
            5612,
            6600,
            5318,
            11946,
            11649,
            5128,
            5793,
            5323,
            6569,
            9056,
            5750,
            7434,
            11331,
            9319,
            10063,
            6318,
            6522,
            7744,
            4916,
            12474,
            8809,
            8197,
            5226,
            7711,
            3927
           ]
          }
         ],
         "name": "2010"
        },
        {
         "data": [
          {
           "coloraxis": "coloraxis",
           "customdata": [
            [
             8001
            ],
            [
             5455
            ],
            [
             9435
            ],
            [
             6654
            ],
            [
             8933
            ],
            [
             7872
            ],
            [
             9217
            ],
            [
             10438
            ],
            [
             7000
            ],
            [
             5624
            ],
            [
             7298
            ],
            [
             8368
            ],
            [
             5682
            ],
            [
             11630
            ],
            [
             8343
            ],
            [
             7562
            ],
            [
             6920
            ],
            [
             7974
            ],
            [
             5246
            ],
            [
             9366
            ],
            [
             7961
            ],
            [
             10165
            ],
            [
             10841
            ],
            [
             10018
            ],
            [
             5673
            ],
            [
             7685
            ],
            [
             5881
            ],
            [
             6906
            ],
            [
             6043
            ],
            [
             13502
            ],
            [
             12030
            ],
            [
             5435
            ],
            [
             6204
            ],
            [
             5689
            ],
            [
             6861
            ],
            [
             9448
            ],
            [
             6071
            ],
            [
             7994
            ],
            [
             12085
            ],
            [
             10014
            ],
            [
             10356
            ],
            [
             6793
            ],
            [
             7170
            ],
            [
             8053
            ],
            [
             5300
            ],
            [
             13095
            ],
            [
             9535
            ],
            [
             9494
            ],
            [
             5536
            ],
            [
             8197
            ],
            [
             4125
            ]
           ],
           "geo": "geo",
           "hovertemplate": "<b>%{hovertext}</b><br><br>Year=2011<br>State_Code=%{location}<br>Tuition=%{z}<extra></extra>",
           "hovertext": [
            "Alabama",
            "Alaska",
            "Arizona",
            "Arkansas",
            "California",
            "Colorado",
            "Connecticut",
            "Delaware",
            "District of Columbia",
            "Florida",
            "Georgia",
            "Hawaii",
            "Idaho",
            "Illinois",
            "Indiana",
            "Iowa",
            "Kansas",
            "Kentucky",
            "Louisiana",
            "Maine",
            "Maryland",
            "Massachusetts",
            "Michigan",
            "Minnesota",
            "Mississippi",
            "Missouri",
            "Montana",
            "Nebraska",
            "Nevada",
            "New Hampshire",
            "New Jersey",
            "New Mexico",
            "New York",
            "North Carolina",
            "North Dakota",
            "Ohio",
            "Oklahoma",
            "Oregon",
            "Pennsylvania",
            "Rhode Island",
            "South Carolina",
            "South Dakota",
            "Tennessee",
            "Texas",
            "Utah",
            "Vermont",
            "Virginia",
            "Washington",
            "West Virginia",
            "Wisconsin",
            "Wyoming"
           ],
           "locationmode": "USA-states",
           "locations": [
            "AL",
            "AK",
            "AZ",
            "AR",
            "CA",
            "CO",
            "CT",
            "DE",
            "DC",
            "FL",
            "GA",
            "HI",
            "ID",
            "IL",
            "IN",
            "IA",
            "KS",
            "KY",
            "LA",
            "ME",
            "MD",
            "MA",
            "MI",
            "MN",
            "MS",
            "MO",
            "MT",
            "NE",
            "NV",
            "NH",
            "NJ",
            "NM",
            "NY",
            "NC",
            "ND",
            "OH",
            "OK",
            "OR",
            "PA",
            "RI",
            "SC",
            "SD",
            "TN",
            "TX",
            "UT",
            "VT",
            "VA",
            "WA",
            "WV",
            "WI",
            "WY"
           ],
           "name": "",
           "type": "choropleth",
           "z": [
            8001,
            5455,
            9435,
            6654,
            8933,
            7872,
            9217,
            10438,
            7000,
            5624,
            7298,
            8368,
            5682,
            11630,
            8343,
            7562,
            6920,
            7974,
            5246,
            9366,
            7961,
            10165,
            10841,
            10018,
            5673,
            7685,
            5881,
            6906,
            6043,
            13502,
            12030,
            5435,
            6204,
            5689,
            6861,
            9448,
            6071,
            7994,
            12085,
            10014,
            10356,
            6793,
            7170,
            8053,
            5300,
            13095,
            9535,
            9494,
            5536,
            8197,
            4125
           ]
          }
         ],
         "name": "2011"
        },
        {
         "data": [
          {
           "coloraxis": "coloraxis",
           "customdata": [
            [
             8734
            ],
            [
             5785
            ],
            [
             9728
            ],
            [
             6995
            ],
            [
             8986
            ],
            [
             8441
            ],
            [
             9635
            ],
            [
             10908
            ],
            [
             7244
            ],
            [
             6235
            ],
            [
             7539
            ],
            [
             8613
            ],
            [
             5989
            ],
            [
             12168
            ],
            [
             8715
            ],
            [
             7831
            ],
            [
             7280
            ],
            [
             8462
            ],
            [
             5875
            ],
            [
             9363
            ],
            [
             8210
            ],
            [
             10649
            ],
            [
             11193
            ],
            [
             10361
            ],
            [
             6159
            ],
            [
             7945
            ],
            [
             6155
            ],
            [
             7184
            ],
            [
             6390
            ],
            [
             14615
            ],
            [
             12417
            ],
            [
             5678
            ],
            [
             6562
            ],
            [
             6201
            ],
            [
             7006
            ],
            [
             9768
            ],
            [
             6403
            ],
            [
             8312
            ],
            [
             12377
            ],
            [
             10921
            ],
            [
             10744
            ],
            [
             7388
            ],
            [
             7676
            ],
            [
             8344
            ],
            [
             5612
            ],
            [
             13525
            ],
            [
             9901
            ],
            [
             10595
            ],
            [
             5885
            ],
            [
             8690
            ],
            [
             4278
            ]
           ],
           "geo": "geo",
           "hovertemplate": "<b>%{hovertext}</b><br><br>Year=2012<br>State_Code=%{location}<br>Tuition=%{z}<extra></extra>",
           "hovertext": [
            "Alabama",
            "Alaska",
            "Arizona",
            "Arkansas",
            "California",
            "Colorado",
            "Connecticut",
            "Delaware",
            "District of Columbia",
            "Florida",
            "Georgia",
            "Hawaii",
            "Idaho",
            "Illinois",
            "Indiana",
            "Iowa",
            "Kansas",
            "Kentucky",
            "Louisiana",
            "Maine",
            "Maryland",
            "Massachusetts",
            "Michigan",
            "Minnesota",
            "Mississippi",
            "Missouri",
            "Montana",
            "Nebraska",
            "Nevada",
            "New Hampshire",
            "New Jersey",
            "New Mexico",
            "New York",
            "North Carolina",
            "North Dakota",
            "Ohio",
            "Oklahoma",
            "Oregon",
            "Pennsylvania",
            "Rhode Island",
            "South Carolina",
            "South Dakota",
            "Tennessee",
            "Texas",
            "Utah",
            "Vermont",
            "Virginia",
            "Washington",
            "West Virginia",
            "Wisconsin",
            "Wyoming"
           ],
           "locationmode": "USA-states",
           "locations": [
            "AL",
            "AK",
            "AZ",
            "AR",
            "CA",
            "CO",
            "CT",
            "DE",
            "DC",
            "FL",
            "GA",
            "HI",
            "ID",
            "IL",
            "IN",
            "IA",
            "KS",
            "KY",
            "LA",
            "ME",
            "MD",
            "MA",
            "MI",
            "MN",
            "MS",
            "MO",
            "MT",
            "NE",
            "NV",
            "NH",
            "NJ",
            "NM",
            "NY",
            "NC",
            "ND",
            "OH",
            "OK",
            "OR",
            "PA",
            "RI",
            "SC",
            "SD",
            "TN",
            "TX",
            "UT",
            "VT",
            "VA",
            "WA",
            "WV",
            "WI",
            "WY"
           ],
           "name": "",
           "type": "choropleth",
           "z": [
            8734,
            5785,
            9728,
            6995,
            8986,
            8441,
            9635,
            10908,
            7244,
            6235,
            7539,
            8613,
            5989,
            12168,
            8715,
            7831,
            7280,
            8462,
            5875,
            9363,
            8210,
            10649,
            11193,
            10361,
            6159,
            7945,
            6155,
            7184,
            6390,
            14615,
            12417,
            5678,
            6562,
            6201,
            7006,
            9768,
            6403,
            8312,
            12377,
            10921,
            10744,
            7388,
            7676,
            8344,
            5612,
            13525,
            9901,
            10595,
            5885,
            8690,
            4278
           ]
          }
         ],
         "name": "2012"
        },
        {
         "data": [
          {
           "coloraxis": "coloraxis",
           "customdata": [
            [
             9161
            ],
            [
             5885
            ],
            [
             10078
            ],
            [
             7251
            ],
            [
             9078
            ],
            [
             9096
            ],
            [
             10232
            ],
            [
             11259
            ],
            [
             7255
            ],
            [
             6315
            ],
            [
             7823
            ],
            [
             9073
            ],
            [
             6325
            ],
            [
             12580
            ],
            [
             8926
            ],
            [
             7837
            ],
            [
             7729
            ],
            [
             8701
            ],
            [
             6605
            ],
            [
             9391
            ],
            [
             8480
            ],
            [
             10748
            ],
            [
             11600
            ],
            [
             10464
            ],
            [
             6565
            ],
            [
             8093
            ],
            [
             6225
            ],
            [
             7315
            ],
            [
             6387
            ],
            [
             14652
            ],
            [
             12723
            ],
            [
             5960
            ],
            [
             6926
            ],
            [
             6516
            ],
            [
             7274
            ],
            [
             9942
            ],
            [
             6583
            ],
            [
             8600
            ],
            [
             12802
            ],
            [
             10896
            ],
            [
             11166
            ],
            [
             7644
            ],
            [
             8036
            ],
            [
             8521
            ],
            [
             5914
            ],
            [
             13965
            ],
            [
             10366
            ],
            [
             10811
            ],
            [
             6253
            ],
            [
             8741
            ],
            [
             4404
            ]
           ],
           "geo": "geo",
           "hovertemplate": "<b>%{hovertext}</b><br><br>Year=2013<br>State_Code=%{location}<br>Tuition=%{z}<extra></extra>",
           "hovertext": [
            "Alabama",
            "Alaska",
            "Arizona",
            "Arkansas",
            "California",
            "Colorado",
            "Connecticut",
            "Delaware",
            "District of Columbia",
            "Florida",
            "Georgia",
            "Hawaii",
            "Idaho",
            "Illinois",
            "Indiana",
            "Iowa",
            "Kansas",
            "Kentucky",
            "Louisiana",
            "Maine",
            "Maryland",
            "Massachusetts",
            "Michigan",
            "Minnesota",
            "Mississippi",
            "Missouri",
            "Montana",
            "Nebraska",
            "Nevada",
            "New Hampshire",
            "New Jersey",
            "New Mexico",
            "New York",
            "North Carolina",
            "North Dakota",
            "Ohio",
            "Oklahoma",
            "Oregon",
            "Pennsylvania",
            "Rhode Island",
            "South Carolina",
            "South Dakota",
            "Tennessee",
            "Texas",
            "Utah",
            "Vermont",
            "Virginia",
            "Washington",
            "West Virginia",
            "Wisconsin",
            "Wyoming"
           ],
           "locationmode": "USA-states",
           "locations": [
            "AL",
            "AK",
            "AZ",
            "AR",
            "CA",
            "CO",
            "CT",
            "DE",
            "DC",
            "FL",
            "GA",
            "HI",
            "ID",
            "IL",
            "IN",
            "IA",
            "KS",
            "KY",
            "LA",
            "ME",
            "MD",
            "MA",
            "MI",
            "MN",
            "MS",
            "MO",
            "MT",
            "NE",
            "NV",
            "NH",
            "NJ",
            "NM",
            "NY",
            "NC",
            "ND",
            "OH",
            "OK",
            "OR",
            "PA",
            "RI",
            "SC",
            "SD",
            "TN",
            "TX",
            "UT",
            "VT",
            "VA",
            "WA",
            "WV",
            "WI",
            "WY"
           ],
           "name": "",
           "type": "choropleth",
           "z": [
            9161,
            5885,
            10078,
            7251,
            9078,
            9096,
            10232,
            11259,
            7255,
            6315,
            7823,
            9073,
            6325,
            12580,
            8926,
            7837,
            7729,
            8701,
            6605,
            9391,
            8480,
            10748,
            11600,
            10464,
            6565,
            8093,
            6225,
            7315,
            6387,
            14652,
            12723,
            5960,
            6926,
            6516,
            7274,
            9942,
            6583,
            8600,
            12802,
            10896,
            11166,
            7644,
            8036,
            8521,
            5914,
            13965,
            10366,
            10811,
            6253,
            8741,
            4404
           ]
          }
         ],
         "name": "2013"
        },
        {
         "data": [
          {
           "coloraxis": "coloraxis",
           "customdata": [
            [
             9480
            ],
            [
             6138
            ],
            [
             10396
            ],
            [
             7594
            ],
            [
             9171
            ],
            [
             9283
            ],
            [
             10646
            ],
            [
             11495
            ],
            [
             7338
            ],
            [
             6334
            ],
            [
             8049
            ],
            [
             9696
            ],
            [
             6599
            ],
            [
             12791
            ],
            [
             9033
            ],
            [
             7855
            ],
            [
             8256
            ],
            [
             9208
            ],
            [
             7324
            ],
            [
             9544
            ],
            [
             8682
            ],
            [
             10968
            ],
            [
             11599
            ],
            [
             10564
            ],
            [
             6859
            ],
            [
             8395
            ],
            [
             6291
            ],
            [
             7335
            ],
            [
             6427
            ],
            [
             14731
            ],
            [
             13005
            ],
            [
             6155
            ],
            [
             7293
            ],
            [
             6673
            ],
            [
             7514
            ],
            [
             10087
            ],
            [
             7082
            ],
            [
             8934
            ],
            [
             13135
            ],
            [
             10959
            ],
            [
             11450
            ],
            [
             7700
            ],
            [
             8925
            ],
            [
             8837
            ],
            [
             6161
            ],
            [
             14476
            ],
            [
             11183
            ],
            [
             10685
            ],
            [
             6687
            ],
            [
             8770
            ],
            [
             4646
            ]
           ],
           "geo": "geo",
           "hovertemplate": "<b>%{hovertext}</b><br><br>Year=2014<br>State_Code=%{location}<br>Tuition=%{z}<extra></extra>",
           "hovertext": [
            "Alabama",
            "Alaska",
            "Arizona",
            "Arkansas",
            "California",
            "Colorado",
            "Connecticut",
            "Delaware",
            "District of Columbia",
            "Florida",
            "Georgia",
            "Hawaii",
            "Idaho",
            "Illinois",
            "Indiana",
            "Iowa",
            "Kansas",
            "Kentucky",
            "Louisiana",
            "Maine",
            "Maryland",
            "Massachusetts",
            "Michigan",
            "Minnesota",
            "Mississippi",
            "Missouri",
            "Montana",
            "Nebraska",
            "Nevada",
            "New Hampshire",
            "New Jersey",
            "New Mexico",
            "New York",
            "North Carolina",
            "North Dakota",
            "Ohio",
            "Oklahoma",
            "Oregon",
            "Pennsylvania",
            "Rhode Island",
            "South Carolina",
            "South Dakota",
            "Tennessee",
            "Texas",
            "Utah",
            "Vermont",
            "Virginia",
            "Washington",
            "West Virginia",
            "Wisconsin",
            "Wyoming"
           ],
           "locationmode": "USA-states",
           "locations": [
            "AL",
            "AK",
            "AZ",
            "AR",
            "CA",
            "CO",
            "CT",
            "DE",
            "DC",
            "FL",
            "GA",
            "HI",
            "ID",
            "IL",
            "IN",
            "IA",
            "KS",
            "KY",
            "LA",
            "ME",
            "MD",
            "MA",
            "MI",
            "MN",
            "MS",
            "MO",
            "MT",
            "NE",
            "NV",
            "NH",
            "NJ",
            "NM",
            "NY",
            "NC",
            "ND",
            "OH",
            "OK",
            "OR",
            "PA",
            "RI",
            "SC",
            "SD",
            "TN",
            "TX",
            "UT",
            "VT",
            "VA",
            "WA",
            "WV",
            "WI",
            "WY"
           ],
           "name": "",
           "type": "choropleth",
           "z": [
            9480,
            6138,
            10396,
            7594,
            9171,
            9283,
            10646,
            11495,
            7338,
            6334,
            8049,
            9696,
            6599,
            12791,
            9033,
            7855,
            8256,
            9208,
            7324,
            9544,
            8682,
            10968,
            11599,
            10564,
            6859,
            8395,
            6291,
            7335,
            6427,
            14731,
            13005,
            6155,
            7293,
            6673,
            7514,
            10087,
            7082,
            8934,
            13135,
            10959,
            11450,
            7700,
            8925,
            8837,
            6161,
            14476,
            11183,
            10685,
            6687,
            8770,
            4646
           ]
          }
         ],
         "name": "2014"
        },
        {
         "data": [
          {
           "coloraxis": "coloraxis",
           "customdata": [
            [
             9746
            ],
            [
             6703
            ],
            [
             10634
            ],
            [
             7882
            ],
            [
             9267
            ],
            [
             9748
            ],
            [
             11174
            ],
            [
             11676
            ],
            [
             7421
            ],
            [
             6360
            ],
            [
             8447
            ],
            [
             10175
            ],
            [
             6818
            ],
            [
             13027
            ],
            [
             9120
            ],
            [
             7877
            ],
            [
             8443
            ],
            [
             9567
            ],
            [
             8130
            ],
            [
             9573
            ],
            [
             9163
            ],
            [
             11615
            ],
            [
             11994
            ],
            [
             10831
            ],
            [
             7147
            ],
            [
             8553
            ],
            [
             6351
            ],
            [
             7608
            ],
            [
             6661
            ],
            [
             15160
            ],
            [
             13306
            ],
            [
             6406
            ],
            [
             7645
            ],
            [
             6969
            ],
            [
             7688
            ],
            [
             10205
            ],
            [
             7450
            ],
            [
             9371
            ],
            [
             13393
            ],
            [
             11396
            ],
            [
             11816
            ],
            [
             8055
            ],
            [
             9263
            ],
            [
             9221
            ],
            [
             6363
            ],
            [
             14993
            ],
            [
             11818
            ],
            [
             10287
            ],
            [
             7143
            ],
            [
             8809
            ],
            [
             4891
            ]
           ],
           "geo": "geo",
           "hovertemplate": "<b>%{hovertext}</b><br><br>Year=2015<br>State_Code=%{location}<br>Tuition=%{z}<extra></extra>",
           "hovertext": [
            "Alabama",
            "Alaska",
            "Arizona",
            "Arkansas",
            "California",
            "Colorado",
            "Connecticut",
            "Delaware",
            "District of Columbia",
            "Florida",
            "Georgia",
            "Hawaii",
            "Idaho",
            "Illinois",
            "Indiana",
            "Iowa",
            "Kansas",
            "Kentucky",
            "Louisiana",
            "Maine",
            "Maryland",
            "Massachusetts",
            "Michigan",
            "Minnesota",
            "Mississippi",
            "Missouri",
            "Montana",
            "Nebraska",
            "Nevada",
            "New Hampshire",
            "New Jersey",
            "New Mexico",
            "New York",
            "North Carolina",
            "North Dakota",
            "Ohio",
            "Oklahoma",
            "Oregon",
            "Pennsylvania",
            "Rhode Island",
            "South Carolina",
            "South Dakota",
            "Tennessee",
            "Texas",
            "Utah",
            "Vermont",
            "Virginia",
            "Washington",
            "West Virginia",
            "Wisconsin",
            "Wyoming"
           ],
           "locationmode": "USA-states",
           "locations": [
            "AL",
            "AK",
            "AZ",
            "AR",
            "CA",
            "CO",
            "CT",
            "DE",
            "DC",
            "FL",
            "GA",
            "HI",
            "ID",
            "IL",
            "IN",
            "IA",
            "KS",
            "KY",
            "LA",
            "ME",
            "MD",
            "MA",
            "MI",
            "MN",
            "MS",
            "MO",
            "MT",
            "NE",
            "NV",
            "NH",
            "NJ",
            "NM",
            "NY",
            "NC",
            "ND",
            "OH",
            "OK",
            "OR",
            "PA",
            "RI",
            "SC",
            "SD",
            "TN",
            "TX",
            "UT",
            "VT",
            "VA",
            "WA",
            "WV",
            "WI",
            "WY"
           ],
           "name": "",
           "type": "choropleth",
           "z": [
            9746,
            6703,
            10634,
            7882,
            9267,
            9748,
            11174,
            11676,
            7421,
            6360,
            8447,
            10175,
            6818,
            13027,
            9120,
            7877,
            8443,
            9567,
            8130,
            9573,
            9163,
            11615,
            11994,
            10831,
            7147,
            8553,
            6351,
            7608,
            6661,
            15160,
            13306,
            6406,
            7645,
            6969,
            7688,
            10205,
            7450,
            9371,
            13393,
            11396,
            11816,
            8055,
            9263,
            9221,
            6363,
            14993,
            11818,
            10287,
            7143,
            8809,
            4891
           ]
          }
         ],
         "name": "2015"
        },
        {
         "data": [
          {
           "coloraxis": "coloraxis",
           "customdata": [
            [
             10083
            ],
            [
             7128
            ],
            [
             10931
            ],
            [
             8254
            ],
            [
             9302
            ],
            [
             10287
            ],
            [
             11781
            ],
            [
             11929
            ],
            [
             7844
            ],
            [
             6355
            ],
            [
             8415
            ],
            [
             10651
            ],
            [
             7013
            ],
            [
             13440
            ],
            [
             9245
            ],
            [
             8270
            ],
            [
             8907
            ],
            [
             9971
            ],
            [
             8933
            ],
            [
             9687
            ],
            [
             9358
            ],
            [
             12312
            ],
            [
             12477
            ],
            [
             11016
            ],
            [
             7481
            ],
            [
             8628
            ],
            [
             6431
            ],
            [
             7894
            ],
            [
             6910
            ],
            [
             15700
            ],
            [
             13562
            ],
            [
             6636
            ],
            [
             7710
            ],
            [
             7199
            ],
            [
             7890
            ],
            [
             10307
            ],
            [
             8032
            ],
            [
             9740
            ],
            [
             13944
            ],
            [
             11423
            ],
            [
             12207
            ],
            [
             8161
            ],
            [
             9537
            ],
            [
             9536
            ],
            [
             6560
            ],
            [
             15562
            ],
            [
             12353
            ],
            [
             9270
            ],
            [
             7492
            ],
            [
             8933
            ],
            [
             5055
            ]
           ],
           "geo": "geo",
           "hovertemplate": "<b>%{hovertext}</b><br><br>Year=2016<br>State_Code=%{location}<br>Tuition=%{z}<extra></extra>",
           "hovertext": [
            "Alabama",
            "Alaska",
            "Arizona",
            "Arkansas",
            "California",
            "Colorado",
            "Connecticut",
            "Delaware",
            "District of Columbia",
            "Florida",
            "Georgia",
            "Hawaii",
            "Idaho",
            "Illinois",
            "Indiana",
            "Iowa",
            "Kansas",
            "Kentucky",
            "Louisiana",
            "Maine",
            "Maryland",
            "Massachusetts",
            "Michigan",
            "Minnesota",
            "Mississippi",
            "Missouri",
            "Montana",
            "Nebraska",
            "Nevada",
            "New Hampshire",
            "New Jersey",
            "New Mexico",
            "New York",
            "North Carolina",
            "North Dakota",
            "Ohio",
            "Oklahoma",
            "Oregon",
            "Pennsylvania",
            "Rhode Island",
            "South Carolina",
            "South Dakota",
            "Tennessee",
            "Texas",
            "Utah",
            "Vermont",
            "Virginia",
            "Washington",
            "West Virginia",
            "Wisconsin",
            "Wyoming"
           ],
           "locationmode": "USA-states",
           "locations": [
            "AL",
            "AK",
            "AZ",
            "AR",
            "CA",
            "CO",
            "CT",
            "DE",
            "DC",
            "FL",
            "GA",
            "HI",
            "ID",
            "IL",
            "IN",
            "IA",
            "KS",
            "KY",
            "LA",
            "ME",
            "MD",
            "MA",
            "MI",
            "MN",
            "MS",
            "MO",
            "MT",
            "NE",
            "NV",
            "NH",
            "NJ",
            "NM",
            "NY",
            "NC",
            "ND",
            "OH",
            "OK",
            "OR",
            "PA",
            "RI",
            "SC",
            "SD",
            "TN",
            "TX",
            "UT",
            "VT",
            "VA",
            "WA",
            "WV",
            "WI",
            "WY"
           ],
           "name": "",
           "type": "choropleth",
           "z": [
            10083,
            7128,
            10931,
            8254,
            9302,
            10287,
            11781,
            11929,
            7844,
            6355,
            8415,
            10651,
            7013,
            13440,
            9245,
            8270,
            8907,
            9971,
            8933,
            9687,
            9358,
            12312,
            12477,
            11016,
            7481,
            8628,
            6431,
            7894,
            6910,
            15700,
            13562,
            6636,
            7710,
            7199,
            7890,
            10307,
            8032,
            9740,
            13944,
            11423,
            12207,
            8161,
            9537,
            9536,
            6560,
            15562,
            12353,
            9270,
            7492,
            8933,
            5055
           ]
          }
         ],
         "name": "2016"
        },
        {
         "data": [
          {
           "coloraxis": "coloraxis",
           "customdata": [
            [
             10650
            ],
            [
             7440
            ],
            [
             11210
            ],
            [
             8550
            ],
            [
             9800
            ],
            [
             10810
            ],
            [
             12180
            ],
            [
             12180
            ],
            [
             8060
            ],
            [
             6360
            ],
            [
             8580
            ],
            [
             10610
            ],
            [
             7250
            ],
            [
             13700
            ],
            [
             9380
            ],
            [
             8760
            ],
            [
             8880
            ],
            [
             10320
            ],
            [
             9310
            ],
            [
             9900
            ],
            [
             9690
            ],
            [
             12790
            ],
            [
             13060
            ],
            [
             11340
            ],
            [
             7950
            ],
            [
             8500
            ],
            [
             6910
            ],
            [
             8290
            ],
            [
             7330
            ],
            [
             16080
            ],
            [
             13860
            ],
            [
             6920
            ],
            [
             7930
            ],
            [
             7380
            ],
            [
             8190
            ],
            [
             10460
            ],
            [
             8490
            ],
            [
             10320
            ],
            [
             14510
            ],
            [
             12240
            ],
            [
             12600
            ],
            [
             8440
            ],
            [
             9800
            ],
            [
             9880
            ],
            [
             6780
            ],
            [
             16030
            ],
            [
             12820
            ],
            [
             9490
            ],
            [
             7910
            ],
            [
             8920
            ],
            [
             5220
            ]
           ],
           "geo": "geo",
           "hovertemplate": "<b>%{hovertext}</b><br><br>Year=2017<br>State_Code=%{location}<br>Tuition=%{z}<extra></extra>",
           "hovertext": [
            "Alabama",
            "Alaska",
            "Arizona",
            "Arkansas",
            "California",
            "Colorado",
            "Connecticut",
            "Delaware",
            "District of Columbia",
            "Florida",
            "Georgia",
            "Hawaii",
            "Idaho",
            "Illinois",
            "Indiana",
            "Iowa",
            "Kansas",
            "Kentucky",
            "Louisiana",
            "Maine",
            "Maryland",
            "Massachusetts",
            "Michigan",
            "Minnesota",
            "Mississippi",
            "Missouri",
            "Montana",
            "Nebraska",
            "Nevada",
            "New Hampshire",
            "New Jersey",
            "New Mexico",
            "New York",
            "North Carolina",
            "North Dakota",
            "Ohio",
            "Oklahoma",
            "Oregon",
            "Pennsylvania",
            "Rhode Island",
            "South Carolina",
            "South Dakota",
            "Tennessee",
            "Texas",
            "Utah",
            "Vermont",
            "Virginia",
            "Washington",
            "West Virginia",
            "Wisconsin",
            "Wyoming"
           ],
           "locationmode": "USA-states",
           "locations": [
            "AL",
            "AK",
            "AZ",
            "AR",
            "CA",
            "CO",
            "CT",
            "DE",
            "DC",
            "FL",
            "GA",
            "HI",
            "ID",
            "IL",
            "IN",
            "IA",
            "KS",
            "KY",
            "LA",
            "ME",
            "MD",
            "MA",
            "MI",
            "MN",
            "MS",
            "MO",
            "MT",
            "NE",
            "NV",
            "NH",
            "NJ",
            "NM",
            "NY",
            "NC",
            "ND",
            "OH",
            "OK",
            "OR",
            "PA",
            "RI",
            "SC",
            "SD",
            "TN",
            "TX",
            "UT",
            "VT",
            "VA",
            "WA",
            "WV",
            "WI",
            "WY"
           ],
           "name": "",
           "type": "choropleth",
           "z": [
            10650,
            7440,
            11210,
            8550,
            9800,
            10810,
            12180,
            12180,
            8060,
            6360,
            8580,
            10610,
            7250,
            13700,
            9380,
            8760,
            8880,
            10320,
            9310,
            9900,
            9690,
            12790,
            13060,
            11340,
            7950,
            8500,
            6910,
            8290,
            7330,
            16080,
            13860,
            6920,
            7930,
            7380,
            8190,
            10460,
            8490,
            10320,
            14510,
            12240,
            12600,
            8440,
            9800,
            9880,
            6780,
            16030,
            12820,
            9490,
            7910,
            8920,
            5220
           ]
          }
         ],
         "name": "2017"
        },
        {
         "data": [
          {
           "coloraxis": "coloraxis",
           "customdata": [
            [
             10777
            ],
            [
             7821
            ],
            [
             11545
            ],
            [
             8701
            ],
            [
             9875
            ],
            [
             11157
            ],
            [
             12744
            ],
            [
             12726
            ],
            [
             8252
            ],
            [
             6353
            ],
            [
             8544
            ],
            [
             10801
            ],
            [
             7591
            ],
            [
             14000
            ],
            [
             9487
            ],
            [
             9081
            ],
            [
             9091
            ],
            [
             10715
            ],
            [
             9506
            ],
            [
             10211
            ],
            [
             9907
            ],
            [
             13218
            ],
            [
             13446
            ],
            [
             11531
            ],
            [
             8416
            ],
            [
             8650
            ],
            [
             7102
            ],
            [
             8527
            ],
            [
             7667
            ],
            [
             16559
            ],
            [
             14184
            ],
            [
             7127
            ],
            [
             8159
            ],
            [
             7228
            ],
            [
             8669
            ],
            [
             10805
            ],
            [
             8800
            ],
            [
             10608
            ],
            [
             14814
            ],
            [
             12566
            ],
            [
             12966
            ],
            [
             8684
            ],
            [
             9977
            ],
            [
             10163
            ],
            [
             6988
            ],
            [
             16998
            ],
            [
             13491
            ],
            [
             9844
            ],
            [
             8295
            ],
            [
             9014
            ],
            [
             5400
            ]
           ],
           "geo": "geo",
           "hovertemplate": "<b>%{hovertext}</b><br><br>Year=2018<br>State_Code=%{location}<br>Tuition=%{z}<extra></extra>",
           "hovertext": [
            "Alabama",
            "Alaska",
            "Arizona",
            "Arkansas",
            "California",
            "Colorado",
            "Connecticut",
            "Delaware",
            "District of Columbia",
            "Florida",
            "Georgia",
            "Hawaii",
            "Idaho",
            "Illinois",
            "Indiana",
            "Iowa",
            "Kansas",
            "Kentucky",
            "Louisiana",
            "Maine",
            "Maryland",
            "Massachusetts",
            "Michigan",
            "Minnesota",
            "Mississippi",
            "Missouri",
            "Montana",
            "Nebraska",
            "Nevada",
            "New Hampshire",
            "New Jersey",
            "New Mexico",
            "New York",
            "North Carolina",
            "North Dakota",
            "Ohio",
            "Oklahoma",
            "Oregon",
            "Pennsylvania",
            "Rhode Island",
            "South Carolina",
            "South Dakota",
            "Tennessee",
            "Texas",
            "Utah",
            "Vermont",
            "Virginia",
            "Washington",
            "West Virginia",
            "Wisconsin",
            "Wyoming"
           ],
           "locationmode": "USA-states",
           "locations": [
            "AL",
            "AK",
            "AZ",
            "AR",
            "CA",
            "CO",
            "CT",
            "DE",
            "DC",
            "FL",
            "GA",
            "HI",
            "ID",
            "IL",
            "IN",
            "IA",
            "KS",
            "KY",
            "LA",
            "ME",
            "MD",
            "MA",
            "MI",
            "MN",
            "MS",
            "MO",
            "MT",
            "NE",
            "NV",
            "NH",
            "NJ",
            "NM",
            "NY",
            "NC",
            "ND",
            "OH",
            "OK",
            "OR",
            "PA",
            "RI",
            "SC",
            "SD",
            "TN",
            "TX",
            "UT",
            "VT",
            "VA",
            "WA",
            "WV",
            "WI",
            "WY"
           ],
           "name": "",
           "type": "choropleth",
           "z": [
            10777,
            7821,
            11545,
            8701,
            9875,
            11157,
            12744,
            12726,
            8252,
            6353,
            8544,
            10801,
            7591,
            14000,
            9487,
            9081,
            9091,
            10715,
            9506,
            10211,
            9907,
            13218,
            13446,
            11531,
            8416,
            8650,
            7102,
            8527,
            7667,
            16559,
            14184,
            7127,
            8159,
            7228,
            8669,
            10805,
            8800,
            10608,
            14814,
            12566,
            12966,
            8684,
            9977,
            10163,
            6988,
            16998,
            13491,
            9844,
            8295,
            9014,
            5400
           ]
          }
         ],
         "name": "2018"
        },
        {
         "data": [
          {
           "coloraxis": "coloraxis",
           "customdata": [
            [
             10922
            ],
            [
             8233
            ],
            [
             11879
            ],
            [
             9036
            ],
            [
             9854
            ],
            [
             11408
            ],
            [
             13644
            ],
            [
             13275
            ],
            [
             8444
            ],
            [
             6365
            ],
            [
             8790
            ],
            [
             10981
            ],
            [
             7999
            ],
            [
             14197
            ],
            [
             9691
            ],
            [
             9369
            ],
            [
             9211
            ],
            [
             10932
            ],
            [
             9840
            ],
            [
             10519
            ],
            [
             10132
            ],
            [
             13697
            ],
            [
             13785
            ],
            [
             11882
            ],
            [
             8604
            ],
            [
             9013
            ],
            [
             7208
            ],
            [
             8745
            ],
            [
             7931
            ],
            [
             16907
            ],
            [
             14550
            ],
            [
             7431
            ],
            [
             8465
            ],
            [
             7265
            ],
            [
             9271
            ],
            [
             11335
            ],
            [
             8933
            ],
            [
             11210
            ],
            [
             15002
            ],
            [
             13119
            ],
            [
             13062
            ],
            [
             8985
            ],
            [
             10290
            ],
            [
             10490
            ],
            [
             7156
            ],
            [
             17186
            ],
            [
             13640
            ],
            [
             10114
            ],
            [
             8479
            ],
            [
             9083
            ],
            [
             5581
            ]
           ],
           "geo": "geo",
           "hovertemplate": "<b>%{hovertext}</b><br><br>Year=2019<br>State_Code=%{location}<br>Tuition=%{z}<extra></extra>",
           "hovertext": [
            "Alabama",
            "Alaska",
            "Arizona",
            "Arkansas",
            "California",
            "Colorado",
            "Connecticut",
            "Delaware",
            "District of Columbia",
            "Florida",
            "Georgia",
            "Hawaii",
            "Idaho",
            "Illinois",
            "Indiana",
            "Iowa",
            "Kansas",
            "Kentucky",
            "Louisiana",
            "Maine",
            "Maryland",
            "Massachusetts",
            "Michigan",
            "Minnesota",
            "Mississippi",
            "Missouri",
            "Montana",
            "Nebraska",
            "Nevada",
            "New Hampshire",
            "New Jersey",
            "New Mexico",
            "New York",
            "North Carolina",
            "North Dakota",
            "Ohio",
            "Oklahoma",
            "Oregon",
            "Pennsylvania",
            "Rhode Island",
            "South Carolina",
            "South Dakota",
            "Tennessee",
            "Texas",
            "Utah",
            "Vermont",
            "Virginia",
            "Washington",
            "West Virginia",
            "Wisconsin",
            "Wyoming"
           ],
           "locationmode": "USA-states",
           "locations": [
            "AL",
            "AK",
            "AZ",
            "AR",
            "CA",
            "CO",
            "CT",
            "DE",
            "DC",
            "FL",
            "GA",
            "HI",
            "ID",
            "IL",
            "IN",
            "IA",
            "KS",
            "KY",
            "LA",
            "ME",
            "MD",
            "MA",
            "MI",
            "MN",
            "MS",
            "MO",
            "MT",
            "NE",
            "NV",
            "NH",
            "NJ",
            "NM",
            "NY",
            "NC",
            "ND",
            "OH",
            "OK",
            "OR",
            "PA",
            "RI",
            "SC",
            "SD",
            "TN",
            "TX",
            "UT",
            "VT",
            "VA",
            "WA",
            "WV",
            "WI",
            "WY"
           ],
           "name": "",
           "type": "choropleth",
           "z": [
            10922,
            8233,
            11879,
            9036,
            9854,
            11408,
            13644,
            13275,
            8444,
            6365,
            8790,
            10981,
            7999,
            14197,
            9691,
            9369,
            9211,
            10932,
            9840,
            10519,
            10132,
            13697,
            13785,
            11882,
            8604,
            9013,
            7208,
            8745,
            7931,
            16907,
            14550,
            7431,
            8465,
            7265,
            9271,
            11335,
            8933,
            11210,
            15002,
            13119,
            13062,
            8985,
            10290,
            10490,
            7156,
            17186,
            13640,
            10114,
            8479,
            9083,
            5581
           ]
          }
         ],
         "name": "2019"
        },
        {
         "data": [
          {
           "coloraxis": "coloraxis",
           "customdata": [
            [
             10996
            ],
            [
             8610
            ],
            [
             11811
            ],
            [
             9078
            ],
            [
             9924
            ],
            [
             11483
            ],
            [
             14221
            ],
            [
             13593
            ],
            [
             8636
            ],
            [
             6365
            ],
            [
             8865
            ],
            [
             10999
            ],
            [
             7992
            ],
            [
             14450
            ],
            [
             9812
            ],
            [
             9374
            ],
            [
             9277
            ],
            [
             11010
            ],
            [
             9930
            ],
            [
             10800
            ],
            [
             10136
            ],
            [
             13982
            ],
            [
             13975
            ],
            [
             12027
            ],
            [
             8665
            ],
            [
             9332
            ],
            [
             7204
            ],
            [
             9078
            ],
            [
             8269
            ],
            [
             16976
            ],
            [
             14414
            ],
            [
             8106
            ],
            [
             8477
            ],
            [
             7264
            ],
            [
             9650
            ],
            [
             11699
            ],
            [
             9012
            ],
            [
             11907
            ],
            [
             15029
            ],
            [
             13741
            ],
            [
             13104
            ],
            [
             9129
            ],
            [
             10450
            ],
            [
             10827
            ],
            [
             7221
            ],
            [
             17722
            ],
            [
             13868
            ],
            [
             10663
            ],
            [
             8555
            ],
            [
             9096
            ],
            [
             5792
            ]
           ],
           "geo": "geo",
           "hovertemplate": "<b>%{hovertext}</b><br><br>Year=2020<br>State_Code=%{location}<br>Tuition=%{z}<extra></extra>",
           "hovertext": [
            "Alabama",
            "Alaska",
            "Arizona",
            "Arkansas",
            "California",
            "Colorado",
            "Connecticut",
            "Delaware",
            "District of Columbia",
            "Florida",
            "Georgia",
            "Hawaii",
            "Idaho",
            "Illinois",
            "Indiana",
            "Iowa",
            "Kansas",
            "Kentucky",
            "Louisiana",
            "Maine",
            "Maryland",
            "Massachusetts",
            "Michigan",
            "Minnesota",
            "Mississippi",
            "Missouri",
            "Montana",
            "Nebraska",
            "Nevada",
            "New Hampshire",
            "New Jersey",
            "New Mexico",
            "New York",
            "North Carolina",
            "North Dakota",
            "Ohio",
            "Oklahoma",
            "Oregon",
            "Pennsylvania",
            "Rhode Island",
            "South Carolina",
            "South Dakota",
            "Tennessee",
            "Texas",
            "Utah",
            "Vermont",
            "Virginia",
            "Washington",
            "West Virginia",
            "Wisconsin",
            "Wyoming"
           ],
           "locationmode": "USA-states",
           "locations": [
            "AL",
            "AK",
            "AZ",
            "AR",
            "CA",
            "CO",
            "CT",
            "DE",
            "DC",
            "FL",
            "GA",
            "HI",
            "ID",
            "IL",
            "IN",
            "IA",
            "KS",
            "KY",
            "LA",
            "ME",
            "MD",
            "MA",
            "MI",
            "MN",
            "MS",
            "MO",
            "MT",
            "NE",
            "NV",
            "NH",
            "NJ",
            "NM",
            "NY",
            "NC",
            "ND",
            "OH",
            "OK",
            "OR",
            "PA",
            "RI",
            "SC",
            "SD",
            "TN",
            "TX",
            "UT",
            "VT",
            "VA",
            "WA",
            "WV",
            "WI",
            "WY"
           ],
           "name": "",
           "type": "choropleth",
           "z": [
            10996,
            8610,
            11811,
            9078,
            9924,
            11483,
            14221,
            13593,
            8636,
            6365,
            8865,
            10999,
            7992,
            14450,
            9812,
            9374,
            9277,
            11010,
            9930,
            10800,
            10136,
            13982,
            13975,
            12027,
            8665,
            9332,
            7204,
            9078,
            8269,
            16976,
            14414,
            8106,
            8477,
            7264,
            9650,
            11699,
            9012,
            11907,
            15029,
            13741,
            13104,
            9129,
            10450,
            10827,
            7221,
            17722,
            13868,
            10663,
            8555,
            9096,
            5792
           ]
          }
         ],
         "name": "2020"
        },
        {
         "data": [
          {
           "coloraxis": "coloraxis",
           "customdata": [
            [
             11338
            ],
            [
             8815
            ],
            [
             11820
            ],
            [
             9250
            ],
            [
             9943
            ],
            [
             11769
            ],
            [
             14914
            ],
            [
             13901
            ],
            [
             8636
            ],
            [
             6366
            ],
            [
             8885
            ],
            [
             10999
            ],
            [
             8000
            ],
            [
             14667
            ],
            [
             9937
            ],
            [
             9668
            ],
            [
             9363
            ],
            [
             11169
            ],
            [
             10042
            ],
            [
             11031
            ],
            [
             10317
            ],
            [
             13986
            ],
            [
             14339
            ],
            [
             12450
            ],
            [
             8872
            ],
            [
             9803
            ],
            [
             7265
            ],
            [
             9093
            ],
            [
             8383
            ],
            [
             16991
            ],
            [
             14963
            ],
            [
             7975
            ],
            [
             8556
            ],
            [
             7378
            ],
            [
             10089
            ],
            [
             12052
            ],
            [
             9233
            ],
            [
             12251
            ],
            [
             15312
            ],
            [
             14100
            ],
            [
             13119
            ],
            [
             9295
            ],
            [
             10570
            ],
            [
             11095
            ],
            [
             7387
            ],
            [
             17747
            ],
            [
             14121
            ],
            [
             10902
            ],
            [
             8733
            ],
            [
             9162
            ],
            [
             6097
            ]
           ],
           "geo": "geo",
           "hovertemplate": "<b>%{hovertext}</b><br><br>Year=2021<br>State_Code=%{location}<br>Tuition=%{z}<extra></extra>",
           "hovertext": [
            "Alabama",
            "Alaska",
            "Arizona",
            "Arkansas",
            "California",
            "Colorado",
            "Connecticut",
            "Delaware",
            "District of Columbia",
            "Florida",
            "Georgia",
            "Hawaii",
            "Idaho",
            "Illinois",
            "Indiana",
            "Iowa",
            "Kansas",
            "Kentucky",
            "Louisiana",
            "Maine",
            "Maryland",
            "Massachusetts",
            "Michigan",
            "Minnesota",
            "Mississippi",
            "Missouri",
            "Montana",
            "Nebraska",
            "Nevada",
            "New Hampshire",
            "New Jersey",
            "New Mexico",
            "New York",
            "North Carolina",
            "North Dakota",
            "Ohio",
            "Oklahoma",
            "Oregon",
            "Pennsylvania",
            "Rhode Island",
            "South Carolina",
            "South Dakota",
            "Tennessee",
            "Texas",
            "Utah",
            "Vermont",
            "Virginia",
            "Washington",
            "West Virginia",
            "Wisconsin",
            "Wyoming"
           ],
           "locationmode": "USA-states",
           "locations": [
            "AL",
            "AK",
            "AZ",
            "AR",
            "CA",
            "CO",
            "CT",
            "DE",
            "DC",
            "FL",
            "GA",
            "HI",
            "ID",
            "IL",
            "IN",
            "IA",
            "KS",
            "KY",
            "LA",
            "ME",
            "MD",
            "MA",
            "MI",
            "MN",
            "MS",
            "MO",
            "MT",
            "NE",
            "NV",
            "NH",
            "NJ",
            "NM",
            "NY",
            "NC",
            "ND",
            "OH",
            "OK",
            "OR",
            "PA",
            "RI",
            "SC",
            "SD",
            "TN",
            "TX",
            "UT",
            "VT",
            "VA",
            "WA",
            "WV",
            "WI",
            "WY"
           ],
           "name": "",
           "type": "choropleth",
           "z": [
            11338,
            8815,
            11820,
            9250,
            9943,
            11769,
            14914,
            13901,
            8636,
            6366,
            8885,
            10999,
            8000,
            14667,
            9937,
            9668,
            9363,
            11169,
            10042,
            11031,
            10317,
            13986,
            14339,
            12450,
            8872,
            9803,
            7265,
            9093,
            8383,
            16991,
            14963,
            7975,
            8556,
            7378,
            10089,
            12052,
            9233,
            12251,
            15312,
            14100,
            13119,
            9295,
            10570,
            11095,
            7387,
            17747,
            14121,
            10902,
            8733,
            9162,
            6097
           ]
          }
         ],
         "name": "2021"
        },
        {
         "data": [
          {
           "coloraxis": "coloraxis",
           "customdata": [
            [
             11683
            ],
            [
             9024
            ],
            [
             12184
            ],
            [
             9478
            ],
            [
             10353
            ],
            [
             12185
            ],
            [
             15780
            ],
            [
             14190
            ],
            [
             8636
            ],
            [
             6364
            ],
            [
             8291
            ],
            [
             11102
            ],
            [
             8186
            ],
            [
             15012
            ],
            [
             10095
            ],
            [
             10115
            ],
            [
             9456
            ],
            [
             11410
            ],
            [
             10233
            ],
            [
             11238
            ],
            [
             10573
            ],
            [
             14488
            ],
            [
             14864
            ],
            [
             13020
            ],
            [
             9109
            ],
            [
             10294
            ],
            [
             7467
            ],
            [
             9018
            ],
            [
             8600
            ],
            [
             17094
            ],
            [
             15479
            ],
            [
             8955
            ],
            [
             8582
            ],
            [
             7392
            ],
            [
             10375
            ],
            [
             12609
            ],
            [
             9444
            ],
            [
             12962
            ],
            [
             15841
            ],
            [
             14696
            ],
            [
             13130
            ],
            [
             9124
            ],
            [
             10627
            ],
            [
             11136
            ],
            [
             7720
            ],
            [
             17772
            ],
            [
             14620
            ],
            [
             11187
            ],
            [
             8954
            ],
            [
             9284
            ],
            [
             6441
            ]
           ],
           "geo": "geo",
           "hovertemplate": "<b>%{hovertext}</b><br><br>Year=2022<br>State_Code=%{location}<br>Tuition=%{z}<extra></extra>",
           "hovertext": [
            "Alabama",
            "Alaska",
            "Arizona",
            "Arkansas",
            "California",
            "Colorado",
            "Connecticut",
            "Delaware",
            "District of Columbia",
            "Florida",
            "Georgia",
            "Hawaii",
            "Idaho",
            "Illinois",
            "Indiana",
            "Iowa",
            "Kansas",
            "Kentucky",
            "Louisiana",
            "Maine",
            "Maryland",
            "Massachusetts",
            "Michigan",
            "Minnesota",
            "Mississippi",
            "Missouri",
            "Montana",
            "Nebraska",
            "Nevada",
            "New Hampshire",
            "New Jersey",
            "New Mexico",
            "New York",
            "North Carolina",
            "North Dakota",
            "Ohio",
            "Oklahoma",
            "Oregon",
            "Pennsylvania",
            "Rhode Island",
            "South Carolina",
            "South Dakota",
            "Tennessee",
            "Texas",
            "Utah",
            "Vermont",
            "Virginia",
            "Washington",
            "West Virginia",
            "Wisconsin",
            "Wyoming"
           ],
           "locationmode": "USA-states",
           "locations": [
            "AL",
            "AK",
            "AZ",
            "AR",
            "CA",
            "CO",
            "CT",
            "DE",
            "DC",
            "FL",
            "GA",
            "HI",
            "ID",
            "IL",
            "IN",
            "IA",
            "KS",
            "KY",
            "LA",
            "ME",
            "MD",
            "MA",
            "MI",
            "MN",
            "MS",
            "MO",
            "MT",
            "NE",
            "NV",
            "NH",
            "NJ",
            "NM",
            "NY",
            "NC",
            "ND",
            "OH",
            "OK",
            "OR",
            "PA",
            "RI",
            "SC",
            "SD",
            "TN",
            "TX",
            "UT",
            "VT",
            "VA",
            "WA",
            "WV",
            "WI",
            "WY"
           ],
           "name": "",
           "type": "choropleth",
           "z": [
            11683,
            9024,
            12184,
            9478,
            10353,
            12185,
            15780,
            14190,
            8636,
            6364,
            8291,
            11102,
            8186,
            15012,
            10095,
            10115,
            9456,
            11410,
            10233,
            11238,
            10573,
            14488,
            14864,
            13020,
            9109,
            10294,
            7467,
            9018,
            8600,
            17094,
            15479,
            8955,
            8582,
            7392,
            10375,
            12609,
            9444,
            12962,
            15841,
            14696,
            13130,
            9124,
            10627,
            11136,
            7720,
            17772,
            14620,
            11187,
            8954,
            9284,
            6441
           ]
          }
         ],
         "name": "2022"
        },
        {
         "data": [
          {
           "coloraxis": "coloraxis",
           "customdata": [
            [
             11890
            ],
            [
             9163
            ],
            [
             12583
            ],
            [
             9734
            ],
            [
             10641
            ],
            [
             12703
            ],
            [
             16403
            ],
            [
             14775
            ],
            [
             8636
            ],
            [
             6364
            ],
            [
             8306
            ],
            [
             11102
            ],
            [
             8598
            ],
            [
             15362
            ],
            [
             10371
            ],
            [
             10567
            ],
            [
             9915
            ],
            [
             11819
            ],
            [
             10238
            ],
            [
             11754
            ],
            [
             10852
            ],
            [
             14839
            ],
            [
             15425
            ],
            [
             13377
            ],
            [
             9389
            ],
            [
             11547
            ],
            [
             7863
            ],
            [
             9352
            ],
            [
             8800
            ],
            [
             17171
            ],
            [
             16261
            ],
            [
             9088
            ],
            [
             8579
            ],
            [
             7437
            ],
            [
             10419
            ],
            [
             13016
            ],
            [
             9649
            ],
            [
             13490
            ],
            [
             16150
            ],
            [
             15102
            ],
            [
             13132
            ],
            [
             9121
            ],
            [
             10889
            ],
            [
             11187
            ],
            [
             7720
            ],
            [
             17183
            ],
            [
             15162
            ],
            [
             11506
            ],
            [
             9223
            ],
            [
             9619
            ],
            [
             6698
            ]
           ],
           "geo": "geo",
           "hovertemplate": "<b>%{hovertext}</b><br><br>Year=2023<br>State_Code=%{location}<br>Tuition=%{z}<extra></extra>",
           "hovertext": [
            "Alabama",
            "Alaska",
            "Arizona",
            "Arkansas",
            "California",
            "Colorado",
            "Connecticut",
            "Delaware",
            "District of Columbia",
            "Florida",
            "Georgia",
            "Hawaii",
            "Idaho",
            "Illinois",
            "Indiana",
            "Iowa",
            "Kansas",
            "Kentucky",
            "Louisiana",
            "Maine",
            "Maryland",
            "Massachusetts",
            "Michigan",
            "Minnesota",
            "Mississippi",
            "Missouri",
            "Montana",
            "Nebraska",
            "Nevada",
            "New Hampshire",
            "New Jersey",
            "New Mexico",
            "New York",
            "North Carolina",
            "North Dakota",
            "Ohio",
            "Oklahoma",
            "Oregon",
            "Pennsylvania",
            "Rhode Island",
            "South Carolina",
            "South Dakota",
            "Tennessee",
            "Texas",
            "Utah",
            "Vermont",
            "Virginia",
            "Washington",
            "West Virginia",
            "Wisconsin",
            "Wyoming"
           ],
           "locationmode": "USA-states",
           "locations": [
            "AL",
            "AK",
            "AZ",
            "AR",
            "CA",
            "CO",
            "CT",
            "DE",
            "DC",
            "FL",
            "GA",
            "HI",
            "ID",
            "IL",
            "IN",
            "IA",
            "KS",
            "KY",
            "LA",
            "ME",
            "MD",
            "MA",
            "MI",
            "MN",
            "MS",
            "MO",
            "MT",
            "NE",
            "NV",
            "NH",
            "NJ",
            "NM",
            "NY",
            "NC",
            "ND",
            "OH",
            "OK",
            "OR",
            "PA",
            "RI",
            "SC",
            "SD",
            "TN",
            "TX",
            "UT",
            "VT",
            "VA",
            "WA",
            "WV",
            "WI",
            "WY"
           ],
           "name": "",
           "type": "choropleth",
           "z": [
            11890,
            9163,
            12583,
            9734,
            10641,
            12703,
            16403,
            14775,
            8636,
            6364,
            8306,
            11102,
            8598,
            15362,
            10371,
            10567,
            9915,
            11819,
            10238,
            11754,
            10852,
            14839,
            15425,
            13377,
            9389,
            11547,
            7863,
            9352,
            8800,
            17171,
            16261,
            9088,
            8579,
            7437,
            10419,
            13016,
            9649,
            13490,
            16150,
            15102,
            13132,
            9121,
            10889,
            11187,
            7720,
            17183,
            15162,
            11506,
            9223,
            9619,
            6698
           ]
          }
         ],
         "name": "2023"
        }
       ],
       "layout": {
        "coloraxis": {
         "cmax": 17772,
         "cmin": 2520,
         "colorbar": {
          "title": {
           "text": "Tuition"
          }
         },
         "colorscale": [
          [
           0,
           "rgb(255,255,204)"
          ],
          [
           0.125,
           "rgb(255,237,160)"
          ],
          [
           0.25,
           "rgb(254,217,118)"
          ],
          [
           0.375,
           "rgb(254,178,76)"
          ],
          [
           0.5,
           "rgb(253,141,60)"
          ],
          [
           0.625,
           "rgb(252,78,42)"
          ],
          [
           0.75,
           "rgb(227,26,28)"
          ],
          [
           0.875,
           "rgb(189,0,38)"
          ],
          [
           1,
           "rgb(128,0,38)"
          ]
         ]
        },
        "geo": {
         "center": {},
         "domain": {
          "x": [
           0,
           1
          ],
          "y": [
           0,
           1
          ]
         },
         "oceancolor": "LightBlue",
         "projection": {
          "type": "albers usa"
         },
         "showcoastlines": false,
         "showframe": false,
         "showocean": true
        },
        "height": 600,
        "legend": {
         "tracegroupgap": 0
        },
        "sliders": [
         {
          "active": 0,
          "currentvalue": {
           "prefix": "Year="
          },
          "len": 0.9,
          "pad": {
           "b": 10,
           "t": 60
          },
          "steps": [
           {
            "args": [
             [
              "2004"
             ],
             {
              "frame": {
               "duration": 0,
               "redraw": true
              },
              "fromcurrent": true,
              "mode": "immediate",
              "transition": {
               "duration": 0,
               "easing": "linear"
              }
             }
            ],
            "label": "2004",
            "method": "animate"
           },
           {
            "args": [
             [
              "2005"
             ],
             {
              "frame": {
               "duration": 0,
               "redraw": true
              },
              "fromcurrent": true,
              "mode": "immediate",
              "transition": {
               "duration": 0,
               "easing": "linear"
              }
             }
            ],
            "label": "2005",
            "method": "animate"
           },
           {
            "args": [
             [
              "2006"
             ],
             {
              "frame": {
               "duration": 0,
               "redraw": true
              },
              "fromcurrent": true,
              "mode": "immediate",
              "transition": {
               "duration": 0,
               "easing": "linear"
              }
             }
            ],
            "label": "2006",
            "method": "animate"
           },
           {
            "args": [
             [
              "2007"
             ],
             {
              "frame": {
               "duration": 0,
               "redraw": true
              },
              "fromcurrent": true,
              "mode": "immediate",
              "transition": {
               "duration": 0,
               "easing": "linear"
              }
             }
            ],
            "label": "2007",
            "method": "animate"
           },
           {
            "args": [
             [
              "2008"
             ],
             {
              "frame": {
               "duration": 0,
               "redraw": true
              },
              "fromcurrent": true,
              "mode": "immediate",
              "transition": {
               "duration": 0,
               "easing": "linear"
              }
             }
            ],
            "label": "2008",
            "method": "animate"
           },
           {
            "args": [
             [
              "2009"
             ],
             {
              "frame": {
               "duration": 0,
               "redraw": true
              },
              "fromcurrent": true,
              "mode": "immediate",
              "transition": {
               "duration": 0,
               "easing": "linear"
              }
             }
            ],
            "label": "2009",
            "method": "animate"
           },
           {
            "args": [
             [
              "2010"
             ],
             {
              "frame": {
               "duration": 0,
               "redraw": true
              },
              "fromcurrent": true,
              "mode": "immediate",
              "transition": {
               "duration": 0,
               "easing": "linear"
              }
             }
            ],
            "label": "2010",
            "method": "animate"
           },
           {
            "args": [
             [
              "2011"
             ],
             {
              "frame": {
               "duration": 0,
               "redraw": true
              },
              "fromcurrent": true,
              "mode": "immediate",
              "transition": {
               "duration": 0,
               "easing": "linear"
              }
             }
            ],
            "label": "2011",
            "method": "animate"
           },
           {
            "args": [
             [
              "2012"
             ],
             {
              "frame": {
               "duration": 0,
               "redraw": true
              },
              "fromcurrent": true,
              "mode": "immediate",
              "transition": {
               "duration": 0,
               "easing": "linear"
              }
             }
            ],
            "label": "2012",
            "method": "animate"
           },
           {
            "args": [
             [
              "2013"
             ],
             {
              "frame": {
               "duration": 0,
               "redraw": true
              },
              "fromcurrent": true,
              "mode": "immediate",
              "transition": {
               "duration": 0,
               "easing": "linear"
              }
             }
            ],
            "label": "2013",
            "method": "animate"
           },
           {
            "args": [
             [
              "2014"
             ],
             {
              "frame": {
               "duration": 0,
               "redraw": true
              },
              "fromcurrent": true,
              "mode": "immediate",
              "transition": {
               "duration": 0,
               "easing": "linear"
              }
             }
            ],
            "label": "2014",
            "method": "animate"
           },
           {
            "args": [
             [
              "2015"
             ],
             {
              "frame": {
               "duration": 0,
               "redraw": true
              },
              "fromcurrent": true,
              "mode": "immediate",
              "transition": {
               "duration": 0,
               "easing": "linear"
              }
             }
            ],
            "label": "2015",
            "method": "animate"
           },
           {
            "args": [
             [
              "2016"
             ],
             {
              "frame": {
               "duration": 0,
               "redraw": true
              },
              "fromcurrent": true,
              "mode": "immediate",
              "transition": {
               "duration": 0,
               "easing": "linear"
              }
             }
            ],
            "label": "2016",
            "method": "animate"
           },
           {
            "args": [
             [
              "2017"
             ],
             {
              "frame": {
               "duration": 0,
               "redraw": true
              },
              "fromcurrent": true,
              "mode": "immediate",
              "transition": {
               "duration": 0,
               "easing": "linear"
              }
             }
            ],
            "label": "2017",
            "method": "animate"
           },
           {
            "args": [
             [
              "2018"
             ],
             {
              "frame": {
               "duration": 0,
               "redraw": true
              },
              "fromcurrent": true,
              "mode": "immediate",
              "transition": {
               "duration": 0,
               "easing": "linear"
              }
             }
            ],
            "label": "2018",
            "method": "animate"
           },
           {
            "args": [
             [
              "2019"
             ],
             {
              "frame": {
               "duration": 0,
               "redraw": true
              },
              "fromcurrent": true,
              "mode": "immediate",
              "transition": {
               "duration": 0,
               "easing": "linear"
              }
             }
            ],
            "label": "2019",
            "method": "animate"
           },
           {
            "args": [
             [
              "2020"
             ],
             {
              "frame": {
               "duration": 0,
               "redraw": true
              },
              "fromcurrent": true,
              "mode": "immediate",
              "transition": {
               "duration": 0,
               "easing": "linear"
              }
             }
            ],
            "label": "2020",
            "method": "animate"
           },
           {
            "args": [
             [
              "2021"
             ],
             {
              "frame": {
               "duration": 0,
               "redraw": true
              },
              "fromcurrent": true,
              "mode": "immediate",
              "transition": {
               "duration": 0,
               "easing": "linear"
              }
             }
            ],
            "label": "2021",
            "method": "animate"
           },
           {
            "args": [
             [
              "2022"
             ],
             {
              "frame": {
               "duration": 0,
               "redraw": true
              },
              "fromcurrent": true,
              "mode": "immediate",
              "transition": {
               "duration": 0,
               "easing": "linear"
              }
             }
            ],
            "label": "2022",
            "method": "animate"
           },
           {
            "args": [
             [
              "2023"
             ],
             {
              "frame": {
               "duration": 0,
               "redraw": true
              },
              "fromcurrent": true,
              "mode": "immediate",
              "transition": {
               "duration": 0,
               "easing": "linear"
              }
             }
            ],
            "label": "2023",
            "method": "animate"
           }
          ],
          "x": 0.1,
          "xanchor": "left",
          "y": 0,
          "yanchor": "top"
         }
        ],
        "template": {
         "data": {
          "bar": [
           {
            "error_x": {
             "color": "#2a3f5f"
            },
            "error_y": {
             "color": "#2a3f5f"
            },
            "marker": {
             "line": {
              "color": "#E5ECF6",
              "width": 0.5
             },
             "pattern": {
              "fillmode": "overlay",
              "size": 10,
              "solidity": 0.2
             }
            },
            "type": "bar"
           }
          ],
          "barpolar": [
           {
            "marker": {
             "line": {
              "color": "#E5ECF6",
              "width": 0.5
             },
             "pattern": {
              "fillmode": "overlay",
              "size": 10,
              "solidity": 0.2
             }
            },
            "type": "barpolar"
           }
          ],
          "carpet": [
           {
            "aaxis": {
             "endlinecolor": "#2a3f5f",
             "gridcolor": "white",
             "linecolor": "white",
             "minorgridcolor": "white",
             "startlinecolor": "#2a3f5f"
            },
            "baxis": {
             "endlinecolor": "#2a3f5f",
             "gridcolor": "white",
             "linecolor": "white",
             "minorgridcolor": "white",
             "startlinecolor": "#2a3f5f"
            },
            "type": "carpet"
           }
          ],
          "choropleth": [
           {
            "colorbar": {
             "outlinewidth": 0,
             "ticks": ""
            },
            "type": "choropleth"
           }
          ],
          "contour": [
           {
            "colorbar": {
             "outlinewidth": 0,
             "ticks": ""
            },
            "colorscale": [
             [
              0,
              "#0d0887"
             ],
             [
              0.1111111111111111,
              "#46039f"
             ],
             [
              0.2222222222222222,
              "#7201a8"
             ],
             [
              0.3333333333333333,
              "#9c179e"
             ],
             [
              0.4444444444444444,
              "#bd3786"
             ],
             [
              0.5555555555555556,
              "#d8576b"
             ],
             [
              0.6666666666666666,
              "#ed7953"
             ],
             [
              0.7777777777777778,
              "#fb9f3a"
             ],
             [
              0.8888888888888888,
              "#fdca26"
             ],
             [
              1,
              "#f0f921"
             ]
            ],
            "type": "contour"
           }
          ],
          "contourcarpet": [
           {
            "colorbar": {
             "outlinewidth": 0,
             "ticks": ""
            },
            "type": "contourcarpet"
           }
          ],
          "heatmap": [
           {
            "colorbar": {
             "outlinewidth": 0,
             "ticks": ""
            },
            "colorscale": [
             [
              0,
              "#0d0887"
             ],
             [
              0.1111111111111111,
              "#46039f"
             ],
             [
              0.2222222222222222,
              "#7201a8"
             ],
             [
              0.3333333333333333,
              "#9c179e"
             ],
             [
              0.4444444444444444,
              "#bd3786"
             ],
             [
              0.5555555555555556,
              "#d8576b"
             ],
             [
              0.6666666666666666,
              "#ed7953"
             ],
             [
              0.7777777777777778,
              "#fb9f3a"
             ],
             [
              0.8888888888888888,
              "#fdca26"
             ],
             [
              1,
              "#f0f921"
             ]
            ],
            "type": "heatmap"
           }
          ],
          "heatmapgl": [
           {
            "colorbar": {
             "outlinewidth": 0,
             "ticks": ""
            },
            "colorscale": [
             [
              0,
              "#0d0887"
             ],
             [
              0.1111111111111111,
              "#46039f"
             ],
             [
              0.2222222222222222,
              "#7201a8"
             ],
             [
              0.3333333333333333,
              "#9c179e"
             ],
             [
              0.4444444444444444,
              "#bd3786"
             ],
             [
              0.5555555555555556,
              "#d8576b"
             ],
             [
              0.6666666666666666,
              "#ed7953"
             ],
             [
              0.7777777777777778,
              "#fb9f3a"
             ],
             [
              0.8888888888888888,
              "#fdca26"
             ],
             [
              1,
              "#f0f921"
             ]
            ],
            "type": "heatmapgl"
           }
          ],
          "histogram": [
           {
            "marker": {
             "pattern": {
              "fillmode": "overlay",
              "size": 10,
              "solidity": 0.2
             }
            },
            "type": "histogram"
           }
          ],
          "histogram2d": [
           {
            "colorbar": {
             "outlinewidth": 0,
             "ticks": ""
            },
            "colorscale": [
             [
              0,
              "#0d0887"
             ],
             [
              0.1111111111111111,
              "#46039f"
             ],
             [
              0.2222222222222222,
              "#7201a8"
             ],
             [
              0.3333333333333333,
              "#9c179e"
             ],
             [
              0.4444444444444444,
              "#bd3786"
             ],
             [
              0.5555555555555556,
              "#d8576b"
             ],
             [
              0.6666666666666666,
              "#ed7953"
             ],
             [
              0.7777777777777778,
              "#fb9f3a"
             ],
             [
              0.8888888888888888,
              "#fdca26"
             ],
             [
              1,
              "#f0f921"
             ]
            ],
            "type": "histogram2d"
           }
          ],
          "histogram2dcontour": [
           {
            "colorbar": {
             "outlinewidth": 0,
             "ticks": ""
            },
            "colorscale": [
             [
              0,
              "#0d0887"
             ],
             [
              0.1111111111111111,
              "#46039f"
             ],
             [
              0.2222222222222222,
              "#7201a8"
             ],
             [
              0.3333333333333333,
              "#9c179e"
             ],
             [
              0.4444444444444444,
              "#bd3786"
             ],
             [
              0.5555555555555556,
              "#d8576b"
             ],
             [
              0.6666666666666666,
              "#ed7953"
             ],
             [
              0.7777777777777778,
              "#fb9f3a"
             ],
             [
              0.8888888888888888,
              "#fdca26"
             ],
             [
              1,
              "#f0f921"
             ]
            ],
            "type": "histogram2dcontour"
           }
          ],
          "mesh3d": [
           {
            "colorbar": {
             "outlinewidth": 0,
             "ticks": ""
            },
            "type": "mesh3d"
           }
          ],
          "parcoords": [
           {
            "line": {
             "colorbar": {
              "outlinewidth": 0,
              "ticks": ""
             }
            },
            "type": "parcoords"
           }
          ],
          "pie": [
           {
            "automargin": true,
            "type": "pie"
           }
          ],
          "scatter": [
           {
            "fillpattern": {
             "fillmode": "overlay",
             "size": 10,
             "solidity": 0.2
            },
            "type": "scatter"
           }
          ],
          "scatter3d": [
           {
            "line": {
             "colorbar": {
              "outlinewidth": 0,
              "ticks": ""
             }
            },
            "marker": {
             "colorbar": {
              "outlinewidth": 0,
              "ticks": ""
             }
            },
            "type": "scatter3d"
           }
          ],
          "scattercarpet": [
           {
            "marker": {
             "colorbar": {
              "outlinewidth": 0,
              "ticks": ""
             }
            },
            "type": "scattercarpet"
           }
          ],
          "scattergeo": [
           {
            "marker": {
             "colorbar": {
              "outlinewidth": 0,
              "ticks": ""
             }
            },
            "type": "scattergeo"
           }
          ],
          "scattergl": [
           {
            "marker": {
             "colorbar": {
              "outlinewidth": 0,
              "ticks": ""
             }
            },
            "type": "scattergl"
           }
          ],
          "scattermapbox": [
           {
            "marker": {
             "colorbar": {
              "outlinewidth": 0,
              "ticks": ""
             }
            },
            "type": "scattermapbox"
           }
          ],
          "scatterpolar": [
           {
            "marker": {
             "colorbar": {
              "outlinewidth": 0,
              "ticks": ""
             }
            },
            "type": "scatterpolar"
           }
          ],
          "scatterpolargl": [
           {
            "marker": {
             "colorbar": {
              "outlinewidth": 0,
              "ticks": ""
             }
            },
            "type": "scatterpolargl"
           }
          ],
          "scatterternary": [
           {
            "marker": {
             "colorbar": {
              "outlinewidth": 0,
              "ticks": ""
             }
            },
            "type": "scatterternary"
           }
          ],
          "surface": [
           {
            "colorbar": {
             "outlinewidth": 0,
             "ticks": ""
            },
            "colorscale": [
             [
              0,
              "#0d0887"
             ],
             [
              0.1111111111111111,
              "#46039f"
             ],
             [
              0.2222222222222222,
              "#7201a8"
             ],
             [
              0.3333333333333333,
              "#9c179e"
             ],
             [
              0.4444444444444444,
              "#bd3786"
             ],
             [
              0.5555555555555556,
              "#d8576b"
             ],
             [
              0.6666666666666666,
              "#ed7953"
             ],
             [
              0.7777777777777778,
              "#fb9f3a"
             ],
             [
              0.8888888888888888,
              "#fdca26"
             ],
             [
              1,
              "#f0f921"
             ]
            ],
            "type": "surface"
           }
          ],
          "table": [
           {
            "cells": {
             "fill": {
              "color": "#EBF0F8"
             },
             "line": {
              "color": "white"
             }
            },
            "header": {
             "fill": {
              "color": "#C8D4E3"
             },
             "line": {
              "color": "white"
             }
            },
            "type": "table"
           }
          ]
         },
         "layout": {
          "annotationdefaults": {
           "arrowcolor": "#2a3f5f",
           "arrowhead": 0,
           "arrowwidth": 1
          },
          "autotypenumbers": "strict",
          "coloraxis": {
           "colorbar": {
            "outlinewidth": 0,
            "ticks": ""
           }
          },
          "colorscale": {
           "diverging": [
            [
             0,
             "#8e0152"
            ],
            [
             0.1,
             "#c51b7d"
            ],
            [
             0.2,
             "#de77ae"
            ],
            [
             0.3,
             "#f1b6da"
            ],
            [
             0.4,
             "#fde0ef"
            ],
            [
             0.5,
             "#f7f7f7"
            ],
            [
             0.6,
             "#e6f5d0"
            ],
            [
             0.7,
             "#b8e186"
            ],
            [
             0.8,
             "#7fbc41"
            ],
            [
             0.9,
             "#4d9221"
            ],
            [
             1,
             "#276419"
            ]
           ],
           "sequential": [
            [
             0,
             "#0d0887"
            ],
            [
             0.1111111111111111,
             "#46039f"
            ],
            [
             0.2222222222222222,
             "#7201a8"
            ],
            [
             0.3333333333333333,
             "#9c179e"
            ],
            [
             0.4444444444444444,
             "#bd3786"
            ],
            [
             0.5555555555555556,
             "#d8576b"
            ],
            [
             0.6666666666666666,
             "#ed7953"
            ],
            [
             0.7777777777777778,
             "#fb9f3a"
            ],
            [
             0.8888888888888888,
             "#fdca26"
            ],
            [
             1,
             "#f0f921"
            ]
           ],
           "sequentialminus": [
            [
             0,
             "#0d0887"
            ],
            [
             0.1111111111111111,
             "#46039f"
            ],
            [
             0.2222222222222222,
             "#7201a8"
            ],
            [
             0.3333333333333333,
             "#9c179e"
            ],
            [
             0.4444444444444444,
             "#bd3786"
            ],
            [
             0.5555555555555556,
             "#d8576b"
            ],
            [
             0.6666666666666666,
             "#ed7953"
            ],
            [
             0.7777777777777778,
             "#fb9f3a"
            ],
            [
             0.8888888888888888,
             "#fdca26"
            ],
            [
             1,
             "#f0f921"
            ]
           ]
          },
          "colorway": [
           "#636efa",
           "#EF553B",
           "#00cc96",
           "#ab63fa",
           "#FFA15A",
           "#19d3f3",
           "#FF6692",
           "#B6E880",
           "#FF97FF",
           "#FECB52"
          ],
          "font": {
           "color": "#2a3f5f"
          },
          "geo": {
           "bgcolor": "white",
           "lakecolor": "white",
           "landcolor": "#E5ECF6",
           "showlakes": true,
           "showland": true,
           "subunitcolor": "white"
          },
          "hoverlabel": {
           "align": "left"
          },
          "hovermode": "closest",
          "mapbox": {
           "style": "light"
          },
          "paper_bgcolor": "white",
          "plot_bgcolor": "#E5ECF6",
          "polar": {
           "angularaxis": {
            "gridcolor": "white",
            "linecolor": "white",
            "ticks": ""
           },
           "bgcolor": "#E5ECF6",
           "radialaxis": {
            "gridcolor": "white",
            "linecolor": "white",
            "ticks": ""
           }
          },
          "scene": {
           "xaxis": {
            "backgroundcolor": "#E5ECF6",
            "gridcolor": "white",
            "gridwidth": 2,
            "linecolor": "white",
            "showbackground": true,
            "ticks": "",
            "zerolinecolor": "white"
           },
           "yaxis": {
            "backgroundcolor": "#E5ECF6",
            "gridcolor": "white",
            "gridwidth": 2,
            "linecolor": "white",
            "showbackground": true,
            "ticks": "",
            "zerolinecolor": "white"
           },
           "zaxis": {
            "backgroundcolor": "#E5ECF6",
            "gridcolor": "white",
            "gridwidth": 2,
            "linecolor": "white",
            "showbackground": true,
            "ticks": "",
            "zerolinecolor": "white"
           }
          },
          "shapedefaults": {
           "line": {
            "color": "#2a3f5f"
           }
          },
          "ternary": {
           "aaxis": {
            "gridcolor": "white",
            "linecolor": "white",
            "ticks": ""
           },
           "baxis": {
            "gridcolor": "white",
            "linecolor": "white",
            "ticks": ""
           },
           "bgcolor": "#E5ECF6",
           "caxis": {
            "gridcolor": "white",
            "linecolor": "white",
            "ticks": ""
           }
          },
          "title": {
           "x": 0.05
          },
          "xaxis": {
           "automargin": true,
           "gridcolor": "white",
           "linecolor": "white",
           "ticks": "",
           "title": {
            "standoff": 15
           },
           "zerolinecolor": "white",
           "zerolinewidth": 2
          },
          "yaxis": {
           "automargin": true,
           "gridcolor": "white",
           "linecolor": "white",
           "ticks": "",
           "title": {
            "standoff": 15
           },
           "zerolinecolor": "white",
           "zerolinewidth": 2
          }
         }
        },
        "title": {
         "text": "4 years Schools tuition evolution"
        },
        "transition": {
         "duration": 2000
        },
        "updatemenus": [
         {
          "buttons": [
           {
            "args": [
             null,
             {
              "frame": {
               "duration": 500,
               "redraw": true
              },
              "fromcurrent": true,
              "mode": "immediate",
              "transition": {
               "duration": 500,
               "easing": "linear"
              }
             }
            ],
            "label": "&#9654;",
            "method": "animate"
           },
           {
            "args": [
             [
              null
             ],
             {
              "frame": {
               "duration": 0,
               "redraw": true
              },
              "fromcurrent": true,
              "mode": "immediate",
              "transition": {
               "duration": 0,
               "easing": "linear"
              }
             }
            ],
            "label": "&#9724;",
            "method": "animate"
           }
          ],
          "direction": "left",
          "pad": {
           "r": 10,
           "t": 70
          },
          "showactive": false,
          "type": "buttons",
          "x": 0.1,
          "xanchor": "right",
          "y": 0,
          "yanchor": "top"
         }
        ],
        "width": 800
       }
      }
     },
     "metadata": {},
     "output_type": "display_data"
    }
   ],
   "source": [
    "import plotly.express as px\n",
    "column_selected = \"Tuition\"\n",
    "\n",
    "map_figure = px.choropleth(\n",
    "    data_frame=df,\n",
    "    locations='State_Code',\n",
    "    locationmode='USA-states',\n",
    "    color=column_selected,\n",
    "    animation_frame='Year',\n",
    "    color_continuous_scale='YlOrRd',\n",
    "    range_color=(df[column_selected].min(), df[column_selected].max()),\n",
    "    title='4 years Schools tuition evolution',\n",
    "    labels={'Tuition ($)': column_selected},\n",
    "    hover_name = \"State\",\n",
    "    hover_data = [\"Tuition\"]\n",
    "\n",
    ")\n",
    "\n",
    "map_figure.update_geos(showframe=False, showcoastlines=False, projection_type='albers usa', showocean=True, oceancolor=\"LightBlue\")\n",
    "map_figure.update_layout(\n",
    "    width=800,\n",
    "    height=600,\n",
    "    transition_duration=2000\n",
    ")\n",
    "map_figure.write_html(\"../../../graphs/html/three/three-map.html\")\n",
    "map_figure.show()"
   ]
  },
  {
   "cell_type": "code",
   "execution_count": 9,
   "metadata": {},
   "outputs": [
    {
     "name": "stdout",
     "output_type": "stream",
     "text": [
      "F-Statistic: 21.1572536358935\n",
      "P-Value: 7.566962007873423e-122\n"
     ]
    }
   ],
   "source": [
    "#performing one way ANOVA\n",
    "\n",
    "# Null hypothesis: Groups means are equal (no variation in means of groups)\n",
    "# H0: μ1=μ2=…=μp\n",
    "# Alternative hypothesis: At least, one group mean is different from other groups\n",
    "# H1: All μ are not equal\n",
    "\n",
    "\n",
    "from scipy.stats import f_oneway\n",
    "\n",
    "groups = df['State'].unique()\n",
    "group_data = [df[df['State'] == group]['Tuition'] for group in groups]\n",
    "\n",
    "# Perform ANOVA\n",
    "f_statistic, p_value = f_oneway(*group_data)\n",
    "\n",
    "print(\"F-Statistic:\", f_statistic)\n",
    "print(\"P-Value:\", p_value)"
   ]
  },
  {
   "cell_type": "code",
   "execution_count": 10,
   "metadata": {},
   "outputs": [],
   "source": [
    "from statsmodels.stats.multicomp import pairwise_tukeyhsd\n",
    "tukey_results = pairwise_tukeyhsd(df['Tuition'], df['State'])\n",
    "# Convert Tukey's HSD results to DataFrame\n"
   ]
  },
  {
   "cell_type": "code",
   "execution_count": 11,
   "metadata": {},
   "outputs": [
    {
     "name": "stdout",
     "output_type": "stream",
     "text": [
      "                  Multiple Comparison of Means - Tukey HSD, FWER=0.05                  \n",
      "=======================================================================================\n",
      "       group1               group2        meandiff p-adj     lower      upper    reject\n",
      "---------------------------------------------------------------------------------------\n",
      "             Alabama               Alaska -2291.15 0.3139  -5004.7862   422.4862  False\n",
      "             Alabama              Arizona   493.05    1.0  -2220.5862  3206.6862  False\n",
      "             Alabama             Arkansas  -1280.1 0.9998  -3993.7362  1433.5362  False\n",
      "             Alabama           California   -495.6    1.0  -3209.2362  2218.0362  False\n",
      "             Alabama             Colorado     50.9    1.0  -2662.7362  2764.5362  False\n",
      "             Alabama          Connecticut   2155.5 0.4741   -558.1362  4869.1362  False\n",
      "             Alabama             Delaware   2271.5 0.3352   -442.1362  4985.1362  False\n",
      "             Alabama District of Columbia -2058.45 0.5998  -4772.0862   655.1862  False\n",
      "             Alabama              Florida  -3241.4  0.002  -5955.0362  -527.7638   True\n",
      "             Alabama              Georgia -1719.35  0.933  -4432.9862   994.2862  False\n",
      "             Alabama               Hawaii  -176.05    1.0  -2889.6862  2537.5862  False\n",
      "             Alabama                Idaho  -2390.5 0.2188  -5104.1362   323.1362  False\n",
      "             Alabama             Illinois   3312.9 0.0012    599.2638  6026.5362   True\n",
      "             Alabama              Indiana  -114.55    1.0  -2828.1862  2599.0862  False\n",
      "             Alabama                 Iowa  -756.05    1.0  -3469.6862  1957.5862  False\n",
      "             Alabama               Kansas  -1057.7    1.0  -3771.3362  1655.9362  False\n",
      "             Alabama             Kentucky    75.95    1.0  -2637.6862  2789.5862  False\n",
      "             Alabama            Louisiana  -1680.1 0.9513  -4393.7362  1033.5362  False\n",
      "             Alabama                Maine   541.45    1.0  -2172.1862  3255.0862  False\n",
      "             Alabama             Maryland     88.6    1.0  -2625.0362  2802.2362  False\n",
      "             Alabama        Massachusetts  2376.55 0.2308   -337.0862  5090.1862  False\n",
      "             Alabama             Michigan   2722.8 0.0477      9.1638  5436.4362   True\n",
      "             Alabama            Minnesota  1568.25 0.9835  -1145.3862  4281.8862  False\n",
      "             Alabama          Mississippi -1963.35  0.719  -4676.9862   750.2862  False\n",
      "             Alabama             Missouri  -450.15    1.0  -3163.7862  2263.4862  False\n",
      "             Alabama              Montana -2399.95 0.2109  -5113.5862   313.6862  False\n",
      "             Alabama             Nebraska  -1338.2 0.9993  -4051.8362  1375.4362  False\n",
      "             Alabama               Nevada -2459.45 0.1657  -5173.0862   254.1862  False\n",
      "             Alabama        New Hampshire  5110.75    0.0   2397.1138  7824.3862   True\n",
      "             Alabama           New Jersey   3871.9    0.0   1158.2638  6585.5362   True\n",
      "             Alabama           New Mexico -2498.25 0.1404  -5211.8862   215.3862  False\n",
      "             Alabama             New York  -1745.9 0.9181  -4459.5362   967.7362  False\n",
      "             Alabama       North Carolina -2614.65 0.0822  -5328.2862    98.9862  False\n",
      "             Alabama         North Dakota -1091.45    1.0  -3805.0862  1622.1862  False\n",
      "             Alabama                 Ohio  1425.95 0.9973  -1287.6862  4139.5862  False\n",
      "             Alabama             Oklahoma -1698.95  0.943  -4412.5862  1014.6862  False\n",
      "             Alabama               Oregon    286.0    1.0  -2427.6362  2999.6362  False\n",
      "             Alabama         Pennsylvania   3992.3    0.0   1278.6638  6705.9362   True\n",
      "             Alabama         Rhode Island  2018.55  0.651   -695.0862  4732.1862  False\n",
      "             Alabama       South Carolina   2255.8 0.3527   -457.8362  4969.4362  False\n",
      "             Alabama         South Dakota  -1345.6 0.9993  -4059.2362  1368.0362  False\n",
      "             Alabama            Tennessee   -590.4    1.0  -3304.0362  2123.2362  False\n",
      "             Alabama                Texas   -27.75    1.0  -2741.3862  2685.8862  False\n",
      "             Alabama                 Utah -2867.65 0.0215  -5581.2862  -154.0138   True\n",
      "             Alabama              Vermont  5382.65    0.0   2669.0138  8096.2862   True\n",
      "             Alabama             Virginia  1981.95 0.6966   -731.6862  4695.5862  False\n",
      "             Alabama           Washington    294.5    1.0  -2419.1362  3008.1362  False\n",
      "             Alabama        West Virginia -2129.95 0.5069  -4843.5862   583.6862  False\n",
      "             Alabama            Wisconsin   -571.9    1.0  -3285.5362  2141.7362  False\n",
      "             Alabama              Wyoming  -3954.4    0.0  -6668.0362 -1240.7638   True\n",
      "              Alaska              Arizona   2784.2 0.0343     70.5638  5497.8362   True\n",
      "              Alaska             Arkansas  1011.05    1.0  -1702.5862  3724.6862  False\n",
      "              Alaska           California  1795.55 0.8846   -918.0862  4509.1862  False\n",
      "              Alaska             Colorado  2342.05 0.2625   -371.5862  5055.6862  False\n",
      "              Alaska          Connecticut  4446.65    0.0   1733.0138  7160.2862   True\n",
      "              Alaska             Delaware  4562.65    0.0   1849.0138  7276.2862   True\n",
      "              Alaska District of Columbia    232.7    1.0  -2480.9362  2946.3362  False\n",
      "              Alaska              Florida  -950.25    1.0  -3663.8862  1763.3862  False\n",
      "              Alaska              Georgia    571.8    1.0  -2141.8362  3285.4362  False\n",
      "              Alaska               Hawaii   2115.1 0.5261   -598.5362  4828.7362  False\n",
      "              Alaska                Idaho   -99.35    1.0  -2812.9862  2614.2862  False\n",
      "              Alaska             Illinois  5604.05    0.0   2890.4138  8317.6862   True\n",
      "              Alaska              Indiana   2176.6 0.4475   -537.0362  4890.2362  False\n",
      "              Alaska                 Iowa   1535.1 0.9887  -1178.5362  4248.7362  False\n",
      "              Alaska               Kansas  1233.45 0.9999  -1480.1862  3947.0862  False\n",
      "              Alaska             Kentucky   2367.1 0.2392   -346.5362  5080.7362  False\n",
      "              Alaska            Louisiana   611.05    1.0  -2102.5862  3324.6862  False\n",
      "              Alaska                Maine   2832.6 0.0262    118.9638  5546.2362   True\n",
      "              Alaska             Maryland  2379.75 0.2281   -333.8862  5093.3862  False\n",
      "              Alaska        Massachusetts   4667.7    0.0   1954.0638  7381.3362   True\n",
      "              Alaska             Michigan  5013.95    0.0   2300.3138  7727.5862   True\n",
      "              Alaska            Minnesota   3859.4    0.0   1145.7638  6573.0362   True\n",
      "              Alaska          Mississippi    327.8    1.0  -2385.8362  3041.4362  False\n",
      "              Alaska             Missouri   1841.0 0.8474   -872.6362  4554.6362  False\n",
      "              Alaska              Montana   -108.8    1.0  -2822.4362  2604.8362  False\n",
      "              Alaska             Nebraska   952.95    1.0  -1760.6862  3666.5862  False\n",
      "              Alaska               Nevada   -168.3    1.0  -2881.9362  2545.3362  False\n",
      "              Alaska        New Hampshire   7401.9    0.0   4688.2638 10115.5362   True\n",
      "              Alaska           New Jersey  6163.05    0.0   3449.4138  8876.6862   True\n",
      "              Alaska           New Mexico   -207.1    1.0  -2920.7362  2506.5362  False\n",
      "              Alaska             New York   545.25    1.0  -2168.3862  3258.8862  False\n",
      "              Alaska       North Carolina   -323.5    1.0  -3037.1362  2390.1362  False\n",
      "              Alaska         North Dakota   1199.7    1.0  -1513.9362  3913.3362  False\n",
      "              Alaska                 Ohio   3717.1 0.0001   1003.4638  6430.7362   True\n",
      "              Alaska             Oklahoma    592.2    1.0  -2121.4362  3305.8362  False\n",
      "              Alaska               Oregon  2577.15 0.0983   -136.4862  5290.7862  False\n",
      "              Alaska         Pennsylvania  6283.45    0.0   3569.8138  8997.0862   True\n",
      "              Alaska         Rhode Island   4309.7    0.0   1596.0638  7023.3362   True\n",
      "              Alaska       South Carolina  4546.95    0.0   1833.3138  7260.5862   True\n",
      "              Alaska         South Dakota   945.55    1.0  -1768.0862  3659.1862  False\n",
      "              Alaska            Tennessee  1700.75 0.9422  -1012.8862  4414.3862  False\n",
      "              Alaska                Texas   2263.4 0.3442   -450.2362  4977.0362  False\n",
      "              Alaska                 Utah   -576.5    1.0  -3290.1362  2137.1362  False\n",
      "              Alaska              Vermont   7673.8    0.0   4960.1638 10387.4362   True\n",
      "              Alaska             Virginia   4273.1    0.0   1559.4638  6986.7362   True\n",
      "              Alaska           Washington  2585.65 0.0945   -127.9862  5299.2862  False\n",
      "              Alaska        West Virginia    161.2    1.0  -2552.4362  2874.8362  False\n",
      "              Alaska            Wisconsin  1719.25  0.933   -994.3862  4432.8862  False\n",
      "              Alaska              Wyoming -1663.25  0.958  -4376.8862  1050.3862  False\n",
      "             Arizona             Arkansas -1773.15 0.9006  -4486.7862   940.4862  False\n",
      "             Arizona           California  -988.65    1.0  -3702.2862  1724.9862  False\n",
      "             Arizona             Colorado  -442.15    1.0  -3155.7862  2271.4862  False\n",
      "             Arizona          Connecticut  1662.45 0.9583  -1051.1862  4376.0862  False\n",
      "             Arizona             Delaware  1778.45  0.897   -935.1862  4492.0862  False\n",
      "             Arizona District of Columbia  -2551.5 0.1107  -5265.1362   162.1362  False\n",
      "             Arizona              Florida -3734.45 0.0001  -6448.0862 -1020.8138   True\n",
      "             Arizona              Georgia  -2212.4 0.4035  -4926.0362   501.2362  False\n",
      "             Arizona               Hawaii   -669.1    1.0  -3382.7362  2044.5362  False\n",
      "             Arizona                Idaho -2883.55 0.0196  -5597.1862  -169.9138   True\n",
      "             Arizona             Illinois  2819.85 0.0282    106.2138  5533.4862   True\n",
      "             Arizona              Indiana   -607.6    1.0  -3321.2362  2106.0362  False\n",
      "             Arizona                 Iowa  -1249.1 0.9999  -3962.7362  1464.5362  False\n",
      "             Arizona               Kansas -1550.75 0.9864  -4264.3862  1162.8862  False\n",
      "             Arizona             Kentucky   -417.1    1.0  -3130.7362  2296.5362  False\n",
      "             Arizona            Louisiana -2173.15 0.4518  -4886.7862   540.4862  False\n",
      "             Arizona                Maine     48.4    1.0  -2665.2362  2762.0362  False\n",
      "             Arizona             Maryland  -404.45    1.0  -3118.0862  2309.1862  False\n",
      "             Arizona        Massachusetts   1883.5 0.8071   -830.1362  4597.1362  False\n",
      "             Arizona             Michigan  2229.75 0.3828   -483.8862  4943.3862  False\n",
      "             Arizona            Minnesota   1075.2    1.0  -1638.4362  3788.8362  False\n",
      "             Arizona          Mississippi  -2456.4 0.1679  -5170.0362   257.2362  False\n",
      "             Arizona             Missouri   -943.2    1.0  -3656.8362  1770.4362  False\n",
      "             Arizona              Montana  -2893.0 0.0186  -5606.6362  -179.3638   True\n",
      "             Arizona             Nebraska -1831.25 0.8559  -4544.8862   882.3862  False\n",
      "             Arizona               Nevada  -2952.5  0.013  -5666.1362  -238.8638   True\n",
      "             Arizona        New Hampshire   4617.7    0.0   1904.0638  7331.3362   True\n",
      "             Arizona           New Jersey  3378.85 0.0008    665.2138  6092.4862   True\n",
      "             Arizona           New Mexico  -2991.3 0.0103  -5704.9362  -277.6638   True\n",
      "             Arizona             New York -2238.95  0.372  -4952.5862   474.6862  False\n",
      "             Arizona       North Carolina  -3107.7 0.0049  -5821.3362  -394.0638   True\n",
      "             Arizona         North Dakota  -1584.5 0.9804  -4298.1362  1129.1362  False\n",
      "             Arizona                 Ohio    932.9    1.0  -1780.7362  3646.5362  False\n",
      "             Arizona             Oklahoma  -2192.0 0.4283  -4905.6362   521.6362  False\n",
      "             Arizona               Oregon  -207.05    1.0  -2920.6862  2506.5862  False\n",
      "             Arizona         Pennsylvania  3499.25 0.0003    785.6138  6212.8862   True\n",
      "             Arizona         Rhode Island   1525.5 0.9899  -1188.1362  4239.1362  False\n",
      "             Arizona       South Carolina  1762.75 0.9076   -950.8862  4476.3862  False\n",
      "             Arizona         South Dakota -1838.65 0.8494  -4552.2862   874.9862  False\n",
      "             Arizona            Tennessee -1083.45    1.0  -3797.0862  1630.1862  False\n",
      "             Arizona                Texas   -520.8    1.0  -3234.4362  2192.8362  False\n",
      "             Arizona                 Utah  -3360.7 0.0009  -6074.3362  -647.0638   True\n",
      "             Arizona              Vermont   4889.6    0.0   2175.9638  7603.2362   True\n",
      "             Arizona             Virginia   1488.9 0.9936  -1224.7362  4202.5362  False\n",
      "             Arizona           Washington  -198.55    1.0  -2912.1862  2515.0862  False\n",
      "             Arizona        West Virginia  -2623.0  0.079  -5336.6362    90.6362  False\n",
      "             Arizona            Wisconsin -1064.95    1.0  -3778.5862  1648.6862  False\n",
      "             Arizona              Wyoming -4447.45    0.0  -7161.0862 -1733.8138   True\n",
      "            Arkansas           California    784.5    1.0  -1929.1362  3498.1362  False\n",
      "            Arkansas             Colorado   1331.0 0.9994  -1382.6362  4044.6362  False\n",
      "            Arkansas          Connecticut   3435.6 0.0005    721.9638  6149.2362   True\n",
      "            Arkansas             Delaware   3551.6 0.0002    837.9638  6265.2362   True\n",
      "            Arkansas District of Columbia  -778.35    1.0  -3491.9862  1935.2862  False\n",
      "            Arkansas              Florida  -1961.3 0.7214  -4674.9362   752.3362  False\n",
      "            Arkansas              Georgia  -439.25    1.0  -3152.8862  2274.3862  False\n",
      "            Arkansas               Hawaii  1104.05    1.0  -1609.5862  3817.6862  False\n",
      "            Arkansas                Idaho  -1110.4    1.0  -3824.0362  1603.2362  False\n",
      "            Arkansas             Illinois   4593.0    0.0   1879.3638  7306.6362   True\n",
      "            Arkansas              Indiana  1165.55    1.0  -1548.0862  3879.1862  False\n",
      "            Arkansas                 Iowa   524.05    1.0  -2189.5862  3237.6862  False\n",
      "            Arkansas               Kansas    222.4    1.0  -2491.2362  2936.0362  False\n",
      "            Arkansas             Kentucky  1356.05 0.9991  -1357.5862  4069.6862  False\n",
      "            Arkansas            Louisiana   -400.0    1.0  -3113.6362  2313.6362  False\n",
      "            Arkansas                Maine  1821.55 0.8641   -892.0862  4535.1862  False\n",
      "            Arkansas             Maryland   1368.7 0.9989  -1344.9362  4082.3362  False\n",
      "            Arkansas        Massachusetts  3656.65 0.0001    943.0138  6370.2862   True\n",
      "            Arkansas             Michigan   4002.9    0.0   1289.2638  6716.5362   True\n",
      "            Arkansas            Minnesota  2848.35  0.024    134.7138  5561.9862   True\n",
      "            Arkansas          Mississippi  -683.25    1.0  -3396.8862  2030.3862  False\n",
      "            Arkansas             Missouri   829.95    1.0  -1883.6862  3543.5862  False\n",
      "            Arkansas              Montana -1119.85    1.0  -3833.4862  1593.7862  False\n",
      "            Arkansas             Nebraska    -58.1    1.0  -2771.7362  2655.5362  False\n",
      "            Arkansas               Nevada -1179.35    1.0  -3892.9862  1534.2862  False\n",
      "            Arkansas        New Hampshire  6390.85    0.0   3677.2138  9104.4862   True\n",
      "            Arkansas           New Jersey   5152.0    0.0   2438.3638  7865.6362   True\n",
      "            Arkansas           New Mexico -1218.15 0.9999  -3931.7862  1495.4862  False\n",
      "            Arkansas             New York   -465.8    1.0  -3179.4362  2247.8362  False\n",
      "            Arkansas       North Carolina -1334.55 0.9994  -4048.1862  1379.0862  False\n",
      "            Arkansas         North Dakota   188.65    1.0  -2524.9862  2902.2862  False\n",
      "            Arkansas                 Ohio  2706.05  0.052     -7.5862  5419.6862  False\n",
      "            Arkansas             Oklahoma  -418.85    1.0  -3132.4862  2294.7862  False\n",
      "            Arkansas               Oregon   1566.1 0.9839  -1147.5362  4279.7362  False\n",
      "            Arkansas         Pennsylvania   5272.4    0.0   2558.7638  7986.0362   True\n",
      "            Arkansas         Rhode Island  3298.65 0.0014    585.0138  6012.2862   True\n",
      "            Arkansas       South Carolina   3535.9 0.0002    822.2638  6249.5362   True\n",
      "            Arkansas         South Dakota    -65.5    1.0  -2779.1362  2648.1362  False\n",
      "            Arkansas            Tennessee    689.7    1.0  -2023.9362  3403.3362  False\n",
      "            Arkansas                Texas  1252.35 0.9999  -1461.2862  3965.9862  False\n",
      "            Arkansas                 Utah -1587.55 0.9797  -4301.1862  1126.0862  False\n",
      "            Arkansas              Vermont  6662.75    0.0   3949.1138  9376.3862   True\n",
      "            Arkansas             Virginia  3262.05 0.0018    548.4138  5975.6862   True\n",
      "            Arkansas           Washington   1574.6 0.9824  -1139.0362  4288.2362  False\n",
      "            Arkansas        West Virginia  -849.85    1.0  -3563.4862  1863.7862  False\n",
      "            Arkansas            Wisconsin    708.2    1.0  -2005.4362  3421.8362  False\n",
      "            Arkansas              Wyoming  -2674.3 0.0612  -5387.9362    39.3362  False\n",
      "          California             Colorado    546.5    1.0  -2167.1362  3260.1362  False\n",
      "          California          Connecticut   2651.1 0.0688    -62.5362  5364.7362  False\n",
      "          California             Delaware   2767.1 0.0376     53.4638  5480.7362   True\n",
      "          California District of Columbia -1562.85 0.9845  -4276.4862  1150.7862  False\n",
      "          California              Florida  -2745.8 0.0422  -5459.4362   -32.1638   True\n",
      "          California              Georgia -1223.75 0.9999  -3937.3862  1489.8862  False\n",
      "          California               Hawaii   319.55    1.0  -2394.0862  3033.1862  False\n",
      "          California                Idaho  -1894.9 0.7954  -4608.5362   818.7362  False\n",
      "          California             Illinois   3808.5    0.0   1094.8638  6522.1362   True\n",
      "          California              Indiana   381.05    1.0  -2332.5862  3094.6862  False\n",
      "          California                 Iowa  -260.45    1.0  -2974.0862  2453.1862  False\n",
      "          California               Kansas   -562.1    1.0  -3275.7362  2151.5362  False\n",
      "          California             Kentucky   571.55    1.0  -2142.0862  3285.1862  False\n",
      "          California            Louisiana  -1184.5    1.0  -3898.1362  1529.1362  False\n",
      "          California                Maine  1037.05    1.0  -1676.5862  3750.6862  False\n",
      "          California             Maryland    584.2    1.0  -2129.4362  3297.8362  False\n",
      "          California        Massachusetts  2872.15 0.0209    158.5138  5585.7862   True\n",
      "          California             Michigan   3218.4 0.0024    504.7638  5932.0362   True\n",
      "          California            Minnesota  2063.85 0.5928   -649.7862  4777.4862  False\n",
      "          California          Mississippi -1467.75 0.9952  -4181.3862  1245.8862  False\n",
      "          California             Missouri    45.45    1.0  -2668.1862  2759.0862  False\n",
      "          California              Montana -1904.35 0.7855  -4617.9862   809.2862  False\n",
      "          California             Nebraska   -842.6    1.0  -3556.2362  1871.0362  False\n",
      "          California               Nevada -1963.85 0.7184  -4677.4862   749.7862  False\n",
      "          California        New Hampshire  5606.35    0.0   2892.7138  8319.9862   True\n",
      "          California           New Jersey   4367.5    0.0   1653.8638  7081.1362   True\n",
      "          California           New Mexico -2002.65  0.671  -4716.2862   710.9862  False\n",
      "          California             New York  -1250.3 0.9999  -3963.9362  1463.3362  False\n",
      "          California       North Carolina -2119.05  0.521  -4832.6862   594.5862  False\n",
      "          California         North Dakota  -595.85    1.0  -3309.4862  2117.7862  False\n",
      "          California                 Ohio  1921.55 0.7669   -792.0862  4635.1862  False\n",
      "          California             Oklahoma -1203.35    1.0  -3916.9862  1510.2862  False\n",
      "          California               Oregon    781.6    1.0  -1932.0362  3495.2362  False\n",
      "          California         Pennsylvania   4487.9    0.0   1774.2638  7201.5362   True\n",
      "          California         Rhode Island  2514.15  0.131   -199.4862  5227.7862  False\n",
      "          California       South Carolina   2751.4  0.041     37.7638  5465.0362   True\n",
      "          California         South Dakota   -850.0    1.0  -3563.6362  1863.6362  False\n",
      "          California            Tennessee    -94.8    1.0  -2808.4362  2618.8362  False\n",
      "          California                Texas   467.85    1.0  -2245.7862  3181.4862  False\n",
      "          California                 Utah -2372.05 0.2348  -5085.6862   341.5862  False\n",
      "          California              Vermont  5878.25    0.0   3164.6138  8591.8862   True\n",
      "          California             Virginia  2477.55 0.1535   -236.0862  5191.1862  False\n",
      "          California           Washington    790.1    1.0  -1923.5362  3503.7362  False\n",
      "          California        West Virginia -1634.35 0.9677  -4347.9862  1079.2862  False\n",
      "          California            Wisconsin    -76.3    1.0  -2789.9362  2637.3362  False\n",
      "          California              Wyoming  -3458.8 0.0004  -6172.4362  -745.1638   True\n",
      "            Colorado          Connecticut   2104.6 0.5398   -609.0362  4818.2362  False\n",
      "            Colorado             Delaware   2220.6 0.3936   -493.0362  4934.2362  False\n",
      "            Colorado District of Columbia -2109.35 0.5336  -4822.9862   604.2862  False\n",
      "            Colorado              Florida  -3292.3 0.0014  -6005.9362  -578.6638   True\n",
      "            Colorado              Georgia -1770.25 0.9026  -4483.8862   943.3862  False\n",
      "            Colorado               Hawaii  -226.95    1.0  -2940.5862  2486.6862  False\n",
      "            Colorado                Idaho  -2441.4 0.1786  -5155.0362   272.2362  False\n",
      "            Colorado             Illinois   3262.0 0.0018    548.3638  5975.6362   True\n",
      "            Colorado              Indiana  -165.45    1.0  -2879.0862  2548.1862  False\n",
      "            Colorado                 Iowa  -806.95    1.0  -3520.5862  1906.6862  False\n",
      "            Colorado               Kansas  -1108.6    1.0  -3822.2362  1605.0362  False\n",
      "            Colorado             Kentucky    25.05    1.0  -2688.5862  2738.6862  False\n",
      "            Colorado            Louisiana  -1731.0 0.9267  -4444.6362   982.6362  False\n",
      "            Colorado                Maine   490.55    1.0  -2223.0862  3204.1862  False\n",
      "            Colorado             Maryland     37.7    1.0  -2675.9362  2751.3362  False\n",
      "            Colorado        Massachusetts  2325.65 0.2784   -387.9862  5039.2862  False\n",
      "            Colorado             Michigan   2671.9 0.0619    -41.7362  5385.5362  False\n",
      "            Colorado            Minnesota  1517.35 0.9908  -1196.2862  4230.9862  False\n",
      "            Colorado          Mississippi -2014.25 0.6565  -4727.8862   699.3862  False\n",
      "            Colorado             Missouri  -501.05    1.0  -3214.6862  2212.5862  False\n",
      "            Colorado              Montana -2450.85 0.1718  -5164.4862   262.7862  False\n",
      "            Colorado             Nebraska  -1389.1 0.9985  -4102.7362  1324.5362  False\n",
      "            Colorado               Nevada -2510.35 0.1332  -5223.9862   203.2862  False\n",
      "            Colorado        New Hampshire  5059.85    0.0   2346.2138  7773.4862   True\n",
      "            Colorado           New Jersey   3821.0    0.0   1107.3638  6534.6362   True\n",
      "            Colorado           New Mexico -2549.15 0.1119  -5262.7862   164.4862  False\n",
      "            Colorado             New York  -1796.8 0.8836  -4510.4362   916.8362  False\n",
      "            Colorado       North Carolina -2665.55  0.064  -5379.1862    48.0862  False\n",
      "            Colorado         North Dakota -1142.35    1.0  -3855.9862  1571.2862  False\n",
      "            Colorado                 Ohio  1375.05 0.9988  -1338.5862  4088.6862  False\n",
      "            Colorado             Oklahoma -1749.85 0.9157  -4463.4862   963.7862  False\n",
      "            Colorado               Oregon    235.1    1.0  -2478.5362  2948.7362  False\n",
      "            Colorado         Pennsylvania   3941.4    0.0   1227.7638  6655.0362   True\n",
      "            Colorado         Rhode Island  1967.65 0.7139   -745.9862  4681.2862  False\n",
      "            Colorado       South Carolina   2204.9 0.4125   -508.7362  4918.5362  False\n",
      "            Colorado         South Dakota  -1396.5 0.9983  -4110.1362  1317.1362  False\n",
      "            Colorado            Tennessee   -641.3    1.0  -3354.9362  2072.3362  False\n",
      "            Colorado                Texas   -78.65    1.0  -2792.2862  2634.9862  False\n",
      "            Colorado                 Utah -2918.55  0.016  -5632.1862  -204.9138   True\n",
      "            Colorado              Vermont  5331.75    0.0   2618.1138  8045.3862   True\n",
      "            Colorado             Virginia  1931.05 0.7563   -782.5862  4644.6862  False\n",
      "            Colorado           Washington    243.6    1.0  -2470.0362  2957.2362  False\n",
      "            Colorado        West Virginia -2180.85 0.4422  -4894.4862   532.7862  False\n",
      "            Colorado            Wisconsin   -622.8    1.0  -3336.4362  2090.8362  False\n",
      "            Colorado              Wyoming  -4005.3    0.0  -6718.9362 -1291.6638   True\n",
      "         Connecticut             Delaware    116.0    1.0  -2597.6362  2829.6362  False\n",
      "         Connecticut District of Columbia -4213.95    0.0  -6927.5862 -1500.3138   True\n",
      "         Connecticut              Florida  -5396.9    0.0  -8110.5362 -2683.2638   True\n",
      "         Connecticut              Georgia -3874.85    0.0  -6588.4862 -1161.2138   True\n",
      "         Connecticut               Hawaii -2331.55 0.2726  -5045.1862   382.0862  False\n",
      "         Connecticut                Idaho  -4546.0    0.0  -7259.6362 -1832.3638   True\n",
      "         Connecticut             Illinois   1157.4    1.0  -1556.2362  3871.0362  False\n",
      "         Connecticut              Indiana -2270.05 0.3368  -4983.6862   443.5862  False\n",
      "         Connecticut                 Iowa -2911.55 0.0166  -5625.1862  -197.9138   True\n",
      "         Connecticut               Kansas  -3213.2 0.0025  -5926.8362  -499.5638   True\n",
      "         Connecticut             Kentucky -2079.55 0.5724  -4793.1862   634.0862  False\n",
      "         Connecticut            Louisiana  -3835.6    0.0  -6549.2362 -1121.9638   True\n",
      "         Connecticut                Maine -1614.05 0.9735  -4327.6862  1099.5862  False\n",
      "         Connecticut             Maryland  -2066.9 0.5888  -4780.5362   646.7362  False\n",
      "         Connecticut        Massachusetts   221.05    1.0  -2492.5862  2934.6862  False\n",
      "         Connecticut             Michigan    567.3    1.0  -2146.3362  3280.9362  False\n",
      "         Connecticut            Minnesota  -587.25    1.0  -3300.8862  2126.3862  False\n",
      "         Connecticut          Mississippi -4118.85    0.0  -6832.4862 -1405.2138   True\n",
      "         Connecticut             Missouri -2605.65 0.0859  -5319.2862   107.9862  False\n",
      "         Connecticut              Montana -4555.45    0.0  -7269.0862 -1841.8138   True\n",
      "         Connecticut             Nebraska  -3493.7 0.0003  -6207.3362  -780.0638   True\n",
      "         Connecticut               Nevada -4614.95    0.0  -7328.5862 -1901.3138   True\n",
      "         Connecticut        New Hampshire  2955.25 0.0128    241.6138  5668.8862   True\n",
      "         Connecticut           New Jersey   1716.4 0.9345   -997.2362  4430.0362  False\n",
      "         Connecticut           New Mexico -4653.75    0.0  -7367.3862 -1940.1138   True\n",
      "         Connecticut             New York  -3901.4    0.0  -6615.0362 -1187.7638   True\n",
      "         Connecticut       North Carolina -4770.15    0.0  -7483.7862 -2056.5138   True\n",
      "         Connecticut         North Dakota -3246.95  0.002  -5960.5862  -533.3138   True\n",
      "         Connecticut                 Ohio  -729.55    1.0  -3443.1862  1984.0862  False\n",
      "         Connecticut             Oklahoma -3854.45    0.0  -6568.0862 -1140.8138   True\n",
      "         Connecticut               Oregon  -1869.5 0.8209  -4583.1362   844.1362  False\n",
      "         Connecticut         Pennsylvania   1836.8 0.8511   -876.8362  4550.4362  False\n",
      "         Connecticut         Rhode Island  -136.95    1.0  -2850.5862  2576.6862  False\n",
      "         Connecticut       South Carolina    100.3    1.0  -2613.3362  2813.9362  False\n",
      "         Connecticut         South Dakota  -3501.1 0.0003  -6214.7362  -787.4638   True\n",
      "         Connecticut            Tennessee  -2745.9 0.0422  -5459.5362   -32.2638   True\n",
      "         Connecticut                Texas -2183.25 0.4392  -4896.8862   530.3862  False\n",
      "         Connecticut                 Utah -5023.15    0.0  -7736.7862 -2309.5138   True\n",
      "         Connecticut              Vermont  3227.15 0.0022    513.5138  5940.7862   True\n",
      "         Connecticut             Virginia  -173.55    1.0  -2887.1862  2540.0862  False\n",
      "         Connecticut           Washington  -1861.0  0.829  -4574.6362   852.6362  False\n",
      "         Connecticut        West Virginia -4285.45    0.0  -6999.0862 -1571.8138   True\n",
      "         Connecticut            Wisconsin  -2727.4 0.0465  -5441.0362   -13.7638   True\n",
      "         Connecticut              Wyoming  -6109.9    0.0  -8823.5362 -3396.2638   True\n",
      "            Delaware District of Columbia -4329.95    0.0  -7043.5862 -1616.3138   True\n",
      "            Delaware              Florida  -5512.9    0.0  -8226.5362 -2799.2638   True\n",
      "            Delaware              Georgia -3990.85    0.0  -6704.4862 -1277.2138   True\n",
      "            Delaware               Hawaii -2447.55 0.1742  -5161.1862   266.0862  False\n",
      "            Delaware                Idaho  -4662.0    0.0  -7375.6362 -1948.3638   True\n",
      "            Delaware             Illinois   1041.4    1.0  -1672.2362  3755.0362  False\n",
      "            Delaware              Indiana -2386.05 0.2226  -5099.6862   327.5862  False\n",
      "            Delaware                 Iowa -3027.55 0.0082  -5741.1862  -313.9138   True\n",
      "            Delaware               Kansas  -3329.2 0.0011  -6042.8362  -615.5638   True\n",
      "            Delaware             Kentucky -2195.55  0.424  -4909.1862   518.0862  False\n",
      "            Delaware            Louisiana  -3951.6    0.0  -6665.2362 -1237.9638   True\n",
      "            Delaware                Maine -1730.05 0.9272  -4443.6862   983.5862  False\n",
      "            Delaware             Maryland  -2182.9 0.4396  -4896.5362   530.7362  False\n",
      "            Delaware        Massachusetts   105.05    1.0  -2608.5862  2818.6862  False\n",
      "            Delaware             Michigan    451.3    1.0  -2262.3362  3164.9362  False\n",
      "            Delaware            Minnesota  -703.25    1.0  -3416.8862  2010.3862  False\n",
      "            Delaware          Mississippi -4234.85    0.0  -6948.4862 -1521.2138   True\n",
      "            Delaware             Missouri -2721.65 0.0479  -5435.2862    -8.0138   True\n",
      "            Delaware              Montana -4671.45    0.0  -7385.0862 -1957.8138   True\n",
      "            Delaware             Nebraska  -3609.7 0.0001  -6323.3362  -896.0638   True\n",
      "            Delaware               Nevada -4730.95    0.0  -7444.5862 -2017.3138   True\n",
      "            Delaware        New Hampshire  2839.25 0.0253    125.6138  5552.8862   True\n",
      "            Delaware           New Jersey   1600.4 0.9769  -1113.2362  4314.0362  False\n",
      "            Delaware           New Mexico -4769.75    0.0  -7483.3862 -2056.1138   True\n",
      "            Delaware             New York  -4017.4    0.0  -6731.0362 -1303.7638   True\n",
      "            Delaware       North Carolina -4886.15    0.0  -7599.7862 -2172.5138   True\n",
      "            Delaware         North Dakota -3362.95 0.0009  -6076.5862  -649.3138   True\n",
      "            Delaware                 Ohio  -845.55    1.0  -3559.1862  1868.0862  False\n",
      "            Delaware             Oklahoma -3970.45    0.0  -6684.0862 -1256.8138   True\n",
      "            Delaware               Oregon  -1985.5 0.6922  -4699.1362   728.1362  False\n",
      "            Delaware         Pennsylvania   1720.8 0.9322   -992.8362  4434.4362  False\n",
      "            Delaware         Rhode Island  -252.95    1.0  -2966.5862  2460.6862  False\n",
      "            Delaware       South Carolina    -15.7    1.0  -2729.3362  2697.9362  False\n",
      "            Delaware         South Dakota  -3617.1 0.0001  -6330.7362  -903.4638   True\n",
      "            Delaware            Tennessee  -2861.9 0.0222  -5575.5362  -148.2638   True\n",
      "            Delaware                Texas -2299.25 0.3053  -5012.8862   414.3862  False\n",
      "            Delaware                 Utah -5139.15    0.0  -7852.7862 -2425.5138   True\n",
      "            Delaware              Vermont  3111.15 0.0048    397.5138  5824.7862   True\n",
      "            Delaware             Virginia  -289.55    1.0  -3003.1862  2424.0862  False\n",
      "            Delaware           Washington  -1977.0 0.7026  -4690.6362   736.6362  False\n",
      "            Delaware        West Virginia -4401.45    0.0  -7115.0862 -1687.8138   True\n",
      "            Delaware            Wisconsin  -2843.4 0.0247  -5557.0362  -129.7638   True\n",
      "            Delaware              Wyoming  -6225.9    0.0  -8939.5362 -3512.2638   True\n",
      "District of Columbia              Florida -1182.95    1.0  -3896.5862  1530.6862  False\n",
      "District of Columbia              Georgia    339.1    1.0  -2374.5362  3052.7362  False\n",
      "District of Columbia               Hawaii   1882.4 0.8082   -831.2362  4596.0362  False\n",
      "District of Columbia                Idaho  -332.05    1.0  -3045.6862  2381.5862  False\n",
      "District of Columbia             Illinois  5371.35    0.0   2657.7138  8084.9862   True\n",
      "District of Columbia              Indiana   1943.9 0.7417   -769.7362  4657.5362  False\n",
      "District of Columbia                 Iowa   1302.4 0.9997  -1411.2362  4016.0362  False\n",
      "District of Columbia               Kansas  1000.75    1.0  -1712.8862  3714.3862  False\n",
      "District of Columbia             Kentucky   2134.4 0.5011   -579.2362  4848.0362  False\n",
      "District of Columbia            Louisiana   378.35    1.0  -2335.2862  3091.9862  False\n",
      "District of Columbia                Maine   2599.9 0.0883   -113.7362  5313.5362  False\n",
      "District of Columbia             Maryland  2147.05 0.4849   -566.5862  4860.6862  False\n",
      "District of Columbia        Massachusetts   4435.0    0.0   1721.3638  7148.6362   True\n",
      "District of Columbia             Michigan  4781.25    0.0   2067.6138  7494.8862   True\n",
      "District of Columbia            Minnesota   3626.7 0.0001    913.0638  6340.3362   True\n",
      "District of Columbia          Mississippi     95.1    1.0  -2618.5362  2808.7362  False\n",
      "District of Columbia             Missouri   1608.3  0.975  -1105.3362  4321.9362  False\n",
      "District of Columbia              Montana   -341.5    1.0  -3055.1362  2372.1362  False\n",
      "District of Columbia             Nebraska   720.25    1.0  -1993.3862  3433.8862  False\n",
      "District of Columbia               Nevada   -401.0    1.0  -3114.6362  2312.6362  False\n",
      "District of Columbia        New Hampshire   7169.2    0.0   4455.5638  9882.8362   True\n",
      "District of Columbia           New Jersey  5930.35    0.0   3216.7138  8643.9862   True\n",
      "District of Columbia           New Mexico   -439.8    1.0  -3153.4362  2273.8362  False\n",
      "District of Columbia             New York   312.55    1.0  -2401.0862  3026.1862  False\n",
      "District of Columbia       North Carolina   -556.2    1.0  -3269.8362  2157.4362  False\n",
      "District of Columbia         North Dakota    967.0    1.0  -1746.6362  3680.6362  False\n",
      "District of Columbia                 Ohio   3484.4 0.0004    770.7638  6198.0362   True\n",
      "District of Columbia             Oklahoma    359.5    1.0  -2354.1362  3073.1362  False\n",
      "District of Columbia               Oregon  2344.45 0.2602   -369.1862  5058.0862  False\n",
      "District of Columbia         Pennsylvania  6050.75    0.0   3337.1138  8764.3862   True\n",
      "District of Columbia         Rhode Island   4077.0    0.0   1363.3638  6790.6362   True\n",
      "District of Columbia       South Carolina  4314.25    0.0   1600.6138  7027.8862   True\n",
      "District of Columbia         South Dakota   712.85    1.0  -2000.7862  3426.4862  False\n",
      "District of Columbia            Tennessee  1468.05 0.9951  -1245.5862  4181.6862  False\n",
      "District of Columbia                Texas   2030.7 0.6356   -682.9362  4744.3362  False\n",
      "District of Columbia                 Utah   -809.2    1.0  -3522.8362  1904.4362  False\n",
      "District of Columbia              Vermont   7441.1    0.0   4727.4638 10154.7362   True\n",
      "District of Columbia             Virginia   4040.4    0.0   1326.7638  6754.0362   True\n",
      "District of Columbia           Washington  2352.95 0.2522   -360.6862  5066.5862  False\n",
      "District of Columbia        West Virginia    -71.5    1.0  -2785.1362  2642.1362  False\n",
      "District of Columbia            Wisconsin  1486.55 0.9938  -1227.0862  4200.1862  False\n",
      "District of Columbia              Wyoming -1895.95 0.7943  -4609.5862   817.6862  False\n",
      "             Florida              Georgia  1522.05 0.9903  -1191.5862  4235.6862  False\n",
      "             Florida               Hawaii  3065.35 0.0065    351.7138  5778.9862   True\n",
      "             Florida                Idaho    850.9    1.0  -1862.7362  3564.5362  False\n",
      "             Florida             Illinois   6554.3    0.0   3840.6638  9267.9362   True\n",
      "             Florida              Indiana  3126.85 0.0044    413.2138  5840.4862   True\n",
      "             Florida                 Iowa  2485.35 0.1485   -228.2862  5198.9862  False\n",
      "             Florida               Kansas   2183.7 0.4386   -529.9362  4897.3362  False\n",
      "             Florida             Kentucky  3317.35 0.0012    603.7138  6030.9862   True\n",
      "             Florida            Louisiana   1561.3 0.9847  -1152.3362  4274.9362  False\n",
      "             Florida                Maine  3782.85    0.0   1069.2138  6496.4862   True\n",
      "             Florida             Maryland   3330.0 0.0011    616.3638  6043.6362   True\n",
      "             Florida        Massachusetts  5617.95    0.0   2904.3138  8331.5862   True\n",
      "             Florida             Michigan   5964.2    0.0   3250.5638  8677.8362   True\n",
      "             Florida            Minnesota  4809.65    0.0   2096.0138  7523.2862   True\n",
      "             Florida          Mississippi  1278.05 0.9998  -1435.5862  3991.6862  False\n",
      "             Florida             Missouri  2791.25  0.033     77.6138  5504.8862   True\n",
      "             Florida              Montana   841.45    1.0  -1872.1862  3555.0862  False\n",
      "             Florida             Nebraska   1903.2 0.7867   -810.4362  4616.8362  False\n",
      "             Florida               Nevada   781.95    1.0  -1931.6862  3495.5862  False\n",
      "             Florida        New Hampshire  8352.15    0.0   5638.5138 11065.7862   True\n",
      "             Florida           New Jersey   7113.3    0.0   4399.6638  9826.9362   True\n",
      "             Florida           New Mexico   743.15    1.0  -1970.4862  3456.7862  False\n",
      "             Florida             New York   1495.5  0.993  -1218.1362  4209.1362  False\n",
      "             Florida       North Carolina   626.75    1.0  -2086.8862  3340.3862  False\n",
      "             Florida         North Dakota  2149.95 0.4812   -563.6862  4863.5862  False\n",
      "             Florida                 Ohio  4667.35    0.0   1953.7138  7380.9862   True\n",
      "             Florida             Oklahoma  1542.45 0.9877  -1171.1862  4256.0862  False\n",
      "             Florida               Oregon   3527.4 0.0003    813.7638  6241.0362   True\n",
      "             Florida         Pennsylvania   7233.7    0.0   4520.0638  9947.3362   True\n",
      "             Florida         Rhode Island  5259.95    0.0   2546.3138  7973.5862   True\n",
      "             Florida       South Carolina   5497.2    0.0   2783.5638  8210.8362   True\n",
      "             Florida         South Dakota   1895.8 0.7945   -817.8362  4609.4362  False\n",
      "             Florida            Tennessee   2651.0 0.0688    -62.6362  5364.6362  False\n",
      "             Florida                Texas  3213.65 0.0024    500.0138  5927.2862   True\n",
      "             Florida                 Utah   373.75    1.0  -2339.8862  3087.3862  False\n",
      "             Florida              Vermont  8624.05    0.0   5910.4138 11337.6862   True\n",
      "             Florida             Virginia  5223.35    0.0   2509.7138  7936.9862   True\n",
      "             Florida           Washington   3535.9 0.0002    822.2638  6249.5362   True\n",
      "             Florida        West Virginia  1111.45    1.0  -1602.1862  3825.0862  False\n",
      "             Florida            Wisconsin   2669.5 0.0627    -44.1362  5383.1362  False\n",
      "             Florida              Wyoming   -713.0    1.0  -3426.6362  2000.6362  False\n",
      "             Georgia               Hawaii   1543.3 0.9875  -1170.3362  4256.9362  False\n",
      "             Georgia                Idaho  -671.15    1.0  -3384.7862  2042.4862  False\n",
      "             Georgia             Illinois  5032.25    0.0   2318.6138  7745.8862   True\n",
      "             Georgia              Indiana   1604.8 0.9758  -1108.8362  4318.4362  False\n",
      "             Georgia                 Iowa    963.3    1.0  -1750.3362  3676.9362  False\n",
      "             Georgia               Kansas   661.65    1.0  -2051.9862  3375.2862  False\n",
      "             Georgia             Kentucky   1795.3 0.8848   -918.3362  4508.9362  False\n",
      "             Georgia            Louisiana    39.25    1.0  -2674.3862  2752.8862  False\n",
      "             Georgia                Maine   2260.8 0.3471   -452.8362  4974.4362  False\n",
      "             Georgia             Maryland  1807.95 0.8751   -905.6862  4521.5862  False\n",
      "             Georgia        Massachusetts   4095.9    0.0   1382.2638  6809.5362   True\n",
      "             Georgia             Michigan  4442.15    0.0   1728.5138  7155.7862   True\n",
      "             Georgia            Minnesota   3287.6 0.0015    573.9638  6001.2362   True\n",
      "             Georgia          Mississippi   -244.0    1.0  -2957.6362  2469.6362  False\n",
      "             Georgia             Missouri   1269.2 0.9998  -1444.4362  3982.8362  False\n",
      "             Georgia              Montana   -680.6    1.0  -3394.2362  2033.0362  False\n",
      "             Georgia             Nebraska   381.15    1.0  -2332.4862  3094.7862  False\n",
      "             Georgia               Nevada   -740.1    1.0  -3453.7362  1973.5362  False\n",
      "             Georgia        New Hampshire   6830.1    0.0   4116.4638  9543.7362   True\n",
      "             Georgia           New Jersey  5591.25    0.0   2877.6138  8304.8862   True\n",
      "             Georgia           New Mexico   -778.9    1.0  -3492.5362  1934.7362  False\n",
      "             Georgia             New York   -26.55    1.0  -2740.1862  2687.0862  False\n",
      "             Georgia       North Carolina   -895.3    1.0  -3608.9362  1818.3362  False\n",
      "             Georgia         North Dakota    627.9    1.0  -2085.7362  3341.5362  False\n",
      "             Georgia                 Ohio   3145.3 0.0039    431.6638  5858.9362   True\n",
      "             Georgia             Oklahoma     20.4    1.0  -2693.2362  2734.0362  False\n",
      "             Georgia               Oregon  2005.35 0.6676   -708.2862  4718.9862  False\n",
      "             Georgia         Pennsylvania  5711.65    0.0   2998.0138  8425.2862   True\n",
      "             Georgia         Rhode Island   3737.9    0.0   1024.2638  6451.5362   True\n",
      "             Georgia       South Carolina  3975.15    0.0   1261.5138  6688.7862   True\n",
      "             Georgia         South Dakota   373.75    1.0  -2339.8862  3087.3862  False\n",
      "             Georgia            Tennessee  1128.95    1.0  -1584.6862  3842.5862  False\n",
      "             Georgia                Texas   1691.6 0.9464  -1022.0362  4405.2362  False\n",
      "             Georgia                 Utah  -1148.3    1.0  -3861.9362  1565.3362  False\n",
      "             Georgia              Vermont   7102.0    0.0   4388.3638  9815.6362   True\n",
      "             Georgia             Virginia   3701.3 0.0001    987.6638  6414.9362   True\n",
      "             Georgia           Washington  2013.85  0.657   -699.7862  4727.4862  False\n",
      "             Georgia        West Virginia   -410.6    1.0  -3124.2362  2303.0362  False\n",
      "             Georgia            Wisconsin  1147.45    1.0  -1566.1862  3861.0862  False\n",
      "             Georgia              Wyoming -2235.05 0.3766  -4948.6862   478.5862  False\n",
      "              Hawaii                Idaho -2214.45  0.401  -4928.0862   499.1862  False\n",
      "              Hawaii             Illinois  3488.95 0.0003    775.3138  6202.5862   True\n",
      "              Hawaii              Indiana     61.5    1.0  -2652.1362  2775.1362  False\n",
      "              Hawaii                 Iowa   -580.0    1.0  -3293.6362  2133.6362  False\n",
      "              Hawaii               Kansas  -881.65    1.0  -3595.2862  1831.9862  False\n",
      "              Hawaii             Kentucky    252.0    1.0  -2461.6362  2965.6362  False\n",
      "              Hawaii            Louisiana -1504.05 0.9922  -4217.6862  1209.5862  False\n",
      "              Hawaii                Maine    717.5    1.0  -1996.1362  3431.1362  False\n",
      "              Hawaii             Maryland   264.65    1.0  -2448.9862  2978.2862  False\n",
      "              Hawaii        Massachusetts   2552.6 0.1101   -161.0362  5266.2362  False\n",
      "              Hawaii             Michigan  2898.85 0.0179    185.2138  5612.4862   True\n",
      "              Hawaii            Minnesota   1744.3  0.919   -969.3362  4457.9362  False\n",
      "              Hawaii          Mississippi  -1787.3 0.8907  -4500.9362   926.3362  False\n",
      "              Hawaii             Missouri   -274.1    1.0  -2987.7362  2439.5362  False\n",
      "              Hawaii              Montana  -2223.9 0.3897  -4937.5362   489.7362  False\n",
      "              Hawaii             Nebraska -1162.15    1.0  -3875.7862  1551.4862  False\n",
      "              Hawaii               Nevada  -2283.4 0.3222  -4997.0362   430.2362  False\n",
      "              Hawaii        New Hampshire   5286.8    0.0   2573.1638  8000.4362   True\n",
      "              Hawaii           New Jersey  4047.95    0.0   1334.3138  6761.5862   True\n",
      "              Hawaii           New Mexico  -2322.2 0.2819  -5035.8362   391.4362  False\n",
      "              Hawaii             New York -1569.85 0.9832  -4283.4862  1143.7862  False\n",
      "              Hawaii       North Carolina  -2438.6 0.1807  -5152.2362   275.0362  False\n",
      "              Hawaii         North Dakota   -915.4    1.0  -3629.0362  1798.2362  False\n",
      "              Hawaii                 Ohio   1602.0 0.9765  -1111.6362  4315.6362  False\n",
      "              Hawaii             Oklahoma  -1522.9 0.9902  -4236.5362  1190.7362  False\n",
      "              Hawaii               Oregon   462.05    1.0  -2251.5862  3175.6862  False\n",
      "              Hawaii         Pennsylvania  4168.35    0.0   1454.7138  6881.9862   True\n",
      "              Hawaii         Rhode Island   2194.6 0.4251   -519.0362  4908.2362  False\n",
      "              Hawaii       South Carolina  2431.85 0.1857   -281.7862  5145.4862  False\n",
      "              Hawaii         South Dakota -1169.55    1.0  -3883.1862  1544.0862  False\n",
      "              Hawaii            Tennessee  -414.35    1.0  -3127.9862  2299.2862  False\n",
      "              Hawaii                Texas    148.3    1.0  -2565.3362  2861.9362  False\n",
      "              Hawaii                 Utah  -2691.6  0.056  -5405.2362    22.0362  False\n",
      "              Hawaii              Vermont   5558.7    0.0   2845.0638  8272.3362   True\n",
      "              Hawaii             Virginia   2158.0 0.4709   -555.6362  4871.6362  False\n",
      "              Hawaii           Washington   470.55    1.0  -2243.0862  3184.1862  False\n",
      "              Hawaii        West Virginia  -1953.9 0.7301  -4667.5362   759.7362  False\n",
      "              Hawaii            Wisconsin  -395.85    1.0  -3109.4862  2317.7862  False\n",
      "              Hawaii              Wyoming -3778.35    0.0  -6491.9862 -1064.7138   True\n",
      "               Idaho             Illinois   5703.4    0.0   2989.7638  8417.0362   True\n",
      "               Idaho              Indiana  2275.95 0.3303   -437.6862  4989.5862  False\n",
      "               Idaho                 Iowa  1634.45 0.9677  -1079.1862  4348.0862  False\n",
      "               Idaho               Kansas   1332.8 0.9994  -1380.8362  4046.4362  False\n",
      "               Idaho             Kentucky  2466.45 0.1609   -247.1862  5180.0862  False\n",
      "               Idaho            Louisiana    710.4    1.0  -2003.2362  3424.0362  False\n",
      "               Idaho                Maine  2931.95 0.0147    218.3138  5645.5862   True\n",
      "               Idaho             Maryland   2479.1 0.1525   -234.5362  5192.7362  False\n",
      "               Idaho        Massachusetts  4767.05    0.0   2053.4138  7480.6862   True\n",
      "               Idaho             Michigan   5113.3    0.0   2399.6638  7826.9362   True\n",
      "               Idaho            Minnesota  3958.75    0.0   1245.1138  6672.3862   True\n",
      "               Idaho          Mississippi   427.15    1.0  -2286.4862  3140.7862  False\n",
      "               Idaho             Missouri  1940.35 0.7458   -773.2862  4653.9862  False\n",
      "               Idaho              Montana    -9.45    1.0  -2723.0862  2704.1862  False\n",
      "               Idaho             Nebraska   1052.3    1.0  -1661.3362  3765.9362  False\n",
      "               Idaho               Nevada   -68.95    1.0  -2782.5862  2644.6862  False\n",
      "               Idaho        New Hampshire  7501.25    0.0   4787.6138 10214.8862   True\n",
      "               Idaho           New Jersey   6262.4    0.0   3548.7638  8976.0362   True\n",
      "               Idaho           New Mexico  -107.75    1.0  -2821.3862  2605.8862  False\n",
      "               Idaho             New York    644.6    1.0  -2069.0362  3358.2362  False\n",
      "               Idaho       North Carolina  -224.15    1.0  -2937.7862  2489.4862  False\n",
      "               Idaho         North Dakota  1299.05 0.9997  -1414.5862  4012.6862  False\n",
      "               Idaho                 Ohio  3816.45    0.0   1102.8138  6530.0862   True\n",
      "               Idaho             Oklahoma   691.55    1.0  -2022.0862  3405.1862  False\n",
      "               Idaho               Oregon   2676.5 0.0605    -37.1362  5390.1362  False\n",
      "               Idaho         Pennsylvania   6382.8    0.0   3669.1638  9096.4362   True\n",
      "               Idaho         Rhode Island  4409.05    0.0   1695.4138  7122.6862   True\n",
      "               Idaho       South Carolina   4646.3    0.0   1932.6638  7359.9362   True\n",
      "               Idaho         South Dakota   1044.9    1.0  -1668.7362  3758.5362  False\n",
      "               Idaho            Tennessee   1800.1 0.8811   -913.5362  4513.7362  False\n",
      "               Idaho                Texas  2362.75 0.2432   -350.8862  5076.3862  False\n",
      "               Idaho                 Utah  -477.15    1.0  -3190.7862  2236.4862  False\n",
      "               Idaho              Vermont  7773.15    0.0   5059.5138 10486.7862   True\n",
      "               Idaho             Virginia  4372.45    0.0   1658.8138  7086.0862   True\n",
      "               Idaho           Washington   2685.0  0.058    -28.6362  5398.6362  False\n",
      "               Idaho        West Virginia   260.55    1.0  -2453.0862  2974.1862  False\n",
      "               Idaho            Wisconsin   1818.6 0.8665   -895.0362  4532.2362  False\n",
      "               Idaho              Wyoming  -1563.9 0.9843  -4277.5362  1149.7362  False\n",
      "            Illinois              Indiana -3427.45 0.0005  -6141.0862  -713.8138   True\n",
      "            Illinois                 Iowa -4068.95    0.0  -6782.5862 -1355.3138   True\n",
      "            Illinois               Kansas  -4370.6    0.0  -7084.2362 -1656.9638   True\n",
      "            Illinois             Kentucky -3236.95 0.0021  -5950.5862  -523.3138   True\n",
      "            Illinois            Louisiana  -4993.0    0.0  -7706.6362 -2279.3638   True\n",
      "            Illinois                Maine -2771.45 0.0368  -5485.0862   -57.8138   True\n",
      "            Illinois             Maryland  -3224.3 0.0023  -5937.9362  -510.6638   True\n",
      "            Illinois        Massachusetts  -936.35    1.0  -3649.9862  1777.2862  False\n",
      "            Illinois             Michigan   -590.1    1.0  -3303.7362  2123.5362  False\n",
      "            Illinois            Minnesota -1744.65 0.9188  -4458.2862   968.9862  False\n",
      "            Illinois          Mississippi -5276.25    0.0  -7989.8862 -2562.6138   True\n",
      "            Illinois             Missouri -3763.05    0.0  -6476.6862 -1049.4138   True\n",
      "            Illinois              Montana -5712.85    0.0  -8426.4862 -2999.2138   True\n",
      "            Illinois             Nebraska  -4651.1    0.0  -7364.7362 -1937.4638   True\n",
      "            Illinois               Nevada -5772.35    0.0  -8485.9862 -3058.7138   True\n",
      "            Illinois        New Hampshire  1797.85 0.8829   -915.7862  4511.4862  False\n",
      "            Illinois           New Jersey    559.0    1.0  -2154.6362  3272.6362  False\n",
      "            Illinois           New Mexico -5811.15    0.0  -8524.7862 -3097.5138   True\n",
      "            Illinois             New York  -5058.8    0.0  -7772.4362 -2345.1638   True\n",
      "            Illinois       North Carolina -5927.55    0.0  -8641.1862 -3213.9138   True\n",
      "            Illinois         North Dakota -4404.35    0.0  -7117.9862 -1690.7138   True\n",
      "            Illinois                 Ohio -1886.95 0.8036  -4600.5862   826.6862  False\n",
      "            Illinois             Oklahoma -5011.85    0.0  -7725.4862 -2298.2138   True\n",
      "            Illinois               Oregon  -3026.9 0.0083  -5740.5362  -313.2638   True\n",
      "            Illinois         Pennsylvania    679.4    1.0  -2034.2362  3393.0362  False\n",
      "            Illinois         Rhode Island -1294.35 0.9997  -4007.9862  1419.2862  False\n",
      "            Illinois       South Carolina  -1057.1    1.0  -3770.7362  1656.5362  False\n",
      "            Illinois         South Dakota  -4658.5    0.0  -7372.1362 -1944.8638   True\n",
      "            Illinois            Tennessee  -3903.3    0.0  -6616.9362 -1189.6638   True\n",
      "            Illinois                Texas -3340.65  0.001  -6054.2862  -627.0138   True\n",
      "            Illinois                 Utah -6180.55    0.0  -8894.1862 -3466.9138   True\n",
      "            Illinois              Vermont  2069.75 0.5851   -643.8862  4783.3862  False\n",
      "            Illinois             Virginia -1330.95 0.9994  -4044.5862  1382.6862  False\n",
      "            Illinois           Washington  -3018.4 0.0087  -5732.0362  -304.7638   True\n",
      "            Illinois        West Virginia -5442.85    0.0  -8156.4862 -2729.2138   True\n",
      "            Illinois            Wisconsin  -3884.8    0.0  -6598.4362 -1171.1638   True\n",
      "            Illinois              Wyoming  -7267.3    0.0  -9980.9362 -4553.6638   True\n",
      "             Indiana                 Iowa   -641.5    1.0  -3355.1362  2072.1362  False\n",
      "             Indiana               Kansas  -943.15    1.0  -3656.7862  1770.4862  False\n",
      "             Indiana             Kentucky    190.5    1.0  -2523.1362  2904.1362  False\n",
      "             Indiana            Louisiana -1565.55  0.984  -4279.1862  1148.0862  False\n",
      "             Indiana                Maine    656.0    1.0  -2057.6362  3369.6362  False\n",
      "             Indiana             Maryland   203.15    1.0  -2510.4862  2916.7862  False\n",
      "             Indiana        Massachusetts   2491.1 0.1449   -222.5362  5204.7362  False\n",
      "             Indiana             Michigan  2837.35 0.0255    123.7138  5550.9862   True\n",
      "             Indiana            Minnesota   1682.8 0.9502  -1030.8362  4396.4362  False\n",
      "             Indiana          Mississippi  -1848.8 0.8404  -4562.4362   864.8362  False\n",
      "             Indiana             Missouri   -335.6    1.0  -3049.2362  2378.0362  False\n",
      "             Indiana              Montana  -2285.4   0.32  -4999.0362   428.2362  False\n",
      "             Indiana             Nebraska -1223.65 0.9999  -3937.2862  1489.9862  False\n",
      "             Indiana               Nevada  -2344.9 0.2598  -5058.5362   368.7362  False\n",
      "             Indiana        New Hampshire   5225.3    0.0   2511.6638  7938.9362   True\n",
      "             Indiana           New Jersey  3986.45    0.0   1272.8138  6700.0862   True\n",
      "             Indiana           New Mexico  -2383.7 0.2246  -5097.3362   329.9362  False\n",
      "             Indiana             New York -1631.35 0.9686  -4344.9862  1082.2862  False\n",
      "             Indiana       North Carolina  -2500.1 0.1393  -5213.7362   213.5362  False\n",
      "             Indiana         North Dakota   -976.9    1.0  -3690.5362  1736.7362  False\n",
      "             Indiana                 Ohio   1540.5 0.9879  -1173.1362  4254.1362  False\n",
      "             Indiana             Oklahoma  -1584.4 0.9804  -4298.0362  1129.2362  False\n",
      "             Indiana               Oregon   400.55    1.0  -2313.0862  3114.1862  False\n",
      "             Indiana         Pennsylvania  4106.85    0.0   1393.2138  6820.4862   True\n",
      "             Indiana         Rhode Island   2133.1 0.5028   -580.5362  4846.7362  False\n",
      "             Indiana       South Carolina  2370.35 0.2363   -343.2862  5083.9862  False\n",
      "             Indiana         South Dakota -1231.05 0.9999  -3944.6862  1482.5862  False\n",
      "             Indiana            Tennessee  -475.85    1.0  -3189.4862  2237.7862  False\n",
      "             Indiana                Texas     86.8    1.0  -2626.8362  2800.4362  False\n",
      "             Indiana                 Utah  -2753.1 0.0406  -5466.7362   -39.4638   True\n",
      "             Indiana              Vermont   5497.2    0.0   2783.5638  8210.8362   True\n",
      "             Indiana             Virginia   2096.5 0.5503   -617.1362  4810.1362  False\n",
      "             Indiana           Washington   409.05    1.0  -2304.5862  3122.6862  False\n",
      "             Indiana        West Virginia  -2015.4  0.655  -4729.0362   698.2362  False\n",
      "             Indiana            Wisconsin  -457.35    1.0  -3170.9862  2256.2862  False\n",
      "             Indiana              Wyoming -3839.85    0.0  -6553.4862 -1126.2138   True\n",
      "                Iowa               Kansas  -301.65    1.0  -3015.2862  2411.9862  False\n",
      "                Iowa             Kentucky    832.0    1.0  -1881.6362  3545.6362  False\n",
      "                Iowa            Louisiana  -924.05    1.0  -3637.6862  1789.5862  False\n",
      "                Iowa                Maine   1297.5 0.9997  -1416.1362  4011.1362  False\n",
      "                Iowa             Maryland   844.65    1.0  -1868.9862  3558.2862  False\n",
      "                Iowa        Massachusetts   3132.6 0.0042    418.9638  5846.2362   True\n",
      "                Iowa             Michigan  3478.85 0.0004    765.2138  6192.4862   True\n",
      "                Iowa            Minnesota   2324.3 0.2798   -389.3362  5037.9362  False\n",
      "                Iowa          Mississippi  -1207.3    1.0  -3920.9362  1506.3362  False\n",
      "                Iowa             Missouri    305.9    1.0  -2407.7362  3019.5362  False\n",
      "                Iowa              Montana  -1643.9 0.9647  -4357.5362  1069.7362  False\n",
      "                Iowa             Nebraska  -582.15    1.0  -3295.7862  2131.4862  False\n",
      "                Iowa               Nevada  -1703.4 0.9409  -4417.0362  1010.2362  False\n",
      "                Iowa        New Hampshire   5866.8    0.0   3153.1638  8580.4362   True\n",
      "                Iowa           New Jersey  4627.95    0.0   1914.3138  7341.5862   True\n",
      "                Iowa           New Mexico  -1742.2 0.9203  -4455.8362   971.4362  False\n",
      "                Iowa             New York  -989.85    1.0  -3703.4862  1723.7862  False\n",
      "                Iowa       North Carolina  -1858.6 0.8313  -4572.2362   855.0362  False\n",
      "                Iowa         North Dakota   -335.4    1.0  -3049.0362  2378.2362  False\n",
      "                Iowa                 Ohio   2182.0 0.4407   -531.6362  4895.6362  False\n",
      "                Iowa             Oklahoma   -942.9    1.0  -3656.5362  1770.7362  False\n",
      "                Iowa               Oregon  1042.05    1.0  -1671.5862  3755.6862  False\n",
      "                Iowa         Pennsylvania  4748.35    0.0   2034.7138  7461.9862   True\n",
      "                Iowa         Rhode Island   2774.6 0.0361     60.9638  5488.2362   True\n",
      "                Iowa       South Carolina  3011.85 0.0091    298.2138  5725.4862   True\n",
      "                Iowa         South Dakota  -589.55    1.0  -3303.1862  2124.0862  False\n",
      "                Iowa            Tennessee   165.65    1.0  -2547.9862  2879.2862  False\n",
      "                Iowa                Texas    728.3    1.0  -1985.3362  3441.9362  False\n",
      "                Iowa                 Utah  -2111.6 0.5307  -4825.2362   602.0362  False\n",
      "                Iowa              Vermont   6138.7    0.0   3425.0638  8852.3362   True\n",
      "                Iowa             Virginia   2738.0  0.044     24.3638  5451.6362   True\n",
      "                Iowa           Washington  1050.55    1.0  -1663.0862  3764.1862  False\n",
      "                Iowa        West Virginia  -1373.9 0.9988  -4087.5362  1339.7362  False\n",
      "                Iowa            Wisconsin   184.15    1.0  -2529.4862  2897.7862  False\n",
      "                Iowa              Wyoming -3198.35 0.0027  -5911.9862  -484.7138   True\n",
      "              Kansas             Kentucky  1133.65    1.0  -1579.9862  3847.2862  False\n",
      "              Kansas            Louisiana   -622.4    1.0  -3336.0362  2091.2362  False\n",
      "              Kansas                Maine  1599.15 0.9772  -1114.4862  4312.7862  False\n",
      "              Kansas             Maryland   1146.3    1.0  -1567.3362  3859.9362  False\n",
      "              Kansas        Massachusetts  3434.25 0.0005    720.6138  6147.8862   True\n",
      "              Kansas             Michigan   3780.5    0.0   1066.8638  6494.1362   True\n",
      "              Kansas            Minnesota  2625.95 0.0778    -87.6862  5339.5862  False\n",
      "              Kansas          Mississippi  -905.65    1.0  -3619.2862  1807.9862  False\n",
      "              Kansas             Missouri   607.55    1.0  -2106.0862  3321.1862  False\n",
      "              Kansas              Montana -1342.25 0.9993  -4055.8862  1371.3862  False\n",
      "              Kansas             Nebraska   -280.5    1.0  -2994.1362  2433.1362  False\n",
      "              Kansas               Nevada -1401.75 0.9981  -4115.3862  1311.8862  False\n",
      "              Kansas        New Hampshire  6168.45    0.0   3454.8138  8882.0862   True\n",
      "              Kansas           New Jersey   4929.6    0.0   2215.9638  7643.2362   True\n",
      "              Kansas           New Mexico -1440.55 0.9967  -4154.1862  1273.0862  False\n",
      "              Kansas             New York   -688.2    1.0  -3401.8362  2025.4362  False\n",
      "              Kansas       North Carolina -1556.95 0.9855  -4270.5862  1156.6862  False\n",
      "              Kansas         North Dakota   -33.75    1.0  -2747.3862  2679.8862  False\n",
      "              Kansas                 Ohio  2483.65 0.1496   -229.9862  5197.2862  False\n",
      "              Kansas             Oklahoma  -641.25    1.0  -3354.8862  2072.3862  False\n",
      "              Kansas               Oregon   1343.7 0.9993  -1369.9362  4057.3362  False\n",
      "              Kansas         Pennsylvania   5050.0    0.0   2336.3638  7763.6362   True\n",
      "              Kansas         Rhode Island  3076.25 0.0061    362.6138  5789.8862   True\n",
      "              Kansas       South Carolina   3313.5 0.0012    599.8638  6027.1362   True\n",
      "              Kansas         South Dakota   -287.9    1.0  -3001.5362  2425.7362  False\n",
      "              Kansas            Tennessee    467.3    1.0  -2246.3362  3180.9362  False\n",
      "              Kansas                Texas  1029.95    1.0  -1683.6862  3743.5862  False\n",
      "              Kansas                 Utah -1809.95 0.8735  -4523.5862   903.6862  False\n",
      "              Kansas              Vermont  6440.35    0.0   3726.7138  9153.9862   True\n",
      "              Kansas             Virginia  3039.65 0.0076    326.0138  5753.2862   True\n",
      "              Kansas           Washington   1352.2 0.9992  -1361.4362  4065.8362  False\n",
      "              Kansas        West Virginia -1072.25    1.0  -3785.8862  1641.3862  False\n",
      "              Kansas            Wisconsin    485.8    1.0  -2227.8362  3199.4362  False\n",
      "              Kansas              Wyoming  -2896.7 0.0182  -5610.3362  -183.0638   True\n",
      "            Kentucky            Louisiana -1756.05 0.9118  -4469.6862   957.5862  False\n",
      "            Kentucky                Maine    465.5    1.0  -2248.1362  3179.1362  False\n",
      "            Kentucky             Maryland    12.65    1.0  -2700.9862  2726.2862  False\n",
      "            Kentucky        Massachusetts   2300.6 0.3039   -413.0362  5014.2362  False\n",
      "            Kentucky             Michigan  2646.85 0.0702    -66.7862  5360.4862  False\n",
      "            Kentucky            Minnesota   1492.3 0.9933  -1221.3362  4205.9362  False\n",
      "            Kentucky          Mississippi  -2039.3 0.6245  -4752.9362   674.3362  False\n",
      "            Kentucky             Missouri   -526.1    1.0  -3239.7362  2187.5362  False\n",
      "            Kentucky              Montana  -2475.9 0.1546  -5189.5362   237.7362  False\n",
      "            Kentucky             Nebraska -1414.15 0.9977  -4127.7862  1299.4862  False\n",
      "            Kentucky               Nevada  -2535.4 0.1191  -5249.0362   178.2362  False\n",
      "            Kentucky        New Hampshire   5034.8    0.0   2321.1638  7748.4362   True\n",
      "            Kentucky           New Jersey  3795.95    0.0   1082.3138  6509.5862   True\n",
      "            Kentucky           New Mexico  -2574.2 0.0997  -5287.8362   139.4362  False\n",
      "            Kentucky             New York -1821.85 0.8638  -4535.4862   891.7862  False\n",
      "            Kentucky       North Carolina  -2690.6 0.0563  -5404.2362    23.0362  False\n",
      "            Kentucky         North Dakota  -1167.4    1.0  -3881.0362  1546.2362  False\n",
      "            Kentucky                 Ohio   1350.0 0.9992  -1363.6362  4063.6362  False\n",
      "            Kentucky             Oklahoma  -1774.9 0.8994  -4488.5362   938.7362  False\n",
      "            Kentucky               Oregon   210.05    1.0  -2503.5862  2923.6862  False\n",
      "            Kentucky         Pennsylvania  3916.35    0.0   1202.7138  6629.9862   True\n",
      "            Kentucky         Rhode Island   1942.6 0.7432   -771.0362  4656.2362  False\n",
      "            Kentucky       South Carolina  2179.85 0.4434   -533.7862  4893.4862  False\n",
      "            Kentucky         South Dakota -1421.55 0.9975  -4135.1862  1292.0862  False\n",
      "            Kentucky            Tennessee  -666.35    1.0  -3379.9862  2047.2862  False\n",
      "            Kentucky                Texas   -103.7    1.0  -2817.3362  2609.9362  False\n",
      "            Kentucky                 Utah  -2943.6 0.0138  -5657.2362  -229.9638   True\n",
      "            Kentucky              Vermont   5306.7    0.0   2593.0638  8020.3362   True\n",
      "            Kentucky             Virginia   1906.0 0.7838   -807.6362  4619.6362  False\n",
      "            Kentucky           Washington   218.55    1.0  -2495.0862  2932.1862  False\n",
      "            Kentucky        West Virginia  -2205.9 0.4113  -4919.5362   507.7362  False\n",
      "            Kentucky            Wisconsin  -647.85    1.0  -3361.4862  2065.7862  False\n",
      "            Kentucky              Wyoming -4030.35    0.0  -6743.9862 -1316.7138   True\n",
      "           Louisiana                Maine  2221.55 0.3925   -492.0862  4935.1862  False\n",
      "           Louisiana             Maryland   1768.7 0.9036   -944.9362  4482.3362  False\n",
      "           Louisiana        Massachusetts  4056.65    0.0   1343.0138  6770.2862   True\n",
      "           Louisiana             Michigan   4402.9    0.0   1689.2638  7116.5362   True\n",
      "           Louisiana            Minnesota  3248.35 0.0019    534.7138  5961.9862   True\n",
      "           Louisiana          Mississippi  -283.25    1.0  -2996.8862  2430.3862  False\n",
      "           Louisiana             Missouri  1229.95 0.9999  -1483.6862  3943.5862  False\n",
      "           Louisiana              Montana  -719.85    1.0  -3433.4862  1993.7862  False\n",
      "           Louisiana             Nebraska    341.9    1.0  -2371.7362  3055.5362  False\n",
      "           Louisiana               Nevada  -779.35    1.0  -3492.9862  1934.2862  False\n",
      "           Louisiana        New Hampshire  6790.85    0.0   4077.2138  9504.4862   True\n",
      "           Louisiana           New Jersey   5552.0    0.0   2838.3638  8265.6362   True\n",
      "           Louisiana           New Mexico  -818.15    1.0  -3531.7862  1895.4862  False\n",
      "           Louisiana             New York    -65.8    1.0  -2779.4362  2647.8362  False\n",
      "           Louisiana       North Carolina  -934.55    1.0  -3648.1862  1779.0862  False\n",
      "           Louisiana         North Dakota   588.65    1.0  -2124.9862  3302.2862  False\n",
      "           Louisiana                 Ohio  3106.05  0.005    392.4138  5819.6862   True\n",
      "           Louisiana             Oklahoma   -18.85    1.0  -2732.4862  2694.7862  False\n",
      "           Louisiana               Oregon   1966.1 0.7157   -747.5362  4679.7362  False\n",
      "           Louisiana         Pennsylvania   5672.4    0.0   2958.7638  8386.0362   True\n",
      "           Louisiana         Rhode Island  3698.65 0.0001    985.0138  6412.2862   True\n",
      "           Louisiana       South Carolina   3935.9    0.0   1222.2638  6649.5362   True\n",
      "           Louisiana         South Dakota    334.5    1.0  -2379.1362  3048.1362  False\n",
      "           Louisiana            Tennessee   1089.7    1.0  -1623.9362  3803.3362  False\n",
      "           Louisiana                Texas  1652.35 0.9619  -1061.2862  4365.9862  False\n",
      "           Louisiana                 Utah -1187.55    1.0  -3901.1862  1526.0862  False\n",
      "           Louisiana              Vermont  7062.75    0.0   4349.1138  9776.3862   True\n",
      "           Louisiana             Virginia  3662.05 0.0001    948.4138  6375.6862   True\n",
      "           Louisiana           Washington   1974.6 0.7055   -739.0362  4688.2362  False\n",
      "           Louisiana        West Virginia  -449.85    1.0  -3163.4862  2263.7862  False\n",
      "           Louisiana            Wisconsin   1108.2    1.0  -1605.4362  3821.8362  False\n",
      "           Louisiana              Wyoming  -2274.3 0.3321  -4987.9362   439.3362  False\n",
      "               Maine             Maryland  -452.85    1.0  -3166.4862  2260.7862  False\n",
      "               Maine        Massachusetts   1835.1 0.8525   -878.5362  4548.7362  False\n",
      "               Maine             Michigan  2181.35 0.4415   -532.2862  4894.9862  False\n",
      "               Maine            Minnesota   1026.8    1.0  -1686.8362  3740.4362  False\n",
      "               Maine          Mississippi  -2504.8 0.1365  -5218.4362   208.8362  False\n",
      "               Maine             Missouri   -991.6    1.0  -3705.2362  1722.0362  False\n",
      "               Maine              Montana  -2941.4 0.0139  -5655.0362  -227.7638   True\n",
      "               Maine             Nebraska -1879.65 0.8109  -4593.2862   833.9862  False\n",
      "               Maine               Nevada  -3000.9 0.0097  -5714.5362  -287.2638   True\n",
      "               Maine        New Hampshire   4569.3    0.0   1855.6638  7282.9362   True\n",
      "               Maine           New Jersey  3330.45 0.0011    616.8138  6044.0862   True\n",
      "               Maine           New Mexico  -3039.7 0.0076  -5753.3362  -326.0638   True\n",
      "               Maine             New York -2287.35 0.3179  -5000.9862   426.2862  False\n",
      "               Maine       North Carolina  -3156.1 0.0036  -5869.7362  -442.4638   True\n",
      "               Maine         North Dakota  -1632.9 0.9682  -4346.5362  1080.7362  False\n",
      "               Maine                 Ohio    884.5    1.0  -1829.1362  3598.1362  False\n",
      "               Maine             Oklahoma  -2240.4 0.3704  -4954.0362   473.2362  False\n",
      "               Maine               Oregon  -255.45    1.0  -2969.0862  2458.1862  False\n",
      "               Maine         Pennsylvania  3450.85 0.0005    737.2138  6164.4862   True\n",
      "               Maine         Rhode Island   1477.1 0.9945  -1236.5362  4190.7362  False\n",
      "               Maine       South Carolina  1714.35 0.9355   -999.2862  4427.9862  False\n",
      "               Maine         South Dakota -1887.05 0.8035  -4600.6862   826.5862  False\n",
      "               Maine            Tennessee -1131.85    1.0  -3845.4862  1581.7862  False\n",
      "               Maine                Texas   -569.2    1.0  -3282.8362  2144.4362  False\n",
      "               Maine                 Utah  -3409.1 0.0006  -6122.7362  -695.4638   True\n",
      "               Maine              Vermont   4841.2    0.0   2127.5638  7554.8362   True\n",
      "               Maine             Virginia   1440.5 0.9967  -1273.1362  4154.1362  False\n",
      "               Maine           Washington  -246.95    1.0  -2960.5862  2466.6862  False\n",
      "               Maine        West Virginia  -2671.4 0.0621  -5385.0362    42.2362  False\n",
      "               Maine            Wisconsin -1113.35    1.0  -3826.9862  1600.2862  False\n",
      "               Maine              Wyoming -4495.85    0.0  -7209.4862 -1782.2138   True\n",
      "            Maryland        Massachusetts  2287.95 0.3173   -425.6862  5001.5862  False\n",
      "            Maryland             Michigan   2634.2 0.0748    -79.4362  5347.8362  False\n",
      "            Maryland            Minnesota  1479.65 0.9943  -1233.9862  4193.2862  False\n",
      "            Maryland          Mississippi -2051.95 0.6082  -4765.5862   661.6862  False\n",
      "            Maryland             Missouri  -538.75    1.0  -3252.3862  2174.8862  False\n",
      "            Maryland              Montana -2488.55 0.1465  -5202.1862   225.0862  False\n",
      "            Maryland             Nebraska  -1426.8 0.9973  -4140.4362  1286.8362  False\n",
      "            Maryland               Nevada -2548.05 0.1125  -5261.6862   165.5862  False\n",
      "            Maryland        New Hampshire  5022.15    0.0   2308.5138  7735.7862   True\n",
      "            Maryland           New Jersey   3783.3    0.0   1069.6638  6496.9362   True\n",
      "            Maryland           New Mexico -2586.85 0.0939  -5300.4862   126.7862  False\n",
      "            Maryland             New York  -1834.5 0.8531  -4548.1362   879.1362  False\n",
      "            Maryland       North Carolina -2703.25 0.0528  -5416.8862    10.3862  False\n",
      "            Maryland         North Dakota -1180.05    1.0  -3893.6862  1533.5862  False\n",
      "            Maryland                 Ohio  1337.35 0.9994  -1376.2862  4050.9862  False\n",
      "            Maryland             Oklahoma -1787.55 0.8905  -4501.1862   926.0862  False\n",
      "            Maryland               Oregon    197.4    1.0  -2516.2362  2911.0362  False\n",
      "            Maryland         Pennsylvania   3903.7    0.0   1190.0638  6617.3362   True\n",
      "            Maryland         Rhode Island  1929.95 0.7576   -783.6862  4643.5862  False\n",
      "            Maryland       South Carolina   2167.2 0.4593   -546.4362  4880.8362  False\n",
      "            Maryland         South Dakota  -1434.2  0.997  -4147.8362  1279.4362  False\n",
      "            Maryland            Tennessee   -679.0    1.0  -3392.6362  2034.6362  False\n",
      "            Maryland                Texas  -116.35    1.0  -2829.9862  2597.2862  False\n",
      "            Maryland                 Utah -2956.25 0.0128  -5669.8862  -242.6138   True\n",
      "            Maryland              Vermont  5294.05    0.0   2580.4138  8007.6862   True\n",
      "            Maryland             Virginia  1893.35  0.797   -820.2862  4606.9862  False\n",
      "            Maryland           Washington    205.9    1.0  -2507.7362  2919.5362  False\n",
      "            Maryland        West Virginia -2218.55 0.3961  -4932.1862   495.0862  False\n",
      "            Maryland            Wisconsin   -660.5    1.0  -3374.1362  2053.1362  False\n",
      "            Maryland              Wyoming  -4043.0    0.0  -6756.6362 -1329.3638   True\n",
      "       Massachusetts             Michigan   346.25    1.0  -2367.3862  3059.8862  False\n",
      "       Massachusetts            Minnesota   -808.3    1.0  -3521.9362  1905.3362  False\n",
      "       Massachusetts          Mississippi  -4339.9    0.0  -7053.5362 -1626.2638   True\n",
      "       Massachusetts             Missouri  -2826.7 0.0271  -5540.3362  -113.0638   True\n",
      "       Massachusetts              Montana  -4776.5    0.0  -7490.1362 -2062.8638   True\n",
      "       Massachusetts             Nebraska -3714.75 0.0001  -6428.3862 -1001.1138   True\n",
      "       Massachusetts               Nevada  -4836.0    0.0  -7549.6362 -2122.3638   True\n",
      "       Massachusetts        New Hampshire   2734.2 0.0449     20.5638  5447.8362   True\n",
      "       Massachusetts           New Jersey  1495.35  0.993  -1218.2862  4208.9862  False\n",
      "       Massachusetts           New Mexico  -4874.8    0.0  -7588.4362 -2161.1638   True\n",
      "       Massachusetts             New York -4122.45    0.0  -6836.0862 -1408.8138   True\n",
      "       Massachusetts       North Carolina  -4991.2    0.0  -7704.8362 -2277.5638   True\n",
      "       Massachusetts         North Dakota  -3468.0 0.0004  -6181.6362  -754.3638   True\n",
      "       Massachusetts                 Ohio   -950.6    1.0  -3664.2362  1763.0362  False\n",
      "       Massachusetts             Oklahoma  -4075.5    0.0  -6789.1362 -1361.8638   True\n",
      "       Massachusetts               Oregon -2090.55 0.5581  -4804.1862   623.0862  False\n",
      "       Massachusetts         Pennsylvania  1615.75  0.973  -1097.8862  4329.3862  False\n",
      "       Massachusetts         Rhode Island   -358.0    1.0  -3071.6362  2355.6362  False\n",
      "       Massachusetts       South Carolina  -120.75    1.0  -2834.3862  2592.8862  False\n",
      "       Massachusetts         South Dakota -3722.15 0.0001  -6435.7862 -1008.5138   True\n",
      "       Massachusetts            Tennessee -2966.95  0.012  -5680.5862  -253.3138   True\n",
      "       Massachusetts                Texas  -2404.3 0.2073  -5117.9362   309.3362  False\n",
      "       Massachusetts                 Utah  -5244.2    0.0  -7957.8362 -2530.5638   True\n",
      "       Massachusetts              Vermont   3006.1 0.0094    292.4638  5719.7362   True\n",
      "       Massachusetts             Virginia   -394.6    1.0  -3108.2362  2319.0362  False\n",
      "       Massachusetts           Washington -2082.05 0.5691  -4795.6862   631.5862  False\n",
      "       Massachusetts        West Virginia  -4506.5    0.0  -7220.1362 -1792.8638   True\n",
      "       Massachusetts            Wisconsin -2948.45 0.0134  -5662.0862  -234.8138   True\n",
      "       Massachusetts              Wyoming -6330.95    0.0  -9044.5862 -3617.3138   True\n",
      "            Michigan            Minnesota -1154.55    1.0  -3868.1862  1559.0862  False\n",
      "            Michigan          Mississippi -4686.15    0.0  -7399.7862 -1972.5138   True\n",
      "            Michigan             Missouri -3172.95 0.0032  -5886.5862  -459.3138   True\n",
      "            Michigan              Montana -5122.75    0.0  -7836.3862 -2409.1138   True\n",
      "            Michigan             Nebraska  -4061.0    0.0  -6774.6362 -1347.3638   True\n",
      "            Michigan               Nevada -5182.25    0.0  -7895.8862 -2468.6138   True\n",
      "            Michigan        New Hampshire  2387.95  0.221   -325.6862  5101.5862  False\n",
      "            Michigan           New Jersey   1149.1    1.0  -1564.5362  3862.7362  False\n",
      "            Michigan           New Mexico -5221.05    0.0  -7934.6862 -2507.4138   True\n",
      "            Michigan             New York  -4468.7    0.0  -7182.3362 -1755.0638   True\n",
      "            Michigan       North Carolina -5337.45    0.0  -8051.0862 -2623.8138   True\n",
      "            Michigan         North Dakota -3814.25    0.0  -6527.8862 -1100.6138   True\n",
      "            Michigan                 Ohio -1296.85 0.9997  -4010.4862  1416.7862  False\n",
      "            Michigan             Oklahoma -4421.75    0.0  -7135.3862 -1708.1138   True\n",
      "            Michigan               Oregon  -2436.8  0.182  -5150.4362   276.8362  False\n",
      "            Michigan         Pennsylvania   1269.5 0.9998  -1444.1362  3983.1362  False\n",
      "            Michigan         Rhode Island  -704.25    1.0  -3417.8862  2009.3862  False\n",
      "            Michigan       South Carolina   -467.0    1.0  -3180.6362  2246.6362  False\n",
      "            Michigan         South Dakota  -4068.4    0.0  -6782.0362 -1354.7638   True\n",
      "            Michigan            Tennessee  -3313.2 0.0012  -6026.8362  -599.5638   True\n",
      "            Michigan                Texas -2750.55 0.0411  -5464.1862   -36.9138   True\n",
      "            Michigan                 Utah -5590.45    0.0  -8304.0862 -2876.8138   True\n",
      "            Michigan              Vermont  2659.85 0.0658    -53.7862  5373.4862  False\n",
      "            Michigan             Virginia  -740.85    1.0  -3454.4862  1972.7862  False\n",
      "            Michigan           Washington  -2428.3 0.1884  -5141.9362   285.3362  False\n",
      "            Michigan        West Virginia -4852.75    0.0  -7566.3862 -2139.1138   True\n",
      "            Michigan            Wisconsin  -3294.7 0.0014  -6008.3362  -581.0638   True\n",
      "            Michigan              Wyoming  -6677.2    0.0  -9390.8362 -3963.5638   True\n",
      "           Minnesota          Mississippi  -3531.6 0.0002  -6245.2362  -817.9638   True\n",
      "           Minnesota             Missouri  -2018.4 0.6512  -4732.0362   695.2362  False\n",
      "           Minnesota              Montana  -3968.2    0.0  -6681.8362 -1254.5638   True\n",
      "           Minnesota             Nebraska -2906.45 0.0171  -5620.0862  -192.8138   True\n",
      "           Minnesota               Nevada  -4027.7    0.0  -6741.3362 -1314.0638   True\n",
      "           Minnesota        New Hampshire   3542.5 0.0002    828.8638  6256.1362   True\n",
      "           Minnesota           New Jersey  2303.65 0.3008   -409.9862  5017.2862  False\n",
      "           Minnesota           New Mexico  -4066.5    0.0  -6780.1362 -1352.8638   True\n",
      "           Minnesota             New York -3314.15 0.0012  -6027.7862  -600.5138   True\n",
      "           Minnesota       North Carolina  -4182.9    0.0  -6896.5362 -1469.2638   True\n",
      "           Minnesota         North Dakota  -2659.7 0.0659  -5373.3362    53.9362  False\n",
      "           Minnesota                 Ohio   -142.3    1.0  -2855.9362  2571.3362  False\n",
      "           Minnesota             Oklahoma  -3267.2 0.0017  -5980.8362  -553.5638   True\n",
      "           Minnesota               Oregon -1282.25 0.9998  -3995.8862  1431.3862  False\n",
      "           Minnesota         Pennsylvania  2424.05 0.1917   -289.5862  5137.6862  False\n",
      "           Minnesota         Rhode Island    450.3    1.0  -2263.3362  3163.9362  False\n",
      "           Minnesota       South Carolina   687.55    1.0  -2026.0862  3401.1862  False\n",
      "           Minnesota         South Dakota -2913.85 0.0164  -5627.4862  -200.2138   True\n",
      "           Minnesota            Tennessee -2158.65 0.4701  -4872.2862   554.9862  False\n",
      "           Minnesota                Texas  -1596.0 0.9779  -4309.6362  1117.6362  False\n",
      "           Minnesota                 Utah  -4435.9    0.0  -7149.5362 -1722.2638   True\n",
      "           Minnesota              Vermont   3814.4    0.0   1100.7638  6528.0362   True\n",
      "           Minnesota             Virginia    413.7    1.0  -2299.9362  3127.3362  False\n",
      "           Minnesota           Washington -1273.75 0.9998  -3987.3862  1439.8862  False\n",
      "           Minnesota        West Virginia  -3698.2 0.0001  -6411.8362  -984.5638   True\n",
      "           Minnesota            Wisconsin -2140.15 0.4937  -4853.7862   573.4862  False\n",
      "           Minnesota              Wyoming -5522.65    0.0  -8236.2862 -2809.0138   True\n",
      "         Mississippi             Missouri   1513.2 0.9913  -1200.4362  4226.8362  False\n",
      "         Mississippi              Montana   -436.6    1.0  -3150.2362  2277.0362  False\n",
      "         Mississippi             Nebraska   625.15    1.0  -2088.4862  3338.7862  False\n",
      "         Mississippi               Nevada   -496.1    1.0  -3209.7362  2217.5362  False\n",
      "         Mississippi        New Hampshire   7074.1    0.0   4360.4638  9787.7362   True\n",
      "         Mississippi           New Jersey  5835.25    0.0   3121.6138  8548.8862   True\n",
      "         Mississippi           New Mexico   -534.9    1.0  -3248.5362  2178.7362  False\n",
      "         Mississippi             New York   217.45    1.0  -2496.1862  2931.0862  False\n",
      "         Mississippi       North Carolina   -651.3    1.0  -3364.9362  2062.3362  False\n",
      "         Mississippi         North Dakota    871.9    1.0  -1841.7362  3585.5362  False\n",
      "         Mississippi                 Ohio   3389.3 0.0007    675.6638  6102.9362   True\n",
      "         Mississippi             Oklahoma    264.4    1.0  -2449.2362  2978.0362  False\n",
      "         Mississippi               Oregon  2249.35 0.3601   -464.2862  4962.9862  False\n",
      "         Mississippi         Pennsylvania  5955.65    0.0   3242.0138  8669.2862   True\n",
      "         Mississippi         Rhode Island   3981.9    0.0   1268.2638  6695.5362   True\n",
      "         Mississippi       South Carolina  4219.15    0.0   1505.5138  6932.7862   True\n",
      "         Mississippi         South Dakota   617.75    1.0  -2095.8862  3331.3862  False\n",
      "         Mississippi            Tennessee  1372.95 0.9988  -1340.6862  4086.5862  False\n",
      "         Mississippi                Texas   1935.6 0.7512   -778.0362  4649.2362  False\n",
      "         Mississippi                 Utah   -904.3    1.0  -3617.9362  1809.3362  False\n",
      "         Mississippi              Vermont   7346.0    0.0   4632.3638 10059.6362   True\n",
      "         Mississippi             Virginia   3945.3    0.0   1231.6638  6658.9362   True\n",
      "         Mississippi           Washington  2257.85 0.3504   -455.7862  4971.4862  False\n",
      "         Mississippi        West Virginia   -166.6    1.0  -2880.2362  2547.0362  False\n",
      "         Mississippi            Wisconsin  1391.45 0.9984  -1322.1862  4105.0862  False\n",
      "         Mississippi              Wyoming -1991.05 0.6854  -4704.6862   722.5862  False\n",
      "            Missouri              Montana  -1949.8 0.7349  -4663.4362   763.8362  False\n",
      "            Missouri             Nebraska  -888.05    1.0  -3601.6862  1825.5862  False\n",
      "            Missouri               Nevada  -2009.3 0.6627  -4722.9362   704.3362  False\n",
      "            Missouri        New Hampshire   5560.9    0.0   2847.2638  8274.5362   True\n",
      "            Missouri           New Jersey  4322.05    0.0   1608.4138  7035.6862   True\n",
      "            Missouri           New Mexico  -2048.1 0.6132  -4761.7362   665.5362  False\n",
      "            Missouri             New York -1295.75 0.9997  -4009.3862  1417.8862  False\n",
      "            Missouri       North Carolina  -2164.5 0.4627  -4878.1362   549.1362  False\n",
      "            Missouri         North Dakota   -641.3    1.0  -3354.9362  2072.3362  False\n",
      "            Missouri                 Ohio   1876.1 0.8144   -837.5362  4589.7362  False\n",
      "            Missouri             Oklahoma  -1248.8 0.9999  -3962.4362  1464.8362  False\n",
      "            Missouri               Oregon   736.15    1.0  -1977.4862  3449.7862  False\n",
      "            Missouri         Pennsylvania  4442.45    0.0   1728.8138  7156.0862   True\n",
      "            Missouri         Rhode Island   2468.7 0.1594   -244.9362  5182.3362  False\n",
      "            Missouri       South Carolina  2705.95  0.052     -7.6862  5419.5862  False\n",
      "            Missouri         South Dakota  -895.45    1.0  -3609.0862  1818.1862  False\n",
      "            Missouri            Tennessee  -140.25    1.0  -2853.8862  2573.3862  False\n",
      "            Missouri                Texas    422.4    1.0  -2291.2362  3136.0362  False\n",
      "            Missouri                 Utah  -2417.5 0.1968  -5131.1362   296.1362  False\n",
      "            Missouri              Vermont   5832.8    0.0   3119.1638  8546.4362   True\n",
      "            Missouri             Virginia   2432.1 0.1855   -281.5362  5145.7362  False\n",
      "            Missouri           Washington   744.65    1.0  -1968.9862  3458.2862  False\n",
      "            Missouri        West Virginia  -1679.8 0.9515  -4393.4362  1033.8362  False\n",
      "            Missouri            Wisconsin  -121.75    1.0  -2835.3862  2591.8862  False\n",
      "            Missouri              Wyoming -3504.25 0.0003  -6217.8862  -790.6138   True\n",
      "             Montana             Nebraska  1061.75    1.0  -1651.8862  3775.3862  False\n",
      "             Montana               Nevada    -59.5    1.0  -2773.1362  2654.1362  False\n",
      "             Montana        New Hampshire   7510.7    0.0   4797.0638 10224.3362   True\n",
      "             Montana           New Jersey  6271.85    0.0   3558.2138  8985.4862   True\n",
      "             Montana           New Mexico    -98.3    1.0  -2811.9362  2615.3362  False\n",
      "             Montana             New York   654.05    1.0  -2059.5862  3367.6862  False\n",
      "             Montana       North Carolina   -214.7    1.0  -2928.3362  2498.9362  False\n",
      "             Montana         North Dakota   1308.5 0.9996  -1405.1362  4022.1362  False\n",
      "             Montana                 Ohio   3825.9    0.0   1112.2638  6539.5362   True\n",
      "             Montana             Oklahoma    701.0    1.0  -2012.6362  3414.6362  False\n",
      "             Montana               Oregon  2685.95 0.0577    -27.6862  5399.5862  False\n",
      "             Montana         Pennsylvania  6392.25    0.0   3678.6138  9105.8862   True\n",
      "             Montana         Rhode Island   4418.5    0.0   1704.8638  7132.1362   True\n",
      "             Montana       South Carolina  4655.75    0.0   1942.1138  7369.3862   True\n",
      "             Montana         South Dakota  1054.35    1.0  -1659.2862  3767.9862  False\n",
      "             Montana            Tennessee  1809.55 0.8738   -904.0862  4523.1862  False\n",
      "             Montana                Texas   2372.2 0.2347   -341.4362  5085.8362  False\n",
      "             Montana                 Utah   -467.7    1.0  -3181.3362  2245.9362  False\n",
      "             Montana              Vermont   7782.6    0.0   5068.9638 10496.2362   True\n",
      "             Montana             Virginia   4381.9    0.0   1668.2638  7095.5362   True\n",
      "             Montana           Washington  2694.45 0.0552    -19.1862  5408.0862  False\n",
      "             Montana        West Virginia    270.0    1.0  -2443.6362  2983.6362  False\n",
      "             Montana            Wisconsin  1828.05 0.8586   -885.5862  4541.6862  False\n",
      "             Montana              Wyoming -1554.45 0.9859  -4268.0862  1159.1862  False\n",
      "            Nebraska               Nevada -1121.25    1.0  -3834.8862  1592.3862  False\n",
      "            Nebraska        New Hampshire  6448.95    0.0   3735.3138  9162.5862   True\n",
      "            Nebraska           New Jersey   5210.1    0.0   2496.4638  7923.7362   True\n",
      "            Nebraska           New Mexico -1160.05    1.0  -3873.6862  1553.5862  False\n",
      "            Nebraska             New York   -407.7    1.0  -3121.3362  2305.9362  False\n",
      "            Nebraska       North Carolina -1276.45 0.9998  -3990.0862  1437.1862  False\n",
      "            Nebraska         North Dakota   246.75    1.0  -2466.8862  2960.3862  False\n",
      "            Nebraska                 Ohio  2764.15 0.0382     50.5138  5477.7862   True\n",
      "            Nebraska             Oklahoma  -360.75    1.0  -3074.3862  2352.8862  False\n",
      "            Nebraska               Oregon   1624.2 0.9707  -1089.4362  4337.8362  False\n",
      "            Nebraska         Pennsylvania   5330.5    0.0   2616.8638  8044.1362   True\n",
      "            Nebraska         Rhode Island  3356.75 0.0009    643.1138  6070.3862   True\n",
      "            Nebraska       South Carolina   3594.0 0.0002    880.3638  6307.6362   True\n",
      "            Nebraska         South Dakota     -7.4    1.0  -2721.0362  2706.2362  False\n",
      "            Nebraska            Tennessee    747.8    1.0  -1965.8362  3461.4362  False\n",
      "            Nebraska                Texas  1310.45 0.9996  -1403.1862  4024.0862  False\n",
      "            Nebraska                 Utah -1529.45 0.9894  -4243.0862  1184.1862  False\n",
      "            Nebraska              Vermont  6720.85    0.0   4007.2138  9434.4862   True\n",
      "            Nebraska             Virginia  3320.15 0.0012    606.5138  6033.7862   True\n",
      "            Nebraska           Washington   1632.7 0.9682  -1080.9362  4346.3362  False\n",
      "            Nebraska        West Virginia  -791.75    1.0  -3505.3862  1921.8862  False\n",
      "            Nebraska            Wisconsin    766.3    1.0  -1947.3362  3479.9362  False\n",
      "            Nebraska              Wyoming  -2616.2 0.0816  -5329.8362    97.4362  False\n",
      "              Nevada        New Hampshire   7570.2    0.0   4856.5638 10283.8362   True\n",
      "              Nevada           New Jersey  6331.35    0.0   3617.7138  9044.9862   True\n",
      "              Nevada           New Mexico    -38.8    1.0  -2752.4362  2674.8362  False\n",
      "              Nevada             New York   713.55    1.0  -2000.0862  3427.1862  False\n",
      "              Nevada       North Carolina   -155.2    1.0  -2868.8362  2558.4362  False\n",
      "              Nevada         North Dakota   1368.0 0.9989  -1345.6362  4081.6362  False\n",
      "              Nevada                 Ohio   3885.4    0.0   1171.7638  6599.0362   True\n",
      "              Nevada             Oklahoma    760.5    1.0  -1953.1362  3474.1362  False\n",
      "              Nevada               Oregon  2745.45 0.0423     31.8138  5459.0862   True\n",
      "              Nevada         Pennsylvania  6451.75    0.0   3738.1138  9165.3862   True\n",
      "              Nevada         Rhode Island   4478.0    0.0   1764.3638  7191.6362   True\n",
      "              Nevada       South Carolina  4715.25    0.0   2001.6138  7428.8862   True\n",
      "              Nevada         South Dakota  1113.85    1.0  -1599.7862  3827.4862  False\n",
      "              Nevada            Tennessee  1869.05 0.8213   -844.5862  4582.6862  False\n",
      "              Nevada                Texas   2431.7 0.1858   -281.9362  5145.3362  False\n",
      "              Nevada                 Utah   -408.2    1.0  -3121.8362  2305.4362  False\n",
      "              Nevada              Vermont   7842.1    0.0   5128.4638 10555.7362   True\n",
      "              Nevada             Virginia   4441.4    0.0   1727.7638  7155.0362   True\n",
      "              Nevada           Washington  2753.95 0.0404     40.3138  5467.5862   True\n",
      "              Nevada        West Virginia    329.5    1.0  -2384.1362  3043.1362  False\n",
      "              Nevada            Wisconsin  1887.55  0.803   -826.0862  4601.1862  False\n",
      "              Nevada              Wyoming -1494.95 0.9931  -4208.5862  1218.6862  False\n",
      "       New Hampshire           New Jersey -1238.85 0.9999  -3952.4862  1474.7862  False\n",
      "       New Hampshire           New Mexico  -7609.0    0.0 -10322.6362 -4895.3638   True\n",
      "       New Hampshire             New York -6856.65    0.0  -9570.2862 -4143.0138   True\n",
      "       New Hampshire       North Carolina  -7725.4    0.0 -10439.0362 -5011.7638   True\n",
      "       New Hampshire         North Dakota  -6202.2    0.0  -8915.8362 -3488.5638   True\n",
      "       New Hampshire                 Ohio  -3684.8 0.0001  -6398.4362  -971.1638   True\n",
      "       New Hampshire             Oklahoma  -6809.7    0.0  -9523.3362 -4096.0638   True\n",
      "       New Hampshire               Oregon -4824.75    0.0  -7538.3862 -2111.1138   True\n",
      "       New Hampshire         Pennsylvania -1118.45    1.0  -3832.0862  1595.1862  False\n",
      "       New Hampshire         Rhode Island  -3092.2 0.0055  -5805.8362  -378.5638   True\n",
      "       New Hampshire       South Carolina -2854.95 0.0231  -5568.5862  -141.3138   True\n",
      "       New Hampshire         South Dakota -6456.35    0.0  -9169.9862 -3742.7138   True\n",
      "       New Hampshire            Tennessee -5701.15    0.0  -8414.7862 -2987.5138   True\n",
      "       New Hampshire                Texas  -5138.5    0.0  -7852.1362 -2424.8638   True\n",
      "       New Hampshire                 Utah  -7978.4    0.0 -10692.0362 -5264.7638   True\n",
      "       New Hampshire              Vermont    271.9    1.0  -2441.7362  2985.5362  False\n",
      "       New Hampshire             Virginia  -3128.8 0.0043  -5842.4362  -415.1638   True\n",
      "       New Hampshire           Washington -4816.25    0.0  -7529.8862 -2102.6138   True\n",
      "       New Hampshire        West Virginia  -7240.7    0.0  -9954.3362 -4527.0638   True\n",
      "       New Hampshire            Wisconsin -5682.65    0.0  -8396.2862 -2969.0138   True\n",
      "       New Hampshire              Wyoming -9065.15    0.0 -11778.7862 -6351.5138   True\n",
      "          New Jersey           New Mexico -6370.15    0.0  -9083.7862 -3656.5138   True\n",
      "          New Jersey             New York  -5617.8    0.0  -8331.4362 -2904.1638   True\n",
      "          New Jersey       North Carolina -6486.55    0.0  -9200.1862 -3772.9138   True\n",
      "          New Jersey         North Dakota -4963.35    0.0  -7676.9862 -2249.7138   True\n",
      "          New Jersey                 Ohio -2445.95 0.1753  -5159.5862   267.6862  False\n",
      "          New Jersey             Oklahoma -5570.85    0.0  -8284.4862 -2857.2138   True\n",
      "          New Jersey               Oregon  -3585.9 0.0002  -6299.5362  -872.2638   True\n",
      "          New Jersey         Pennsylvania    120.4    1.0  -2593.2362  2834.0362  False\n",
      "          New Jersey         Rhode Island -1853.35 0.8362  -4566.9862   860.2862  False\n",
      "          New Jersey       South Carolina  -1616.1 0.9729  -4329.7362  1097.5362  False\n",
      "          New Jersey         South Dakota  -5217.5    0.0  -7931.1362 -2503.8638   True\n",
      "          New Jersey            Tennessee  -4462.3    0.0  -7175.9362 -1748.6638   True\n",
      "          New Jersey                Texas -3899.65    0.0  -6613.2862 -1186.0138   True\n",
      "          New Jersey                 Utah -6739.55    0.0  -9453.1862 -4025.9138   True\n",
      "          New Jersey              Vermont  1510.75 0.9916  -1202.8862  4224.3862  False\n",
      "          New Jersey             Virginia -1889.95 0.8005  -4603.5862   823.6862  False\n",
      "          New Jersey           Washington  -3577.4 0.0002  -6291.0362  -863.7638   True\n",
      "          New Jersey        West Virginia -6001.85    0.0  -8715.4862 -3288.2138   True\n",
      "          New Jersey            Wisconsin  -4443.8    0.0  -7157.4362 -1730.1638   True\n",
      "          New Jersey              Wyoming  -7826.3    0.0 -10539.9362 -5112.6638   True\n",
      "          New Mexico             New York   752.35    1.0  -1961.2862  3465.9862  False\n",
      "          New Mexico       North Carolina   -116.4    1.0  -2830.0362  2597.2362  False\n",
      "          New Mexico         North Dakota   1406.8  0.998  -1306.8362  4120.4362  False\n",
      "          New Mexico                 Ohio   3924.2    0.0   1210.5638  6637.8362   True\n",
      "          New Mexico             Oklahoma    799.3    1.0  -1914.3362  3512.9362  False\n",
      "          New Mexico               Oregon  2784.25 0.0343     70.6138  5497.8862   True\n",
      "          New Mexico         Pennsylvania  6490.55    0.0   3776.9138  9204.1862   True\n",
      "          New Mexico         Rhode Island   4516.8    0.0   1803.1638  7230.4362   True\n",
      "          New Mexico       South Carolina  4754.05    0.0   2040.4138  7467.6862   True\n",
      "          New Mexico         South Dakota  1152.65    1.0  -1560.9862  3866.2862  False\n",
      "          New Mexico            Tennessee  1907.85 0.7818   -805.7862  4621.4862  False\n",
      "          New Mexico                Texas   2470.5 0.1582   -243.1362  5184.1362  False\n",
      "          New Mexico                 Utah   -369.4    1.0  -3083.0362  2344.2362  False\n",
      "          New Mexico              Vermont   7880.9    0.0   5167.2638 10594.5362   True\n",
      "          New Mexico             Virginia   4480.2    0.0   1766.5638  7193.8362   True\n",
      "          New Mexico           Washington  2792.75 0.0327     79.1138  5506.3862   True\n",
      "          New Mexico        West Virginia    368.3    1.0  -2345.3362  3081.9362  False\n",
      "          New Mexico            Wisconsin  1926.35 0.7616   -787.2862  4639.9862  False\n",
      "          New Mexico              Wyoming -1456.15 0.9959  -4169.7862  1257.4862  False\n",
      "            New York       North Carolina  -868.75    1.0  -3582.3862  1844.8862  False\n",
      "            New York         North Dakota   654.45    1.0  -2059.1862  3368.0862  False\n",
      "            New York                 Ohio  3171.85 0.0032    458.2138  5885.4862   True\n",
      "            New York             Oklahoma    46.95    1.0  -2666.6862  2760.5862  False\n",
      "            New York               Oregon   2031.9  0.634   -681.7362  4745.5362  False\n",
      "            New York         Pennsylvania   5738.2    0.0   3024.5638  8451.8362   True\n",
      "            New York         Rhode Island  3764.45    0.0   1050.8138  6478.0862   True\n",
      "            New York       South Carolina   4001.7    0.0   1288.0638  6715.3362   True\n",
      "            New York         South Dakota    400.3    1.0  -2313.3362  3113.9362  False\n",
      "            New York            Tennessee   1155.5    1.0  -1558.1362  3869.1362  False\n",
      "            New York                Texas  1718.15 0.9336   -995.4862  4431.7862  False\n",
      "            New York                 Utah -1121.75    1.0  -3835.3862  1591.8862  False\n",
      "            New York              Vermont  7128.55    0.0   4414.9138  9842.1862   True\n",
      "            New York             Virginia  3727.85 0.0001   1014.2138  6441.4862   True\n",
      "            New York           Washington   2040.4 0.6231   -673.2362  4754.0362  False\n",
      "            New York        West Virginia  -384.05    1.0  -3097.6862  2329.5862  False\n",
      "            New York            Wisconsin   1174.0    1.0  -1539.6362  3887.6362  False\n",
      "            New York              Wyoming  -2208.5 0.4082  -4922.1362   505.1362  False\n",
      "      North Carolina         North Dakota   1523.2 0.9902  -1190.4362  4236.8362  False\n",
      "      North Carolina                 Ohio   4040.6    0.0   1326.9638  6754.2362   True\n",
      "      North Carolina             Oklahoma    915.7    1.0  -1797.9362  3629.3362  False\n",
      "      North Carolina               Oregon  2900.65 0.0177    187.0138  5614.2862   True\n",
      "      North Carolina         Pennsylvania  6606.95    0.0   3893.3138  9320.5862   True\n",
      "      North Carolina         Rhode Island   4633.2    0.0   1919.5638  7346.8362   True\n",
      "      North Carolina       South Carolina  4870.45    0.0   2156.8138  7584.0862   True\n",
      "      North Carolina         South Dakota  1269.05 0.9998  -1444.5862  3982.6862  False\n",
      "      North Carolina            Tennessee  2024.25 0.6438   -689.3862  4737.8862  False\n",
      "      North Carolina                Texas   2586.9 0.0939   -126.7362  5300.5362  False\n",
      "      North Carolina                 Utah   -253.0    1.0  -2966.6362  2460.6362  False\n",
      "      North Carolina              Vermont   7997.3    0.0   5283.6638 10710.9362   True\n",
      "      North Carolina             Virginia   4596.6    0.0   1882.9638  7310.2362   True\n",
      "      North Carolina           Washington  2909.15 0.0169    195.5138  5622.7862   True\n",
      "      North Carolina        West Virginia    484.7    1.0  -2228.9362  3198.3362  False\n",
      "      North Carolina            Wisconsin  2042.75 0.6201   -670.8862  4756.3862  False\n",
      "      North Carolina              Wyoming -1339.75 0.9993  -4053.3862  1373.8862  False\n",
      "        North Dakota                 Ohio   2517.4 0.1291   -196.2362  5231.0362  False\n",
      "        North Dakota             Oklahoma   -607.5    1.0  -3321.1362  2106.1362  False\n",
      "        North Dakota               Oregon  1377.45 0.9987  -1336.1862  4091.0862  False\n",
      "        North Dakota         Pennsylvania  5083.75    0.0   2370.1138  7797.3862   True\n",
      "        North Dakota         Rhode Island   3110.0 0.0049    396.3638  5823.6362   True\n",
      "        North Dakota       South Carolina  3347.25  0.001    633.6138  6060.8862   True\n",
      "        North Dakota         South Dakota  -254.15    1.0  -2967.7862  2459.4862  False\n",
      "        North Dakota            Tennessee   501.05    1.0  -2212.5862  3214.6862  False\n",
      "        North Dakota                Texas   1063.7    1.0  -1649.9362  3777.3362  False\n",
      "        North Dakota                 Utah  -1776.2 0.8985  -4489.8362   937.4362  False\n",
      "        North Dakota              Vermont   6474.1    0.0   3760.4638  9187.7362   True\n",
      "        North Dakota             Virginia   3073.4 0.0062    359.7638  5787.0362   True\n",
      "        North Dakota           Washington  1385.95 0.9985  -1327.6862  4099.5862  False\n",
      "        North Dakota        West Virginia  -1038.5    1.0  -3752.1362  1675.1362  False\n",
      "        North Dakota            Wisconsin   519.55    1.0  -2194.0862  3233.1862  False\n",
      "        North Dakota              Wyoming -2862.95 0.0221  -5576.5862  -149.3138   True\n",
      "                Ohio             Oklahoma  -3124.9 0.0044  -5838.5362  -411.2638   True\n",
      "                Ohio               Oregon -1139.95    1.0  -3853.5862  1573.6862  False\n",
      "                Ohio         Pennsylvania  2566.35 0.1034   -147.2862  5279.9862  False\n",
      "                Ohio         Rhode Island    592.6    1.0  -2121.0362  3306.2362  False\n",
      "                Ohio       South Carolina   829.85    1.0  -1883.7862  3543.4862  False\n",
      "                Ohio         South Dakota -2771.55 0.0367  -5485.1862   -57.9138   True\n",
      "                Ohio            Tennessee -2016.35 0.6538  -4729.9862   697.2862  False\n",
      "                Ohio                Texas  -1453.7  0.996  -4167.3362  1259.9362  False\n",
      "                Ohio                 Utah  -4293.6    0.0  -7007.2362 -1579.9638   True\n",
      "                Ohio              Vermont   3956.7    0.0   1243.0638  6670.3362   True\n",
      "                Ohio             Virginia    556.0    1.0  -2157.6362  3269.6362  False\n",
      "                Ohio           Washington -1131.45    1.0  -3845.0862  1582.1862  False\n",
      "                Ohio        West Virginia  -3555.9 0.0002  -6269.5362  -842.2638   True\n",
      "                Ohio            Wisconsin -1997.85  0.677  -4711.4862   715.7862  False\n",
      "                Ohio              Wyoming -5380.35    0.0  -8093.9862 -2666.7138   True\n",
      "            Oklahoma               Oregon  1984.95 0.6929   -728.6862  4698.5862  False\n",
      "            Oklahoma         Pennsylvania  5691.25    0.0   2977.6138  8404.8862   True\n",
      "            Oklahoma         Rhode Island   3717.5 0.0001   1003.8638  6431.1362   True\n",
      "            Oklahoma       South Carolina  3954.75    0.0   1241.1138  6668.3862   True\n",
      "            Oklahoma         South Dakota   353.35    1.0  -2360.2862  3066.9862  False\n",
      "            Oklahoma            Tennessee  1108.55    1.0  -1605.0862  3822.1862  False\n",
      "            Oklahoma                Texas   1671.2 0.9549  -1042.4362  4384.8362  False\n",
      "            Oklahoma                 Utah  -1168.7    1.0  -3882.3362  1544.9362  False\n",
      "            Oklahoma              Vermont   7081.6    0.0   4367.9638  9795.2362   True\n",
      "            Oklahoma             Virginia   3680.9 0.0001    967.2638  6394.5362   True\n",
      "            Oklahoma           Washington  1993.45 0.6825   -720.1862  4707.0862  False\n",
      "            Oklahoma        West Virginia   -431.0    1.0  -3144.6362  2282.6362  False\n",
      "            Oklahoma            Wisconsin  1127.05    1.0  -1586.5862  3840.6862  False\n",
      "            Oklahoma              Wyoming -2255.45 0.3531  -4969.0862   458.1862  False\n",
      "              Oregon         Pennsylvania   3706.3 0.0001    992.6638  6419.9362   True\n",
      "              Oregon         Rhode Island  1732.55 0.9258   -981.0862  4446.1862  False\n",
      "              Oregon       South Carolina   1969.8 0.7113   -743.8362  4683.4362  False\n",
      "              Oregon         South Dakota  -1631.6 0.9686  -4345.2362  1082.0362  False\n",
      "              Oregon            Tennessee   -876.4    1.0  -3590.0362  1837.2362  False\n",
      "              Oregon                Texas  -313.75    1.0  -3027.3862  2399.8862  False\n",
      "              Oregon                 Utah -3153.65 0.0037  -5867.2862  -440.0138   True\n",
      "              Oregon              Vermont  5096.65    0.0   2383.0138  7810.2862   True\n",
      "              Oregon             Virginia  1695.95 0.9444  -1017.6862  4409.5862  False\n",
      "              Oregon           Washington      8.5    1.0  -2705.1362  2722.1362  False\n",
      "              Oregon        West Virginia -2415.95  0.198  -5129.5862   297.6862  False\n",
      "              Oregon            Wisconsin   -857.9    1.0  -3571.5362  1855.7362  False\n",
      "              Oregon              Wyoming  -4240.4    0.0  -6954.0362 -1526.7638   True\n",
      "        Pennsylvania         Rhode Island -1973.75 0.7065  -4687.3862   739.8862  False\n",
      "        Pennsylvania       South Carolina  -1736.5 0.9236  -4450.1362   977.1362  False\n",
      "        Pennsylvania         South Dakota  -5337.9    0.0  -8051.5362 -2624.2638   True\n",
      "        Pennsylvania            Tennessee  -4582.7    0.0  -7296.3362 -1869.0638   True\n",
      "        Pennsylvania                Texas -4020.05    0.0  -6733.6862 -1306.4138   True\n",
      "        Pennsylvania                 Utah -6859.95    0.0  -9573.5862 -4146.3138   True\n",
      "        Pennsylvania              Vermont  1390.35 0.9984  -1323.2862  4103.9862  False\n",
      "        Pennsylvania             Virginia -2010.35 0.6614  -4723.9862   703.2862  False\n",
      "        Pennsylvania           Washington  -3697.8 0.0001  -6411.4362  -984.1638   True\n",
      "        Pennsylvania        West Virginia -6122.25    0.0  -8835.8862 -3408.6138   True\n",
      "        Pennsylvania            Wisconsin  -4564.2    0.0  -7277.8362 -1850.5638   True\n",
      "        Pennsylvania              Wyoming  -7946.7    0.0 -10660.3362 -5233.0638   True\n",
      "        Rhode Island       South Carolina   237.25    1.0  -2476.3862  2950.8862  False\n",
      "        Rhode Island         South Dakota -3364.15 0.0009  -6077.7862  -650.5138   True\n",
      "        Rhode Island            Tennessee -2608.95 0.0845  -5322.5862   104.6862  False\n",
      "        Rhode Island                Texas  -2046.3 0.6155  -4759.9362   667.3362  False\n",
      "        Rhode Island                 Utah  -4886.2    0.0  -7599.8362 -2172.5638   True\n",
      "        Rhode Island              Vermont   3364.1 0.0009    650.4638  6077.7362   True\n",
      "        Rhode Island             Virginia    -36.6    1.0  -2750.2362  2677.0362  False\n",
      "        Rhode Island           Washington -1724.05 0.9305  -4437.6862   989.5862  False\n",
      "        Rhode Island        West Virginia  -4148.5    0.0  -6862.1362 -1434.8638   True\n",
      "        Rhode Island            Wisconsin -2590.45 0.0923  -5304.0862   123.1862  False\n",
      "        Rhode Island              Wyoming -5972.95    0.0  -8686.5862 -3259.3138   True\n",
      "      South Carolina         South Dakota  -3601.4 0.0001  -6315.0362  -887.7638   True\n",
      "      South Carolina            Tennessee  -2846.2 0.0243  -5559.8362  -132.5638   True\n",
      "      South Carolina                Texas -2283.55  0.322  -4997.1862   430.0862  False\n",
      "      South Carolina                 Utah -5123.45    0.0  -7837.0862 -2409.8138   True\n",
      "      South Carolina              Vermont  3126.85 0.0044    413.2138  5840.4862   True\n",
      "      South Carolina             Virginia  -273.85    1.0  -2987.4862  2439.7862  False\n",
      "      South Carolina           Washington  -1961.3 0.7214  -4674.9362   752.3362  False\n",
      "      South Carolina        West Virginia -4385.75    0.0  -7099.3862 -1672.1138   True\n",
      "      South Carolina            Wisconsin  -2827.7  0.027  -5541.3362  -114.0638   True\n",
      "      South Carolina              Wyoming  -6210.2    0.0  -8923.8362 -3496.5638   True\n",
      "        South Dakota            Tennessee    755.2    1.0  -1958.4362  3468.8362  False\n",
      "        South Dakota                Texas  1317.85 0.9995  -1395.7862  4031.4862  False\n",
      "        South Dakota                 Utah -1522.05 0.9903  -4235.6862  1191.5862  False\n",
      "        South Dakota              Vermont  6728.25    0.0   4014.6138  9441.8862   True\n",
      "        South Dakota             Virginia  3327.55 0.0011    613.9138  6041.1862   True\n",
      "        South Dakota           Washington   1640.1 0.9659  -1073.5362  4353.7362  False\n",
      "        South Dakota        West Virginia  -784.35    1.0  -3497.9862  1929.2862  False\n",
      "        South Dakota            Wisconsin    773.7    1.0  -1939.9362  3487.3362  False\n",
      "        South Dakota              Wyoming  -2608.8 0.0846  -5322.4362   104.8362  False\n",
      "           Tennessee                Texas   562.65    1.0  -2150.9862  3276.2862  False\n",
      "           Tennessee                 Utah -2277.25 0.3289  -4990.8862   436.3862  False\n",
      "           Tennessee              Vermont  5973.05    0.0   3259.4138  8686.6862   True\n",
      "           Tennessee             Virginia  2572.35 0.1005   -141.2862  5285.9862  False\n",
      "           Tennessee           Washington    884.9    1.0  -1828.7362  3598.5362  False\n",
      "           Tennessee        West Virginia -1539.55 0.9881  -4253.1862  1174.0862  False\n",
      "           Tennessee            Wisconsin     18.5    1.0  -2695.1362  2732.1362  False\n",
      "           Tennessee              Wyoming  -3364.0 0.0009  -6077.6362  -650.3638   True\n",
      "               Texas                 Utah  -2839.9 0.0252  -5553.5362  -126.2638   True\n",
      "               Texas              Vermont   5410.4    0.0   2696.7638  8124.0362   True\n",
      "               Texas             Virginia   2009.7 0.6622   -703.9362  4723.3362  False\n",
      "               Texas           Washington   322.25    1.0  -2391.3862  3035.8862  False\n",
      "               Texas        West Virginia  -2102.2 0.5429  -4815.8362   611.4362  False\n",
      "               Texas            Wisconsin  -544.15    1.0  -3257.7862  2169.4862  False\n",
      "               Texas              Wyoming -3926.65    0.0  -6640.2862 -1213.0138   True\n",
      "                Utah              Vermont   8250.3    0.0   5536.6638 10963.9362   True\n",
      "                Utah             Virginia   4849.6    0.0   2135.9638  7563.2362   True\n",
      "                Utah           Washington  3162.15 0.0035    448.5138  5875.7862   True\n",
      "                Utah        West Virginia    737.7    1.0  -1975.9362  3451.3362  False\n",
      "                Utah            Wisconsin  2295.75  0.309   -417.8862  5009.3862  False\n",
      "                Utah              Wyoming -1086.75    1.0  -3800.3862  1626.8862  False\n",
      "             Vermont             Virginia  -3400.7 0.0007  -6114.3362  -687.0638   True\n",
      "             Vermont           Washington -5088.15    0.0  -7801.7862 -2374.5138   True\n",
      "             Vermont        West Virginia  -7512.6    0.0 -10226.2362 -4798.9638   True\n",
      "             Vermont            Wisconsin -5954.55    0.0  -8668.1862 -3240.9138   True\n",
      "             Vermont              Wyoming -9337.05    0.0 -12050.6862 -6623.4138   True\n",
      "            Virginia           Washington -1687.45 0.9482  -4401.0862  1026.1862  False\n",
      "            Virginia        West Virginia  -4111.9    0.0  -6825.5362 -1398.2638   True\n",
      "            Virginia            Wisconsin -2553.85 0.1095  -5267.4862   159.7862  False\n",
      "            Virginia              Wyoming -5936.35    0.0  -8649.9862 -3222.7138   True\n",
      "          Washington        West Virginia -2424.45 0.1914  -5138.0862   289.1862  False\n",
      "          Washington            Wisconsin   -866.4    1.0  -3580.0362  1847.2362  False\n",
      "          Washington              Wyoming  -4248.9    0.0  -6962.5362 -1535.2638   True\n",
      "       West Virginia            Wisconsin  1558.05 0.9853  -1155.5862  4271.6862  False\n",
      "       West Virginia              Wyoming -1824.45 0.8616  -4538.0862   889.1862  False\n",
      "           Wisconsin              Wyoming  -3382.5 0.0008  -6096.1362  -668.8638   True\n",
      "---------------------------------------------------------------------------------------\n"
     ]
    }
   ],
   "source": [
    "print(tukey_results)"
   ]
  },
  {
   "cell_type": "code",
   "execution_count": 12,
   "metadata": {},
   "outputs": [],
   "source": [
    "tukey_df = pd.DataFrame(data=tukey_results._results_table.data[1:], columns=tukey_results._results_table.data[0])\n",
    "\n",
    "# Filter rows where reject is True\n",
    "significant_differences = tukey_df[tukey_df['reject'] == True]\n",
    "diff_mn = significant_differences[significant_differences['group1']=='Minnesota']\n"
   ]
  },
  {
   "cell_type": "code",
   "execution_count": 13,
   "metadata": {},
   "outputs": [
    {
     "data": {
      "text/html": [
       "<div>\n",
       "<style scoped>\n",
       "    .dataframe tbody tr th:only-of-type {\n",
       "        vertical-align: middle;\n",
       "    }\n",
       "\n",
       "    .dataframe tbody tr th {\n",
       "        vertical-align: top;\n",
       "    }\n",
       "\n",
       "    .dataframe thead th {\n",
       "        text-align: right;\n",
       "    }\n",
       "</style>\n",
       "<table border=\"1\" class=\"dataframe\">\n",
       "  <thead>\n",
       "    <tr style=\"text-align: right;\">\n",
       "      <th></th>\n",
       "      <th>group1</th>\n",
       "      <th>group2</th>\n",
       "      <th>meandiff</th>\n",
       "      <th>p-adj</th>\n",
       "      <th>lower</th>\n",
       "      <th>upper</th>\n",
       "      <th>reject</th>\n",
       "    </tr>\n",
       "  </thead>\n",
       "  <tbody>\n",
       "    <tr>\n",
       "      <th>897</th>\n",
       "      <td>Minnesota</td>\n",
       "      <td>Mississippi</td>\n",
       "      <td>-3531.60</td>\n",
       "      <td>0.0002</td>\n",
       "      <td>-6245.2362</td>\n",
       "      <td>-817.9638</td>\n",
       "      <td>True</td>\n",
       "    </tr>\n",
       "    <tr>\n",
       "      <th>899</th>\n",
       "      <td>Minnesota</td>\n",
       "      <td>Montana</td>\n",
       "      <td>-3968.20</td>\n",
       "      <td>0.0000</td>\n",
       "      <td>-6681.8362</td>\n",
       "      <td>-1254.5638</td>\n",
       "      <td>True</td>\n",
       "    </tr>\n",
       "    <tr>\n",
       "      <th>900</th>\n",
       "      <td>Minnesota</td>\n",
       "      <td>Nebraska</td>\n",
       "      <td>-2906.45</td>\n",
       "      <td>0.0171</td>\n",
       "      <td>-5620.0862</td>\n",
       "      <td>-192.8138</td>\n",
       "      <td>True</td>\n",
       "    </tr>\n",
       "    <tr>\n",
       "      <th>901</th>\n",
       "      <td>Minnesota</td>\n",
       "      <td>Nevada</td>\n",
       "      <td>-4027.70</td>\n",
       "      <td>0.0000</td>\n",
       "      <td>-6741.3362</td>\n",
       "      <td>-1314.0638</td>\n",
       "      <td>True</td>\n",
       "    </tr>\n",
       "    <tr>\n",
       "      <th>902</th>\n",
       "      <td>Minnesota</td>\n",
       "      <td>New Hampshire</td>\n",
       "      <td>3542.50</td>\n",
       "      <td>0.0002</td>\n",
       "      <td>828.8638</td>\n",
       "      <td>6256.1362</td>\n",
       "      <td>True</td>\n",
       "    </tr>\n",
       "    <tr>\n",
       "      <th>904</th>\n",
       "      <td>Minnesota</td>\n",
       "      <td>New Mexico</td>\n",
       "      <td>-4066.50</td>\n",
       "      <td>0.0000</td>\n",
       "      <td>-6780.1362</td>\n",
       "      <td>-1352.8638</td>\n",
       "      <td>True</td>\n",
       "    </tr>\n",
       "    <tr>\n",
       "      <th>905</th>\n",
       "      <td>Minnesota</td>\n",
       "      <td>New York</td>\n",
       "      <td>-3314.15</td>\n",
       "      <td>0.0012</td>\n",
       "      <td>-6027.7862</td>\n",
       "      <td>-600.5138</td>\n",
       "      <td>True</td>\n",
       "    </tr>\n",
       "    <tr>\n",
       "      <th>906</th>\n",
       "      <td>Minnesota</td>\n",
       "      <td>North Carolina</td>\n",
       "      <td>-4182.90</td>\n",
       "      <td>0.0000</td>\n",
       "      <td>-6896.5362</td>\n",
       "      <td>-1469.2638</td>\n",
       "      <td>True</td>\n",
       "    </tr>\n",
       "    <tr>\n",
       "      <th>909</th>\n",
       "      <td>Minnesota</td>\n",
       "      <td>Oklahoma</td>\n",
       "      <td>-3267.20</td>\n",
       "      <td>0.0017</td>\n",
       "      <td>-5980.8362</td>\n",
       "      <td>-553.5638</td>\n",
       "      <td>True</td>\n",
       "    </tr>\n",
       "    <tr>\n",
       "      <th>914</th>\n",
       "      <td>Minnesota</td>\n",
       "      <td>South Dakota</td>\n",
       "      <td>-2913.85</td>\n",
       "      <td>0.0164</td>\n",
       "      <td>-5627.4862</td>\n",
       "      <td>-200.2138</td>\n",
       "      <td>True</td>\n",
       "    </tr>\n",
       "    <tr>\n",
       "      <th>917</th>\n",
       "      <td>Minnesota</td>\n",
       "      <td>Utah</td>\n",
       "      <td>-4435.90</td>\n",
       "      <td>0.0000</td>\n",
       "      <td>-7149.5362</td>\n",
       "      <td>-1722.2638</td>\n",
       "      <td>True</td>\n",
       "    </tr>\n",
       "    <tr>\n",
       "      <th>918</th>\n",
       "      <td>Minnesota</td>\n",
       "      <td>Vermont</td>\n",
       "      <td>3814.40</td>\n",
       "      <td>0.0000</td>\n",
       "      <td>1100.7638</td>\n",
       "      <td>6528.0362</td>\n",
       "      <td>True</td>\n",
       "    </tr>\n",
       "    <tr>\n",
       "      <th>921</th>\n",
       "      <td>Minnesota</td>\n",
       "      <td>West Virginia</td>\n",
       "      <td>-3698.20</td>\n",
       "      <td>0.0001</td>\n",
       "      <td>-6411.8362</td>\n",
       "      <td>-984.5638</td>\n",
       "      <td>True</td>\n",
       "    </tr>\n",
       "    <tr>\n",
       "      <th>923</th>\n",
       "      <td>Minnesota</td>\n",
       "      <td>Wyoming</td>\n",
       "      <td>-5522.65</td>\n",
       "      <td>0.0000</td>\n",
       "      <td>-8236.2862</td>\n",
       "      <td>-2809.0138</td>\n",
       "      <td>True</td>\n",
       "    </tr>\n",
       "  </tbody>\n",
       "</table>\n",
       "</div>"
      ],
      "text/plain": [
       "        group1          group2  meandiff   p-adj      lower      upper  reject\n",
       "897  Minnesota     Mississippi  -3531.60  0.0002 -6245.2362  -817.9638    True\n",
       "899  Minnesota         Montana  -3968.20  0.0000 -6681.8362 -1254.5638    True\n",
       "900  Minnesota        Nebraska  -2906.45  0.0171 -5620.0862  -192.8138    True\n",
       "901  Minnesota          Nevada  -4027.70  0.0000 -6741.3362 -1314.0638    True\n",
       "902  Minnesota   New Hampshire   3542.50  0.0002   828.8638  6256.1362    True\n",
       "904  Minnesota      New Mexico  -4066.50  0.0000 -6780.1362 -1352.8638    True\n",
       "905  Minnesota        New York  -3314.15  0.0012 -6027.7862  -600.5138    True\n",
       "906  Minnesota  North Carolina  -4182.90  0.0000 -6896.5362 -1469.2638    True\n",
       "909  Minnesota        Oklahoma  -3267.20  0.0017 -5980.8362  -553.5638    True\n",
       "914  Minnesota    South Dakota  -2913.85  0.0164 -5627.4862  -200.2138    True\n",
       "917  Minnesota            Utah  -4435.90  0.0000 -7149.5362 -1722.2638    True\n",
       "918  Minnesota         Vermont   3814.40  0.0000  1100.7638  6528.0362    True\n",
       "921  Minnesota   West Virginia  -3698.20  0.0001 -6411.8362  -984.5638    True\n",
       "923  Minnesota         Wyoming  -5522.65  0.0000 -8236.2862 -2809.0138    True"
      ]
     },
     "execution_count": 13,
     "metadata": {},
     "output_type": "execute_result"
    }
   ],
   "source": [
    "diff_mn"
   ]
  },
  {
   "cell_type": "code",
   "execution_count": 14,
   "metadata": {},
   "outputs": [
    {
     "data": {
      "application/vnd.plotly.v1+json": {
       "config": {
        "plotlyServerURL": "https://plot.ly"
       },
       "data": [
        {
         "alignmentgroup": "True",
         "hovertemplate": "p-adj=%{x}<br>group2=%{y}<extra></extra>",
         "legendgroup": "",
         "marker": {
          "color": "#636efa",
          "pattern": {
           "shape": ""
          }
         },
         "name": "",
         "offsetgroup": "",
         "orientation": "h",
         "showlegend": false,
         "textposition": "auto",
         "type": "bar",
         "x": [
          0.0002,
          0,
          0.0171,
          0,
          0.0002,
          0,
          0.0012,
          0,
          0.0017,
          0.0164,
          0,
          0,
          0.0001,
          0
         ],
         "xaxis": "x",
         "y": [
          "Mississippi",
          "Montana",
          "Nebraska",
          "Nevada",
          "New Hampshire",
          "New Mexico",
          "New York",
          "North Carolina",
          "Oklahoma",
          "South Dakota",
          "Utah",
          "Vermont",
          "West Virginia",
          "Wyoming"
         ],
         "yaxis": "y"
        }
       ],
       "layout": {
        "barmode": "relative",
        "legend": {
         "tracegroupgap": 0
        },
        "margin": {
         "t": 60
        },
        "template": {
         "data": {
          "bar": [
           {
            "error_x": {
             "color": "#2a3f5f"
            },
            "error_y": {
             "color": "#2a3f5f"
            },
            "marker": {
             "line": {
              "color": "#E5ECF6",
              "width": 0.5
             },
             "pattern": {
              "fillmode": "overlay",
              "size": 10,
              "solidity": 0.2
             }
            },
            "type": "bar"
           }
          ],
          "barpolar": [
           {
            "marker": {
             "line": {
              "color": "#E5ECF6",
              "width": 0.5
             },
             "pattern": {
              "fillmode": "overlay",
              "size": 10,
              "solidity": 0.2
             }
            },
            "type": "barpolar"
           }
          ],
          "carpet": [
           {
            "aaxis": {
             "endlinecolor": "#2a3f5f",
             "gridcolor": "white",
             "linecolor": "white",
             "minorgridcolor": "white",
             "startlinecolor": "#2a3f5f"
            },
            "baxis": {
             "endlinecolor": "#2a3f5f",
             "gridcolor": "white",
             "linecolor": "white",
             "minorgridcolor": "white",
             "startlinecolor": "#2a3f5f"
            },
            "type": "carpet"
           }
          ],
          "choropleth": [
           {
            "colorbar": {
             "outlinewidth": 0,
             "ticks": ""
            },
            "type": "choropleth"
           }
          ],
          "contour": [
           {
            "colorbar": {
             "outlinewidth": 0,
             "ticks": ""
            },
            "colorscale": [
             [
              0,
              "#0d0887"
             ],
             [
              0.1111111111111111,
              "#46039f"
             ],
             [
              0.2222222222222222,
              "#7201a8"
             ],
             [
              0.3333333333333333,
              "#9c179e"
             ],
             [
              0.4444444444444444,
              "#bd3786"
             ],
             [
              0.5555555555555556,
              "#d8576b"
             ],
             [
              0.6666666666666666,
              "#ed7953"
             ],
             [
              0.7777777777777778,
              "#fb9f3a"
             ],
             [
              0.8888888888888888,
              "#fdca26"
             ],
             [
              1,
              "#f0f921"
             ]
            ],
            "type": "contour"
           }
          ],
          "contourcarpet": [
           {
            "colorbar": {
             "outlinewidth": 0,
             "ticks": ""
            },
            "type": "contourcarpet"
           }
          ],
          "heatmap": [
           {
            "colorbar": {
             "outlinewidth": 0,
             "ticks": ""
            },
            "colorscale": [
             [
              0,
              "#0d0887"
             ],
             [
              0.1111111111111111,
              "#46039f"
             ],
             [
              0.2222222222222222,
              "#7201a8"
             ],
             [
              0.3333333333333333,
              "#9c179e"
             ],
             [
              0.4444444444444444,
              "#bd3786"
             ],
             [
              0.5555555555555556,
              "#d8576b"
             ],
             [
              0.6666666666666666,
              "#ed7953"
             ],
             [
              0.7777777777777778,
              "#fb9f3a"
             ],
             [
              0.8888888888888888,
              "#fdca26"
             ],
             [
              1,
              "#f0f921"
             ]
            ],
            "type": "heatmap"
           }
          ],
          "heatmapgl": [
           {
            "colorbar": {
             "outlinewidth": 0,
             "ticks": ""
            },
            "colorscale": [
             [
              0,
              "#0d0887"
             ],
             [
              0.1111111111111111,
              "#46039f"
             ],
             [
              0.2222222222222222,
              "#7201a8"
             ],
             [
              0.3333333333333333,
              "#9c179e"
             ],
             [
              0.4444444444444444,
              "#bd3786"
             ],
             [
              0.5555555555555556,
              "#d8576b"
             ],
             [
              0.6666666666666666,
              "#ed7953"
             ],
             [
              0.7777777777777778,
              "#fb9f3a"
             ],
             [
              0.8888888888888888,
              "#fdca26"
             ],
             [
              1,
              "#f0f921"
             ]
            ],
            "type": "heatmapgl"
           }
          ],
          "histogram": [
           {
            "marker": {
             "pattern": {
              "fillmode": "overlay",
              "size": 10,
              "solidity": 0.2
             }
            },
            "type": "histogram"
           }
          ],
          "histogram2d": [
           {
            "colorbar": {
             "outlinewidth": 0,
             "ticks": ""
            },
            "colorscale": [
             [
              0,
              "#0d0887"
             ],
             [
              0.1111111111111111,
              "#46039f"
             ],
             [
              0.2222222222222222,
              "#7201a8"
             ],
             [
              0.3333333333333333,
              "#9c179e"
             ],
             [
              0.4444444444444444,
              "#bd3786"
             ],
             [
              0.5555555555555556,
              "#d8576b"
             ],
             [
              0.6666666666666666,
              "#ed7953"
             ],
             [
              0.7777777777777778,
              "#fb9f3a"
             ],
             [
              0.8888888888888888,
              "#fdca26"
             ],
             [
              1,
              "#f0f921"
             ]
            ],
            "type": "histogram2d"
           }
          ],
          "histogram2dcontour": [
           {
            "colorbar": {
             "outlinewidth": 0,
             "ticks": ""
            },
            "colorscale": [
             [
              0,
              "#0d0887"
             ],
             [
              0.1111111111111111,
              "#46039f"
             ],
             [
              0.2222222222222222,
              "#7201a8"
             ],
             [
              0.3333333333333333,
              "#9c179e"
             ],
             [
              0.4444444444444444,
              "#bd3786"
             ],
             [
              0.5555555555555556,
              "#d8576b"
             ],
             [
              0.6666666666666666,
              "#ed7953"
             ],
             [
              0.7777777777777778,
              "#fb9f3a"
             ],
             [
              0.8888888888888888,
              "#fdca26"
             ],
             [
              1,
              "#f0f921"
             ]
            ],
            "type": "histogram2dcontour"
           }
          ],
          "mesh3d": [
           {
            "colorbar": {
             "outlinewidth": 0,
             "ticks": ""
            },
            "type": "mesh3d"
           }
          ],
          "parcoords": [
           {
            "line": {
             "colorbar": {
              "outlinewidth": 0,
              "ticks": ""
             }
            },
            "type": "parcoords"
           }
          ],
          "pie": [
           {
            "automargin": true,
            "type": "pie"
           }
          ],
          "scatter": [
           {
            "fillpattern": {
             "fillmode": "overlay",
             "size": 10,
             "solidity": 0.2
            },
            "type": "scatter"
           }
          ],
          "scatter3d": [
           {
            "line": {
             "colorbar": {
              "outlinewidth": 0,
              "ticks": ""
             }
            },
            "marker": {
             "colorbar": {
              "outlinewidth": 0,
              "ticks": ""
             }
            },
            "type": "scatter3d"
           }
          ],
          "scattercarpet": [
           {
            "marker": {
             "colorbar": {
              "outlinewidth": 0,
              "ticks": ""
             }
            },
            "type": "scattercarpet"
           }
          ],
          "scattergeo": [
           {
            "marker": {
             "colorbar": {
              "outlinewidth": 0,
              "ticks": ""
             }
            },
            "type": "scattergeo"
           }
          ],
          "scattergl": [
           {
            "marker": {
             "colorbar": {
              "outlinewidth": 0,
              "ticks": ""
             }
            },
            "type": "scattergl"
           }
          ],
          "scattermapbox": [
           {
            "marker": {
             "colorbar": {
              "outlinewidth": 0,
              "ticks": ""
             }
            },
            "type": "scattermapbox"
           }
          ],
          "scatterpolar": [
           {
            "marker": {
             "colorbar": {
              "outlinewidth": 0,
              "ticks": ""
             }
            },
            "type": "scatterpolar"
           }
          ],
          "scatterpolargl": [
           {
            "marker": {
             "colorbar": {
              "outlinewidth": 0,
              "ticks": ""
             }
            },
            "type": "scatterpolargl"
           }
          ],
          "scatterternary": [
           {
            "marker": {
             "colorbar": {
              "outlinewidth": 0,
              "ticks": ""
             }
            },
            "type": "scatterternary"
           }
          ],
          "surface": [
           {
            "colorbar": {
             "outlinewidth": 0,
             "ticks": ""
            },
            "colorscale": [
             [
              0,
              "#0d0887"
             ],
             [
              0.1111111111111111,
              "#46039f"
             ],
             [
              0.2222222222222222,
              "#7201a8"
             ],
             [
              0.3333333333333333,
              "#9c179e"
             ],
             [
              0.4444444444444444,
              "#bd3786"
             ],
             [
              0.5555555555555556,
              "#d8576b"
             ],
             [
              0.6666666666666666,
              "#ed7953"
             ],
             [
              0.7777777777777778,
              "#fb9f3a"
             ],
             [
              0.8888888888888888,
              "#fdca26"
             ],
             [
              1,
              "#f0f921"
             ]
            ],
            "type": "surface"
           }
          ],
          "table": [
           {
            "cells": {
             "fill": {
              "color": "#EBF0F8"
             },
             "line": {
              "color": "white"
             }
            },
            "header": {
             "fill": {
              "color": "#C8D4E3"
             },
             "line": {
              "color": "white"
             }
            },
            "type": "table"
           }
          ]
         },
         "layout": {
          "annotationdefaults": {
           "arrowcolor": "#2a3f5f",
           "arrowhead": 0,
           "arrowwidth": 1
          },
          "autotypenumbers": "strict",
          "coloraxis": {
           "colorbar": {
            "outlinewidth": 0,
            "ticks": ""
           }
          },
          "colorscale": {
           "diverging": [
            [
             0,
             "#8e0152"
            ],
            [
             0.1,
             "#c51b7d"
            ],
            [
             0.2,
             "#de77ae"
            ],
            [
             0.3,
             "#f1b6da"
            ],
            [
             0.4,
             "#fde0ef"
            ],
            [
             0.5,
             "#f7f7f7"
            ],
            [
             0.6,
             "#e6f5d0"
            ],
            [
             0.7,
             "#b8e186"
            ],
            [
             0.8,
             "#7fbc41"
            ],
            [
             0.9,
             "#4d9221"
            ],
            [
             1,
             "#276419"
            ]
           ],
           "sequential": [
            [
             0,
             "#0d0887"
            ],
            [
             0.1111111111111111,
             "#46039f"
            ],
            [
             0.2222222222222222,
             "#7201a8"
            ],
            [
             0.3333333333333333,
             "#9c179e"
            ],
            [
             0.4444444444444444,
             "#bd3786"
            ],
            [
             0.5555555555555556,
             "#d8576b"
            ],
            [
             0.6666666666666666,
             "#ed7953"
            ],
            [
             0.7777777777777778,
             "#fb9f3a"
            ],
            [
             0.8888888888888888,
             "#fdca26"
            ],
            [
             1,
             "#f0f921"
            ]
           ],
           "sequentialminus": [
            [
             0,
             "#0d0887"
            ],
            [
             0.1111111111111111,
             "#46039f"
            ],
            [
             0.2222222222222222,
             "#7201a8"
            ],
            [
             0.3333333333333333,
             "#9c179e"
            ],
            [
             0.4444444444444444,
             "#bd3786"
            ],
            [
             0.5555555555555556,
             "#d8576b"
            ],
            [
             0.6666666666666666,
             "#ed7953"
            ],
            [
             0.7777777777777778,
             "#fb9f3a"
            ],
            [
             0.8888888888888888,
             "#fdca26"
            ],
            [
             1,
             "#f0f921"
            ]
           ]
          },
          "colorway": [
           "#636efa",
           "#EF553B",
           "#00cc96",
           "#ab63fa",
           "#FFA15A",
           "#19d3f3",
           "#FF6692",
           "#B6E880",
           "#FF97FF",
           "#FECB52"
          ],
          "font": {
           "color": "#2a3f5f"
          },
          "geo": {
           "bgcolor": "white",
           "lakecolor": "white",
           "landcolor": "#E5ECF6",
           "showlakes": true,
           "showland": true,
           "subunitcolor": "white"
          },
          "hoverlabel": {
           "align": "left"
          },
          "hovermode": "closest",
          "mapbox": {
           "style": "light"
          },
          "paper_bgcolor": "white",
          "plot_bgcolor": "#E5ECF6",
          "polar": {
           "angularaxis": {
            "gridcolor": "white",
            "linecolor": "white",
            "ticks": ""
           },
           "bgcolor": "#E5ECF6",
           "radialaxis": {
            "gridcolor": "white",
            "linecolor": "white",
            "ticks": ""
           }
          },
          "scene": {
           "xaxis": {
            "backgroundcolor": "#E5ECF6",
            "gridcolor": "white",
            "gridwidth": 2,
            "linecolor": "white",
            "showbackground": true,
            "ticks": "",
            "zerolinecolor": "white"
           },
           "yaxis": {
            "backgroundcolor": "#E5ECF6",
            "gridcolor": "white",
            "gridwidth": 2,
            "linecolor": "white",
            "showbackground": true,
            "ticks": "",
            "zerolinecolor": "white"
           },
           "zaxis": {
            "backgroundcolor": "#E5ECF6",
            "gridcolor": "white",
            "gridwidth": 2,
            "linecolor": "white",
            "showbackground": true,
            "ticks": "",
            "zerolinecolor": "white"
           }
          },
          "shapedefaults": {
           "line": {
            "color": "#2a3f5f"
           }
          },
          "ternary": {
           "aaxis": {
            "gridcolor": "white",
            "linecolor": "white",
            "ticks": ""
           },
           "baxis": {
            "gridcolor": "white",
            "linecolor": "white",
            "ticks": ""
           },
           "bgcolor": "#E5ECF6",
           "caxis": {
            "gridcolor": "white",
            "linecolor": "white",
            "ticks": ""
           }
          },
          "title": {
           "x": 0.05
          },
          "xaxis": {
           "automargin": true,
           "gridcolor": "white",
           "linecolor": "white",
           "ticks": "",
           "title": {
            "standoff": 15
           },
           "zerolinecolor": "white",
           "zerolinewidth": 2
          },
          "yaxis": {
           "automargin": true,
           "gridcolor": "white",
           "linecolor": "white",
           "ticks": "",
           "title": {
            "standoff": 15
           },
           "zerolinecolor": "white",
           "zerolinewidth": 2
          }
         }
        },
        "width": 600,
        "xaxis": {
         "anchor": "y",
         "domain": [
          0,
          1
         ],
         "title": {
          "text": "p-adj"
         }
        },
        "yaxis": {
         "anchor": "x",
         "domain": [
          0,
          1
         ],
         "title": {
          "text": "group2"
         }
        }
       }
      }
     },
     "metadata": {},
     "output_type": "display_data"
    }
   ],
   "source": [
    "import plotly.express as px\n",
    "\n",
    "fig = px.bar(diff_mn, x='p-adj', y='group2', width=600)\n",
    "fig.write_html(\"../../../graphs/html/three/tukey_test.html\")\n",
    "fig.show()"
   ]
  },
  {
   "cell_type": "code",
   "execution_count": 15,
   "metadata": {},
   "outputs": [
    {
     "data": {
      "image/png": "[encoded data removed]",
      "text/plain": [
       "<Figure size 640x480 with 1 Axes>"
      ]
     },
     "metadata": {},
     "output_type": "display_data"
    }
   ],
   "source": [
    "# sns.boxplot(x='Tuition', y='State', data=df, orient='h')\n",
    "sns.stripplot(x='p-adj', y='group2', data=diff_mn, color='red', marker='o', size=10)\n",
    "\n",
    "# Add arrows\n",
    "for index, row in diff_mn.iterrows():\n",
    "    plt.annotate(\"\", xy=(row['p-adj'], row['group2']), xytext=(0, row['group2']),\n",
    "                 arrowprops=dict(arrowstyle=\"->\", color='red'))\n",
    "\n",
    "plt.show()"
   ]
  }
 ],
 "metadata": {
  "kernelspec": {
   "display_name": "base",
   "language": "python",
   "name": "python3"
  },
  "language_info": {
   "codemirror_mode": {
    "name": "ipython",
    "version": 3
   },
   "file_extension": ".py",
   "mimetype": "text/x-python",
   "name": "python",
   "nbconvert_exporter": "python",
   "pygments_lexer": "ipython3",
   "version": "3.12.2"
  }
 },
 "nbformat": 4,
 "nbformat_minor": 2
}
