{
 "cells": [
  {
   "cell_type": "code",
   "execution_count": 1,
   "metadata": {},
   "outputs": [
    {
     "data": {
      "text/html": [
       "<div>\n",
       "<style scoped>\n",
       "    .dataframe tbody tr th:only-of-type {\n",
       "        vertical-align: middle;\n",
       "    }\n",
       "\n",
       "    .dataframe tbody tr th {\n",
       "        vertical-align: top;\n",
       "    }\n",
       "\n",
       "    .dataframe thead th {\n",
       "        text-align: right;\n",
       "    }\n",
       "</style>\n",
       "<table border=\"1\" class=\"dataframe\">\n",
       "  <thead>\n",
       "    <tr style=\"text-align: right;\">\n",
       "      <th></th>\n",
       "      <th>In Current Dollars</th>\n",
       "      <th>STATE</th>\n",
       "      <th>2007-08</th>\n",
       "      <th>2008-09</th>\n",
       "      <th>2009-10</th>\n",
       "      <th>2010-11</th>\n",
       "      <th>2011-12</th>\n",
       "      <th>2012-13</th>\n",
       "      <th>2013-14</th>\n",
       "      <th>2014-15</th>\n",
       "      <th>...</th>\n",
       "      <th>2016-17</th>\n",
       "      <th>2017-18</th>\n",
       "      <th>2018-19</th>\n",
       "      <th>2019-20</th>\n",
       "      <th>2020-21</th>\n",
       "      <th>2021-22</th>\n",
       "      <th>2022-23</th>\n",
       "      <th>2023-24</th>\n",
       "      <th>1-Year</th>\n",
       "      <th>5-Year</th>\n",
       "    </tr>\n",
       "  </thead>\n",
       "  <tbody>\n",
       "    <tr>\n",
       "      <th>0</th>\n",
       "      <td>University of Alaska Fairbanks</td>\n",
       "      <td>AK</td>\n",
       "      <td>4496.0</td>\n",
       "      <td>4828.0</td>\n",
       "      <td>5133.0</td>\n",
       "      <td>5316.0</td>\n",
       "      <td>5570.0</td>\n",
       "      <td>5898.0</td>\n",
       "      <td>5988.0</td>\n",
       "      <td>6182.0</td>\n",
       "      <td>...</td>\n",
       "      <td>7184.0</td>\n",
       "      <td>7518.0</td>\n",
       "      <td>8087.0</td>\n",
       "      <td>8538.0</td>\n",
       "      <td>8980.0</td>\n",
       "      <td>9070.0</td>\n",
       "      <td>9882.00</td>\n",
       "      <td>10970.0</td>\n",
       "      <td>0.11</td>\n",
       "      <td>0.36</td>\n",
       "    </tr>\n",
       "    <tr>\n",
       "      <th>1</th>\n",
       "      <td>University of Alabama</td>\n",
       "      <td>AL</td>\n",
       "      <td>5700.0</td>\n",
       "      <td>6400.0</td>\n",
       "      <td>7000.0</td>\n",
       "      <td>7900.0</td>\n",
       "      <td>8600.0</td>\n",
       "      <td>9200.0</td>\n",
       "      <td>9450.0</td>\n",
       "      <td>9826.0</td>\n",
       "      <td>...</td>\n",
       "      <td>10470.0</td>\n",
       "      <td>10780.0</td>\n",
       "      <td>10780.0</td>\n",
       "      <td>10780.0</td>\n",
       "      <td>11620.0</td>\n",
       "      <td>11620.0</td>\n",
       "      <td>11900.00</td>\n",
       "      <td>11900.0</td>\n",
       "      <td>0.00</td>\n",
       "      <td>0.10</td>\n",
       "    </tr>\n",
       "    <tr>\n",
       "      <th>2</th>\n",
       "      <td>University of Arkansas</td>\n",
       "      <td>AR</td>\n",
       "      <td>6038.0</td>\n",
       "      <td>6400.0</td>\n",
       "      <td>6459.0</td>\n",
       "      <td>6768.0</td>\n",
       "      <td>7174.0</td>\n",
       "      <td>7553.0</td>\n",
       "      <td>7818.0</td>\n",
       "      <td>8210.0</td>\n",
       "      <td>...</td>\n",
       "      <td>8820.0</td>\n",
       "      <td>9062.0</td>\n",
       "      <td>9130.0</td>\n",
       "      <td>9380.0</td>\n",
       "      <td>9380.0</td>\n",
       "      <td>9570.0</td>\n",
       "      <td>9656.00</td>\n",
       "      <td>9748.0</td>\n",
       "      <td>0.01</td>\n",
       "      <td>0.07</td>\n",
       "    </tr>\n",
       "    <tr>\n",
       "      <th>3</th>\n",
       "      <td>University of Arizona</td>\n",
       "      <td>AZ</td>\n",
       "      <td>5037.0</td>\n",
       "      <td>5531.0</td>\n",
       "      <td>6855.0</td>\n",
       "      <td>8237.0</td>\n",
       "      <td>9299.0</td>\n",
       "      <td>10035.0</td>\n",
       "      <td>10391.0</td>\n",
       "      <td>10957.0</td>\n",
       "      <td>...</td>\n",
       "      <td>11769.0</td>\n",
       "      <td>11877.0</td>\n",
       "      <td>12487.0</td>\n",
       "      <td>12600.0</td>\n",
       "      <td>12700.0</td>\n",
       "      <td>12716.0</td>\n",
       "      <td>13255.36</td>\n",
       "      <td>13600.0</td>\n",
       "      <td>0.03</td>\n",
       "      <td>0.09</td>\n",
       "    </tr>\n",
       "    <tr>\n",
       "      <th>4</th>\n",
       "      <td>University of California: Berkeley</td>\n",
       "      <td>CA</td>\n",
       "      <td>7164.0</td>\n",
       "      <td>7656.0</td>\n",
       "      <td>9749.0</td>\n",
       "      <td>10940.0</td>\n",
       "      <td>12835.0</td>\n",
       "      <td>12874.0</td>\n",
       "      <td>12864.0</td>\n",
       "      <td>12972.0</td>\n",
       "      <td>...</td>\n",
       "      <td>13485.0</td>\n",
       "      <td>13928.0</td>\n",
       "      <td>14184.0</td>\n",
       "      <td>14253.0</td>\n",
       "      <td>14310.0</td>\n",
       "      <td>14433.0</td>\n",
       "      <td>15220.00</td>\n",
       "      <td>15602.0</td>\n",
       "      <td>0.03</td>\n",
       "      <td>0.10</td>\n",
       "    </tr>\n",
       "  </tbody>\n",
       "</table>\n",
       "<p>5 rows × 21 columns</p>\n",
       "</div>"
      ],
      "text/plain": [
       "                   In Current Dollars STATE  2007-08  2008-09  2009-10  \\\n",
       "0      University of Alaska Fairbanks    AK   4496.0   4828.0   5133.0   \n",
       "1               University of Alabama    AL   5700.0   6400.0   7000.0   \n",
       "2              University of Arkansas    AR   6038.0   6400.0   6459.0   \n",
       "3               University of Arizona    AZ   5037.0   5531.0   6855.0   \n",
       "4  University of California: Berkeley    CA   7164.0   7656.0   9749.0   \n",
       "\n",
       "   2010-11  2011-12  2012-13  2013-14  2014-15  ...  2016-17  2017-18  \\\n",
       "0   5316.0   5570.0   5898.0   5988.0   6182.0  ...   7184.0   7518.0   \n",
       "1   7900.0   8600.0   9200.0   9450.0   9826.0  ...  10470.0  10780.0   \n",
       "2   6768.0   7174.0   7553.0   7818.0   8210.0  ...   8820.0   9062.0   \n",
       "3   8237.0   9299.0  10035.0  10391.0  10957.0  ...  11769.0  11877.0   \n",
       "4  10940.0  12835.0  12874.0  12864.0  12972.0  ...  13485.0  13928.0   \n",
       "\n",
       "   2018-19  2019-20  2020-21  2021-22   2022-23  2023-24  1-Year  5-Year  \n",
       "0   8087.0   8538.0   8980.0   9070.0   9882.00  10970.0    0.11    0.36  \n",
       "1  10780.0  10780.0  11620.0  11620.0  11900.00  11900.0    0.00    0.10  \n",
       "2   9130.0   9380.0   9380.0   9570.0   9656.00   9748.0    0.01    0.07  \n",
       "3  12487.0  12600.0  12700.0  12716.0  13255.36  13600.0    0.03    0.09  \n",
       "4  14184.0  14253.0  14310.0  14433.0  15220.00  15602.0    0.03    0.10  \n",
       "\n",
       "[5 rows x 21 columns]"
      ]
     },
     "execution_count": 1,
     "metadata": {},
     "output_type": "execute_result"
    }
   ],
   "source": [
    "import pandas as pd\n",
    "import seaborn as sns\n",
    "import matplotlib.pyplot as plt\n",
    "\n",
    "df_salary = pd.read_csv(\"../../../data//salary_potential.csv\")\n",
    "df_out = pd.read_csv(\"../../../data/National_education_cost/CP4-out-state-tuition-current-d.csv\")\n",
    "df_in = pd.read_csv(\"../../../data/National_education_cost/CP4-state-tuition-current-d.csv\")\n",
    "\n",
    "import warnings\n",
    "warnings.filterwarnings(\"ignore\")\n",
    "\n",
    "df_in.head()"
   ]
  },
  {
   "cell_type": "code",
   "execution_count": 2,
   "metadata": {},
   "outputs": [
    {
     "data": {
      "text/plain": [
       "Index(['In Current Dollars', 'STATE', '2007-08', '2008-09', '2009-10',\n",
       "       '2010-11', '2011-12', '2012-13', '2013-14', '2014-15', '2015-16',\n",
       "       '2016-17', '2017-18', '2018-19', '2019-20', '2020-21', '2021-22',\n",
       "       '2022-23', '2023-24', '1-Year', '5-Year'],\n",
       "      dtype='object')"
      ]
     },
     "execution_count": 2,
     "metadata": {},
     "output_type": "execute_result"
    }
   ],
   "source": [
    "df_out[\"STATE\"] = df_in[\"STATE\"] \n",
    "columns = ['In Current Dollars', 'STATE']\n",
    "\n",
    "for i, j in enumerate(columns):\n",
    "    # print(i,j)\n",
    "    desired_position, column_name = i,j\n",
    "    column_index = df_out.columns.get_loc(column_name)\n",
    "    df_out.insert(desired_position, column_name, df_out.pop(column_name))\n",
    "df_out.columns"
   ]
  },
  {
   "cell_type": "code",
   "execution_count": 3,
   "metadata": {},
   "outputs": [],
   "source": [
    "def get_data_ready(data: pd.DataFrame):\n",
    "    data = data.rename({\n",
    "        \"In Current Dollars\":\"University\",\n",
    "        \"STATE\":\"State_Code\"\n",
    "        }, \n",
    "        axis=1, \n",
    "        # inplace=True\n",
    "        ).dropna()\n",
    "    column_to_drop = data.columns[-7:-2].to_list()\n",
    "    # print(column_to_drop)\n",
    "    data.drop(column_to_drop, axis=1, inplace=True)\n",
    "    # print(data.columns)\n",
    "    \n",
    "    data = pd.melt(data.iloc[:, 1:], id_vars=[\"State_Code\", \"1-Year\", \"5-Year\"], var_name=\"Year\", value_name=\"Tuition\")\n",
    "    data = data.sort_values(by=[\"State_Code\", \"Year\"]).reset_index(drop=True)\n",
    "    relevant = pd.DataFrame(data.groupby([\"State_Code\"])[\"Tuition\"].mean(\"\"))\n",
    "    return relevant\n",
    "\n",
    "\n"
   ]
  },
  {
   "cell_type": "code",
   "execution_count": 4,
   "metadata": {},
   "outputs": [
    {
     "data": {
      "text/html": [
       "<div>\n",
       "<style scoped>\n",
       "    .dataframe tbody tr th:only-of-type {\n",
       "        vertical-align: middle;\n",
       "    }\n",
       "\n",
       "    .dataframe tbody tr th {\n",
       "        vertical-align: top;\n",
       "    }\n",
       "\n",
       "    .dataframe thead th {\n",
       "        text-align: right;\n",
       "    }\n",
       "</style>\n",
       "<table border=\"1\" class=\"dataframe\">\n",
       "  <thead>\n",
       "    <tr style=\"text-align: right;\">\n",
       "      <th></th>\n",
       "      <th>Tuition</th>\n",
       "    </tr>\n",
       "    <tr>\n",
       "      <th>State_Code</th>\n",
       "      <th></th>\n",
       "    </tr>\n",
       "  </thead>\n",
       "  <tbody>\n",
       "    <tr>\n",
       "      <th>AK</th>\n",
       "      <td>18538.916667</td>\n",
       "    </tr>\n",
       "    <tr>\n",
       "      <th>AL</th>\n",
       "      <td>23183.166667</td>\n",
       "    </tr>\n",
       "    <tr>\n",
       "      <th>AR</th>\n",
       "      <td>19258.500000</td>\n",
       "    </tr>\n",
       "    <tr>\n",
       "      <th>AZ</th>\n",
       "      <td>27554.083333</td>\n",
       "    </tr>\n",
       "    <tr>\n",
       "      <th>CA</th>\n",
       "      <td>35647.166667</td>\n",
       "    </tr>\n",
       "    <tr>\n",
       "      <th>CO</th>\n",
       "      <td>31592.083333</td>\n",
       "    </tr>\n",
       "    <tr>\n",
       "      <th>CT</th>\n",
       "      <td>30466.833333</td>\n",
       "    </tr>\n",
       "    <tr>\n",
       "      <th>DE</th>\n",
       "      <td>28110.833333</td>\n",
       "    </tr>\n",
       "    <tr>\n",
       "      <th>FL</th>\n",
       "      <td>26467.750000</td>\n",
       "    </tr>\n",
       "    <tr>\n",
       "      <th>GA</th>\n",
       "      <td>27473.750000</td>\n",
       "    </tr>\n",
       "    <tr>\n",
       "      <th>HI</th>\n",
       "      <td>25995.583333</td>\n",
       "    </tr>\n",
       "    <tr>\n",
       "      <th>IA</th>\n",
       "      <td>25845.250000</td>\n",
       "    </tr>\n",
       "    <tr>\n",
       "      <th>ID</th>\n",
       "      <td>19247.750000</td>\n",
       "    </tr>\n",
       "    <tr>\n",
       "      <th>IL</th>\n",
       "      <td>28908.666667</td>\n",
       "    </tr>\n",
       "    <tr>\n",
       "      <th>IN</th>\n",
       "      <td>30487.416667</td>\n",
       "    </tr>\n",
       "    <tr>\n",
       "      <th>KS</th>\n",
       "      <td>23664.750000</td>\n",
       "    </tr>\n",
       "    <tr>\n",
       "      <th>KY</th>\n",
       "      <td>21245.833333</td>\n",
       "    </tr>\n",
       "    <tr>\n",
       "      <th>LA</th>\n",
       "      <td>21890.583333</td>\n",
       "    </tr>\n",
       "    <tr>\n",
       "      <th>MA</th>\n",
       "      <td>27303.083333</td>\n",
       "    </tr>\n",
       "    <tr>\n",
       "      <th>MD</th>\n",
       "      <td>28138.500000</td>\n",
       "    </tr>\n",
       "    <tr>\n",
       "      <th>ME</th>\n",
       "      <td>26836.833333</td>\n",
       "    </tr>\n",
       "    <tr>\n",
       "      <th>MI</th>\n",
       "      <td>40018.500000</td>\n",
       "    </tr>\n",
       "    <tr>\n",
       "      <th>MN</th>\n",
       "      <td>20720.500000</td>\n",
       "    </tr>\n",
       "    <tr>\n",
       "      <th>MO</th>\n",
       "      <td>22856.416667</td>\n",
       "    </tr>\n",
       "    <tr>\n",
       "      <th>MS</th>\n",
       "      <td>17471.083333</td>\n",
       "    </tr>\n",
       "    <tr>\n",
       "      <th>MT</th>\n",
       "      <td>20892.416667</td>\n",
       "    </tr>\n",
       "    <tr>\n",
       "      <th>NC</th>\n",
       "      <td>29112.423333</td>\n",
       "    </tr>\n",
       "    <tr>\n",
       "      <th>ND</th>\n",
       "      <td>17624.583333</td>\n",
       "    </tr>\n",
       "    <tr>\n",
       "      <th>NE</th>\n",
       "      <td>20744.666667</td>\n",
       "    </tr>\n",
       "    <tr>\n",
       "      <th>NH</th>\n",
       "      <td>29024.666667</td>\n",
       "    </tr>\n",
       "    <tr>\n",
       "      <th>NJ</th>\n",
       "      <td>26462.333333</td>\n",
       "    </tr>\n",
       "    <tr>\n",
       "      <th>NM</th>\n",
       "      <td>19705.416667</td>\n",
       "    </tr>\n",
       "    <tr>\n",
       "      <th>NV</th>\n",
       "      <td>19516.416667</td>\n",
       "    </tr>\n",
       "    <tr>\n",
       "      <th>NY</th>\n",
       "      <td>20022.083333</td>\n",
       "    </tr>\n",
       "    <tr>\n",
       "      <th>OH</th>\n",
       "      <td>25802.000000</td>\n",
       "    </tr>\n",
       "    <tr>\n",
       "      <th>OK</th>\n",
       "      <td>21230.000000</td>\n",
       "    </tr>\n",
       "    <tr>\n",
       "      <th>OR</th>\n",
       "      <td>28452.333333</td>\n",
       "    </tr>\n",
       "    <tr>\n",
       "      <th>PA</th>\n",
       "      <td>29234.833333</td>\n",
       "    </tr>\n",
       "    <tr>\n",
       "      <th>RI</th>\n",
       "      <td>27615.166667</td>\n",
       "    </tr>\n",
       "    <tr>\n",
       "      <th>SC</th>\n",
       "      <td>27736.500000</td>\n",
       "    </tr>\n",
       "    <tr>\n",
       "      <th>SD</th>\n",
       "      <td>9681.833333</td>\n",
       "    </tr>\n",
       "    <tr>\n",
       "      <th>TN</th>\n",
       "      <td>26309.500000</td>\n",
       "    </tr>\n",
       "    <tr>\n",
       "      <th>TX</th>\n",
       "      <td>32750.916667</td>\n",
       "    </tr>\n",
       "    <tr>\n",
       "      <th>UT</th>\n",
       "      <td>22806.166667</td>\n",
       "    </tr>\n",
       "    <tr>\n",
       "      <th>VA</th>\n",
       "      <td>38202.250000</td>\n",
       "    </tr>\n",
       "    <tr>\n",
       "      <th>VT</th>\n",
       "      <td>35799.666667</td>\n",
       "    </tr>\n",
       "    <tr>\n",
       "      <th>WA</th>\n",
       "      <td>30130.416667</td>\n",
       "    </tr>\n",
       "    <tr>\n",
       "      <th>WI</th>\n",
       "      <td>27495.250000</td>\n",
       "    </tr>\n",
       "    <tr>\n",
       "      <th>WV</th>\n",
       "      <td>19419.000000</td>\n",
       "    </tr>\n",
       "    <tr>\n",
       "      <th>WY</th>\n",
       "      <td>13900.416667</td>\n",
       "    </tr>\n",
       "  </tbody>\n",
       "</table>\n",
       "</div>"
      ],
      "text/plain": [
       "                 Tuition\n",
       "State_Code              \n",
       "AK          18538.916667\n",
       "AL          23183.166667\n",
       "AR          19258.500000\n",
       "AZ          27554.083333\n",
       "CA          35647.166667\n",
       "CO          31592.083333\n",
       "CT          30466.833333\n",
       "DE          28110.833333\n",
       "FL          26467.750000\n",
       "GA          27473.750000\n",
       "HI          25995.583333\n",
       "IA          25845.250000\n",
       "ID          19247.750000\n",
       "IL          28908.666667\n",
       "IN          30487.416667\n",
       "KS          23664.750000\n",
       "KY          21245.833333\n",
       "LA          21890.583333\n",
       "MA          27303.083333\n",
       "MD          28138.500000\n",
       "ME          26836.833333\n",
       "MI          40018.500000\n",
       "MN          20720.500000\n",
       "MO          22856.416667\n",
       "MS          17471.083333\n",
       "MT          20892.416667\n",
       "NC          29112.423333\n",
       "ND          17624.583333\n",
       "NE          20744.666667\n",
       "NH          29024.666667\n",
       "NJ          26462.333333\n",
       "NM          19705.416667\n",
       "NV          19516.416667\n",
       "NY          20022.083333\n",
       "OH          25802.000000\n",
       "OK          21230.000000\n",
       "OR          28452.333333\n",
       "PA          29234.833333\n",
       "RI          27615.166667\n",
       "SC          27736.500000\n",
       "SD           9681.833333\n",
       "TN          26309.500000\n",
       "TX          32750.916667\n",
       "UT          22806.166667\n",
       "VA          38202.250000\n",
       "VT          35799.666667\n",
       "WA          30130.416667\n",
       "WI          27495.250000\n",
       "WV          19419.000000\n",
       "WY          13900.416667"
      ]
     },
     "execution_count": 4,
     "metadata": {},
     "output_type": "execute_result"
    }
   ],
   "source": [
    "relevant_in = get_data_ready(df_in)\n",
    "relevant_out = get_data_ready(df_out)\n",
    "relevant_out\n"
   ]
  },
  {
   "cell_type": "code",
   "execution_count": 5,
   "metadata": {},
   "outputs": [
    {
     "data": {
      "text/html": [
       "<div>\n",
       "<style scoped>\n",
       "    .dataframe tbody tr th:only-of-type {\n",
       "        vertical-align: middle;\n",
       "    }\n",
       "\n",
       "    .dataframe tbody tr th {\n",
       "        vertical-align: top;\n",
       "    }\n",
       "\n",
       "    .dataframe thead th {\n",
       "        text-align: right;\n",
       "    }\n",
       "</style>\n",
       "<table border=\"1\" class=\"dataframe\">\n",
       "  <thead>\n",
       "    <tr style=\"text-align: right;\">\n",
       "      <th></th>\n",
       "      <th>State</th>\n",
       "      <th>early_career_pay</th>\n",
       "      <th>mid_career_pay</th>\n",
       "      <th>State_Code</th>\n",
       "    </tr>\n",
       "  </thead>\n",
       "  <tbody>\n",
       "    <tr>\n",
       "      <th>0</th>\n",
       "      <td>Alabama</td>\n",
       "      <td>44992.000000</td>\n",
       "      <td>81592.000000</td>\n",
       "      <td>AL</td>\n",
       "    </tr>\n",
       "    <tr>\n",
       "      <th>1</th>\n",
       "      <td>Alaska</td>\n",
       "      <td>55133.333333</td>\n",
       "      <td>97600.000000</td>\n",
       "      <td>AK</td>\n",
       "    </tr>\n",
       "    <tr>\n",
       "      <th>2</th>\n",
       "      <td>Arizona</td>\n",
       "      <td>50228.571429</td>\n",
       "      <td>90642.857143</td>\n",
       "      <td>AZ</td>\n",
       "    </tr>\n",
       "    <tr>\n",
       "      <th>3</th>\n",
       "      <td>Arkansas</td>\n",
       "      <td>44110.526316</td>\n",
       "      <td>79242.105263</td>\n",
       "      <td>AR</td>\n",
       "    </tr>\n",
       "    <tr>\n",
       "      <th>4</th>\n",
       "      <td>California</td>\n",
       "      <td>67232.000000</td>\n",
       "      <td>123976.000000</td>\n",
       "      <td>CA</td>\n",
       "    </tr>\n",
       "  </tbody>\n",
       "</table>\n",
       "</div>"
      ],
      "text/plain": [
       "        State  early_career_pay  mid_career_pay State_Code\n",
       "0     Alabama      44992.000000    81592.000000         AL\n",
       "1      Alaska      55133.333333    97600.000000         AK\n",
       "2     Arizona      50228.571429    90642.857143         AZ\n",
       "3    Arkansas      44110.526316    79242.105263         AR\n",
       "4  California      67232.000000   123976.000000         CA"
      ]
     },
     "execution_count": 5,
     "metadata": {},
     "output_type": "execute_result"
    }
   ],
   "source": [
    "relevant_salary = df_salary.iloc[:, 1:].groupby([\"state_name\"]).mean().reset_index()\n",
    "relevant_salary.rename({\n",
    "    \"state_name\":\"State\"\n",
    "}, axis=1, inplace=True)\n",
    "relevant_salary['State'] = relevant_salary['State'].apply(lambda x: x.replace(\"-\", \" \"))\n",
    "# relevant_salary\n",
    "\n",
    "state_codes = {\n",
    "    'Alabama': 'AL', 'Alaska': 'AK', 'Arizona': 'AZ', 'Arkansas': 'AR', 'California': 'CA',\n",
    "    'Colorado': 'CO', 'Connecticut': 'CT', 'Delaware': 'DE', 'Florida': 'FL', 'Georgia': 'GA',\n",
    "    'Hawaii': 'HI', 'Idaho': 'ID', 'Illinois': 'IL', 'Indiana': 'IN', 'Iowa': 'IA', 'Kansas': 'KS',\n",
    "    'Kentucky': 'KY', 'Louisiana': 'LA', 'Maine': 'ME', 'Maryland': 'MD', 'Massachusetts': 'MA',\n",
    "    'Michigan': 'MI', 'Minnesota': 'MN', 'Mississippi': 'MS', 'Missouri': 'MO', 'Montana': 'MT',\n",
    "    'Nebraska': 'NE', 'Nevada': 'NV', 'New Hampshire': 'NH', 'New Jersey': 'NJ', 'New Mexico': 'NM',\n",
    "    'New York': 'NY', 'North Carolina': 'NC', 'North Dakota': 'ND', 'Ohio': 'OH', 'Oklahoma': 'OK',\n",
    "    'Oregon': 'OR', 'Pennsylvania': 'PA', 'Rhode Island': 'RI', 'South Carolina': 'SC',\n",
    "    'South Dakota': 'SD', 'Tennessee': 'TN', 'Texas': 'TX', 'Utah': 'UT', 'Vermont': 'VT',\n",
    "    'Virginia': 'VA', 'Washington': 'WA', 'West Virginia': 'WV', 'Wisconsin': 'WI', 'Wyoming': 'WY',\n",
    "    'District of Columbia': 'DC'\n",
    "}\n",
    "\n",
    "# Add state codes to the melted DataFrame\n",
    "relevant_salary['State_Code'] = relevant_salary['State'].map(state_codes)\n",
    "relevant_salary.head()"
   ]
  },
  {
   "cell_type": "code",
   "execution_count": 6,
   "metadata": {},
   "outputs": [],
   "source": [
    "# # merge data\n",
    "# df_list = [relevant_salary, relevant_four_year, relevant_two_year]\n",
    "# merged_df = df_list[0]\n",
    "# for df in df_list:\n",
    "#     merged_df = pd.merge(right=merged_df, left=df, on=\"State\")\n",
    "# merged_df\n",
    "\n",
    "merged_df = pd.merge(right=relevant_out, left=relevant_in, on=\"State_Code\", suffixes=[\"-In state\", \"-Out state\"]).reset_index()\n",
    "df = pd.merge(right=merged_df, left=relevant_salary, on=\"State_Code\")\n"
   ]
  },
  {
   "cell_type": "code",
   "execution_count": 7,
   "metadata": {},
   "outputs": [
    {
     "data": {
      "text/html": [
       "<div>\n",
       "<style scoped>\n",
       "    .dataframe tbody tr th:only-of-type {\n",
       "        vertical-align: middle;\n",
       "    }\n",
       "\n",
       "    .dataframe tbody tr th {\n",
       "        vertical-align: top;\n",
       "    }\n",
       "\n",
       "    .dataframe thead th {\n",
       "        text-align: right;\n",
       "    }\n",
       "</style>\n",
       "<table border=\"1\" class=\"dataframe\">\n",
       "  <thead>\n",
       "    <tr style=\"text-align: right;\">\n",
       "      <th></th>\n",
       "      <th>State</th>\n",
       "      <th>early_career_pay</th>\n",
       "      <th>mid_career_pay</th>\n",
       "      <th>Tuition-In state</th>\n",
       "      <th>Tuition-Out state</th>\n",
       "    </tr>\n",
       "  </thead>\n",
       "  <tbody>\n",
       "    <tr>\n",
       "      <th>0</th>\n",
       "      <td>Alabama</td>\n",
       "      <td>44992.000000</td>\n",
       "      <td>81592.000000</td>\n",
       "      <td>8856.333333</td>\n",
       "      <td>23183.166667</td>\n",
       "    </tr>\n",
       "    <tr>\n",
       "      <th>1</th>\n",
       "      <td>Alaska</td>\n",
       "      <td>55133.333333</td>\n",
       "      <td>97600.000000</td>\n",
       "      <td>6083.666667</td>\n",
       "      <td>18538.916667</td>\n",
       "    </tr>\n",
       "    <tr>\n",
       "      <th>2</th>\n",
       "      <td>Arizona</td>\n",
       "      <td>50228.571429</td>\n",
       "      <td>90642.857143</td>\n",
       "      <td>9489.833333</td>\n",
       "      <td>27554.083333</td>\n",
       "    </tr>\n",
       "    <tr>\n",
       "      <th>3</th>\n",
       "      <td>Arkansas</td>\n",
       "      <td>44110.526316</td>\n",
       "      <td>79242.105263</td>\n",
       "      <td>7662.833333</td>\n",
       "      <td>19258.500000</td>\n",
       "    </tr>\n",
       "    <tr>\n",
       "      <th>4</th>\n",
       "      <td>California</td>\n",
       "      <td>67232.000000</td>\n",
       "      <td>123976.000000</td>\n",
       "      <td>11840.166667</td>\n",
       "      <td>35647.166667</td>\n",
       "    </tr>\n",
       "  </tbody>\n",
       "</table>\n",
       "</div>"
      ],
      "text/plain": [
       "        State  early_career_pay  mid_career_pay  Tuition-In state  \\\n",
       "0     Alabama      44992.000000    81592.000000       8856.333333   \n",
       "1      Alaska      55133.333333    97600.000000       6083.666667   \n",
       "2     Arizona      50228.571429    90642.857143       9489.833333   \n",
       "3    Arkansas      44110.526316    79242.105263       7662.833333   \n",
       "4  California      67232.000000   123976.000000      11840.166667   \n",
       "\n",
       "   Tuition-Out state  \n",
       "0       23183.166667  \n",
       "1       18538.916667  \n",
       "2       27554.083333  \n",
       "3       19258.500000  \n",
       "4       35647.166667  "
      ]
     },
     "execution_count": 7,
     "metadata": {},
     "output_type": "execute_result"
    }
   ],
   "source": [
    "df.drop(['State_Code'], axis=1, inplace=True)\n",
    "df.head()"
   ]
  },
  {
   "cell_type": "code",
   "execution_count": 8,
   "metadata": {},
   "outputs": [
    {
     "data": {
      "text/plain": [
       "(['early_career_pay', 'mid_career_pay'],\n",
       " ['Tuition-In state', 'Tuition-Out state'])"
      ]
     },
     "execution_count": 8,
     "metadata": {},
     "output_type": "execute_result"
    }
   ],
   "source": [
    "# x and y given as array_like objects\n",
    "import plotly.express as px\n",
    "pay_list = df.columns[1:3].to_list()\n",
    "univ_type_list =  df.columns[3:].to_list()\n",
    "pay_list, univ_type_list\n"
   ]
  },
  {
   "cell_type": "code",
   "execution_count": 10,
   "metadata": {},
   "outputs": [
    {
     "data": {
      "application/vnd.plotly.v1+json": {
       "config": {
        "plotlyServerURL": "https://plot.ly"
       },
       "data": [
        {
         "mode": "markers",
         "name": "Tuition-In state-early_career_pay",
         "type": "scatter",
         "x": [
          8856.333333333334,
          6083.666666666667,
          9489.833333333334,
          7662.833333333333,
          11840.166666666666,
          9795.666666666666,
          11929.666666666666,
          11334,
          5539.833333333333,
          9301.416666666666,
          9378.25,
          6196.333333333333,
          14193.333333333334,
          9654.416666666666,
          7808.333333333333,
          9622.833333333334,
          9756,
          7882.75,
          10241.333333333334,
          9147.166666666666,
          13155.833333333334,
          12980.916666666666,
          12898,
          6556,
          9114.516666666666,
          5969,
          7779.916666666667,
          6200,
          15428.083333333334,
          13162.333333333334,
          6070.5,
          8198.5,
          7463.173333333333,
          7428.5,
          9728.166666666666,
          9082.5,
          9210.083333333334,
          16353.083333333334,
          11609.5,
          10580.833333333334,
          7512.916666666667,
          9842.75,
          9557.833333333334,
          7195.583333333333,
          15379.5,
          12510.083333333334,
          10250.166666666666,
          6547.333333333333,
          9575.666666666666,
          4403.666666666667
         ],
         "xaxis": "x",
         "y": [
          44992,
          55133.333333333336,
          50228.57142857143,
          44110.52631578947,
          67232,
          51857.89473684211,
          55220,
          49040,
          51524,
          49280,
          47700,
          48957.142857142855,
          54944,
          52296,
          48240,
          45844,
          43620,
          47373.913043478264,
          47594.117647058825,
          54852,
          63100,
          52172,
          51676,
          42042.857142857145,
          49096,
          46933.333333333336,
          46868.42105263158,
          52366.666666666664,
          50707.692307692305,
          54764,
          48350,
          66688,
          49640,
          45622.22222222222,
          52900,
          46691.30434782609,
          49562.5,
          60644,
          54100,
          45376,
          47110,
          47936,
          57468,
          50690,
          48078.57142857143,
          53620,
          52616,
          44594.444444444445,
          50300,
          52400
         ],
         "yaxis": "y"
        },
        {
         "mode": "markers",
         "name": "Tuition-In state-mid_career_pay",
         "type": "scatter",
         "x": [
          8856.333333333334,
          6083.666666666667,
          9489.833333333334,
          7662.833333333333,
          11840.166666666666,
          9795.666666666666,
          11929.666666666666,
          11334,
          5539.833333333333,
          9301.416666666666,
          9378.25,
          6196.333333333333,
          14193.333333333334,
          9654.416666666666,
          7808.333333333333,
          9622.833333333334,
          9756,
          7882.75,
          10241.333333333334,
          9147.166666666666,
          13155.833333333334,
          12980.916666666666,
          12898,
          6556,
          9114.516666666666,
          5969,
          7779.916666666667,
          6200,
          15428.083333333334,
          13162.333333333334,
          6070.5,
          8198.5,
          7463.173333333333,
          7428.5,
          9728.166666666666,
          9082.5,
          9210.083333333334,
          16353.083333333334,
          11609.5,
          10580.833333333334,
          7512.916666666667,
          9842.75,
          9557.833333333334,
          7195.583333333333,
          15379.5,
          12510.083333333334,
          10250.166666666666,
          6547.333333333333,
          9575.666666666666,
          4403.666666666667
         ],
         "xaxis": "x2",
         "y": [
          81592,
          97600,
          90642.85714285714,
          79242.1052631579,
          123976,
          93257.8947368421,
          99855,
          85620,
          92560,
          88092,
          85750,
          87100,
          99520,
          94568,
          87096,
          82424,
          78892,
          86343.47826086957,
          85429.41176470589,
          98480,
          115712,
          94168,
          92900,
          75707.14285714286,
          87972,
          85511.11111111111,
          83642.1052631579,
          93633.33333333333,
          90584.61538461539,
          100172,
          90350,
          122328,
          89228,
          80622.22222222222,
          97104,
          84208.69565217392,
          89112.5,
          110884,
          97018.18181818182,
          81612,
          85170,
          85708,
          103476,
          90740,
          87021.42857142857,
          96540,
          94972,
          80694.44444444444,
          90612,
          98800
         ],
         "yaxis": "y2"
        },
        {
         "mode": "markers",
         "name": "Tuition-Out state-early_career_pay",
         "type": "scatter",
         "x": [
          23183.166666666668,
          18538.916666666668,
          27554.083333333332,
          19258.5,
          35647.166666666664,
          31592.083333333332,
          30466.833333333332,
          28110.833333333332,
          26467.75,
          27473.75,
          25995.583333333332,
          19247.75,
          28908.666666666668,
          30487.416666666668,
          25845.25,
          23664.75,
          21245.833333333332,
          21890.583333333332,
          26836.833333333332,
          28138.5,
          27303.083333333332,
          40018.5,
          20720.5,
          17471.083333333332,
          22856.416666666668,
          20892.416666666668,
          20744.666666666668,
          19516.416666666668,
          29024.666666666668,
          26462.333333333332,
          19705.416666666668,
          20022.083333333332,
          29112.423333333336,
          17624.583333333332,
          25802,
          21230,
          28452.333333333332,
          29234.833333333332,
          27615.166666666668,
          27736.5,
          9681.833333333334,
          26309.5,
          32750.916666666668,
          22806.166666666668,
          35799.666666666664,
          38202.25,
          30130.416666666668,
          19419,
          27495.25,
          13900.416666666666
         ],
         "xaxis": "x3",
         "y": [
          44992,
          55133.333333333336,
          50228.57142857143,
          44110.52631578947,
          67232,
          51857.89473684211,
          55220,
          49040,
          51524,
          49280,
          47700,
          48957.142857142855,
          54944,
          52296,
          48240,
          45844,
          43620,
          47373.913043478264,
          47594.117647058825,
          54852,
          63100,
          52172,
          51676,
          42042.857142857145,
          49096,
          46933.333333333336,
          46868.42105263158,
          52366.666666666664,
          50707.692307692305,
          54764,
          48350,
          66688,
          49640,
          45622.22222222222,
          52900,
          46691.30434782609,
          49562.5,
          60644,
          54100,
          45376,
          47110,
          47936,
          57468,
          50690,
          48078.57142857143,
          53620,
          52616,
          44594.444444444445,
          50300,
          52400
         ],
         "yaxis": "y3"
        },
        {
         "mode": "markers",
         "name": "Tuition-Out state-mid_career_pay",
         "type": "scatter",
         "x": [
          23183.166666666668,
          18538.916666666668,
          27554.083333333332,
          19258.5,
          35647.166666666664,
          31592.083333333332,
          30466.833333333332,
          28110.833333333332,
          26467.75,
          27473.75,
          25995.583333333332,
          19247.75,
          28908.666666666668,
          30487.416666666668,
          25845.25,
          23664.75,
          21245.833333333332,
          21890.583333333332,
          26836.833333333332,
          28138.5,
          27303.083333333332,
          40018.5,
          20720.5,
          17471.083333333332,
          22856.416666666668,
          20892.416666666668,
          20744.666666666668,
          19516.416666666668,
          29024.666666666668,
          26462.333333333332,
          19705.416666666668,
          20022.083333333332,
          29112.423333333336,
          17624.583333333332,
          25802,
          21230,
          28452.333333333332,
          29234.833333333332,
          27615.166666666668,
          27736.5,
          9681.833333333334,
          26309.5,
          32750.916666666668,
          22806.166666666668,
          35799.666666666664,
          38202.25,
          30130.416666666668,
          19419,
          27495.25,
          13900.416666666666
         ],
         "xaxis": "x4",
         "y": [
          81592,
          97600,
          90642.85714285714,
          79242.1052631579,
          123976,
          93257.8947368421,
          99855,
          85620,
          92560,
          88092,
          85750,
          87100,
          99520,
          94568,
          87096,
          82424,
          78892,
          86343.47826086957,
          85429.41176470589,
          98480,
          115712,
          94168,
          92900,
          75707.14285714286,
          87972,
          85511.11111111111,
          83642.1052631579,
          93633.33333333333,
          90584.61538461539,
          100172,
          90350,
          122328,
          89228,
          80622.22222222222,
          97104,
          84208.69565217392,
          89112.5,
          110884,
          97018.18181818182,
          81612,
          85170,
          85708,
          103476,
          90740,
          87021.42857142857,
          96540,
          94972,
          80694.44444444444,
          90612,
          98800
         ],
         "yaxis": "y4"
        }
       ],
       "layout": {
        "height": 1000,
        "showlegend": true,
        "template": {
         "data": {
          "bar": [
           {
            "error_x": {
             "color": "#2a3f5f"
            },
            "error_y": {
             "color": "#2a3f5f"
            },
            "marker": {
             "line": {
              "color": "#E5ECF6",
              "width": 0.5
             },
             "pattern": {
              "fillmode": "overlay",
              "size": 10,
              "solidity": 0.2
             }
            },
            "type": "bar"
           }
          ],
          "barpolar": [
           {
            "marker": {
             "line": {
              "color": "#E5ECF6",
              "width": 0.5
             },
             "pattern": {
              "fillmode": "overlay",
              "size": 10,
              "solidity": 0.2
             }
            },
            "type": "barpolar"
           }
          ],
          "carpet": [
           {
            "aaxis": {
             "endlinecolor": "#2a3f5f",
             "gridcolor": "white",
             "linecolor": "white",
             "minorgridcolor": "white",
             "startlinecolor": "#2a3f5f"
            },
            "baxis": {
             "endlinecolor": "#2a3f5f",
             "gridcolor": "white",
             "linecolor": "white",
             "minorgridcolor": "white",
             "startlinecolor": "#2a3f5f"
            },
            "type": "carpet"
           }
          ],
          "choropleth": [
           {
            "colorbar": {
             "outlinewidth": 0,
             "ticks": ""
            },
            "type": "choropleth"
           }
          ],
          "contour": [
           {
            "colorbar": {
             "outlinewidth": 0,
             "ticks": ""
            },
            "colorscale": [
             [
              0,
              "#0d0887"
             ],
             [
              0.1111111111111111,
              "#46039f"
             ],
             [
              0.2222222222222222,
              "#7201a8"
             ],
             [
              0.3333333333333333,
              "#9c179e"
             ],
             [
              0.4444444444444444,
              "#bd3786"
             ],
             [
              0.5555555555555556,
              "#d8576b"
             ],
             [
              0.6666666666666666,
              "#ed7953"
             ],
             [
              0.7777777777777778,
              "#fb9f3a"
             ],
             [
              0.8888888888888888,
              "#fdca26"
             ],
             [
              1,
              "#f0f921"
             ]
            ],
            "type": "contour"
           }
          ],
          "contourcarpet": [
           {
            "colorbar": {
             "outlinewidth": 0,
             "ticks": ""
            },
            "type": "contourcarpet"
           }
          ],
          "heatmap": [
           {
            "colorbar": {
             "outlinewidth": 0,
             "ticks": ""
            },
            "colorscale": [
             [
              0,
              "#0d0887"
             ],
             [
              0.1111111111111111,
              "#46039f"
             ],
             [
              0.2222222222222222,
              "#7201a8"
             ],
             [
              0.3333333333333333,
              "#9c179e"
             ],
             [
              0.4444444444444444,
              "#bd3786"
             ],
             [
              0.5555555555555556,
              "#d8576b"
             ],
             [
              0.6666666666666666,
              "#ed7953"
             ],
             [
              0.7777777777777778,
              "#fb9f3a"
             ],
             [
              0.8888888888888888,
              "#fdca26"
             ],
             [
              1,
              "#f0f921"
             ]
            ],
            "type": "heatmap"
           }
          ],
          "heatmapgl": [
           {
            "colorbar": {
             "outlinewidth": 0,
             "ticks": ""
            },
            "colorscale": [
             [
              0,
              "#0d0887"
             ],
             [
              0.1111111111111111,
              "#46039f"
             ],
             [
              0.2222222222222222,
              "#7201a8"
             ],
             [
              0.3333333333333333,
              "#9c179e"
             ],
             [
              0.4444444444444444,
              "#bd3786"
             ],
             [
              0.5555555555555556,
              "#d8576b"
             ],
             [
              0.6666666666666666,
              "#ed7953"
             ],
             [
              0.7777777777777778,
              "#fb9f3a"
             ],
             [
              0.8888888888888888,
              "#fdca26"
             ],
             [
              1,
              "#f0f921"
             ]
            ],
            "type": "heatmapgl"
           }
          ],
          "histogram": [
           {
            "marker": {
             "pattern": {
              "fillmode": "overlay",
              "size": 10,
              "solidity": 0.2
             }
            },
            "type": "histogram"
           }
          ],
          "histogram2d": [
           {
            "colorbar": {
             "outlinewidth": 0,
             "ticks": ""
            },
            "colorscale": [
             [
              0,
              "#0d0887"
             ],
             [
              0.1111111111111111,
              "#46039f"
             ],
             [
              0.2222222222222222,
              "#7201a8"
             ],
             [
              0.3333333333333333,
              "#9c179e"
             ],
             [
              0.4444444444444444,
              "#bd3786"
             ],
             [
              0.5555555555555556,
              "#d8576b"
             ],
             [
              0.6666666666666666,
              "#ed7953"
             ],
             [
              0.7777777777777778,
              "#fb9f3a"
             ],
             [
              0.8888888888888888,
              "#fdca26"
             ],
             [
              1,
              "#f0f921"
             ]
            ],
            "type": "histogram2d"
           }
          ],
          "histogram2dcontour": [
           {
            "colorbar": {
             "outlinewidth": 0,
             "ticks": ""
            },
            "colorscale": [
             [
              0,
              "#0d0887"
             ],
             [
              0.1111111111111111,
              "#46039f"
             ],
             [
              0.2222222222222222,
              "#7201a8"
             ],
             [
              0.3333333333333333,
              "#9c179e"
             ],
             [
              0.4444444444444444,
              "#bd3786"
             ],
             [
              0.5555555555555556,
              "#d8576b"
             ],
             [
              0.6666666666666666,
              "#ed7953"
             ],
             [
              0.7777777777777778,
              "#fb9f3a"
             ],
             [
              0.8888888888888888,
              "#fdca26"
             ],
             [
              1,
              "#f0f921"
             ]
            ],
            "type": "histogram2dcontour"
           }
          ],
          "mesh3d": [
           {
            "colorbar": {
             "outlinewidth": 0,
             "ticks": ""
            },
            "type": "mesh3d"
           }
          ],
          "parcoords": [
           {
            "line": {
             "colorbar": {
              "outlinewidth": 0,
              "ticks": ""
             }
            },
            "type": "parcoords"
           }
          ],
          "pie": [
           {
            "automargin": true,
            "type": "pie"
           }
          ],
          "scatter": [
           {
            "fillpattern": {
             "fillmode": "overlay",
             "size": 10,
             "solidity": 0.2
            },
            "type": "scatter"
           }
          ],
          "scatter3d": [
           {
            "line": {
             "colorbar": {
              "outlinewidth": 0,
              "ticks": ""
             }
            },
            "marker": {
             "colorbar": {
              "outlinewidth": 0,
              "ticks": ""
             }
            },
            "type": "scatter3d"
           }
          ],
          "scattercarpet": [
           {
            "marker": {
             "colorbar": {
              "outlinewidth": 0,
              "ticks": ""
             }
            },
            "type": "scattercarpet"
           }
          ],
          "scattergeo": [
           {
            "marker": {
             "colorbar": {
              "outlinewidth": 0,
              "ticks": ""
             }
            },
            "type": "scattergeo"
           }
          ],
          "scattergl": [
           {
            "marker": {
             "colorbar": {
              "outlinewidth": 0,
              "ticks": ""
             }
            },
            "type": "scattergl"
           }
          ],
          "scattermapbox": [
           {
            "marker": {
             "colorbar": {
              "outlinewidth": 0,
              "ticks": ""
             }
            },
            "type": "scattermapbox"
           }
          ],
          "scatterpolar": [
           {
            "marker": {
             "colorbar": {
              "outlinewidth": 0,
              "ticks": ""
             }
            },
            "type": "scatterpolar"
           }
          ],
          "scatterpolargl": [
           {
            "marker": {
             "colorbar": {
              "outlinewidth": 0,
              "ticks": ""
             }
            },
            "type": "scatterpolargl"
           }
          ],
          "scatterternary": [
           {
            "marker": {
             "colorbar": {
              "outlinewidth": 0,
              "ticks": ""
             }
            },
            "type": "scatterternary"
           }
          ],
          "surface": [
           {
            "colorbar": {
             "outlinewidth": 0,
             "ticks": ""
            },
            "colorscale": [
             [
              0,
              "#0d0887"
             ],
             [
              0.1111111111111111,
              "#46039f"
             ],
             [
              0.2222222222222222,
              "#7201a8"
             ],
             [
              0.3333333333333333,
              "#9c179e"
             ],
             [
              0.4444444444444444,
              "#bd3786"
             ],
             [
              0.5555555555555556,
              "#d8576b"
             ],
             [
              0.6666666666666666,
              "#ed7953"
             ],
             [
              0.7777777777777778,
              "#fb9f3a"
             ],
             [
              0.8888888888888888,
              "#fdca26"
             ],
             [
              1,
              "#f0f921"
             ]
            ],
            "type": "surface"
           }
          ],
          "table": [
           {
            "cells": {
             "fill": {
              "color": "#EBF0F8"
             },
             "line": {
              "color": "white"
             }
            },
            "header": {
             "fill": {
              "color": "#C8D4E3"
             },
             "line": {
              "color": "white"
             }
            },
            "type": "table"
           }
          ]
         },
         "layout": {
          "annotationdefaults": {
           "arrowcolor": "#2a3f5f",
           "arrowhead": 0,
           "arrowwidth": 1
          },
          "autotypenumbers": "strict",
          "coloraxis": {
           "colorbar": {
            "outlinewidth": 0,
            "ticks": ""
           }
          },
          "colorscale": {
           "diverging": [
            [
             0,
             "#8e0152"
            ],
            [
             0.1,
             "#c51b7d"
            ],
            [
             0.2,
             "#de77ae"
            ],
            [
             0.3,
             "#f1b6da"
            ],
            [
             0.4,
             "#fde0ef"
            ],
            [
             0.5,
             "#f7f7f7"
            ],
            [
             0.6,
             "#e6f5d0"
            ],
            [
             0.7,
             "#b8e186"
            ],
            [
             0.8,
             "#7fbc41"
            ],
            [
             0.9,
             "#4d9221"
            ],
            [
             1,
             "#276419"
            ]
           ],
           "sequential": [
            [
             0,
             "#0d0887"
            ],
            [
             0.1111111111111111,
             "#46039f"
            ],
            [
             0.2222222222222222,
             "#7201a8"
            ],
            [
             0.3333333333333333,
             "#9c179e"
            ],
            [
             0.4444444444444444,
             "#bd3786"
            ],
            [
             0.5555555555555556,
             "#d8576b"
            ],
            [
             0.6666666666666666,
             "#ed7953"
            ],
            [
             0.7777777777777778,
             "#fb9f3a"
            ],
            [
             0.8888888888888888,
             "#fdca26"
            ],
            [
             1,
             "#f0f921"
            ]
           ],
           "sequentialminus": [
            [
             0,
             "#0d0887"
            ],
            [
             0.1111111111111111,
             "#46039f"
            ],
            [
             0.2222222222222222,
             "#7201a8"
            ],
            [
             0.3333333333333333,
             "#9c179e"
            ],
            [
             0.4444444444444444,
             "#bd3786"
            ],
            [
             0.5555555555555556,
             "#d8576b"
            ],
            [
             0.6666666666666666,
             "#ed7953"
            ],
            [
             0.7777777777777778,
             "#fb9f3a"
            ],
            [
             0.8888888888888888,
             "#fdca26"
            ],
            [
             1,
             "#f0f921"
            ]
           ]
          },
          "colorway": [
           "#636efa",
           "#EF553B",
           "#00cc96",
           "#ab63fa",
           "#FFA15A",
           "#19d3f3",
           "#FF6692",
           "#B6E880",
           "#FF97FF",
           "#FECB52"
          ],
          "font": {
           "color": "#2a3f5f"
          },
          "geo": {
           "bgcolor": "white",
           "lakecolor": "white",
           "landcolor": "#E5ECF6",
           "showlakes": true,
           "showland": true,
           "subunitcolor": "white"
          },
          "hoverlabel": {
           "align": "left"
          },
          "hovermode": "closest",
          "mapbox": {
           "style": "light"
          },
          "paper_bgcolor": "white",
          "plot_bgcolor": "#E5ECF6",
          "polar": {
           "angularaxis": {
            "gridcolor": "white",
            "linecolor": "white",
            "ticks": ""
           },
           "bgcolor": "#E5ECF6",
           "radialaxis": {
            "gridcolor": "white",
            "linecolor": "white",
            "ticks": ""
           }
          },
          "scene": {
           "xaxis": {
            "backgroundcolor": "#E5ECF6",
            "gridcolor": "white",
            "gridwidth": 2,
            "linecolor": "white",
            "showbackground": true,
            "ticks": "",
            "zerolinecolor": "white"
           },
           "yaxis": {
            "backgroundcolor": "#E5ECF6",
            "gridcolor": "white",
            "gridwidth": 2,
            "linecolor": "white",
            "showbackground": true,
            "ticks": "",
            "zerolinecolor": "white"
           },
           "zaxis": {
            "backgroundcolor": "#E5ECF6",
            "gridcolor": "white",
            "gridwidth": 2,
            "linecolor": "white",
            "showbackground": true,
            "ticks": "",
            "zerolinecolor": "white"
           }
          },
          "shapedefaults": {
           "line": {
            "color": "#2a3f5f"
           }
          },
          "ternary": {
           "aaxis": {
            "gridcolor": "white",
            "linecolor": "white",
            "ticks": ""
           },
           "baxis": {
            "gridcolor": "white",
            "linecolor": "white",
            "ticks": ""
           },
           "bgcolor": "#E5ECF6",
           "caxis": {
            "gridcolor": "white",
            "linecolor": "white",
            "ticks": ""
           }
          },
          "title": {
           "x": 0.05
          },
          "xaxis": {
           "automargin": true,
           "gridcolor": "white",
           "linecolor": "white",
           "ticks": "",
           "title": {
            "standoff": 15
           },
           "zerolinecolor": "white",
           "zerolinewidth": 2
          },
          "yaxis": {
           "automargin": true,
           "gridcolor": "white",
           "linecolor": "white",
           "ticks": "",
           "title": {
            "standoff": 15
           },
           "zerolinecolor": "white",
           "zerolinewidth": 2
          }
         }
        },
        "title": {
         "text": "Subplots Example"
        },
        "xaxis": {
         "anchor": "y",
         "domain": [
          0,
          0.45
         ]
        },
        "xaxis2": {
         "anchor": "y2",
         "domain": [
          0.55,
          1
         ]
        },
        "xaxis3": {
         "anchor": "y3",
         "domain": [
          0,
          0.45
         ]
        },
        "xaxis4": {
         "anchor": "y4",
         "domain": [
          0.55,
          1
         ]
        },
        "yaxis": {
         "anchor": "x",
         "domain": [
          0.575,
          1
         ]
        },
        "yaxis2": {
         "anchor": "x2",
         "domain": [
          0.575,
          1
         ]
        },
        "yaxis3": {
         "anchor": "x3",
         "domain": [
          0,
          0.425
         ]
        },
        "yaxis4": {
         "anchor": "x4",
         "domain": [
          0,
          0.425
         ]
        }
       }
      }
     },
     "metadata": {},
     "output_type": "display_data"
    }
   ],
   "source": [
    "import plotly.graph_objects as go\n",
    "from plotly.subplots import make_subplots\n",
    "fig = make_subplots(\n",
    "    rows=2, cols=2,\n",
    "    column_widths=[0.4, 0.4],\n",
    "    row_heights=[0.4, 0.4],\n",
    "    )\n",
    "\n",
    "for univ_type in univ_type_list:\n",
    "    for pay in pay_list:\n",
    "        fig.add_trace(\n",
    "\n",
    "            go.Scatter(\n",
    "            x=df[univ_type],\n",
    "            y=df[pay],\n",
    "            mode=\"markers\",\n",
    "            name= f\"{univ_type}-{pay}\",\n",
    "            \n",
    "            \n",
    "            ),\n",
    "            row=univ_type_list.index(univ_type)+1,\n",
    "            col=pay_list.index(pay)+1,\n",
    "        )\n",
    "        \n",
    "\n",
    "\n",
    "fig.update_layout(title_text=\"Subplots Example\", showlegend=True, height=1000)\n",
    "# fig.write_html(\"../../../graphs/html/five/scatter_plot_1.html\")\n",
    "\n",
    "fig.show()"
   ]
  },
  {
   "cell_type": "code",
   "execution_count": 11,
   "metadata": {},
   "outputs": [
    {
     "data": {
      "text/html": [
       "<div>\n",
       "<style scoped>\n",
       "    .dataframe tbody tr th:only-of-type {\n",
       "        vertical-align: middle;\n",
       "    }\n",
       "\n",
       "    .dataframe tbody tr th {\n",
       "        vertical-align: top;\n",
       "    }\n",
       "\n",
       "    .dataframe thead th {\n",
       "        text-align: right;\n",
       "    }\n",
       "</style>\n",
       "<table border=\"1\" class=\"dataframe\">\n",
       "  <thead>\n",
       "    <tr style=\"text-align: right;\">\n",
       "      <th></th>\n",
       "      <th>State</th>\n",
       "      <th>early_career_pay</th>\n",
       "      <th>mid_career_pay</th>\n",
       "      <th>Tuition-In state</th>\n",
       "      <th>Tuition-Out state</th>\n",
       "    </tr>\n",
       "  </thead>\n",
       "  <tbody>\n",
       "    <tr>\n",
       "      <th>0</th>\n",
       "      <td>Alabama</td>\n",
       "      <td>44992.000000</td>\n",
       "      <td>81592.000000</td>\n",
       "      <td>8856.333333</td>\n",
       "      <td>23183.166667</td>\n",
       "    </tr>\n",
       "    <tr>\n",
       "      <th>1</th>\n",
       "      <td>Alaska</td>\n",
       "      <td>55133.333333</td>\n",
       "      <td>97600.000000</td>\n",
       "      <td>6083.666667</td>\n",
       "      <td>18538.916667</td>\n",
       "    </tr>\n",
       "    <tr>\n",
       "      <th>2</th>\n",
       "      <td>Arizona</td>\n",
       "      <td>50228.571429</td>\n",
       "      <td>90642.857143</td>\n",
       "      <td>9489.833333</td>\n",
       "      <td>27554.083333</td>\n",
       "    </tr>\n",
       "    <tr>\n",
       "      <th>3</th>\n",
       "      <td>Arkansas</td>\n",
       "      <td>44110.526316</td>\n",
       "      <td>79242.105263</td>\n",
       "      <td>7662.833333</td>\n",
       "      <td>19258.500000</td>\n",
       "    </tr>\n",
       "    <tr>\n",
       "      <th>4</th>\n",
       "      <td>California</td>\n",
       "      <td>67232.000000</td>\n",
       "      <td>123976.000000</td>\n",
       "      <td>11840.166667</td>\n",
       "      <td>35647.166667</td>\n",
       "    </tr>\n",
       "  </tbody>\n",
       "</table>\n",
       "</div>"
      ],
      "text/plain": [
       "        State  early_career_pay  mid_career_pay  Tuition-In state  \\\n",
       "0     Alabama      44992.000000    81592.000000       8856.333333   \n",
       "1      Alaska      55133.333333    97600.000000       6083.666667   \n",
       "2     Arizona      50228.571429    90642.857143       9489.833333   \n",
       "3    Arkansas      44110.526316    79242.105263       7662.833333   \n",
       "4  California      67232.000000   123976.000000      11840.166667   \n",
       "\n",
       "   Tuition-Out state  \n",
       "0       23183.166667  \n",
       "1       18538.916667  \n",
       "2       27554.083333  \n",
       "3       19258.500000  \n",
       "4       35647.166667  "
      ]
     },
     "execution_count": 11,
     "metadata": {},
     "output_type": "execute_result"
    }
   ],
   "source": [
    "df.head()"
   ]
  },
  {
   "cell_type": "code",
   "execution_count": 13,
   "metadata": {},
   "outputs": [
    {
     "data": {
      "text/html": [
       "<div>\n",
       "<style scoped>\n",
       "    .dataframe tbody tr th:only-of-type {\n",
       "        vertical-align: middle;\n",
       "    }\n",
       "\n",
       "    .dataframe tbody tr th {\n",
       "        vertical-align: top;\n",
       "    }\n",
       "\n",
       "    .dataframe thead th {\n",
       "        text-align: right;\n",
       "    }\n",
       "</style>\n",
       "<table border=\"1\" class=\"dataframe\">\n",
       "  <thead>\n",
       "    <tr style=\"text-align: right;\">\n",
       "      <th></th>\n",
       "      <th>early_career_pay</th>\n",
       "      <th>mid_career_pay</th>\n",
       "    </tr>\n",
       "  </thead>\n",
       "  <tbody>\n",
       "    <tr>\n",
       "      <th>Tuition-In state</th>\n",
       "      <td>0.369521</td>\n",
       "      <td>0.350374</td>\n",
       "    </tr>\n",
       "    <tr>\n",
       "      <th>Tuition-Out state</th>\n",
       "      <td>0.378423</td>\n",
       "      <td>0.351633</td>\n",
       "    </tr>\n",
       "  </tbody>\n",
       "</table>\n",
       "</div>"
      ],
      "text/plain": [
       "                   early_career_pay  mid_career_pay\n",
       "Tuition-In state           0.369521        0.350374\n",
       "Tuition-Out state          0.378423        0.351633"
      ]
     },
     "execution_count": 13,
     "metadata": {},
     "output_type": "execute_result"
    }
   ],
   "source": [
    "df.iloc[:,1:].corr().iloc[2:, :2]"
   ]
  },
  {
   "cell_type": "code",
   "execution_count": 14,
   "metadata": {},
   "outputs": [
    {
     "data": {
      "application/vnd.plotly.v1+json": {
       "config": {
        "plotlyServerURL": "https://plot.ly"
       },
       "data": [
        {
         "coloraxis": "coloraxis",
         "hovertemplate": "x: %{x}<br>y: %{y}<br>color: %{z}<extra></extra>",
         "name": "0",
         "texttemplate": "%{z}",
         "type": "heatmap",
         "x": [
          "early_career_pay",
          "mid_career_pay"
         ],
         "xaxis": "x",
         "y": [
          "Tuition-In state",
          "Tuition-Out state"
         ],
         "yaxis": "y",
         "z": [
          [
           0.36952062987086687,
           0.3503743828591479
          ],
          [
           0.3784232167622543,
           0.3516327060916812
          ]
         ]
        }
       ],
       "layout": {
        "coloraxis": {
         "colorscale": [
          [
           0,
           "#0d0887"
          ],
          [
           0.1111111111111111,
           "#46039f"
          ],
          [
           0.2222222222222222,
           "#7201a8"
          ],
          [
           0.3333333333333333,
           "#9c179e"
          ],
          [
           0.4444444444444444,
           "#bd3786"
          ],
          [
           0.5555555555555556,
           "#d8576b"
          ],
          [
           0.6666666666666666,
           "#ed7953"
          ],
          [
           0.7777777777777778,
           "#fb9f3a"
          ],
          [
           0.8888888888888888,
           "#fdca26"
          ],
          [
           1,
           "#f0f921"
          ]
         ]
        },
        "margin": {
         "t": 60
        },
        "template": {
         "data": {
          "bar": [
           {
            "error_x": {
             "color": "#2a3f5f"
            },
            "error_y": {
             "color": "#2a3f5f"
            },
            "marker": {
             "line": {
              "color": "#E5ECF6",
              "width": 0.5
             },
             "pattern": {
              "fillmode": "overlay",
              "size": 10,
              "solidity": 0.2
             }
            },
            "type": "bar"
           }
          ],
          "barpolar": [
           {
            "marker": {
             "line": {
              "color": "#E5ECF6",
              "width": 0.5
             },
             "pattern": {
              "fillmode": "overlay",
              "size": 10,
              "solidity": 0.2
             }
            },
            "type": "barpolar"
           }
          ],
          "carpet": [
           {
            "aaxis": {
             "endlinecolor": "#2a3f5f",
             "gridcolor": "white",
             "linecolor": "white",
             "minorgridcolor": "white",
             "startlinecolor": "#2a3f5f"
            },
            "baxis": {
             "endlinecolor": "#2a3f5f",
             "gridcolor": "white",
             "linecolor": "white",
             "minorgridcolor": "white",
             "startlinecolor": "#2a3f5f"
            },
            "type": "carpet"
           }
          ],
          "choropleth": [
           {
            "colorbar": {
             "outlinewidth": 0,
             "ticks": ""
            },
            "type": "choropleth"
           }
          ],
          "contour": [
           {
            "colorbar": {
             "outlinewidth": 0,
             "ticks": ""
            },
            "colorscale": [
             [
              0,
              "#0d0887"
             ],
             [
              0.1111111111111111,
              "#46039f"
             ],
             [
              0.2222222222222222,
              "#7201a8"
             ],
             [
              0.3333333333333333,
              "#9c179e"
             ],
             [
              0.4444444444444444,
              "#bd3786"
             ],
             [
              0.5555555555555556,
              "#d8576b"
             ],
             [
              0.6666666666666666,
              "#ed7953"
             ],
             [
              0.7777777777777778,
              "#fb9f3a"
             ],
             [
              0.8888888888888888,
              "#fdca26"
             ],
             [
              1,
              "#f0f921"
             ]
            ],
            "type": "contour"
           }
          ],
          "contourcarpet": [
           {
            "colorbar": {
             "outlinewidth": 0,
             "ticks": ""
            },
            "type": "contourcarpet"
           }
          ],
          "heatmap": [
           {
            "colorbar": {
             "outlinewidth": 0,
             "ticks": ""
            },
            "colorscale": [
             [
              0,
              "#0d0887"
             ],
             [
              0.1111111111111111,
              "#46039f"
             ],
             [
              0.2222222222222222,
              "#7201a8"
             ],
             [
              0.3333333333333333,
              "#9c179e"
             ],
             [
              0.4444444444444444,
              "#bd3786"
             ],
             [
              0.5555555555555556,
              "#d8576b"
             ],
             [
              0.6666666666666666,
              "#ed7953"
             ],
             [
              0.7777777777777778,
              "#fb9f3a"
             ],
             [
              0.8888888888888888,
              "#fdca26"
             ],
             [
              1,
              "#f0f921"
             ]
            ],
            "type": "heatmap"
           }
          ],
          "heatmapgl": [
           {
            "colorbar": {
             "outlinewidth": 0,
             "ticks": ""
            },
            "colorscale": [
             [
              0,
              "#0d0887"
             ],
             [
              0.1111111111111111,
              "#46039f"
             ],
             [
              0.2222222222222222,
              "#7201a8"
             ],
             [
              0.3333333333333333,
              "#9c179e"
             ],
             [
              0.4444444444444444,
              "#bd3786"
             ],
             [
              0.5555555555555556,
              "#d8576b"
             ],
             [
              0.6666666666666666,
              "#ed7953"
             ],
             [
              0.7777777777777778,
              "#fb9f3a"
             ],
             [
              0.8888888888888888,
              "#fdca26"
             ],
             [
              1,
              "#f0f921"
             ]
            ],
            "type": "heatmapgl"
           }
          ],
          "histogram": [
           {
            "marker": {
             "pattern": {
              "fillmode": "overlay",
              "size": 10,
              "solidity": 0.2
             }
            },
            "type": "histogram"
           }
          ],
          "histogram2d": [
           {
            "colorbar": {
             "outlinewidth": 0,
             "ticks": ""
            },
            "colorscale": [
             [
              0,
              "#0d0887"
             ],
             [
              0.1111111111111111,
              "#46039f"
             ],
             [
              0.2222222222222222,
              "#7201a8"
             ],
             [
              0.3333333333333333,
              "#9c179e"
             ],
             [
              0.4444444444444444,
              "#bd3786"
             ],
             [
              0.5555555555555556,
              "#d8576b"
             ],
             [
              0.6666666666666666,
              "#ed7953"
             ],
             [
              0.7777777777777778,
              "#fb9f3a"
             ],
             [
              0.8888888888888888,
              "#fdca26"
             ],
             [
              1,
              "#f0f921"
             ]
            ],
            "type": "histogram2d"
           }
          ],
          "histogram2dcontour": [
           {
            "colorbar": {
             "outlinewidth": 0,
             "ticks": ""
            },
            "colorscale": [
             [
              0,
              "#0d0887"
             ],
             [
              0.1111111111111111,
              "#46039f"
             ],
             [
              0.2222222222222222,
              "#7201a8"
             ],
             [
              0.3333333333333333,
              "#9c179e"
             ],
             [
              0.4444444444444444,
              "#bd3786"
             ],
             [
              0.5555555555555556,
              "#d8576b"
             ],
             [
              0.6666666666666666,
              "#ed7953"
             ],
             [
              0.7777777777777778,
              "#fb9f3a"
             ],
             [
              0.8888888888888888,
              "#fdca26"
             ],
             [
              1,
              "#f0f921"
             ]
            ],
            "type": "histogram2dcontour"
           }
          ],
          "mesh3d": [
           {
            "colorbar": {
             "outlinewidth": 0,
             "ticks": ""
            },
            "type": "mesh3d"
           }
          ],
          "parcoords": [
           {
            "line": {
             "colorbar": {
              "outlinewidth": 0,
              "ticks": ""
             }
            },
            "type": "parcoords"
           }
          ],
          "pie": [
           {
            "automargin": true,
            "type": "pie"
           }
          ],
          "scatter": [
           {
            "fillpattern": {
             "fillmode": "overlay",
             "size": 10,
             "solidity": 0.2
            },
            "type": "scatter"
           }
          ],
          "scatter3d": [
           {
            "line": {
             "colorbar": {
              "outlinewidth": 0,
              "ticks": ""
             }
            },
            "marker": {
             "colorbar": {
              "outlinewidth": 0,
              "ticks": ""
             }
            },
            "type": "scatter3d"
           }
          ],
          "scattercarpet": [
           {
            "marker": {
             "colorbar": {
              "outlinewidth": 0,
              "ticks": ""
             }
            },
            "type": "scattercarpet"
           }
          ],
          "scattergeo": [
           {
            "marker": {
             "colorbar": {
              "outlinewidth": 0,
              "ticks": ""
             }
            },
            "type": "scattergeo"
           }
          ],
          "scattergl": [
           {
            "marker": {
             "colorbar": {
              "outlinewidth": 0,
              "ticks": ""
             }
            },
            "type": "scattergl"
           }
          ],
          "scattermapbox": [
           {
            "marker": {
             "colorbar": {
              "outlinewidth": 0,
              "ticks": ""
             }
            },
            "type": "scattermapbox"
           }
          ],
          "scatterpolar": [
           {
            "marker": {
             "colorbar": {
              "outlinewidth": 0,
              "ticks": ""
             }
            },
            "type": "scatterpolar"
           }
          ],
          "scatterpolargl": [
           {
            "marker": {
             "colorbar": {
              "outlinewidth": 0,
              "ticks": ""
             }
            },
            "type": "scatterpolargl"
           }
          ],
          "scatterternary": [
           {
            "marker": {
             "colorbar": {
              "outlinewidth": 0,
              "ticks": ""
             }
            },
            "type": "scatterternary"
           }
          ],
          "surface": [
           {
            "colorbar": {
             "outlinewidth": 0,
             "ticks": ""
            },
            "colorscale": [
             [
              0,
              "#0d0887"
             ],
             [
              0.1111111111111111,
              "#46039f"
             ],
             [
              0.2222222222222222,
              "#7201a8"
             ],
             [
              0.3333333333333333,
              "#9c179e"
             ],
             [
              0.4444444444444444,
              "#bd3786"
             ],
             [
              0.5555555555555556,
              "#d8576b"
             ],
             [
              0.6666666666666666,
              "#ed7953"
             ],
             [
              0.7777777777777778,
              "#fb9f3a"
             ],
             [
              0.8888888888888888,
              "#fdca26"
             ],
             [
              1,
              "#f0f921"
             ]
            ],
            "type": "surface"
           }
          ],
          "table": [
           {
            "cells": {
             "fill": {
              "color": "#EBF0F8"
             },
             "line": {
              "color": "white"
             }
            },
            "header": {
             "fill": {
              "color": "#C8D4E3"
             },
             "line": {
              "color": "white"
             }
            },
            "type": "table"
           }
          ]
         },
         "layout": {
          "annotationdefaults": {
           "arrowcolor": "#2a3f5f",
           "arrowhead": 0,
           "arrowwidth": 1
          },
          "autotypenumbers": "strict",
          "coloraxis": {
           "colorbar": {
            "outlinewidth": 0,
            "ticks": ""
           }
          },
          "colorscale": {
           "diverging": [
            [
             0,
             "#8e0152"
            ],
            [
             0.1,
             "#c51b7d"
            ],
            [
             0.2,
             "#de77ae"
            ],
            [
             0.3,
             "#f1b6da"
            ],
            [
             0.4,
             "#fde0ef"
            ],
            [
             0.5,
             "#f7f7f7"
            ],
            [
             0.6,
             "#e6f5d0"
            ],
            [
             0.7,
             "#b8e186"
            ],
            [
             0.8,
             "#7fbc41"
            ],
            [
             0.9,
             "#4d9221"
            ],
            [
             1,
             "#276419"
            ]
           ],
           "sequential": [
            [
             0,
             "#0d0887"
            ],
            [
             0.1111111111111111,
             "#46039f"
            ],
            [
             0.2222222222222222,
             "#7201a8"
            ],
            [
             0.3333333333333333,
             "#9c179e"
            ],
            [
             0.4444444444444444,
             "#bd3786"
            ],
            [
             0.5555555555555556,
             "#d8576b"
            ],
            [
             0.6666666666666666,
             "#ed7953"
            ],
            [
             0.7777777777777778,
             "#fb9f3a"
            ],
            [
             0.8888888888888888,
             "#fdca26"
            ],
            [
             1,
             "#f0f921"
            ]
           ],
           "sequentialminus": [
            [
             0,
             "#0d0887"
            ],
            [
             0.1111111111111111,
             "#46039f"
            ],
            [
             0.2222222222222222,
             "#7201a8"
            ],
            [
             0.3333333333333333,
             "#9c179e"
            ],
            [
             0.4444444444444444,
             "#bd3786"
            ],
            [
             0.5555555555555556,
             "#d8576b"
            ],
            [
             0.6666666666666666,
             "#ed7953"
            ],
            [
             0.7777777777777778,
             "#fb9f3a"
            ],
            [
             0.8888888888888888,
             "#fdca26"
            ],
            [
             1,
             "#f0f921"
            ]
           ]
          },
          "colorway": [
           "#636efa",
           "#EF553B",
           "#00cc96",
           "#ab63fa",
           "#FFA15A",
           "#19d3f3",
           "#FF6692",
           "#B6E880",
           "#FF97FF",
           "#FECB52"
          ],
          "font": {
           "color": "#2a3f5f"
          },
          "geo": {
           "bgcolor": "white",
           "lakecolor": "white",
           "landcolor": "#E5ECF6",
           "showlakes": true,
           "showland": true,
           "subunitcolor": "white"
          },
          "hoverlabel": {
           "align": "left"
          },
          "hovermode": "closest",
          "mapbox": {
           "style": "light"
          },
          "paper_bgcolor": "white",
          "plot_bgcolor": "#E5ECF6",
          "polar": {
           "angularaxis": {
            "gridcolor": "white",
            "linecolor": "white",
            "ticks": ""
           },
           "bgcolor": "#E5ECF6",
           "radialaxis": {
            "gridcolor": "white",
            "linecolor": "white",
            "ticks": ""
           }
          },
          "scene": {
           "xaxis": {
            "backgroundcolor": "#E5ECF6",
            "gridcolor": "white",
            "gridwidth": 2,
            "linecolor": "white",
            "showbackground": true,
            "ticks": "",
            "zerolinecolor": "white"
           },
           "yaxis": {
            "backgroundcolor": "#E5ECF6",
            "gridcolor": "white",
            "gridwidth": 2,
            "linecolor": "white",
            "showbackground": true,
            "ticks": "",
            "zerolinecolor": "white"
           },
           "zaxis": {
            "backgroundcolor": "#E5ECF6",
            "gridcolor": "white",
            "gridwidth": 2,
            "linecolor": "white",
            "showbackground": true,
            "ticks": "",
            "zerolinecolor": "white"
           }
          },
          "shapedefaults": {
           "line": {
            "color": "#2a3f5f"
           }
          },
          "ternary": {
           "aaxis": {
            "gridcolor": "white",
            "linecolor": "white",
            "ticks": ""
           },
           "baxis": {
            "gridcolor": "white",
            "linecolor": "white",
            "ticks": ""
           },
           "bgcolor": "#E5ECF6",
           "caxis": {
            "gridcolor": "white",
            "linecolor": "white",
            "ticks": ""
           }
          },
          "title": {
           "x": 0.05
          },
          "xaxis": {
           "automargin": true,
           "gridcolor": "white",
           "linecolor": "white",
           "ticks": "",
           "title": {
            "standoff": 15
           },
           "zerolinecolor": "white",
           "zerolinewidth": 2
          },
          "yaxis": {
           "automargin": true,
           "gridcolor": "white",
           "linecolor": "white",
           "ticks": "",
           "title": {
            "standoff": 15
           },
           "zerolinecolor": "white",
           "zerolinewidth": 2
          }
         }
        },
        "width": 1000,
        "xaxis": {
         "anchor": "y",
         "domain": [
          0,
          1
         ]
        },
        "yaxis": {
         "anchor": "x",
         "autorange": "reversed",
         "domain": [
          0,
          1
         ]
        }
       }
      }
     },
     "metadata": {},
     "output_type": "display_data"
    }
   ],
   "source": [
    "fig = px.imshow(df.iloc[:,1:].corr().iloc[2:, :2], text_auto=True, aspect=\"auto\", width=1000)\n",
    "# fig.write_html(\"../../../graphs/html/five/correlation_1.html\")\n",
    "fig.show()"
   ]
  }
 ],
 "metadata": {
  "kernelspec": {
   "display_name": "base",
   "language": "python",
   "name": "python3"
  },
  "language_info": {
   "codemirror_mode": {
    "name": "ipython",
    "version": 3
   },
   "file_extension": ".py",
   "mimetype": "text/x-python",
   "name": "python",
   "nbconvert_exporter": "python",
   "pygments_lexer": "ipython3",
   "version": "3.12.2"
  }
 },
 "nbformat": 4,
 "nbformat_minor": 2
}
